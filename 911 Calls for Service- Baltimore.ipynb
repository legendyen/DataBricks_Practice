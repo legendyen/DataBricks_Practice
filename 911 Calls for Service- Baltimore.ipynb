{
 "cells": [
  {
   "cell_type": "markdown",
   "metadata": {
    "application/vnd.databricks.v1+cell": {
     "cellMetadata": {
      "byteLimit": 2048000,
      "rowLimit": 10000
     },
     "inputWidgets": {},
     "nuid": "98c91f45-3fdf-445e-83fe-f443e8eacd6e",
     "showTitle": false,
     "title": ""
    }
   },
   "source": [
    "## Mounting Data\n",
    "This script mounts the data that will be using throughout the analyis.\n",
    "\n",
    "The 911 calls for service data from Baltimore City Plocie Department has been stored on the remote storage location of Azure and ready for pointer.\n",
    "\n",
    "Data source: https://www.baltimorepolice.org/crime-stats/open-data"
   ]
  },
  {
   "cell_type": "code",
   "execution_count": 0,
   "metadata": {
    "application/vnd.databricks.v1+cell": {
     "cellMetadata": {
      "byteLimit": 2048000,
      "rowLimit": 10000
     },
     "inputWidgets": {},
     "nuid": "70d5fc69-b603-4332-af02-2f199372c9ee",
     "showTitle": false,
     "title": ""
    }
   },
   "outputs": [
    {
     "output_type": "display_data",
     "data": {
      "text/plain": [
       "\u001B[0;31m---------------------------------------------------------------------------\u001B[0m\n",
       "\u001B[0;31mExecutionError\u001B[0m                            Traceback (most recent call last)\n",
       "File \u001B[0;32m<command-989154586109676>:1\u001B[0m\n",
       "\u001B[0;32m----> 1\u001B[0m \u001B[43mdbutils\u001B[49m\u001B[38;5;241;43m.\u001B[39;49m\u001B[43mfs\u001B[49m\u001B[38;5;241;43m.\u001B[39;49m\u001B[43mmount\u001B[49m\u001B[43m(\u001B[49m\n",
       "\u001B[1;32m      2\u001B[0m \u001B[43msource\u001B[49m\u001B[43m \u001B[49m\u001B[38;5;241;43m=\u001B[39;49m\u001B[43m \u001B[49m\u001B[38;5;124;43m\"\u001B[39;49m\u001B[38;5;124;43mwasbs://baltimore@911callsforservice.blob.core.windows.net\u001B[39;49m\u001B[38;5;124;43m\"\u001B[39;49m\u001B[43m,\u001B[49m\n",
       "\u001B[1;32m      3\u001B[0m \u001B[43mmount_point\u001B[49m\u001B[43m \u001B[49m\u001B[38;5;241;43m=\u001B[39;49m\u001B[43m \u001B[49m\u001B[38;5;124;43m\"\u001B[39;49m\u001B[38;5;124;43m/mnt/baltimore\u001B[39;49m\u001B[38;5;124;43m\"\u001B[39;49m\u001B[43m,\u001B[49m\n",
       "\u001B[1;32m      4\u001B[0m \u001B[43mextra_configs\u001B[49m\u001B[43m \u001B[49m\u001B[38;5;241;43m=\u001B[39;49m\u001B[43m \u001B[49m\u001B[43m{\u001B[49m\u001B[38;5;124;43m\"\u001B[39;49m\u001B[38;5;124;43mfs.azure.account.key.911callsforservice.blob.core.windows.net\u001B[39;49m\u001B[38;5;124;43m\"\u001B[39;49m\u001B[43m:\u001B[49m\u001B[38;5;124;43m\"\u001B[39;49m\u001B[38;5;124;43mMVfIC3XH11WHa7CPPdL/6DLTJRBg8+fZvtYnJIhvJ0NONQu6KmUzNKDTH4DpWwVoykgd+NrFZTgy+AStML2e/A==\u001B[39;49m\u001B[38;5;124;43m\"\u001B[39;49m\u001B[43m}\u001B[49m\u001B[43m)\u001B[49m\n",
       "\n",
       "File \u001B[0;32m/databricks/python_shell/dbruntime/dbutils.py:362\u001B[0m, in \u001B[0;36mDBUtils.FSHandler.prettify_exception_message.<locals>.f_with_exception_handling\u001B[0;34m(*args, **kwargs)\u001B[0m\n",
       "\u001B[1;32m    360\u001B[0m exc\u001B[38;5;241m.\u001B[39m__context__ \u001B[38;5;241m=\u001B[39m \u001B[38;5;28;01mNone\u001B[39;00m\n",
       "\u001B[1;32m    361\u001B[0m exc\u001B[38;5;241m.\u001B[39m__cause__ \u001B[38;5;241m=\u001B[39m \u001B[38;5;28;01mNone\u001B[39;00m\n",
       "\u001B[0;32m--> 362\u001B[0m \u001B[38;5;28;01mraise\u001B[39;00m exc\n",
       "\n",
       "\u001B[0;31mExecutionError\u001B[0m: An error occurred while calling o403.mount.\n",
       ": java.rmi.RemoteException: java.lang.IllegalArgumentException: requirement failed: Directory already mounted: /mnt/baltimore; nested exception is: \n",
       "\tjava.lang.IllegalArgumentException: requirement failed: Directory already mounted: /mnt/baltimore\n",
       "\tat com.databricks.backend.daemon.data.client.DbfsClient.send0(DbfsClient.scala:135)\n",
       "\tat com.databricks.backend.daemon.data.client.DbfsClient.sendIdempotent(DbfsClient.scala:69)\n",
       "\tat com.databricks.backend.daemon.dbutils.DBUtilsCore.createOrUpdateMount(DBUtilsCore.scala:1025)\n",
       "\tat com.databricks.backend.daemon.dbutils.DBUtilsCore.$anonfun$mount$1(DBUtilsCore.scala:1051)\n",
       "\tat com.databricks.logging.UsageLogging.$anonfun$recordOperation$1(UsageLogging.scala:555)\n",
       "\tat com.databricks.logging.UsageLogging.executeThunkAndCaptureResultTags$1(UsageLogging.scala:650)\n",
       "\tat com.databricks.logging.UsageLogging.$anonfun$recordOperationWithResultTags$4(UsageLogging.scala:671)\n",
       "\tat com.databricks.logging.UsageLogging.$anonfun$withAttributionContext$1(UsageLogging.scala:412)\n",
       "\tat scala.util.DynamicVariable.withValue(DynamicVariable.scala:62)\n",
       "\tat com.databricks.logging.AttributionContext$.withValue(AttributionContext.scala:158)\n",
       "\tat com.databricks.logging.UsageLogging.withAttributionContext(UsageLogging.scala:410)\n",
       "\tat com.databricks.logging.UsageLogging.withAttributionContext$(UsageLogging.scala:407)\n",
       "\tat com.databricks.backend.daemon.dbutils.FSUtils.withAttributionContext(DBUtilsCore.scala:69)\n",
       "\tat com.databricks.logging.UsageLogging.withAttributionTags(UsageLogging.scala:455)\n",
       "\tat com.databricks.logging.UsageLogging.withAttributionTags$(UsageLogging.scala:440)\n",
       "\tat com.databricks.backend.daemon.dbutils.FSUtils.withAttributionTags(DBUtilsCore.scala:69)\n",
       "\tat com.databricks.logging.UsageLogging.recordOperationWithResultTags(UsageLogging.scala:645)\n",
       "\tat com.databricks.logging.UsageLogging.recordOperationWithResultTags$(UsageLogging.scala:564)\n",
       "\tat com.databricks.backend.daemon.dbutils.FSUtils.recordOperationWithResultTags(DBUtilsCore.scala:69)\n",
       "\tat com.databricks.logging.UsageLogging.recordOperation(UsageLogging.scala:555)\n",
       "\tat com.databricks.logging.UsageLogging.recordOperation$(UsageLogging.scala:525)\n",
       "\tat com.databricks.backend.daemon.dbutils.FSUtils.recordOperation(DBUtilsCore.scala:69)\n",
       "\tat com.databricks.backend.daemon.dbutils.FSUtils.recordDbutilsFsOp(DBUtilsCore.scala:133)\n",
       "\tat com.databricks.backend.daemon.dbutils.DBUtilsCore.mount(DBUtilsCore.scala:1045)\n",
       "\tat sun.reflect.NativeMethodAccessorImpl.invoke0(Native Method)\n",
       "\tat sun.reflect.NativeMethodAccessorImpl.invoke(NativeMethodAccessorImpl.java:62)\n",
       "\tat sun.reflect.DelegatingMethodAccessorImpl.invoke(DelegatingMethodAccessorImpl.java:43)\n",
       "\tat java.lang.reflect.Method.invoke(Method.java:498)\n",
       "\tat py4j.reflection.MethodInvoker.invoke(MethodInvoker.java:244)\n",
       "\tat py4j.reflection.ReflectionEngine.invoke(ReflectionEngine.java:380)\n",
       "\tat py4j.Gateway.invoke(Gateway.java:306)\n",
       "\tat py4j.commands.AbstractCommand.invokeMethod(AbstractCommand.java:132)\n",
       "\tat py4j.commands.CallCommand.execute(CallCommand.java:79)\n",
       "\tat py4j.ClientServerConnection.waitForCommands(ClientServerConnection.java:195)\n",
       "\tat py4j.ClientServerConnection.run(ClientServerConnection.java:115)\n",
       "\tat java.lang.Thread.run(Thread.java:750)\n",
       "Caused by: java.lang.IllegalArgumentException: requirement failed: Directory already mounted: /mnt/baltimore\n",
       "\tat scala.Predef$.require(Predef.scala:281)\n",
       "\tat com.databricks.backend.daemon.data.server.DefaultMetadataManager.$anonfun$insertMount$1(MetadataManager.scala:580)\n",
       "\tat com.databricks.backend.daemon.data.server.DefaultMetadataManager.$anonfun$modifyAndVerify$2(MetadataManager.scala:948)\n",
       "\tat scala.runtime.java8.JFunction0$mcV$sp.apply(JFunction0$mcV$sp.java:23)\n",
       "\tat com.databricks.backend.daemon.data.server.DefaultMetadataManager.withRetries(MetadataManager.scala:729)\n",
       "\tat com.databricks.backend.daemon.data.server.DefaultMetadataManager.modifyAndVerify(MetadataManager.scala:937)\n",
       "\tat com.databricks.backend.daemon.data.server.DefaultMetadataManager.insertMount(MetadataManager.scala:588)\n",
       "\tat com.databricks.backend.daemon.data.server.handler.MountHandler.receive(MountHandler.scala:120)\n",
       "\tat com.databricks.backend.daemon.data.server.session.SessionContext.$anonfun$queryHandlers$1(SessionContext.scala:54)\n",
       "\tat com.databricks.backend.daemon.data.server.session.SessionContext.$anonfun$queryHandlers$1$adapted(SessionContext.scala:53)\n",
       "\tat scala.collection.immutable.List.foreach(List.scala:431)\n",
       "\tat com.databricks.backend.daemon.data.server.session.SessionContext.queryHandlers(SessionContext.scala:53)\n",
       "\tat com.databricks.backend.daemon.data.server.DbfsServerBackend$$anonfun$receive$4.$anonfun$applyOrElse$5(DbfsServerBackend.scala:387)\n",
       "\tat com.databricks.logging.UsageLogging.$anonfun$withAttributionContext$1(UsageLogging.scala:426)\n",
       "\tat scala.util.DynamicVariable.withValue(DynamicVariable.scala:62)\n",
       "\tat com.databricks.logging.AttributionContext$.withValue(AttributionContext.scala:196)\n",
       "\tat com.databricks.logging.UsageLogging.withAttributionContext(UsageLogging.scala:424)\n",
       "\tat com.databricks.logging.UsageLogging.withAttributionContext$(UsageLogging.scala:418)\n",
       "\tat com.databricks.rpc.ServerBackend.withAttributionContext(ServerBackend.scala:22)\n",
       "\tat com.databricks.logging.UsageLogging.withAttributionTags(UsageLogging.scala:470)\n",
       "\tat com.databricks.logging.UsageLogging.withAttributionTags$(UsageLogging.scala:455)\n",
       "\tat com.databricks.rpc.ServerBackend.withAttributionTags(ServerBackend.scala:22)\n",
       "\tat com.databricks.backend.daemon.data.server.DbfsServerBackend$$anonfun$receive$4.applyOrElse(DbfsServerBackend.scala:387)\n",
       "\tat com.databricks.backend.daemon.data.server.DbfsServerBackend$$anonfun$receive$4.applyOrElse(DbfsServerBackend.scala:331)\n",
       "\tat com.databricks.rpc.ServerBackend.$anonfun$internalReceive0$2(ServerBackend.scala:174)\n",
       "\tat com.databricks.rpc.ServerBackend$$anonfun$commonReceive$1.applyOrElse(ServerBackend.scala:200)\n",
       "\tat com.databricks.rpc.ServerBackend$$anonfun$commonReceive$1.applyOrElse(ServerBackend.scala:200)\n",
       "\tat com.databricks.rpc.ServerBackend.internalReceive0(ServerBackend.scala:171)\n",
       "\tat com.databricks.rpc.ServerBackend.$anonfun$internalReceive$1(ServerBackend.scala:147)\n",
       "\tat com.databricks.logging.UsageLogging.$anonfun$recordOperation$1(UsageLogging.scala:571)\n",
       "\tat com.databricks.logging.UsageLogging.executeThunkAndCaptureResultTags$1(UsageLogging.scala:666)\n",
       "\tat com.databricks.logging.UsageLogging.$anonfun$recordOperationWithResultTags$4(UsageLogging.scala:684)\n",
       "\tat com.databricks.logging.UsageLogging.$anonfun$withAttributionContext$1(UsageLogging.scala:426)\n",
       "\tat scala.util.DynamicVariable.withValue(DynamicVariable.scala:62)\n",
       "\tat com.databricks.logging.AttributionContext$.withValue(AttributionContext.scala:196)\n",
       "\tat com.databricks.logging.UsageLogging.withAttributionContext(UsageLogging.scala:424)\n",
       "\tat com.databricks.logging.UsageLogging.withAttributionContext$(UsageLogging.scala:418)\n",
       "\tat com.databricks.rpc.ServerBackend.withAttributionContext(ServerBackend.scala:22)\n",
       "\tat com.databricks.logging.UsageLogging.withAttributionTags(UsageLogging.scala:470)\n",
       "\tat com.databricks.logging.UsageLogging.withAttributionTags$(UsageLogging.scala:455)\n",
       "\tat com.databricks.rpc.ServerBackend.withAttributionTags(ServerBackend.scala:22)\n",
       "\tat com.databricks.logging.UsageLogging.recordOperationWithResultTags(UsageLogging.scala:661)\n",
       "\tat com.databricks.logging.UsageLogging.recordOperationWithResultTags$(UsageLogging.scala:580)\n",
       "\tat com.databricks.rpc.ServerBackend.recordOperationWithResultTags(ServerBackend.scala:22)\n",
       "\tat com.databricks.logging.UsageLogging.recordOperation(UsageLogging.scala:571)\n",
       "\tat com.databricks.logging.UsageLogging.recordOperation$(UsageLogging.scala:540)\n",
       "\tat com.databricks.rpc.ServerBackend.recordOperation(ServerBackend.scala:22)\n",
       "\tat com.databricks.rpc.ServerBackend.internalReceive(ServerBackend.scala:147)\n",
       "\tat com.databricks.rpc.JettyServer$RequestManager.handleRPC(JettyServer.scala:1037)\n",
       "\tat com.databricks.rpc.JettyServer$RequestManager.handleRequestAndRespond(JettyServer.scala:948)\n",
       "\tat com.databricks.rpc.JettyServer$RequestManager.$anonfun$handleHttp$6(JettyServer.scala:540)\n",
       "\tat com.databricks.rpc.JettyServer$RequestManager.$anonfun$handleHttp$6$adapted(JettyServer.scala:515)\n",
       "\tat com.databricks.logging.activity.ActivityContextFactory$.$anonfun$withActivityInternal$3(ActivityContextFactory.scala:420)\n",
       "\tat com.databricks.logging.UsageLogging.$anonfun$withAttributionContext$1(UsageLogging.scala:426)\n",
       "\tat scala.util.DynamicVariable.withValue(DynamicVariable.scala:62)\n",
       "\tat com.databricks.logging.AttributionContext$.withValue(AttributionContext.scala:196)\n",
       "\tat com.databricks.logging.UsageLogging.withAttributionContext(UsageLogging.scala:424)\n",
       "\tat com.databricks.logging.UsageLogging.withAttributionContext$(UsageLogging.scala:418)\n",
       "\tat com.databricks.logging.activity.ActivityContextFactory$.withAttributionContext(ActivityContextFactory.scala:55)\n",
       "\tat com.databricks.logging.activity.ActivityContextFactory$.withActivityInternal(ActivityContextFactory.scala:420)\n",
       "\tat com.databricks.logging.activity.ActivityContextFactory$.withServiceRequestActivity(ActivityContextFactory.scala:179)\n",
       "\tat com.databricks.rpc.JettyServer$RequestManager.handleHttp(JettyServer.scala:515)\n",
       "\tat com.databricks.rpc.JettyServer$RequestManager.doPost(JettyServer.scala:404)\n",
       "\tat javax.servlet.http.HttpServlet.service(HttpServlet.java:707)\n",
       "\tat com.databricks.rpc.HttpServletWithPatch.service(HttpServletWithPatch.scala:33)\n",
       "\tat javax.servlet.http.HttpServlet.service(HttpServlet.java:790)\n",
       "\tat org.eclipse.jetty.servlet.ServletHolder.handle(ServletHolder.java:848)\n",
       "\tat org.eclipse.jetty.servlet.ServletHandler.doHandle(ServletHandler.java:585)\n",
       "\tat org.eclipse.jetty.servlet.ServletHandler.doScope(ServletHandler.java:515)\n",
       "\tat org.eclipse.jetty.server.handler.ScopedHandler.handle(ScopedHandler.java:141)\n",
       "\tat org.eclipse.jetty.server.handler.HandlerWrapper.handle(HandlerWrapper.java:134)\n",
       "\tat org.eclipse.jetty.server.Server.handle(Server.java:539)\n",
       "\tat org.eclipse.jetty.server.HttpChannel.handle(HttpChannel.java:333)\n",
       "\tat org.eclipse.jetty.server.HttpConnection.onFillable(HttpConnection.java:251)\n",
       "\tat org.eclipse.jetty.io.AbstractConnection$ReadCallback.succeeded(AbstractConnection.java:283)\n",
       "\tat org.eclipse.jetty.io.FillInterest.fillable(FillInterest.java:108)\n",
       "\tat org.eclipse.jetty.io.SelectChannelEndPoint$2.run(SelectChannelEndPoint.java:93)\n",
       "\tat org.eclipse.jetty.util.thread.strategy.ExecuteProduceConsume.executeProduceConsume(ExecuteProduceConsume.java:303)\n",
       "\tat org.eclipse.jetty.util.thread.strategy.ExecuteProduceConsume.produceConsume(ExecuteProduceConsume.java:148)\n",
       "\tat org.eclipse.jetty.util.thread.strategy.ExecuteProduceConsume.run(ExecuteProduceConsume.java:136)\n",
       "\tat com.databricks.rpc.InstrumentedQueuedThreadPool$$anon$1.$anonfun$run$1(InstrumentedQueuedThreadPool.scala:83)\n",
       "\tat scala.runtime.java8.JFunction0$mcV$sp.apply(JFunction0$mcV$sp.java:23)\n",
       "\tat com.databricks.instrumentation.QueuedThreadPoolInstrumenter.trackActiveThreads(QueuedThreadPoolInstrumenter.scala:66)\n",
       "\tat com.databricks.instrumentation.QueuedThreadPoolInstrumenter.trackActiveThreads$(QueuedThreadPoolInstrumenter.scala:63)\n",
       "\tat com.databricks.rpc.InstrumentedQueuedThreadPool.trackActiveThreads(InstrumentedQueuedThreadPool.scala:49)\n",
       "\tat com.databricks.rpc.InstrumentedQueuedThreadPool$$anon$1.run(InstrumentedQueuedThreadPool.scala:78)\n",
       "\tat org.eclipse.jetty.util.thread.QueuedThreadPool.runJob(QueuedThreadPool.java:671)\n",
       "\tat org.eclipse.jetty.util.thread.QueuedThreadPool$2.run(QueuedThreadPool.java:589)\n",
       "\t... 1 more\n"
      ]
     },
     "metadata": {
      "application/vnd.databricks.v1+output": {
       "arguments": {},
       "data": "\u001B[0;31m---------------------------------------------------------------------------\u001B[0m\n\u001B[0;31mExecutionError\u001B[0m                            Traceback (most recent call last)\nFile \u001B[0;32m<command-989154586109676>:1\u001B[0m\n\u001B[0;32m----> 1\u001B[0m \u001B[43mdbutils\u001B[49m\u001B[38;5;241;43m.\u001B[39;49m\u001B[43mfs\u001B[49m\u001B[38;5;241;43m.\u001B[39;49m\u001B[43mmount\u001B[49m\u001B[43m(\u001B[49m\n\u001B[1;32m      2\u001B[0m \u001B[43msource\u001B[49m\u001B[43m \u001B[49m\u001B[38;5;241;43m=\u001B[39;49m\u001B[43m \u001B[49m\u001B[38;5;124;43m\"\u001B[39;49m\u001B[38;5;124;43mwasbs://baltimore@911callsforservice.blob.core.windows.net\u001B[39;49m\u001B[38;5;124;43m\"\u001B[39;49m\u001B[43m,\u001B[49m\n\u001B[1;32m      3\u001B[0m \u001B[43mmount_point\u001B[49m\u001B[43m \u001B[49m\u001B[38;5;241;43m=\u001B[39;49m\u001B[43m \u001B[49m\u001B[38;5;124;43m\"\u001B[39;49m\u001B[38;5;124;43m/mnt/baltimore\u001B[39;49m\u001B[38;5;124;43m\"\u001B[39;49m\u001B[43m,\u001B[49m\n\u001B[1;32m      4\u001B[0m \u001B[43mextra_configs\u001B[49m\u001B[43m \u001B[49m\u001B[38;5;241;43m=\u001B[39;49m\u001B[43m \u001B[49m\u001B[43m{\u001B[49m\u001B[38;5;124;43m\"\u001B[39;49m\u001B[38;5;124;43mfs.azure.account.key.911callsforservice.blob.core.windows.net\u001B[39;49m\u001B[38;5;124;43m\"\u001B[39;49m\u001B[43m:\u001B[49m\u001B[38;5;124;43m\"\u001B[39;49m\u001B[38;5;124;43mMVfIC3XH11WHa7CPPdL/6DLTJRBg8+fZvtYnJIhvJ0NONQu6KmUzNKDTH4DpWwVoykgd+NrFZTgy+AStML2e/A==\u001B[39;49m\u001B[38;5;124;43m\"\u001B[39;49m\u001B[43m}\u001B[49m\u001B[43m)\u001B[49m\n\nFile \u001B[0;32m/databricks/python_shell/dbruntime/dbutils.py:362\u001B[0m, in \u001B[0;36mDBUtils.FSHandler.prettify_exception_message.<locals>.f_with_exception_handling\u001B[0;34m(*args, **kwargs)\u001B[0m\n\u001B[1;32m    360\u001B[0m exc\u001B[38;5;241m.\u001B[39m__context__ \u001B[38;5;241m=\u001B[39m \u001B[38;5;28;01mNone\u001B[39;00m\n\u001B[1;32m    361\u001B[0m exc\u001B[38;5;241m.\u001B[39m__cause__ \u001B[38;5;241m=\u001B[39m \u001B[38;5;28;01mNone\u001B[39;00m\n\u001B[0;32m--> 362\u001B[0m \u001B[38;5;28;01mraise\u001B[39;00m exc\n\n\u001B[0;31mExecutionError\u001B[0m: An error occurred while calling o403.mount.\n: java.rmi.RemoteException: java.lang.IllegalArgumentException: requirement failed: Directory already mounted: /mnt/baltimore; nested exception is: \n\tjava.lang.IllegalArgumentException: requirement failed: Directory already mounted: /mnt/baltimore\n\tat com.databricks.backend.daemon.data.client.DbfsClient.send0(DbfsClient.scala:135)\n\tat com.databricks.backend.daemon.data.client.DbfsClient.sendIdempotent(DbfsClient.scala:69)\n\tat com.databricks.backend.daemon.dbutils.DBUtilsCore.createOrUpdateMount(DBUtilsCore.scala:1025)\n\tat com.databricks.backend.daemon.dbutils.DBUtilsCore.$anonfun$mount$1(DBUtilsCore.scala:1051)\n\tat com.databricks.logging.UsageLogging.$anonfun$recordOperation$1(UsageLogging.scala:555)\n\tat com.databricks.logging.UsageLogging.executeThunkAndCaptureResultTags$1(UsageLogging.scala:650)\n\tat com.databricks.logging.UsageLogging.$anonfun$recordOperationWithResultTags$4(UsageLogging.scala:671)\n\tat com.databricks.logging.UsageLogging.$anonfun$withAttributionContext$1(UsageLogging.scala:412)\n\tat scala.util.DynamicVariable.withValue(DynamicVariable.scala:62)\n\tat com.databricks.logging.AttributionContext$.withValue(AttributionContext.scala:158)\n\tat com.databricks.logging.UsageLogging.withAttributionContext(UsageLogging.scala:410)\n\tat com.databricks.logging.UsageLogging.withAttributionContext$(UsageLogging.scala:407)\n\tat com.databricks.backend.daemon.dbutils.FSUtils.withAttributionContext(DBUtilsCore.scala:69)\n\tat com.databricks.logging.UsageLogging.withAttributionTags(UsageLogging.scala:455)\n\tat com.databricks.logging.UsageLogging.withAttributionTags$(UsageLogging.scala:440)\n\tat com.databricks.backend.daemon.dbutils.FSUtils.withAttributionTags(DBUtilsCore.scala:69)\n\tat com.databricks.logging.UsageLogging.recordOperationWithResultTags(UsageLogging.scala:645)\n\tat com.databricks.logging.UsageLogging.recordOperationWithResultTags$(UsageLogging.scala:564)\n\tat com.databricks.backend.daemon.dbutils.FSUtils.recordOperationWithResultTags(DBUtilsCore.scala:69)\n\tat com.databricks.logging.UsageLogging.recordOperation(UsageLogging.scala:555)\n\tat com.databricks.logging.UsageLogging.recordOperation$(UsageLogging.scala:525)\n\tat com.databricks.backend.daemon.dbutils.FSUtils.recordOperation(DBUtilsCore.scala:69)\n\tat com.databricks.backend.daemon.dbutils.FSUtils.recordDbutilsFsOp(DBUtilsCore.scala:133)\n\tat com.databricks.backend.daemon.dbutils.DBUtilsCore.mount(DBUtilsCore.scala:1045)\n\tat sun.reflect.NativeMethodAccessorImpl.invoke0(Native Method)\n\tat sun.reflect.NativeMethodAccessorImpl.invoke(NativeMethodAccessorImpl.java:62)\n\tat sun.reflect.DelegatingMethodAccessorImpl.invoke(DelegatingMethodAccessorImpl.java:43)\n\tat java.lang.reflect.Method.invoke(Method.java:498)\n\tat py4j.reflection.MethodInvoker.invoke(MethodInvoker.java:244)\n\tat py4j.reflection.ReflectionEngine.invoke(ReflectionEngine.java:380)\n\tat py4j.Gateway.invoke(Gateway.java:306)\n\tat py4j.commands.AbstractCommand.invokeMethod(AbstractCommand.java:132)\n\tat py4j.commands.CallCommand.execute(CallCommand.java:79)\n\tat py4j.ClientServerConnection.waitForCommands(ClientServerConnection.java:195)\n\tat py4j.ClientServerConnection.run(ClientServerConnection.java:115)\n\tat java.lang.Thread.run(Thread.java:750)\nCaused by: java.lang.IllegalArgumentException: requirement failed: Directory already mounted: /mnt/baltimore\n\tat scala.Predef$.require(Predef.scala:281)\n\tat com.databricks.backend.daemon.data.server.DefaultMetadataManager.$anonfun$insertMount$1(MetadataManager.scala:580)\n\tat com.databricks.backend.daemon.data.server.DefaultMetadataManager.$anonfun$modifyAndVerify$2(MetadataManager.scala:948)\n\tat scala.runtime.java8.JFunction0$mcV$sp.apply(JFunction0$mcV$sp.java:23)\n\tat com.databricks.backend.daemon.data.server.DefaultMetadataManager.withRetries(MetadataManager.scala:729)\n\tat com.databricks.backend.daemon.data.server.DefaultMetadataManager.modifyAndVerify(MetadataManager.scala:937)\n\tat com.databricks.backend.daemon.data.server.DefaultMetadataManager.insertMount(MetadataManager.scala:588)\n\tat com.databricks.backend.daemon.data.server.handler.MountHandler.receive(MountHandler.scala:120)\n\tat com.databricks.backend.daemon.data.server.session.SessionContext.$anonfun$queryHandlers$1(SessionContext.scala:54)\n\tat com.databricks.backend.daemon.data.server.session.SessionContext.$anonfun$queryHandlers$1$adapted(SessionContext.scala:53)\n\tat scala.collection.immutable.List.foreach(List.scala:431)\n\tat com.databricks.backend.daemon.data.server.session.SessionContext.queryHandlers(SessionContext.scala:53)\n\tat com.databricks.backend.daemon.data.server.DbfsServerBackend$$anonfun$receive$4.$anonfun$applyOrElse$5(DbfsServerBackend.scala:387)\n\tat com.databricks.logging.UsageLogging.$anonfun$withAttributionContext$1(UsageLogging.scala:426)\n\tat scala.util.DynamicVariable.withValue(DynamicVariable.scala:62)\n\tat com.databricks.logging.AttributionContext$.withValue(AttributionContext.scala:196)\n\tat com.databricks.logging.UsageLogging.withAttributionContext(UsageLogging.scala:424)\n\tat com.databricks.logging.UsageLogging.withAttributionContext$(UsageLogging.scala:418)\n\tat com.databricks.rpc.ServerBackend.withAttributionContext(ServerBackend.scala:22)\n\tat com.databricks.logging.UsageLogging.withAttributionTags(UsageLogging.scala:470)\n\tat com.databricks.logging.UsageLogging.withAttributionTags$(UsageLogging.scala:455)\n\tat com.databricks.rpc.ServerBackend.withAttributionTags(ServerBackend.scala:22)\n\tat com.databricks.backend.daemon.data.server.DbfsServerBackend$$anonfun$receive$4.applyOrElse(DbfsServerBackend.scala:387)\n\tat com.databricks.backend.daemon.data.server.DbfsServerBackend$$anonfun$receive$4.applyOrElse(DbfsServerBackend.scala:331)\n\tat com.databricks.rpc.ServerBackend.$anonfun$internalReceive0$2(ServerBackend.scala:174)\n\tat com.databricks.rpc.ServerBackend$$anonfun$commonReceive$1.applyOrElse(ServerBackend.scala:200)\n\tat com.databricks.rpc.ServerBackend$$anonfun$commonReceive$1.applyOrElse(ServerBackend.scala:200)\n\tat com.databricks.rpc.ServerBackend.internalReceive0(ServerBackend.scala:171)\n\tat com.databricks.rpc.ServerBackend.$anonfun$internalReceive$1(ServerBackend.scala:147)\n\tat com.databricks.logging.UsageLogging.$anonfun$recordOperation$1(UsageLogging.scala:571)\n\tat com.databricks.logging.UsageLogging.executeThunkAndCaptureResultTags$1(UsageLogging.scala:666)\n\tat com.databricks.logging.UsageLogging.$anonfun$recordOperationWithResultTags$4(UsageLogging.scala:684)\n\tat com.databricks.logging.UsageLogging.$anonfun$withAttributionContext$1(UsageLogging.scala:426)\n\tat scala.util.DynamicVariable.withValue(DynamicVariable.scala:62)\n\tat com.databricks.logging.AttributionContext$.withValue(AttributionContext.scala:196)\n\tat com.databricks.logging.UsageLogging.withAttributionContext(UsageLogging.scala:424)\n\tat com.databricks.logging.UsageLogging.withAttributionContext$(UsageLogging.scala:418)\n\tat com.databricks.rpc.ServerBackend.withAttributionContext(ServerBackend.scala:22)\n\tat com.databricks.logging.UsageLogging.withAttributionTags(UsageLogging.scala:470)\n\tat com.databricks.logging.UsageLogging.withAttributionTags$(UsageLogging.scala:455)\n\tat com.databricks.rpc.ServerBackend.withAttributionTags(ServerBackend.scala:22)\n\tat com.databricks.logging.UsageLogging.recordOperationWithResultTags(UsageLogging.scala:661)\n\tat com.databricks.logging.UsageLogging.recordOperationWithResultTags$(UsageLogging.scala:580)\n\tat com.databricks.rpc.ServerBackend.recordOperationWithResultTags(ServerBackend.scala:22)\n\tat com.databricks.logging.UsageLogging.recordOperation(UsageLogging.scala:571)\n\tat com.databricks.logging.UsageLogging.recordOperation$(UsageLogging.scala:540)\n\tat com.databricks.rpc.ServerBackend.recordOperation(ServerBackend.scala:22)\n\tat com.databricks.rpc.ServerBackend.internalReceive(ServerBackend.scala:147)\n\tat com.databricks.rpc.JettyServer$RequestManager.handleRPC(JettyServer.scala:1037)\n\tat com.databricks.rpc.JettyServer$RequestManager.handleRequestAndRespond(JettyServer.scala:948)\n\tat com.databricks.rpc.JettyServer$RequestManager.$anonfun$handleHttp$6(JettyServer.scala:540)\n\tat com.databricks.rpc.JettyServer$RequestManager.$anonfun$handleHttp$6$adapted(JettyServer.scala:515)\n\tat com.databricks.logging.activity.ActivityContextFactory$.$anonfun$withActivityInternal$3(ActivityContextFactory.scala:420)\n\tat com.databricks.logging.UsageLogging.$anonfun$withAttributionContext$1(UsageLogging.scala:426)\n\tat scala.util.DynamicVariable.withValue(DynamicVariable.scala:62)\n\tat com.databricks.logging.AttributionContext$.withValue(AttributionContext.scala:196)\n\tat com.databricks.logging.UsageLogging.withAttributionContext(UsageLogging.scala:424)\n\tat com.databricks.logging.UsageLogging.withAttributionContext$(UsageLogging.scala:418)\n\tat com.databricks.logging.activity.ActivityContextFactory$.withAttributionContext(ActivityContextFactory.scala:55)\n\tat com.databricks.logging.activity.ActivityContextFactory$.withActivityInternal(ActivityContextFactory.scala:420)\n\tat com.databricks.logging.activity.ActivityContextFactory$.withServiceRequestActivity(ActivityContextFactory.scala:179)\n\tat com.databricks.rpc.JettyServer$RequestManager.handleHttp(JettyServer.scala:515)\n\tat com.databricks.rpc.JettyServer$RequestManager.doPost(JettyServer.scala:404)\n\tat javax.servlet.http.HttpServlet.service(HttpServlet.java:707)\n\tat com.databricks.rpc.HttpServletWithPatch.service(HttpServletWithPatch.scala:33)\n\tat javax.servlet.http.HttpServlet.service(HttpServlet.java:790)\n\tat org.eclipse.jetty.servlet.ServletHolder.handle(ServletHolder.java:848)\n\tat org.eclipse.jetty.servlet.ServletHandler.doHandle(ServletHandler.java:585)\n\tat org.eclipse.jetty.servlet.ServletHandler.doScope(ServletHandler.java:515)\n\tat org.eclipse.jetty.server.handler.ScopedHandler.handle(ScopedHandler.java:141)\n\tat org.eclipse.jetty.server.handler.HandlerWrapper.handle(HandlerWrapper.java:134)\n\tat org.eclipse.jetty.server.Server.handle(Server.java:539)\n\tat org.eclipse.jetty.server.HttpChannel.handle(HttpChannel.java:333)\n\tat org.eclipse.jetty.server.HttpConnection.onFillable(HttpConnection.java:251)\n\tat org.eclipse.jetty.io.AbstractConnection$ReadCallback.succeeded(AbstractConnection.java:283)\n\tat org.eclipse.jetty.io.FillInterest.fillable(FillInterest.java:108)\n\tat org.eclipse.jetty.io.SelectChannelEndPoint$2.run(SelectChannelEndPoint.java:93)\n\tat org.eclipse.jetty.util.thread.strategy.ExecuteProduceConsume.executeProduceConsume(ExecuteProduceConsume.java:303)\n\tat org.eclipse.jetty.util.thread.strategy.ExecuteProduceConsume.produceConsume(ExecuteProduceConsume.java:148)\n\tat org.eclipse.jetty.util.thread.strategy.ExecuteProduceConsume.run(ExecuteProduceConsume.java:136)\n\tat com.databricks.rpc.InstrumentedQueuedThreadPool$$anon$1.$anonfun$run$1(InstrumentedQueuedThreadPool.scala:83)\n\tat scala.runtime.java8.JFunction0$mcV$sp.apply(JFunction0$mcV$sp.java:23)\n\tat com.databricks.instrumentation.QueuedThreadPoolInstrumenter.trackActiveThreads(QueuedThreadPoolInstrumenter.scala:66)\n\tat com.databricks.instrumentation.QueuedThreadPoolInstrumenter.trackActiveThreads$(QueuedThreadPoolInstrumenter.scala:63)\n\tat com.databricks.rpc.InstrumentedQueuedThreadPool.trackActiveThreads(InstrumentedQueuedThreadPool.scala:49)\n\tat com.databricks.rpc.InstrumentedQueuedThreadPool$$anon$1.run(InstrumentedQueuedThreadPool.scala:78)\n\tat org.eclipse.jetty.util.thread.QueuedThreadPool.runJob(QueuedThreadPool.java:671)\n\tat org.eclipse.jetty.util.thread.QueuedThreadPool$2.run(QueuedThreadPool.java:589)\n\t... 1 more\n",
       "errorSummary": "java.rmi.RemoteException: java.lang.IllegalArgumentException: requirement failed: Directory already mounted: /mnt/baltimore; nested exception is: ",
       "errorTraceType": "ansi",
       "metadata": {},
       "type": "ipynbError"
      }
     },
     "output_type": "display_data"
    }
   ],
   "source": [
    "dbutils.fs.mount(\n",
    "source = \"wasbs://baltimore@911callsforservice.blob.core.windows.net\",\n",
    "mount_point = \"/mnt/baltimore\",\n",
    "extra_configs = {\"fs.azure.account.key.911callsforservice.blob.core.windows.net\":\"MVfIC3XH11WHa7CPPdL/6DLTJRBg8+fZvtYnJIhvJ0NONQu6KmUzNKDTH4DpWwVoykgd+NrFZTgy+AStML2e/A==\"})"
   ]
  },
  {
   "cell_type": "markdown",
   "metadata": {
    "application/vnd.databricks.v1+cell": {
     "cellMetadata": {},
     "inputWidgets": {},
     "nuid": "9d37ed99-992b-46e0-a994-efd72863e7dc",
     "showTitle": false,
     "title": ""
    }
   },
   "source": [
    "Check whether the cluster successfully mounts to the storage account."
   ]
  },
  {
   "cell_type": "code",
   "execution_count": 0,
   "metadata": {
    "application/vnd.databricks.v1+cell": {
     "cellMetadata": {
      "byteLimit": 2048000,
      "rowLimit": 10000
     },
     "inputWidgets": {},
     "nuid": "505bd4b3-13ab-45ae-bfa3-e79791f7e4d0",
     "showTitle": false,
     "title": ""
    }
   },
   "outputs": [
    {
     "output_type": "display_data",
     "data": {
      "text/html": [
       "<style scoped>\n",
       "  .table-result-container {\n",
       "    max-height: 300px;\n",
       "    overflow: auto;\n",
       "  }\n",
       "  table, th, td {\n",
       "    border: 1px solid black;\n",
       "    border-collapse: collapse;\n",
       "  }\n",
       "  th, td {\n",
       "    padding: 5px;\n",
       "  }\n",
       "  th {\n",
       "    text-align: left;\n",
       "  }\n",
       "</style><div class='table-result-container'><table class='table-result'><thead style='background-color: white'><tr><th>path</th><th>name</th><th>size</th><th>modificationTime</th></tr></thead><tbody><tr><td>dbfs:/mnt/baltimore/911_Calls_for_Service_2021_.csv</td><td>911_Calls_for_Service_2021_.csv</td><td>387404816</td><td>1691208262000</td></tr><tr><td>dbfs:/mnt/baltimore/911_Calls_for_Service_2022_New.csv</td><td>911_Calls_for_Service_2022_New.csv</td><td>364720294</td><td>1691208465000</td></tr></tbody></table></div>"
      ]
     },
     "metadata": {
      "application/vnd.databricks.v1+output": {
       "addedWidgets": {},
       "aggData": [],
       "aggError": "",
       "aggOverflow": false,
       "aggSchema": [],
       "aggSeriesLimitReached": false,
       "aggType": "",
       "arguments": {},
       "columnCustomDisplayInfos": {},
       "data": [
        [
         "dbfs:/mnt/baltimore/911_Calls_for_Service_2021_.csv",
         "911_Calls_for_Service_2021_.csv",
         387404816,
         1691208262000
        ],
        [
         "dbfs:/mnt/baltimore/911_Calls_for_Service_2022_New.csv",
         "911_Calls_for_Service_2022_New.csv",
         364720294,
         1691208465000
        ]
       ],
       "datasetInfos": [],
       "dbfsResultPath": null,
       "isJsonSchema": true,
       "metadata": {
        "isDbfsCommandResult": false
       },
       "overflow": false,
       "plotOptions": {
        "customPlotOptions": {},
        "displayType": "table",
        "pivotAggregation": null,
        "pivotColumns": null,
        "xColumns": null,
        "yColumns": null
       },
       "removedWidgets": [],
       "schema": [
        {
         "metadata": "{}",
         "name": "path",
         "type": "\"string\""
        },
        {
         "metadata": "{}",
         "name": "name",
         "type": "\"string\""
        },
        {
         "metadata": "{}",
         "name": "size",
         "type": "\"long\""
        },
        {
         "metadata": "{}",
         "name": "modificationTime",
         "type": "\"long\""
        }
       ],
       "type": "table"
      }
     },
     "output_type": "display_data"
    }
   ],
   "source": [
    "%fs ls /mnt/baltimore"
   ]
  },
  {
   "cell_type": "markdown",
   "metadata": {
    "application/vnd.databricks.v1+cell": {
     "cellMetadata": {},
     "inputWidgets": {},
     "nuid": "0593fc2d-cc14-4579-bcac-91eb6bb283d6",
     "showTitle": false,
     "title": ""
    }
   },
   "source": [
    "## Create Database and Table"
   ]
  },
  {
   "cell_type": "markdown",
   "metadata": {
    "application/vnd.databricks.v1+cell": {
     "cellMetadata": {},
     "inputWidgets": {},
     "nuid": "dac02f5c-8684-4861-b9d8-6601a012ac5d",
     "showTitle": false,
     "title": ""
    }
   },
   "source": [
    "Let's take a look at the [BAL Police Department 911 Calls for Service](https://data.baltimorecity.gov/datasets/911-calls-for-service-2021-/explore) dataset. \n",
    "\n",
    "This dataset includes all police units responses to calls."
   ]
  },
  {
   "cell_type": "code",
   "execution_count": 0,
   "metadata": {
    "application/vnd.databricks.v1+cell": {
     "cellMetadata": {
      "byteLimit": 2048000,
      "rowLimit": 10000
     },
     "inputWidgets": {},
     "nuid": "01b0847e-fb59-425e-a4f6-2e94c482eedb",
     "showTitle": false,
     "title": ""
    }
   },
   "outputs": [
    {
     "output_type": "display_data",
     "data": {
      "text/html": [
       "<style scoped>\n",
       "  .ansiout {\n",
       "    display: block;\n",
       "    unicode-bidi: embed;\n",
       "    white-space: pre-wrap;\n",
       "    word-wrap: break-word;\n",
       "    word-break: break-all;\n",
       "    font-family: \"Source Code Pro\", \"Menlo\", monospace;;\n",
       "    font-size: 13px;\n",
       "    color: #555;\n",
       "    margin-left: 4px;\n",
       "    line-height: 19px;\n",
       "  }\n",
       "</style>\n",
       "<div class=\"ansiout\">[Truncated to first 65536 bytes]\n",
       "﻿OBJECTID,callKey,callDateTime,priority,district,description,callNumber,incidentLocation,location,Neighborhood,PoliceDistrict,PolicePost,CouncilDistrict,SheriffDistricts,Community_Statistical_Areas,Census_Tracts,VRIZones,ZIPCode,NeedsSync,IsDeleted\n",
       "1,6301020A5FEEAC59,2021/01/01 05:00:00+00,High,WD,DISCHRG FIREARM,P210010012,2100 BLK EDMONDSON AV,2100 BLK EDMONDSON AV BALTIMORE MD,Midtown-Edmondson,Western,722,9,D8,Sandtown-Winchester/Harlem Park,Census Tract 1604,,21223,True,False\n",
       "2,29CC9DA95FEEAC72,2021/01/01 05:00:00+00,Non-Emergency,WD,SUPV COMPLAINT,P210010019,1300 HARLEM AV,1300 HARLEM AV BALTIMORE MD,Harlem Park,Western,713,9,D8,Sandtown-Winchester/Harlem Park,Census Tract 1602,Central,21217,False,False\n",
       "3,5601020A5FEEAC7C,2021/01/01 05:00:00+00,Low,NE,911/NO  VOICE,P210010011,1900 E BELVEDERE AV,1900 E BELVEDERE AV BALTIMORE MD,Loch Raven,Northeastern,415,4,D3,Loch Raven,Census Tract 2708.03,,21239,True,False\n",
       "4,9C01020A5FEEAC67,2021/01/01 05:00:00+00,High,ND,ShotSpot Alert,P210010002,200 W NORTH AV,200 W NORTH AV BALTIMORE MD,Charles North,Central,141,12,D8,Midtown,Census Tract 1205,,21201,True,False\n",
       "5,5901020A5FEEAC81,2021/01/01 05:00:00+00,Low,NE,911/NO  VOICE,P210010008,1100 E COLD SPRING LN,1100 E COLD SPRING LN BALTIMORE MD,New Northwood,Northeastern,413,4,D2,Northwood,Census Tract 2709.01,,21239,True,False\n",
       "6,5901020A5FEEACA4,2021/01/01 05:00:59+00,Medium,SW,DISORDERLY,P210010010,1400 BLK N LONGWOOD ST,1400 BLK N LONGWOOD ST BALTIMORE MD,Rosemont,Southwestern,813,9,D9,Greater Rosemont,Census Tract 1607,,21216,True,False\n",
       "7,9C01020A5FEEACA2,2021/01/01 05:00:59+00,High,ND,DISCHRG FIREARM,P210010009,500 RICHWOOD AV,500 RICHWOOD AV BALTIMORE MD,Richnor Springs,Northern,524,4,D2,Greater Govans,Census Tract 2710.02,,21212,True,False\n",
       "8,5401020A5FEEACAE,2021/01/01 05:00:59+00,High,SD,DISCHRG FIREARM,P210010016,1100 BLK JAMES ST,1100 BLK JAMES ST BALTIMORE MD,Washington Village/Pigtown,Southern,932,10,D7,Washington Village/Pigtown,Census Tract 2102,,21223,False,False\n",
       "9,5A01020A5FEEAC9D,2021/01/01 05:00:59+00,Medium,SE,BURGLARY,P210010013,0 N CLINTON ST,0 N CLINTON ST BALTIMORE MD,Patterson Park Neighborhood,Southeastern,222,1,D6,Patterson Park North &amp; East,Census Tract 2610,,21224,True,False\n",
       "10,5F01020A5FEEACB9,2021/01/01 05:00:59+00,Medium,SD,DISORDERLY,P210010030,4000 8TH ST,4000 8TH ST BALTIMORE MD,Brooklyn,Southern,913,10,D7,Brooklyn/Curtis Bay/Hawkins Point,Census Tract 2504.02,,21225,True,False\n",
       "11,5501020A5FEEACAB,2021/01/01 05:00:59+00,High,ED,DISCHRG FIREARM,P210010014,3600 PULASKI HY,3600 PULASKI HY BALTIMORE MD,Orangeville,Eastern,333,2,D6,Orangeville/East Highlandtown,Census Tract 2604.04,,21224,True,False\n",
       "12,5601020A5FEEACD9,2021/01/01 05:02:00+00,Low,NE,911/NO  VOICE,P210010023,1900 E BELVEDERE AV,1900 E BELVEDERE AV BALTIMORE MD,Loch Raven,Northeastern,415,4,D3,Loch Raven,Census Tract 2708.03,,21239,True,False\n",
       "13,5B01020A5FEEACD9,2021/01/01 05:02:00+00,High,SW,DISCHRG FIREARM,P210010018,500 NORMANDY AV,500 NORMANDY AV BALTIMORE MD,Allendale,Southwestern,843,8,D10,Allendale/Irvington/S. Hilton,Census Tract 2007.01,,21229,True,False\n",
       "14,6301020A5FEEACE0,2021/01/01 05:02:00+00,High,NW,DISCHRG FIREARM,P210010020,4000 BLK OAKFORD AV,4000 BLK OAKFORD AV BALTIMORE MD,West Arlington,Northwestern,642,6,D1,Dorchester/Ashburton,Census Tract 1510,,21215,True,False\n",
       "15,6501020A5FEEACDD,2021/01/01 05:02:00+00,Low,NE,OTHER,P210010028,5100 ORVILLE AV,5100 ORVILLE AV BALTIMORE MD,Armistead Gardens,Northeastern,433,13,D6,Claremont/Armistead,Census Tract 2603.03,,21205,True,False\n",
       "16,5401020A5FEEACF3,2021/01/01 05:02:00+00,High,SD,DISCHRG FIREARM,P210010025,1100 SARGEANT ST,1100 SARGEANT ST BALTIMORE MD,Washington Village/Pigtown,Southern,932,10,D7,Washington Village/Pigtown,Census Tract 2102,,21223,False,False\n",
       "17,9C01020A5FEEACE3,2021/01/01 05:02:00+00,Non-Emergency,SE,HANDGUN VIOLATIO,P210010015,JEFFERSON ST/N ROBINSON ST,JEFFERSON ST and N ROBINSON ST BALTIMORE MD,Ellwood Park/Monument,Southeastern,224,13,D5,Patterson Park North &amp; East,Census Tract 601,,21224,True,False\n",
       "18,5901020A5FEEACD6,2021/01/01 05:02:00+00,Low,SW,911/NO  VOICE,P210010017,200 S PULASKI ST,200 S PULASKI ST BALTIMORE MD,Carrollton Ridge,Southwestern,841,9,D8,Southwest Baltimore,Census Tract 2005,Tri-District,21223,True,False\n",
       "19,5901020A5FEEACF0,2021/01/01 05:02:00+00,High,ND,DISCHRG FIREARM,P210010021,300 ILCHESTER AV,300 ILCHESTER AV BALTIMORE MD,Harwood,Northern,513,12,D2,Greater Charles Village/Barclay,Census Tract 1203,,21218,True,False\n",
       "20,5901020A5FEEAD3B,2021/01/01 05:03:00+00,High,WD,DISCHRG FIREARM,P210010029,2000 W LEXINGTON ST,2000 W LEXINGTON ST BALTIMORE MD,Penrose/Fayette Street Outreach,Western,714,9,D8,Southwest Baltimore,Census Tract 2001,,21223,True,False\n",
       "21,5A01020A5FEEAD0D,2021/01/01 05:03:00+00,Low,SE,911/NO  VOICE,P210010022,600 S LINWOOD AV,600 S LINWOOD AV BALTIMORE MD,Canton,Southeastern,232,1,D6,Patterson Park North &amp; East,Census Tract 102,,21224,True,False\n",
       "22,6301020A5FEEAD3D,2021/01/01 05:03:00+00,High,SD,DISCHRG FIREARM,P210010031,800 BETHUNE RD,800 BETHUNE RD BALTIMORE MD,Cherry Hill,Southern,922,10,D7,Cherry Hill,Census Tract 2502.04,,21225,True,False\n",
       "23,6501020A5FEEAD74,2021/01/01 05:03:59+00,Non-Emergency,SE,LOUD MUSIC,P210010039,300 GUSRYAN ST,300 GUSRYAN ST BALTIMORE MD,Bayview,Southeastern,241,1,D6,Orangeville/East Highlandtown,Census Tract 2605.01,,21224,True,False\n",
       "24,5601020A5FEEAD4F,2021/01/01 05:03:59+00,Medium,NE,DISORDERLY,P210010032,WHITE AV/CARTER AV,WHITE AV and CARTER AV BALTIMORE MD,Glenham-Belhar,Northeastern,425,3,D4,Hamilton,Census Tract 2704.02,,21214,True,False\n",
       "25,5501020A5FEEAD60,2021/01/01 05:03:59+00,High,SW,DISCHRG FIREARM,P210010053,2500 FREDERICK AV,2500 FREDERICK AV BALTIMORE MD,Millhill,Southwestern,841,9,D8,Southwest Baltimore,Census Tract 2005,Tri-District,21223,True,False\n",
       "26,5401020A5FEEAD52,2021/01/01 05:03:59+00,Medium,WD,WANTED ON WARR,P210010036,1700 GWYNNS FALLS PY,1700 GWYNNS FALLS PY BALTIMORE MD,Parkview/Woodbrook,Western,732,7,D2,Penn North/Reservoir Hill,Census Tract 1304,,21217,False,False\n",
       "27,5901020A5FEEAD7A,2021/01/01 05:03:59+00,High,NE,DISCHRG FIREARM,P210010033,4100 PARKSIDE DR,4100 PARKSIDE DR BALTIMORE MD,Belair-Parkside,Northeastern,422,3,D4,Lauraville,Census Tract 2701.01,,21206,True,False\n",
       "28,9C01020A5FEEAD4D,2021/01/01 05:03:59+00,Non-Emergency,CD,Business Check,P210010026,S CHARLES ST/E CONWAY ST,S CHARLES ST and E CONWAY ST BALTIMORE MD,Otterbein,Central,113,11,D7,Inner Harbor/Federal Hill,Census Tract 2201,,21201,True,False\n",
       "29,9C01020A5FEEAD5E,2021/01/01 05:03:59+00,Non-Emergency,SW,Business Check,P210010027,700 LINNARD ST,700 LINNARD ST BALTIMORE MD,Edgewood,Southwestern,844,8,D10,Edmondson Village,Census Tract 1608.02,,21229,True,False\n",
       "30,5901020A5FEEADB4,2021/01/01 05:05:00+00,Medium,ED,DISORDERLY,P210010038,E 0ND ST/BARCLAY ST,E 0ND ST and BARCLAY ST BALTIMORE MD,Barclay,Eastern,341,12,D2,Greater Charles Village/Barclay,Census Tract 1204,,21218,True,False\n",
       "31,5A01020A5FEEAD88,2021/01/01 05:05:00+00,Medium,CD,DISORDERLY,P210010034,N CALVERT ST/E LANVALE ST,N CALVERT ST and E LANVALE ST BALTIMORE MD,Greenmount West,Eastern,311,12,D5,Midtown,Census Tract 1205,,21202,True,False\n",
       "32,5C01020A5FEEAD8B,2021/01/01 05:05:00+00,Low,SW,SUSPICIOUS PERS,P210010049,2700 BLK WILKENS AV,2700 BLK WILKENS AV BALTIMORE MD,Millhill,Southwestern,841,10,D10,Allendale/Irvington/S. Hilton,Census Tract 2006,,21223,True,False\n",
       "33,5601020A5FEEADA6,2021/01/01 05:05:00+00,Low,SD,911/NO  VOICE,P210010042,1200 W OSTEND ST,1200 W OSTEND ST BALTIMORE MD,Washington Village/Pigtown,Southern,932,10,D7,Washington Village/Pigtown,Census Tract 2102,,21230,True,False\n",
       "34,5B01020A5FEEAD83,2021/01/01 05:05:00+00,High,ED,DISCHRG FIREARM,P210010037,3600 PULASKI HY,3600 PULASKI HY BALTIMORE MD,Orangeville,Eastern,333,2,D6,Orangeville/East Highlandtown,Census Tract 2604.04,,21224,True,False\n",
       "35,6301020A5FEEAD91,2021/01/01 05:05:00+00,High,CD,ARMED PERSON,P210010041,MCCULLOH ST/MCMECHEN ST,MCCULLOH ST and MCMECHEN ST BALTIMORE MD,Upton,Central,123,11,D8,Upton/Druid Heights,Census Tract 1402,,21217,True,False\n",
       "36,1ACC9DA95FEEADAE,2021/01/01 05:05:00+00,High,WD,DISCHRG FIREARM,P210010052,300 N GILMOR ST,300 N GILMOR ST BALTIMORE MD,Franklin Square,Western,711,9,D8,Southwest Baltimore,Census Tract 1901,,21223,False,False\n",
       "37,6501020A5FEEADEA,2021/01/01 05:06:00+00,High,NE,DISCHRG FIREARM,P210010051,2700 BLK PELHAM AV,2700 BLK PELHAM AV BALTIMORE MD,Belair-Edison,Northeastern,432,13,D5,Belair-Edison,Census Tract 801.01,,21213,True,False\n",
       "38,5B01020A5FEEADEB,2021/01/01 05:06:00+00,High,NE,DISCHRG FIREARM,P210010045,4200 BLK NICHOLAS AV,4200 BLK NICHOLAS AV BALTIMORE MD,Arcadia,Northeastern,422,3,D4,Lauraville,Census Tract 2602.02,Northeastern,21206,True,False\n",
       "39,29CC9DA95FEEADE3,2021/01/01 05:06:00+00,Medium,ND,DISORDERLY,P210010073,3400 KESWICK RD,3400 KESWICK RD BALTIMORE MD,Hampden,Northern,531,14,D2,Medfield/Hampden/Woodberry/Remington,Census Tract 1306,,21211,False,False\n",
       "40,5901020A5FEEADE8,2021/01/01 05:06:00+00,Low,WD,911/NO  VOICE,P210010043,1500 MOSHER ST,1500 MOSHER ST BALTIMORE MD,Sandtown-Winchester,Western,743,9,D8,Sandtown-Winchester/Harlem Park,Census Tract 1602,Central,21217,True,False\n",
       "41,5901020A5FEEAE0A,2021/01/01 05:06:59+00,Low,CD,911/NO  VOICE,P210010046,700 DRUID PARK LAKE DR,700 DRUID PARK LAKE DR BALTIMORE MD,Reservoir Hill,Central,133,7,D2,Penn North/Reservoir Hill,Census Tract 1301,,21217,True,False\n",
       "42,9C01020A5FEEAE08,2021/01/01 05:06:59+00,Non-Emergency,WD,DIRECTED PATROL,P210010044,1700 MORELAND AV,1700 MORELAND AV BALTIMORE MD,Coppin Heights/Ash-Co-East,Western,723,7,D9,Greater Rosemont,Census Tract 1503,Western,21216,True,False\n",
       "43,9C01020A5FEEAE2D,2021/01/01 05:06:59+00,Medium,SW,EXPART/PROT/PEAC,P210010048,100 DENISON ST,100 DENISON ST BALTIMORE MD,Allendale,Southwestern,843,8,D10,Allendale/Irvington/S. Hilton,Census Tract 2007.01,,21229,True,False\n",
       "44,5601020A5FEEADFB,2021/01/01 05:06:59+00,High,SD,COMMON ASSAULT,P210010047,1800 RAMSAY ST,1800 RAMSAY ST BALTIMORE MD,Carrollton Ridge,Southern,934,9,D8,Southwest Baltimore,Census Tract 1903,Tri-District,21223,True,False\n",
       "45,5B01020A5FEEAE25,2021/01/01 05:06:59+00,Medium,SD,DISORDERLY,P210010054,800 S CHARLES ST,800 S CHARLES ST BALTIMORE MD,Federal Hill,Southern,942,11,D7,Inner Harbor/Federal Hill,Census Tract 2201,,21230,True,False\n",
       "46,6301020A5FEEAE06,2021/01/01 05:06:59+00,Medium,NW,DISORDERLY,P210010059,DAMASCUS CT/KIM DR,DAMASCUS CT and KIM DR BALTIMORE MD,Cheswolde,Northwestern,632,5,D1,Cross-Country/Cheswolde,Census Tract 2720.04,,21209,True,False\n",
       "47,5601020A5FEEAE40,2021/01/01 05:07:59+00,High,WD,DISCHRG FIREARM,P210010062,1600 BLK GWYNNS FALLS PY,1600 BLK GWYNNS FALLS PY BALTIMORE MD,Parkview/Woodbrook,Western,732,7,D2,Penn North/Reservoir Hill,Census Tract 1304,,21217,True,False\n",
       "48,9C01020A5FEEAE41,2021/01/01 05:07:59+00,Non-Emergency,WD,Business Check,P210010050,2400 LIBERTY HEIGHTS AV,2400 LIBERTY HEIGHTS AV BALTIMORE MD,Mondawmin,Western,731,7,D9,Greater Mondawmin,Census Tract 1505,,21215,True,False\n",
       "49,9C01020A5FEEAE60,2021/01/01 05:07:59+00,High,ED,ShotSpot Alert,P210010056,1100 HARFORD AV,1100 HARFORD AV BALTIMORE MD,Johnston Square,Eastern,311,12,D5,Greenmount East,Census Tract 1001,,21202,True,False\n",
       "50,9C01020A5FEEAE63,2021/01/01 05:07:59+00,Non-Emergency,SD,Business Check,P210010058,6300 EFFICIENCY WY,6300 EFFICIENCY WY BALTIMORE MD,Hawkins Point,Southern,911,10,D7,Brooklyn/Curtis Bay/Hawkins Point,Census Tract 2505,,21226,True,False\n",
       "51,9C01020A5FEEAE6A,2021/01/01 05:07:59+00,Non-Emergency,SW,Business Check,P210010060,600 N EDGEWOOD ST,600 N EDGEWOOD ST BALTIMORE MD,Edgewood,Southwestern,844,8,D10,Edmondson Village,Census Tract 1608.02,,21229,True,False\n",
       "52,5901020A5FEEAE32,2021/01/01 05:07:59+00,Medium,CD,SILENT ALARM,P210010057,0 W NORTH AV,0 W NORTH AV BALTIMORE MD,Charles North,Central,141,12,D8,Midtown,Census Tract 1205,,21201,True,False\n",
       "53,9C01020A5FEEAE77,2021/01/01 05:09:00+00,Non-Emergency,CD,Business Check,P210010061,100 E REDWOOD ST,100 E REDWOOD ST BALTIMORE MD,Downtown,Central,111,11,D7,Downtown/Seton Hill,Census Tract 401,,21202,True,False\n",
       "54,5C01020A5FEEAEA7,2021/01/01 05:09:00+00,High,NE,DISCHRG FIREARM,P210010074,E COLD SPRING LN/LOCH RAVEN BL,E COLD SPRING LN and LOCH RAVEN BL BALTIMORE MD,New Northwood,Northeastern,413,3,D4,Northwood,Census Tract 2709.03,,21239,True,False\n",
       "55,5A01020A5FEEAE9A,2021/01/01 05:09:00+00,Medium,ND,DISORDERLY,P210010066,GUILFORD AV/ILCHESTER AV,GUILFORD AV and ILCHESTER AV BALTIMORE MD,Harwood,Northern,512,12,D2,Greater Charles Village/Barclay,Census Tract 1203,,21218,True,False\n",
       "56,13CC9DA95FEEAE7D,2021/01/01 05:09:00+00,Medium,ED,DISORDERLY,P210010067,E PRESTON ST/N CENTRAL AV,E PRESTON ST and N CENTRAL AV BALTIMORE MD,Oliver,Eastern,343,12,D5,Greenmount East,Census Tract 1001,,21202,False,False\n",
       "57,5601020A5FEEAE9A,2021/01/01 05:09:00+00,Low,NE,OTHER,P210010069,AILSA AV/GRINDON AV,AILSA AV and GRINDON AV BALTIMORE MD,Lauraville,Northeastern,421,3,D4,Lauraville,Census Tract 2703.01,,21214,True,False\n",
       "58,5B01020A5FEEAE71,2021/01/01 05:09:00+00,High,ED,DISCHRG FIREARM,P210010063,1000 BLK DARLEY AV,1000 BLK DARLEY AV BALTIMORE MD,East Baltimore Midway,Eastern,342,12,D5,Midway/Coldstream,Census Tract 908,Eastern1,21218,True,False\n",
       "59,6501020A5FEEAE74,2021/01/01 05:09:00+00,Low,ND,911/NO  VOICE,P210010064,700 E 37TH ST,700 E 37TH ST BALTIMORE MD,Waverly,Northern,543,14,D2,The Waverlies,Census Tract 903,,21218,True,False\n",
       "60,6501020A5FEEAEB7,2021/01/01 05:10:00+00,Low,CD,911/NO  VOICE,P210010072,2100 MT ROYAL TE,2100 MT ROYAL TE BALTIMORE MD,Reservoir Hill,Central,133,7,D2,Penn North/Reservoir Hill,Census Tract 1302,,21217,True,False\n",
       "61,9C01020A5FEEAEB0,2021/01/01 05:10:00+00,Non-Emergency,NE,Business Check,P210010065,700 E 25TH ST,700 E 25TH ST BALTIMORE MD,East Baltimore Midway,Eastern,342,12,D5,Midway/Coldstream,Census Tract 908,,21218,True,False\n",
       "62,9C01020A5FEEAECD,2021/01/01 05:10:00+00,Non-Emergency,SW,Repairs/Service,P210010068,100,100 BALTIMORE MD,Penn-Fallsway,Eastern,312,12,D7,Oldtown/Middle East,Census Tract 2805,,21202,True,False\n",
       "63,9C01020A5FEEAEEC,2021/01/01 05:10:59+00,Non-Emergency,NW,Business Check,P210010071,5500 PARK HEIGHTS AV,5500 PARK HEIGHTS AV BALTIMORE MD,Arlington,Northwestern,633,5,D1,Glen-Fallstaff,Census Tract 2719,,21215,True,False\n",
       "64,6601020A5FEEAF0B,2021/01/01 05:10:59+00,Low,NE,OTHER,P210010081,1300 BLK STONEWOOD RD,1300 BLK STONEWOOD RD BALTIMORE MD,New Northwood,Northeastern,413,4,D2,Northwood,Census Tract 2709.01,,21239,True,False\n",
       "65,6301020A5FEEAF16,2021/01/01 05:10:59+00,Medium,SE,DISORDERLY,P210010076,6500 BLK PARNELL AV,6500 BLK PARNELL AV BALTIMORE MD,Saint Helena,Southeastern,243,1,D7,Southeastern,Census Tract 2606.05,,21222,True,False\n",
       "66,5C01020A5FEEAF56,2021/01/01 05:12:00+00,Low,WD,INTOXICATED PERS,P210010079,2000 EDMONDSON AV,2000 EDMONDSON AV BALTIMORE MD,Midtown-Edmondson,Western,722,9,D8,Sandtown-Winchester/Harlem Park,Census Tract 1604,,21223,True,False\n",
       "67,5901020A5FEEAF23,2021/01/01 05:12:00+00,Medium,ND,DISORDERLY,P210010075,2500 EDGECOMBE CI N,2500 EDGECOMBE CI N BALTIMORE MD,Parklane,Northern,532,6,D2,Southern Park Heights,Census Tract 2716,,21215,True,False\n",
       "68,5901020A5FEEAF74,2021/01/01 05:13:00+00,High,NE,COMMON ASSAULT,P210010077,4100 BLK WOODLEA AV,4100 BLK WOODLEA AV BALTIMORE MD,Waltherson,Northeastern,426,3,D4,Lauraville,Census Tract 2701.02,,21206,True,False\n",
       "69,5A01020A5FEEAF6B,2021/01/01 05:13:00+00,Non-Emergency,ND,SICK CASE,P210010080,5200 YORK RD,5200 YORK RD BALTIMORE MD,Winston-Govans,Northern,524,4,D2,Greater Govans,Census Tract 2710.02,,21212,True,False\n",
       "70,5401020A5FEEAF68,2021/01/01 05:13:00+00,Medium,SD,DISORDERLY,P210010086,2700 BLK NORLAND RD,2700 BLK NORLAND RD BALTIMORE MD,Lakeland,Southern,923,10,D7,Westport/Mount Winans/Lakeland,Census Tract 2502.05,,21230,False,False\n",
       "71,6301020A5FEEAF90,2021/01/01 05:13:00+00,High,NE,DISCHRG FIREARM,P210010088,HILLEN RD/PERRING PY,HILLEN RD and PERRING PY BALTIMORE MD,Perring Loch,Northeastern,415,3,D4,Northwood,Census Tract 2709.02,,21239,True,False\n",
       "72,5B01020A5FEEAF69,2021/01/01 05:13:00+00,Medium,NW,DISORDERLY,P210010087,6400 ELRAY DR,6400 ELRAY DR BALTIMORE MD,Cheswolde,Northwestern,632,5,D1,Cross-Country/Cheswolde,Census Tract 2720.04,,21209,True,False\n",
       "73,5601020A5FEEAF7F,2021/01/01 05:13:00+00,Medium,NW,DISORDERLY,P210010082,2900 TERRY DR,2900 TERRY DR BALTIMORE MD,Cheswolde,Northwestern,632,5,D1,Cross-Country/Cheswolde,Census Tract 2720.04,,21209,True,False\n",
       "74,29CC9DA95FEEAF64,2021/01/01 05:13:00+00,Medium,ND,DISORDERLY,P210010098,E 0TH ST/ST PAUL ST,E 0TH ST and ST PAUL ST BALTIMORE MD,Charles Village,Northern,512,12,D2,Greater Charles Village/Barclay,Census Tract 1203,,21218,False,False\n",
       "75,5501020A5FEEAF64,2021/01/01 05:13:00+00,High,ND,DISCHRG FIREARM,P210010083,3000 BLK VIRGINIA AV,3000 BLK VIRGINIA AV BALTIMORE MD,Cylburn,Northern,532,6,D2,Southern Park Heights,Census Tract 2716,,21215,True,False\n",
       "76,5601020A5FEEAFC4,2021/01/01 05:13:59+00,Non-Emergency,ND,SUPV COMPLAINT,P210010096,500 RICHWOOD AV,500 RICHWOOD AV BALTIMORE MD,Richnor Springs,Northern,524,4,D2,Greater Govans,Census Tract 2710.02,,21212,True,False\n",
       "77,5C01020A5FEEAFD1,2021/01/01 05:13:59+00,High,SD,DISCHRG FIREARM,P210010091,WASHBURN AV/ST MARGARET ST,WASHBURN AV and ST MARGARET ST BALTIMORE MD,Brooklyn,Southern,913,10,D7,Brooklyn/Curtis Bay/Hawkins Point,Census Tract 2505,Brooklyn,21225,True,False\n",
       "78,5901020A5FEEAFA7,2021/01/01 05:13:59+00,High,NW,DISCHRG FIREARM,P210010084,ROSEDALE RD/LIBERTY HEIGHTS AV,ROSEDALE RD and LIBERTY HEIGHTS AV BALTIMORE MD,Hanlon-Longwood,Northwestern,643,7,D9,Greater Mondawmin,Census Tract 1507.01,,21215,True,False\n",
       "79,9C01020A5FEEAFD0,2021/01/01 05:13:59+00,Non-Emergency,SW,Foot  Patrol,P210010085,EDMONDSON AV/N EDGEWOOD ST,EDMONDSON AV and N EDGEWOOD ST BALTIMORE MD,Edgewood,Southwestern,844,8,D10,Edmondson Village,Census Tract 2007.01,,21229,True,False\n",
       "80,5901020A5FEEAFE1,2021/01/01 05:15:00+00,Medium,NW,DISORDERLY,P210010089,3800 BLK DORCHESTER RD,3800 BLK DORCHESTER RD BALTIMORE MD,Callaway-Garrison,Northwestern,642,6,D1,Dorchester/Ashburton,Census Tract 1511,,21215,True,False\n",
       "81,5401020A5FEEAFF8,2021/01/01 05:15:00+00,High,SW,DISCHRG FIREARM,P210010093,500 BRUNSWICK ST,500 BRUNSWICK ST BALTIMORE MD,Millhill,Southwestern,841,10,D10,Allendale/Irvington/S. Hilton,Census Tract 2006,,21223,False,False\n",
       "82,5401020A5FEEB043,2021/01/01 05:16:00+00,Medium,ED,FAMILY DISTURB,P210010105,1000 ORLEANS ST,1000 ORLEANS ST BALTIMORE MD,Pleasant View Gardens,Southeastern,211,12,D7,Oldtown/Middle East,Census Tract 2805,,21202,False,False\n",
       "83,5901020A5FEEB021,2021/01/01 05:16:00+00,High,ED,DISCHRG FIREARM,P210010099,500 E 23RD ST,500 E 23RD ST BALTIMORE MD,East Baltimore Midway,Eastern,342,12,D5,Midway/Coldstream,Census Tract 908,,21218,True,False\n",
       "84,9C01020A5FEEB019,2021/01/01 05:16:00+00,Non-Emergency,ED,Business Check,P210010090,2500 E BIDDLE ST,2500 E BIDDLE ST BALTIMORE MD,Biddle Street,Eastern,323,13,D5,Clifton-Berea,Census Tract 803.01,Eastern2,21213,True,False\n",
       "85,9C01020A5FEEB029,2021/01/01 05:16:00+00,Non-Emergency,SW,DIRECTED PATROL,P210010092,1900 BLOOMINGDALE RD,1900 BLOOMINGDALE RD BALTIMORE MD,Walbrook,Southwestern,811,7,D9,Greater Rosemont,Census Tract 1506,,21216,True,False\n",
       "86,9C01020A5FEEB03C,2021/01/01 05:16:00+00,Non-Emergency,SD,Business Check,P210010094,6400 FORT SMALLWOOD RD,6400 FORT SMALLWOOD RD BALTIMORE MD,Hawkins Point,Southern,911,10,D7,Brooklyn/Curtis Bay/Hawkins Point,Census Tract 2505,,21226,True,False\n",
       "87,9C01020A5FEEB044,2021/01/01 05:16:00+00,Non-Emergency,NW,Business Check,P210010095,2600 GWYNNS FALLS PY,2600 GWYNNS FALLS PY BALTIMORE MD,Burleith-Leighton,Northwestern,611,7,D9,Greater Mondawmin,Census Tract 1505,,21216,True,False\n",
       "88,5501020A5FEEB01E,2021/01/01 05:16:00+00,Medium,CD,BEHAVIOR CRISIS,P210010107,1500 PARK AV,1500 PARK AV BALTIMORE MD,Bolton Hill,Central,132,11,D8,Midtown,Census Tract 1401,,21217,True,False\n",
       "89,6301020A5FEEB030,2021/01/01 05:16:00+00,Medium,SD,SILENT ALARM,P210010100,0 S POPPLETON ST,0 S POPPLETON ST BALTIMORE MD,Hollins Market,Southern,931,9,D8,Poppleton/The Terraces/Hollins Market,Census Tract 1803,,21223,True,False\n",
       "90,5601020A5FEEB073,2021/01/01 05:16:59+00,Medium,NE,DISORDERLY,P210010103,E NORTHERN PY/LAURELTON AV,E NORTHERN PY and LAURELTON AV BALTIMORE MD,Hamilton Hills,Northeastern,423,3,D3,Harford/Echodale,Census Tract 2707.02,,21214,True,False\n",
       "91,9C01020A5FEEB051,2021/01/01 05:16:59+00,High,NW,AUTO ACC/INJURY,P210010097,GARRISON BL/FAIRVIEW AV,GARRISON BL and FAIRVIEW AV BALTIMORE MD,Forest Park,Northwestern,642,6,D9,Forest Park/Walbrook,Census Tract 1508,,21216,True,False\n",
       "92,5C01020A5FEEB04F,2021/01/01 05:16:59+00,Medium,NW,DISORDERLY,P210010101,2900 TERRY DR,2900 TERRY DR BALTIMORE MD,Cheswolde,Northwestern,632,5,D1,Cross-Country/Cheswolde,Census Tract 2720.04,,21209,True,False\n",
       "93,5C01020A5FEEB098,2021/01/01 05:18:00+00,High,NE,DISCHRG FIREARM,P210010108,3200 BLK ELMLEY AV,3200 BLK ELMLEY AV BALTIMORE MD,Belair-Edison,Northeastern,434,13,D5,Belair-Edison,Census Tract 801.02,,21213,True,False\n",
       "94,9C01020A5FEEB0A6,2021/01/01 05:18:00+00,High,CD,ShotSpot Alert,P210010102,1300 ARGYLE AV,1300 ARGYLE AV BALTIMORE MD,Upton,Central,123,11,D8,Upton/Druid Heights,Census Tract 1703,Central,21217,True,False\n",
       "95,9C01020A5FEEB0B0,2021/01/01 05:18:00+00,Non-Emergency,ED,Business Check,P210010104,3000 E BIDDLE ST,3000 E BIDDLE ST BALTIMORE MD,Berea,Eastern,332,13,D5,Clifton-Berea,Census Tract 803.02,,21213,True,False\n",
       "96,5901020A5FEEB08F,2021/01/01 05:18:00+00,Low,TRU,AUTO ACCIDENT,P210010106,YORK RD/E COLD SPRING LN,YORK RD and E COLD SPRING LN BALTIMORE MD,Kernewood,Northern,521,4,D2,North Baltimore/Guilford/Homeland,Census Tract 2710.01,,21212,True,False\n",
       "97,5601020A5FEEB0B4,2021/01/01 05:18:00+00,Medium,SD,DISORDERLY,P210010110,W OSTEND ST/CARROLL ST,W OSTEND ST and CARROLL ST BALTIMORE MD,Washington Village/Pigtown,Southern,932,10,D7,Washington Village/Pigtown,Census Tract 2102,,21230,True,False\n",
       "98,5B01020A5FEEB09B,2021/01/01 05:18:00+00,Medium,NW,DWI,P210010112,W ROGERS AV/REISTERSTOWN RD,W ROGERS AV and REISTERSTOWN RD BALTIMORE MD,Woodmere,Northwestern,623,5,D1,Glen-Fallstaff,Census Tract 2801.01,,21215,True,False\n",
       "99,6301020A5FEEB0A7,2021/01/01 05:18:00+00,High,NW,DISCHRG FIREARM,P210010133,4800 BLK PIMLICO RD,4800 BLK PIMLICO RD BALTIMORE MD,Central Park Heights,Northwestern,614,6,D1,Southern Park Heights,Census Tract 2716,,21215,True,False\n",
       "100,5901020A5FEEB0D7,2021/01/01 05:19:00+00,High,NE,AGGRAV ASSAULT,P210010114,1900 WADSWORTH WY,1900 WADSWORTH WY BALTIMORE MD,Loch Raven,Northeastern,415,4,D3,Loch Raven,Census Tract 2708.03,,21239,True,False\n",
       "101,9C01020A5FEEB0D5,2021/01/01 05:19:00+00,Non-Emergency,CD,DIRECTED PATROL,P210010109,300 N EUTAW ST,300 N EUTAW ST BALTIMORE MD,Downtown,Central,111,11,D7,Downtown/Seton Hill,Census Tract 401,,21201,True,False\n",
       "102,9C01020A5FEEB0EA,2021/01/01 05:19:00+00,High,WD,ShotSpot Alert,P210010111,1700 LAURENS ST,1700 LAURENS ST BALTIMORE MD,Sandtown-Winchester,Western,743,7,D8,Sandtown-Winchester/Harlem Park,Census Tract 1502,,21217,True,False\n",
       "103,5401020A5FEEB0D1,2021/01/01 05:19:00+00,Medium,SE,FAMILY DISTURB,P210010120,600 RAPPOLLA ST,600 RAPPOLLA ST BALTIMORE MD,Greektown,Southeastern,242,1,D6,Orangeville/East Highlandtown,Census Tract 2605.01,,21224,False,False\n",
       "104,5C01020A5FEEB10A,2021/01/01 05:19:59+00,Low,CD,SUSPICIOUS PERS,P210010122,1500 DRUID HILL AV,1500 DRUID HILL AV BALTIMORE MD,Upton,Central,123,11,D8,Upton/Druid Heights,Census Tract 1402,Central,21217,True,False\n",
       "105,9C01020A5FEEB11D,2021/01/01 05:19:59+00,Non-Emergency,ED,Business Check,P210010113,3000 E PRESTON ST,3000 E PRESTON ST BALTIMORE MD,Berea,Eastern,332,13,D5,Clifton-Berea,Census Tract 803.02,,21213,True,False\n",
       "106,9C01020A5FEEB135,2021/01/01 05:19:59+00,Non-Emergency,ED,Business Check,P210010115,2800 E PRESTON ST,2800 E PRESTON ST BALTIMORE MD,Berea,Eastern,332,13,D5,Clifton-Berea,Census Tract 803.02,,21213,True,False\n",
       "107,5601020A5FEEB12E,2021/01/01 05:19:59+00,Medium,SD,DISORDERLY,P210010123,W OSTEND ST/CARROLL ST,W OSTEND ST and CARROLL ST BALTIMORE MD,Washington Village/Pigtown,Southern,932,10,D7,Washington Village/Pigtown,Census Tract 2102,,21230,True,False\n",
       "108,5B01020A5FEEB142,2021/01/01 05:21:00+00,Low,SD,DISABLE CAR,P210010156,NB MD 300 N AT WATERVIEW AV,NB MD 300 N AT WATERVIEW AV BALTIMORE MD,Westport,Southern,921,10,D7,Westport/Mount Winans/Lakeland,Census Tract 2503.01,,21230,True,False\n",
       "109,5501020A5FEEB13C,2021/01/01 05:21:00+00,Medium,SD,SILENT ALARM,P210010131,0 S POPPLETON ST,0 S POPPLETON ST BALTIMORE MD,Hollins Market,Southern,931,9,D8,Poppleton/The Terraces/Hollins Market,Census Tract 1803,,21223,True,False\n",
       "110,9C01020A5FEEB14D,2021/01/01 05:21:00+00,Non-Emergency,ED,Business Check,P210010117,1300 N LUZERNE AV,1300 N LUZERNE AV BALTIMORE MD,Berea,Eastern,332,13,D5,Clifton-Berea,Census Tract 803.01,,21213,True,False\n",
       "111,9C01020A5FEEB165,2021/01/01 05:21:00+00,High,CD,ShotSpot Alert,P210010118,500 ISLAMIC WY,500 ISLAMIC WY BALTIMORE MD,Upton,Central,123,11,D8,Upton/Druid Heights,Census Tract 1402,Central,21217,True,False\n",
       "\n",
       "*** WARNING: skipped 15734 bytes of output ***\n",
       "\n",
       "182,9C01020A5FEEB61E,2021/01/01 05:41:00+00,High,SD,FIRE,P210010199,1600 PLUM ST,1600 PLUM ST BALTIMORE MD,Curtis Bay,Southern,911,10,D7,Brooklyn/Curtis Bay/Hawkins Point,Census Tract 2505,,21226,True,False\n",
       "183,5901020A5FEEB5F3,2021/01/01 05:41:00+00,Low,ED,911/NO  VOICE,P210010198,3800 PULASKI HY,3800 PULASKI HY BALTIMORE MD,Orangeville,Eastern,333,2,D6,Orangeville/East Highlandtown,Census Tract 2604.04,,21224,True,False\n",
       "184,2701020A5FEEB5EF,2021/01/01 05:41:00+00,Non-Emergency,CD,TOWED VEHICLE,P210010201,MADISON AV/N MARTIN LUTHER KING JR BL,MADISON AV and N MARTIN LUTHER KING JR BL BALTIMORE MD,Madison Park,Central,132,11,D8,Upton/Druid Heights,Census Tract 1702,,21201,False,False\n",
       "185,6301020A5FEEB5EC,2021/01/01 05:41:00+00,Medium,WD,SEE TEXT,P210010220,0 N BENTALOU ST,0 N BENTALOU ST BALTIMORE MD,Penrose/Fayette Street Outreach,Western,714,9,D8,Southwest Baltimore,Census Tract 2002,,21223,True,False\n",
       "186,5701020A5FEEB62C,2021/01/01 05:42:00+00,Medium,SE,DISORDERLY,P210010212,N JANNEY ST/E FAIRMOUNT AV,N JANNEY ST and E FAIRMOUNT AV BALTIMORE MD,Kresson,Southeastern,241,2,D6,Orangeville/East Highlandtown,Census Tract 2604.04,,21224,True,False\n",
       "187,5A01020A5FEEB63D,2021/01/01 05:42:00+00,Medium,ND,DISORDERLY,P210010204,600 PARKWYRTH AV,600 PARKWYRTH AV BALTIMORE MD,Waverly,Northern,543,4,D2,Greater Govans,Census Tract 901,,21218,True,False\n",
       "188,9C01020A5FEEB641,2021/01/01 05:42:00+00,Non-Emergency,ND,Business Check,P210010202,4400 FALLS RD,4400 FALLS RD BALTIMORE MD,Medfield,Northern,541,7,D2,Medfield/Hampden/Woodberry/Remington,Census Tract 1308.03,,21211,True,False\n",
       "189,9C01020A5FEEB64E,2021/01/01 05:42:00+00,Non-Emergency,NW,Business Check,P210010203,3400 CARLINS PARK DR,3400 CARLINS PARK DR BALTIMORE MD,Park Circle,Northwestern,612,7,D1,Greater Mondawmin,Census Tract 1505,,21215,True,False\n",
       "190,9C01020A5FEEB694,2021/01/01 05:42:59+00,High,WD,DISCHRG FIREARM,P210010206,2100 PENNSYLVANIA AV,2100 PENNSYLVANIA AV BALTIMORE MD,Sandtown-Winchester,Western,742,7,D8,Sandtown-Winchester/Harlem Park,Census Tract 1501,Western,21217,True,False\n",
       "191,13CC9DA95FEEB67E,2021/01/01 05:42:59+00,Low,NE,AUTO ACCIDENT,P210010214,1500 E 29TH ST,1500 E 29TH ST BALTIMORE MD,Coldstream Homestead Montebello,Northeastern,411,14,D5,Midway/Coldstream,Census Tract 907,,21218,False,False\n",
       "192,5B01020A5FEEB67E,2021/01/01 05:42:59+00,Medium,ND,DISORDERLY,P210010209,5900 CHINQUAPIN PY,5900 CHINQUAPIN PY BALTIMORE MD,Glen Oaks,Northern,522,4,D3,Loch Raven,Census Tract 2708.02,,21239,True,False\n",
       "193,5501020A5FEEB672,2021/01/01 05:42:59+00,Medium,WD,FAMILY DISTURB,P210010208,2400 WOODBROOK AV,2400 WOODBROOK AV BALTIMORE MD,Penn North,Western,733,7,D2,Penn North/Reservoir Hill,Census Tract 1303,Western,21217,True,False\n",
       "194,5601020A5FEEB6D3,2021/01/01 05:44:00+00,Non-Emergency,SE,LOUD MUSIC,P210010218,300 GUSRYAN ST,300 GUSRYAN ST BALTIMORE MD,Bayview,Southeastern,241,1,D6,Orangeville/East Highlandtown,Census Tract 2605.01,,21224,True,False\n",
       "195,29CC9DA95FEEB6C3,2021/01/01 05:44:00+00,Medium,CD,DISORDERLY,P210010211,DOLPHIN ST/PENNSYLVANIA AV,DOLPHIN ST and PENNSYLVANIA AV BALTIMORE MD,Upton,Central,123,11,D8,Upton/Druid Heights,Census Tract 1703,Central,21201,False,False\n",
       "196,9C01020A5FEEB6A0,2021/01/01 05:44:00+00,Non-Emergency,ND,Business Check,P210010207,1100 W 41ST ST,1100 W 41ST ST BALTIMORE MD,Hampden,Northern,531,14,D2,Medfield/Hampden/Woodberry/Remington,Census Tract 1307,,21211,True,False\n",
       "197,9C01020A5FEEB6EE,2021/01/01 05:45:00+00,Non-Emergency,CD,HANDGUN VIOLATIO,P210010210,SHAKE AND BAKE FAMILY FUN CENTER,SHAKE AND BAKE FAMILY FUN CENTER BALTIMORE MD,Upton,Central,123,11,D8,Upton/Druid Heights,Census Tract 1402,Central,21217,True,False\n",
       "198,9C01020A5FEEB703,2021/01/01 05:45:00+00,High,ED,ShotSpot Alert,P210010213,1200 E MONUMENT ST,1200 E MONUMENT ST BALTIMORE MD,Oldtown,Eastern,312,12,D5,Oldtown/Middle East,Census Tract 1002,,21202,True,False\n",
       "199,9C01020A5FEEB70F,2021/01/01 05:45:00+00,High,WD,ShotSpot Alert,P210010215,2100 PRESSTMAN ST,2100 PRESSTMAN ST BALTIMORE MD,Easterwood,Western,741,7,D9,Greater Rosemont,Census Tract 1503,,21217,True,False\n",
       "200,9C01020A5FEEB710,2021/01/01 05:45:00+00,Non-Emergency,SE,Business Check,P210010216,3100 PULASKI HY,3100 PULASKI HY BALTIMORE MD,Ellwood Park/Monument,Southeastern,224,13,D5,Patterson Park North &amp; East,Census Tract 601,,21224,True,False\n",
       "201,29CC9DA95FEEB6F8,2021/01/01 05:45:00+00,Non-Emergency,ND,LOUD MUSIC,P210010217,1000 UPNOR RD,1000 UPNOR RD BALTIMORE MD,Cameron Village,Northern,523,4,D2,Chinquapin Park/Belvedere,Census Tract 2708.05,,21212,False,False\n",
       "202,5F01020A5FEEB700,2021/01/01 05:45:00+00,Low,CD,911/NO  VOICE,P210010242,600 E FAYETTE ST,600 E FAYETTE ST BALTIMORE MD,Downtown,Central,111,11,D7,Downtown/Seton Hill,Census Tract 401,,21202,True,False\n",
       "203,5701020A5FEEB740,2021/01/01 05:45:59+00,Medium,ND,DISORDERLY,P210010224,700 BELGIAN ST,700 BELGIAN ST BALTIMORE MD,Pen Lucy,Northern,542,4,D2,Greater Govans,Census Tract 2710.01,,21218,True,False\n",
       "204,9C01020A5FEEB73A,2021/01/01 05:45:59+00,Non-Emergency,SD,Business Check,P210010219,2100 W PATAPSCO AV,2100 W PATAPSCO AV BALTIMORE MD,Lakeland,Southern,923,10,D7,Westport/Mount Winans/Lakeland,Census Tract 2502.05,,21230,True,False\n",
       "205,9C01020A5FEEB74F,2021/01/01 05:45:59+00,Medium,SD,NARCOTICS,P210010221,3600 S HANOVER ST,3600 S HANOVER ST BALTIMORE MD,Brooklyn,Southern,913,10,D7,Brooklyn/Curtis Bay/Hawkins Point,Census Tract 2504.01,,21225,True,False\n",
       "206,5901020A5FEEB73B,2021/01/01 05:45:59+00,Medium,SD,DISORDERLY,P210010222,100 W FORT AV,100 W FORT AV BALTIMORE MD,South Baltimore,Southern,942,11,D7,Inner Harbor/Federal Hill,Census Tract 2302,,21230,True,False\n",
       "207,5401020A5FEEB722,2021/01/01 05:45:59+00,High,CD,ARMED PERSON,P210010227,200 E PRATT ST,200 E PRATT ST BALTIMORE MD,Inner Harbor,Central,112,11,D7,Downtown/Seton Hill,Census Tract 401,,21202,False,False\n",
       "208,9C01020A5FEEB774,2021/01/01 05:47:00+00,High,ED,ShotSpot Alert,P210010223,1600 E EAGER ST,1600 E EAGER ST BALTIMORE MD,Gay Street,Eastern,313,12,D5,Oldtown/Middle East,Census Tract 704,,21205,True,False\n",
       "209,5601020A5FEEB78D,2021/01/01 05:47:00+00,Low,SE,911/NO  VOICE,P210010229,3400 E BALTIMORE ST,3400 E BALTIMORE ST BALTIMORE MD,Baltimore Highlands,Southeastern,223,1,D6,Orangeville/East Highlandtown,Census Tract 2604.04,,21224,True,False\n",
       "210,5501020A5FEEB755,2021/01/01 05:47:00+00,Low,SE,911/NO  VOICE,P210010231,2200 BOSTON ST,2200 BOSTON ST BALTIMORE MD,Canton,Southeastern,232,1,D6,Canton,Census Tract 104,,21231,True,False\n",
       "211,6401020A5FEEB79C,2021/01/01 05:48:00+00,Medium,NW,DISORDERLY,P210010230,5400 BLK DENMORE AV,5400 BLK DENMORE AV BALTIMORE MD,Arlington,Northwestern,633,5,D1,Pimlico/Arlington/Hilltop,Census Tract 2718.01,,21215,True,False\n",
       "212,9C01020A5FEEB79D,2021/01/01 05:48:00+00,Non-Emergency,SD,Foot  Patrol,P210010225,300 BLK WARREN AV,300 BLK WARREN AV BALTIMORE MD,Federal Hill,Southern,942,11,D7,Inner Harbor/Federal Hill,Census Tract 2201,,21230,True,False\n",
       "213,9C01020A5FEEB7AA,2021/01/01 05:48:00+00,Non-Emergency,SD,Business Check,P210010226,2200 W PATAPSCO AV,2200 W PATAPSCO AV BALTIMORE MD,Lakeland,Southern,923,10,D7,Westport/Mount Winans/Lakeland,Census Tract 2502.05,,21230,True,False\n",
       "214,9C01020A5FEEB7BE,2021/01/01 05:48:00+00,Non-Emergency,NE,Business Check,P210010228,1700 E NORTHERN PY,1700 E NORTHERN PY BALTIMORE MD,Loch Raven,Northeastern,415,4,D3,Loch Raven,Census Tract 2708.03,,21239,True,False\n",
       "215,13CC9DA95FEEB79C,2021/01/01 05:48:00+00,Medium,SE,DISORDERLY,P210010234,300 FALLSWAY,300 FALLSWAY BALTIMORE MD,Jonestown,Southeastern,211,12,D7,Oldtown/Middle East,Census Tract 2805,,21202,False,False\n",
       "216,9C01020A5FEEB7F9,2021/01/01 05:48:59+00,Non-Emergency,SW,DIRECTED PATROL,P210010232,3900 FREDERICK AV,3900 FREDERICK AV BALTIMORE MD,Irvington,Southwestern,843,8,D10,Allendale/Irvington/S. Hilton,Census Tract 2008,,21229,True,False\n",
       "217,5901020A5FEEB7E0,2021/01/01 05:48:59+00,Low,NE,911/NO  VOICE,P210010233,3500 HILLEN RD,3500 HILLEN RD BALTIMORE MD,Ednor Gardens-Lakeside,Northeastern,412,14,D4,Northwood,Census Tract 902,,21218,True,False\n",
       "218,9C01020A5FEEB825,2021/01/01 05:50:00+00,Non-Emergency,SE,Business Check,P210010236,2200 BOSTON ST,2200 BOSTON ST BALTIMORE MD,Canton,Southeastern,232,1,D6,Canton,Census Tract 104,,21231,True,False\n",
       "219,6401020A5FEEB838,2021/01/01 05:50:00+00,Medium,SE,FAMILY DISTURB,P210010238,400 N GLOVER ST,400 N GLOVER ST BALTIMORE MD,McElderry Park,Southeastern,221,13,D5,Patterson Park North &amp; East,Census Tract 602,,21224,True,False\n",
       "220,5501020A5FEEB84C,2021/01/01 05:51:00+00,Medium,WD,DISORDERLY,P210010240,1600 MORELAND AV,1600 MORELAND AV BALTIMORE MD,Coppin Heights/Ash-Co-East,Western,723,7,D9,Greater Rosemont,Census Tract 1503,Western,21216,True,False\n",
       "221,9C01020A5FEEB860,2021/01/01 05:51:00+00,Non-Emergency,SD,Business Check,P210010237,2200 W PATAPSCO AV,2200 W PATAPSCO AV BALTIMORE MD,Lakeland,Southern,923,10,D7,Westport/Mount Winans/Lakeland,Census Tract 2502.05,,21230,True,False\n",
       "222,9C01020A5FEEB89E,2021/01/01 05:51:59+00,Non-Emergency,SW,Business Check,P210010239,5000 FREDERICK AV,5000 FREDERICK AV BALTIMORE MD,Ten Hills,Southwestern,823,8,D10,Beechfield/Ten Hills/West Hills,Census Tract 2804.03,,21229,True,False\n",
       "223,9C01020A5FEEB8EE,2021/01/01 05:52:59+00,Non-Emergency,SW,DIRECTED PATROL,P210010241,WILKENS AV/S SMALLWOOD ST,WILKENS AV and S SMALLWOOD ST BALTIMORE MD,Carrollton Ridge,Southwestern,841,9,D8,Southwest Baltimore,Census Tract 2005,Tri-District,21223,True,False\n",
       "224,5601020A5FEEB8CC,2021/01/01 05:52:59+00,Medium,SE,NARCOTICS,P210010243,1400 E FAYETTE ST,1400 E FAYETTE ST BALTIMORE MD,Washington Hill,Southeastern,212,12,D7,Harbor East/Little Italy,Census Tract 301,,21231,True,False\n",
       "225,29CC9DA95FEEB920,2021/01/01 05:54:00+00,Medium,ND,DISORDERLY,P210010254,ST PAUL ST/E 0TH ST,ST PAUL ST and E 0TH ST BALTIMORE MD,Charles Village,Northern,512,12,D2,Greater Charles Village/Barclay,Census Tract 1203,,21218,False,False\n",
       "226,5501020A5FEEB926,2021/01/01 05:54:00+00,Medium,NE,SILENT ALARM,P210010248,6200 BELAIR RD,6200 BELAIR RD BALTIMORE MD,Glenham-Belhar,Northeastern,425,2,D4,Hamilton,Census Tract 2704.01,,21206,True,False\n",
       "227,6301020A5FEEB902,2021/01/01 05:54:00+00,High,SE,COMMON ASSAULT,P210010253,6500 DETROIT AV,6500 DETROIT AV BALTIMORE MD,Saint Helena,Southeastern,243,1,D7,Southeastern,Census Tract 2606.05,,21222,True,False\n",
       "228,9C01020A5FEEB92A,2021/01/01 05:54:00+00,High,CD,ShotSpot Alert,P210010244,500 W LAFAYETTE AV,500 W LAFAYETTE AV BALTIMORE MD,Upton,Central,123,11,D8,Upton/Druid Heights,Census Tract 1402,Central,21217,True,False\n",
       "229,13CC9DA95FEEB939,2021/01/01 05:54:00+00,Medium,SE,DISORDERLY,P210010247,300 KANE ST,300 KANE ST BALTIMORE MD,Bayview,Southeastern,241,1,D6,Orangeville/East Highlandtown,Census Tract 2605.01,,21224,False,False\n",
       "230,9C01020A5FEEB957,2021/01/01 05:55:00+00,Non-Emergency,SD,Business Check,P210010246,2700 W PATAPSCO AV,2700 W PATAPSCO AV BALTIMORE MD,Lakeland,Southern,923,10,D7,Westport/Mount Winans/Lakeland,Census Tract 2502.05,,21230,True,False\n",
       "231,5701020A5FEEB938,2021/01/01 05:55:00+00,Low,WD,OTHER,P210010252,2700 W NORTH AV,2700 W NORTH AV BALTIMORE MD,Mondawmin,Western,731,7,D9,Greater Rosemont,Census Tract 1506,,21216,True,False\n",
       "232,5F01020A5FEEB937,2021/01/01 05:55:00+00,Low,CD,OTHER,P210010256,600 E FAYETTE ST,600 E FAYETTE ST BALTIMORE MD,Downtown,Central,111,11,D7,Downtown/Seton Hill,Census Tract 401,,21202,True,False\n",
       "233,5601020A5FEEB9A0,2021/01/01 05:55:59+00,Medium,SE,COMMON ASSAULT,P210010262,3400-BLK E BALTIMORE ST,3400-BLK E BALTIMORE ST BALTIMORE MD,Baltimore Highlands,Southeastern,223,1,D6,Orangeville/East Highlandtown,Census Tract 2604.04,,21224,True,False\n",
       "234,9C01020A5FEEB998,2021/01/01 05:55:59+00,Non-Emergency,SW,Foot  Patrol,P210010249,3100 W NORTH AV,3100 W NORTH AV BALTIMORE MD,Walbrook,Southwestern,811,7,D9,Greater Rosemont,Census Tract 1506,,21216,True,False\n",
       "235,9C01020A5FEEB99A,2021/01/01 05:55:59+00,Non-Emergency,SW,Business Check,P210010250,4100 FREDERICK AV,4100 FREDERICK AV BALTIMORE MD,Irvington,Southwestern,833,8,D10,Allendale/Irvington/S. Hilton,Census Tract 2008,,21229,True,False\n",
       "236,9C01020A5FEEB99F,2021/01/01 05:55:59+00,Non-Emergency,SW,Foot  Patrol,P210010251,N WOODINGTON RD/CRANSTON AV,N WOODINGTON RD and CRANSTON AV BALTIMORE MD,Edmondson Village,Southwestern,844,8,D10,Edmondson Village,Census Tract 1608.01,,21229,True,False\n",
       "237,9C01020A5FEEB9CC,2021/01/01 05:57:00+00,Non-Emergency,ND,Business Check,P210010255,4500 FALLS RD,4500 FALLS RD BALTIMORE MD,Roland Park,Northern,541,6,D2,Greater Roland Park/Poplar Hill,Census Tract 2714,,21209,True,False\n",
       "238,9C01020A5FEEB9F8,2021/01/01 05:58:00+00,Non-Emergency,SW,DIRECTED PATROL,P210010257,HOLLINS ST/S WARWICK AV,HOLLINS ST and S WARWICK AV BALTIMORE MD,Shipley Hill,Southwestern,842,9,D8,Southwest Baltimore,Census Tract 2004,Tri-District,21223,True,False\n",
       "239,9C01020A5FEEB9FF,2021/01/01 05:58:00+00,Non-Emergency,SW,DIRECTED PATROL,P210010258,600 COOKS LN,600 COOKS LN BALTIMORE MD,Hunting Ridge,Southwestern,822,8,D10,Beechfield/Ten Hills/West Hills,Census Tract 2804.01,,21229,True,False\n",
       "240,9C01020A5FEEBA18,2021/01/01 05:58:00+00,Non-Emergency,SW,Business Check,P210010259,4200 FREDERICK AV,4200 FREDERICK AV BALTIMORE MD,Irvington,Southwestern,833,8,D10,Allendale/Irvington/S. Hilton,Census Tract 2501.02,,21229,True,False\n",
       "241,9C01020A5FEEBA1D,2021/01/01 05:58:00+00,Non-Emergency,NW,Business Check,P210010260,6600 REISTERSTOWN RD,6600 REISTERSTOWN RD BALTIMORE MD,Reisterstown Station,Northwestern,631,5,D1,Glen-Fallstaff,Census Tract 2801.01,,21215,True,False\n",
       "242,5501020A5FEEBA17,2021/01/01 05:58:00+00,Low,WD,INVESTIGATE,P210010265,2700 W NORTH AV,2700 W NORTH AV BALTIMORE MD,Mondawmin,Western,731,7,D9,Greater Rosemont,Census Tract 1506,,21216,True,False\n",
       "243,5701020A5FEEBA05,2021/01/01 05:58:00+00,Low,NE,INTOXICATED PERS,P210010261,4300 1/2 ORCHARD RIDGE BL,4300 1 and 2 ORCHARD RIDGE BL BALTIMORE MD,Orchard Ridge,Northeastern,433,13,D6,Claremont/Armistead,Census Tract 2603.03,,21213,True,False\n",
       "244,6301020A5FEEBA20,2021/01/01 05:58:00+00,High,SD,COMMON ASSAULT,P210010266,2000 RAMSAY ST,2000 RAMSAY ST BALTIMORE MD,Carrollton Ridge,Southern,934,9,D8,Southwest Baltimore,Census Tract 2003,Tri-District,21223,True,False\n",
       "245,5F01020A5FEEBA44,2021/01/01 05:58:59+00,Medium,CD,BURGLARY,P210010271,2500 BROOKFIELD AV,2500 BROOKFIELD AV BALTIMORE MD,Reservoir Hill,Central,133,7,D2,Penn North/Reservoir Hill,Census Tract 1301,,21217,True,False\n",
       "246,9C01020A5FEEBA8A,2021/01/01 06:00:00+00,Non-Emergency,SW,DIRECTED PATROL,P210010263,4900 WESTHILLS RD,4900 WESTHILLS RD BALTIMORE MD,West Hills,Southwestern,823,8,D10,Beechfield/Ten Hills/West Hills,Census Tract 2804.01,,21229,True,False\n",
       "247,9C01020A5FEEBA8B,2021/01/01 06:00:00+00,Non-Emergency,ED,Personal Relief,P210010264,EASTERN DISTRICT,EASTERN DISTRICT BALTIMORE MD,Berea,Eastern,332,13,D5,Clifton-Berea,Census Tract 802,,21213,True,False\n",
       "248,5601020A5FEEBA9E,2021/01/01 06:01:00+00,High,NW,COMMON ASSAULT,P210010270,3200 FERNDALE AV,3200 FERNDALE AV BALTIMORE MD,Howard Park,Northwestern,622,8,D9,Howard Park/West Arlington,Census Tract 2802,,21207,True,False\n",
       "249,5701020A5FEEBAC6,2021/01/01 06:01:00+00,Medium,SD,DISORDERLY,P210010273,2400 DORTON CT,2400 DORTON CT BALTIMORE MD,Westport,Southern,921,10,D7,Westport/Mount Winans/Lakeland,Census Tract 2503.01,,21230,True,False\n",
       "250,6301020A5FEEBAF6,2021/01/01 06:01:59+00,Medium,ND,DISORDERLY,P210010274,1100 HOMESTEAD ST,1100 HOMESTEAD ST BALTIMORE MD,Better Waverly,Northern,513,14,D5,The Waverlies,Census Tract 905,,21218,True,False\n",
       "251,6401020A5FEEBAF4,2021/01/01 06:01:59+00,Low,SW,911/NO  VOICE,P210010272,400 RANDOM RD,400 RANDOM RD BALTIMORE MD,Beechfield,Southwestern,833,8,D10,Beechfield/Ten Hills/West Hills,Census Tract 2501.01,,21229,True,False\n",
       "252,9C01020A5FEEBAD9,2021/01/01 06:01:59+00,Non-Emergency,SW,Business Check,P210010267,3400 CLIFTON AV,3400 CLIFTON AV BALTIMORE MD,Mount Holly,Southwestern,812,7,D9,Greater Rosemont,Census Tract 1506,,21216,True,False\n",
       "253,9C01020A5FEEBAE1,2021/01/01 06:01:59+00,Non-Emergency,SW,Business Check,P210010268,3400 CLIFTON AV,3400 CLIFTON AV BALTIMORE MD,Mount Holly,Southwestern,812,7,D9,Forest Park/Walbrook,Census Tract 1508,,21216,True,False\n",
       "254,9C01020A5FEEBAFA,2021/01/01 06:01:59+00,High,SD,ShotSpot Alert,P210010269,1100 CARROLL ST,1100 CARROLL ST BALTIMORE MD,Washington Village/Pigtown,Southern,932,10,D7,Washington Village/Pigtown,Census Tract 2102,,21230,True,False\n",
       "255,5501020A5FEEBB21,2021/01/01 06:03:00+00,Medium,SD,DISORDERLY,P210010276,2400 DORTON CT,2400 DORTON CT BALTIMORE MD,Westport,Southern,921,10,D7,Westport/Mount Winans/Lakeland,Census Tract 2503.01,,21230,True,False\n",
       "256,5601020A5FEEBB5E,2021/01/01 06:04:00+00,Low,WD,911/NO  VOICE,P210010280,2700 W NORTH AV,2700 W NORTH AV BALTIMORE MD,Mondawmin,Western,731,7,D9,Greater Rosemont,Census Tract 1506,,21216,True,False\n",
       "257,9C01020A5FEEBB80,2021/01/01 06:04:00+00,Non-Emergency,NW,Business Check,P210010275,4000 W NORTHERN PY,4000 W NORTHERN PY BALTIMORE MD,Woodmere,Northwestern,623,5,D1,Glen-Fallstaff,Census Tract 2719,,21215,True,False\n",
       "258,9C01020A5FEEBBB3,2021/01/01 06:04:59+00,Non-Emergency,WD,DIRECTED PATROL,P210010277,1600 MORELAND AV,1600 MORELAND AV BALTIMORE MD,Coppin Heights/Ash-Co-East,Western,723,7,D9,Greater Rosemont,Census Tract 1503,,21216,True,False\n",
       "259,9C01020A5FEEBBBC,2021/01/01 06:04:59+00,Non-Emergency,SW,Business Check,P210010278,5200 WINDSOR MILL RD,5200 WINDSOR MILL RD BALTIMORE MD,Franklintown,Southwestern,821,8,D9,Dickeyville/Franklintown,Census Tract 2803.01,,21207,True,False\n",
       "260,5401020A5FEEBBBD,2021/01/01 06:04:59+00,Medium,ND,FAMILY DISTURB,P210010286,4900 YORK RD,4900 YORK RD BALTIMORE MD,Winston-Govans,Northern,524,4,D2,Greater Govans,Census Tract 2710.02,,21212,False,False\n",
       "261,5501020A5FEEBBC7,2021/01/01 06:04:59+00,Non-Emergency,ND,LOUD MUSIC,P210010292,1000 WOODSON RD,1000 WOODSON RD BALTIMORE MD,Lake Walker,Northern,522,4,D2,Chinquapin Park/Belvedere,Census Tract 2708.04,,21212,True,False\n",
       "262,5701020A5FEEBBA7,2021/01/01 06:04:59+00,Medium,SD,DISORDERLY,P210010282,2400 DORTON CT,2400 DORTON CT BALTIMORE MD,Westport,Southern,921,10,D7,Westport/Mount Winans/Lakeland,Census Tract 2503.01,,21230,True,False\n",
       "263,6401020A5FEEBBCB,2021/01/01 06:06:00+00,Medium,SD,CHECK WELL BEING,P210010287,W PRATT ST/S CAREY ST,W PRATT ST and S CAREY ST BALTIMORE MD,Union Square,Southern,933,9,D7,Southwest Baltimore,Census Tract 2102,Tri-District,21223,True,False\n",
       "264,9C01020A5FEEBBD0,2021/01/01 06:06:00+00,Non-Emergency,SW,Traffic Stop,P210010279,2400 FREDERICK AV,2400 FREDERICK AV BALTIMORE MD,Shipley Hill,Southwestern,842,9,D8,Southwest Baltimore,Census Tract 2004,Tri-District,21223,True,False\n",
       "265,9C01020A5FEEBBEA,2021/01/01 06:06:00+00,Non-Emergency,NW,Business Check,P210010281,3300 CARLINS PARK DR,3300 CARLINS PARK DR BALTIMORE MD,Park Circle,Northwestern,612,7,D1,Greater Mondawmin,Census Tract 1505,,21215,True,False\n",
       "266,9C01020A5FEEBC0D,2021/01/01 06:07:00+00,Non-Emergency,WD,Business Check,P210010284,1300 PRESSTMAN ST,1300 PRESSTMAN ST BALTIMORE MD,Sandtown-Winchester,Western,743,7,D8,Sandtown-Winchester/Harlem Park,Census Tract 1501,,21217,True,False\n",
       "267,9C01020A5FEEBC11,2021/01/01 06:07:00+00,Non-Emergency,NW,Business Check,P210010285,4000 W NORTHERN PY,4000 W NORTHERN PY BALTIMORE MD,Glen,Northwestern,632,5,D1,Glen-Fallstaff,Census Tract 2719,,21215,True,False\n",
       "268,5901020A5FEEBC3C,2021/01/01 06:07:00+00,Low,ED,911/NO  VOICE,P210010288,3800 PULASKI HY,3800 PULASKI HY BALTIMORE MD,Orangeville,Eastern,333,2,D6,Orangeville/East Highlandtown,Census Tract 2604.04,,21224,True,False\n",
       "269,9C01020A5FEEBC52,2021/01/01 06:08:00+00,Non-Emergency,ND,Business Check,P210010289,900 W 36TH ST,900 W 36TH ST BALTIMORE MD,Hampden,Northern,531,14,D2,Medfield/Hampden/Woodberry/Remington,Census Tract 1306,,21211,True,False\n",
       "270,9C01020A5FEEBC5A,2021/01/01 06:08:00+00,Non-Emergency,WD,DIRECTED PATROL,P210010290,600 N MONROE ST,600 N MONROE ST BALTIMORE MD,Midtown-Edmondson,Western,722,9,D8,Sandtown-Winchester/Harlem Park,Census Tract 1604,,21223,True,False\n",
       "271,9C01020A5FEEBC62,2021/01/01 06:08:00+00,Non-Emergency,ND,Business Check,P210010291,3600 FALLS RD,3600 FALLS RD BALTIMORE MD,Hampden,Northern,531,7,D2,Medfield/Hampden/Woodberry/Remington,Census Tract 1306,,21211,True,False\n",
       "272,6301020A5FEEBC57,2021/01/01 06:08:00+00,Medium,SE,DISORDERLY,P210010297,500 N BOULDIN ST,500 N BOULDIN ST BALTIMORE MD,Ellwood Park/Monument,Southeastern,224,13,D6,Patterson Park North &amp; East,Census Tract 2610,,21205,True,False\n",
       "273,5701020A5FEEBC7D,2021/01/01 06:08:59+00,Medium,SE,DISORDERLY,P210010298,1000 ALICEANNA ST,1000 ALICEANNA ST BALTIMORE MD,Inner Harbor,Southeastern,211,1,D7,Harbor East/Little Italy,Census Tract 302,,21202,True,False\n",
       "274,6401020A5FEEBC86,2021/01/01 06:08:59+00,Medium,SW,DISORDERLY,P210010306,300 N WARWICK AV,300 N WARWICK AV BALTIMORE MD,Penrose/Fayette Street Outreach,Southwestern,842,9,D8,Southwest Baltimore,Census Tract 2002,,21223,True,False\n",
       "275,9C01020A5FEEBC90,2021/01/01 06:08:59+00,High,WD,ShotSpot Alert,P210010293,600 N FRANKLINTOWN RD,600 N FRANKLINTOWN RD BALTIMORE MD,Mosher,Western,721,9,D8,Greater Rosemont,Census Tract 1606,,21216,True,False\n",
       "276,9C01020A5FEEBCB5,2021/01/01 06:08:59+00,Non-Emergency,WD,Business Check,P210010294,1400 N FREMONT AV,1400 N FREMONT AV BALTIMORE MD,Sandtown-Winchester,Western,743,7,D8,Sandtown-Winchester/Harlem Park,Census Tract 1501,,21217,True,False\n",
       "277,9C01020A5FEEBCD1,2021/01/01 06:10:00+00,Non-Emergency,ND,Business Check,P210010295,900 W 36TH ST,900 W 36TH ST BALTIMORE MD,Hampden,Northern,531,14,D2,Medfield/Hampden/Woodberry/Remington,Census Tract 1306,,21211,True,False\n",
       "278,9C01020A5FEEBCD4,2021/01/01 06:10:00+00,Non-Emergency,NW,Business Check,P210010296,6900 REISTERSTOWN RD,6900 REISTERSTOWN RD BALTIMORE MD,Reisterstown Station,Northwestern,631,5,D1,Glen-Fallstaff,Census Tract 2801.01,,21215,True,False\n",
       "279,9C01020A5FEEBCE3,2021/01/01 06:10:00+00,Non-Emergency,SW,DIRECTED PATROL,P210010299,5200 WINDSOR MILL RD,5200 WINDSOR MILL RD BALTIMORE MD,Franklintown,Southwestern,821,8,D9,Dickeyville/Franklintown,Census Tract 2803.01,,21207,True,False\n",
       "280,9C01020A5FEEBCF2,2021/01/01 06:10:00+00,Non-Emergency,NW,Business Check,P210010300,5700 REISTERSTOWN RD,5700 REISTERSTOWN RD BALTIMORE MD,Glen,Northwestern,632,5,D1,Glen-Fallstaff,Census Tract 2719,,21215,True,False\n",
       "281,5601020A5FEEBCB8,2021/01/01 06:10:00+00,Medium,SD,DISORDERLY,P210010303,2500 BLK SOUTHDENE AV,2500 BLK SOUTHDENE AV BALTIMORE MD,Lakeland,Southern,923,10,D7,Westport/Mount Winans/Lakeland,Census Tract 2502.05,,21230,True,False\n",
       "282,5501020A5FEEBCEF,2021/01/01 06:10:00+00,Non-Emergency,SE,LOUD MUSIC,P210010312,3700 TOONE ST,3700 TOONE ST BALTIMORE MD,Canton Industrial Area,Southeastern,233,1,D6,Highlandtown,Census Tract 2609,,21224,True,False\n",
       "283,5701020A5FEEBD29,2021/01/01 06:11:00+00,High,SE,AGGRAV ASSAULT,P210010313,300 FORREST ST,300 FORREST ST BALTIMORE MD,Pleasant View Gardens,Southeastern,211,12,D7,Oldtown/Middle East,Census Tract 2805,,21202,True,False\n",
       "284,6301020A5FEEBD09,2021/01/01 06:11:00+00,Medium,WD,DISORDERLY,P210010309,2600 W NORTH AV,2600 W NORTH AV BALTIMORE MD,Mondawmin,Western,731,7,D9,Greater Rosemont,Census Tract 1506,,21216,True,False\n",
       "285,9C01020A5FEEBCFA,2021/01/01 06:11:00+00,Non-Emergency,SW,DIRECTED PATROL,P210010301,3100 W NORTH AV,3100 W NORTH AV BALTIMORE MD,Walbrook,Southwestern,811,7,D9,Greater Rosemont,Census Tract 1506,,21216,True,False\n",
       "286,9C01020A5FEEBD10,2021/01/01 06:11:00+00,Non-Emergency,ND,Business Check,P210010302,1100 W 41ST ST,1100 W 41ST ST BALTIMORE MD,Hampden,Northern,531,14,D2,Medfield/Hampden/Woodberry/Remington,Census Tract 1307,,21211,True,False\n",
       "287,9C01020A5FEEBD19,2021/01/01 06:11:00+00,Non-Emergency,NE,Business Check,P210010304,3800 CRESTLYN RD,3800 CRESTLYN RD BALTIMORE MD,Ednor Gardens-Lakeside,Northeastern,412,14,D2,Greater Govans,Census Tract 901,,21218,True,False\n",
       "288,9C01020A5FEEBD27,2021/01/01 06:11:00+00,High,NE,ShotSpot Alert,P210010305,3100 MAYFIELD AV,3100 MAYFIELD AV BALTIMORE MD,Belair-Edison,Northeastern,432,13,D5,Belair-Edison,Census Tract 2603.01,Northeastern,21213,True,False\n",
       "289,9C01020A5FEEBD39,2021/01/01 06:11:59+00,Non-Emergency,NE,Business Check,P210010307,1100 E COLD SPRING LN,1100 E COLD SPRING LN BALTIMORE MD,New Northwood,Northeastern,413,4,D2,Northwood,Census Tract 2709.01,,21239,True,False\n",
       "290,9C01020A5FEEBD63,2021/01/01 06:11:59+00,High,NE,ShotSpot Alert,P210010308,3600 LYNDALE AV,3600 LYNDALE AV BALTIMORE MD,Belair-Edison,Northeastern,434,13,D6,Belair-Edison,Census Tract 2603.02,,21213,True,False\n",
       "291,5601020A5FEEBD65,2021/01/01 06:11:59+00,High,SE,ARMED PERSON,P210010318,3300 LEVERTON AV,3300 LEVERTON AV BALTIMORE MD,Patterson Park Neighborhood,Southeastern,222,1,D6,Patterson Park North &amp; East,Census Tract 2610,,21224,True,False\n",
       "292,6301020A5FEEBD85,2021/01/01\n",
       "</div>"
      ]
     },
     "metadata": {
      "application/vnd.databricks.v1+output": {
       "addedWidgets": {},
       "arguments": {},
       "data": "<div class=\"ansiout\">[Truncated to first 65536 bytes]\n﻿OBJECTID,callKey,callDateTime,priority,district,description,callNumber,incidentLocation,location,Neighborhood,PoliceDistrict,PolicePost,CouncilDistrict,SheriffDistricts,Community_Statistical_Areas,Census_Tracts,VRIZones,ZIPCode,NeedsSync,IsDeleted\n1,6301020A5FEEAC59,2021/01/01 05:00:00+00,High,WD,DISCHRG FIREARM,P210010012,2100 BLK EDMONDSON AV,2100 BLK EDMONDSON AV BALTIMORE MD,Midtown-Edmondson,Western,722,9,D8,Sandtown-Winchester/Harlem Park,Census Tract 1604,,21223,True,False\n2,29CC9DA95FEEAC72,2021/01/01 05:00:00+00,Non-Emergency,WD,SUPV COMPLAINT,P210010019,1300 HARLEM AV,1300 HARLEM AV BALTIMORE MD,Harlem Park,Western,713,9,D8,Sandtown-Winchester/Harlem Park,Census Tract 1602,Central,21217,False,False\n3,5601020A5FEEAC7C,2021/01/01 05:00:00+00,Low,NE,911/NO  VOICE,P210010011,1900 E BELVEDERE AV,1900 E BELVEDERE AV BALTIMORE MD,Loch Raven,Northeastern,415,4,D3,Loch Raven,Census Tract 2708.03,,21239,True,False\n4,9C01020A5FEEAC67,2021/01/01 05:00:00+00,High,ND,ShotSpot Alert,P210010002,200 W NORTH AV,200 W NORTH AV BALTIMORE MD,Charles North,Central,141,12,D8,Midtown,Census Tract 1205,,21201,True,False\n5,5901020A5FEEAC81,2021/01/01 05:00:00+00,Low,NE,911/NO  VOICE,P210010008,1100 E COLD SPRING LN,1100 E COLD SPRING LN BALTIMORE MD,New Northwood,Northeastern,413,4,D2,Northwood,Census Tract 2709.01,,21239,True,False\n6,5901020A5FEEACA4,2021/01/01 05:00:59+00,Medium,SW,DISORDERLY,P210010010,1400 BLK N LONGWOOD ST,1400 BLK N LONGWOOD ST BALTIMORE MD,Rosemont,Southwestern,813,9,D9,Greater Rosemont,Census Tract 1607,,21216,True,False\n7,9C01020A5FEEACA2,2021/01/01 05:00:59+00,High,ND,DISCHRG FIREARM,P210010009,500 RICHWOOD AV,500 RICHWOOD AV BALTIMORE MD,Richnor Springs,Northern,524,4,D2,Greater Govans,Census Tract 2710.02,,21212,True,False\n8,5401020A5FEEACAE,2021/01/01 05:00:59+00,High,SD,DISCHRG FIREARM,P210010016,1100 BLK JAMES ST,1100 BLK JAMES ST BALTIMORE MD,Washington Village/Pigtown,Southern,932,10,D7,Washington Village/Pigtown,Census Tract 2102,,21223,False,False\n9,5A01020A5FEEAC9D,2021/01/01 05:00:59+00,Medium,SE,BURGLARY,P210010013,0 N CLINTON ST,0 N CLINTON ST BALTIMORE MD,Patterson Park Neighborhood,Southeastern,222,1,D6,Patterson Park North &amp; East,Census Tract 2610,,21224,True,False\n10,5F01020A5FEEACB9,2021/01/01 05:00:59+00,Medium,SD,DISORDERLY,P210010030,4000 8TH ST,4000 8TH ST BALTIMORE MD,Brooklyn,Southern,913,10,D7,Brooklyn/Curtis Bay/Hawkins Point,Census Tract 2504.02,,21225,True,False\n11,5501020A5FEEACAB,2021/01/01 05:00:59+00,High,ED,DISCHRG FIREARM,P210010014,3600 PULASKI HY,3600 PULASKI HY BALTIMORE MD,Orangeville,Eastern,333,2,D6,Orangeville/East Highlandtown,Census Tract 2604.04,,21224,True,False\n12,5601020A5FEEACD9,2021/01/01 05:02:00+00,Low,NE,911/NO  VOICE,P210010023,1900 E BELVEDERE AV,1900 E BELVEDERE AV BALTIMORE MD,Loch Raven,Northeastern,415,4,D3,Loch Raven,Census Tract 2708.03,,21239,True,False\n13,5B01020A5FEEACD9,2021/01/01 05:02:00+00,High,SW,DISCHRG FIREARM,P210010018,500 NORMANDY AV,500 NORMANDY AV BALTIMORE MD,Allendale,Southwestern,843,8,D10,Allendale/Irvington/S. Hilton,Census Tract 2007.01,,21229,True,False\n14,6301020A5FEEACE0,2021/01/01 05:02:00+00,High,NW,DISCHRG FIREARM,P210010020,4000 BLK OAKFORD AV,4000 BLK OAKFORD AV BALTIMORE MD,West Arlington,Northwestern,642,6,D1,Dorchester/Ashburton,Census Tract 1510,,21215,True,False\n15,6501020A5FEEACDD,2021/01/01 05:02:00+00,Low,NE,OTHER,P210010028,5100 ORVILLE AV,5100 ORVILLE AV BALTIMORE MD,Armistead Gardens,Northeastern,433,13,D6,Claremont/Armistead,Census Tract 2603.03,,21205,True,False\n16,5401020A5FEEACF3,2021/01/01 05:02:00+00,High,SD,DISCHRG FIREARM,P210010025,1100 SARGEANT ST,1100 SARGEANT ST BALTIMORE MD,Washington Village/Pigtown,Southern,932,10,D7,Washington Village/Pigtown,Census Tract 2102,,21223,False,False\n17,9C01020A5FEEACE3,2021/01/01 05:02:00+00,Non-Emergency,SE,HANDGUN VIOLATIO,P210010015,JEFFERSON ST/N ROBINSON ST,JEFFERSON ST and N ROBINSON ST BALTIMORE MD,Ellwood Park/Monument,Southeastern,224,13,D5,Patterson Park North &amp; East,Census Tract 601,,21224,True,False\n18,5901020A5FEEACD6,2021/01/01 05:02:00+00,Low,SW,911/NO  VOICE,P210010017,200 S PULASKI ST,200 S PULASKI ST BALTIMORE MD,Carrollton Ridge,Southwestern,841,9,D8,Southwest Baltimore,Census Tract 2005,Tri-District,21223,True,False\n19,5901020A5FEEACF0,2021/01/01 05:02:00+00,High,ND,DISCHRG FIREARM,P210010021,300 ILCHESTER AV,300 ILCHESTER AV BALTIMORE MD,Harwood,Northern,513,12,D2,Greater Charles Village/Barclay,Census Tract 1203,,21218,True,False\n20,5901020A5FEEAD3B,2021/01/01 05:03:00+00,High,WD,DISCHRG FIREARM,P210010029,2000 W LEXINGTON ST,2000 W LEXINGTON ST BALTIMORE MD,Penrose/Fayette Street Outreach,Western,714,9,D8,Southwest Baltimore,Census Tract 2001,,21223,True,False\n21,5A01020A5FEEAD0D,2021/01/01 05:03:00+00,Low,SE,911/NO  VOICE,P210010022,600 S LINWOOD AV,600 S LINWOOD AV BALTIMORE MD,Canton,Southeastern,232,1,D6,Patterson Park North &amp; East,Census Tract 102,,21224,True,False\n22,6301020A5FEEAD3D,2021/01/01 05:03:00+00,High,SD,DISCHRG FIREARM,P210010031,800 BETHUNE RD,800 BETHUNE RD BALTIMORE MD,Cherry Hill,Southern,922,10,D7,Cherry Hill,Census Tract 2502.04,,21225,True,False\n23,6501020A5FEEAD74,2021/01/01 05:03:59+00,Non-Emergency,SE,LOUD MUSIC,P210010039,300 GUSRYAN ST,300 GUSRYAN ST BALTIMORE MD,Bayview,Southeastern,241,1,D6,Orangeville/East Highlandtown,Census Tract 2605.01,,21224,True,False\n24,5601020A5FEEAD4F,2021/01/01 05:03:59+00,Medium,NE,DISORDERLY,P210010032,WHITE AV/CARTER AV,WHITE AV and CARTER AV BALTIMORE MD,Glenham-Belhar,Northeastern,425,3,D4,Hamilton,Census Tract 2704.02,,21214,True,False\n25,5501020A5FEEAD60,2021/01/01 05:03:59+00,High,SW,DISCHRG FIREARM,P210010053,2500 FREDERICK AV,2500 FREDERICK AV BALTIMORE MD,Millhill,Southwestern,841,9,D8,Southwest Baltimore,Census Tract 2005,Tri-District,21223,True,False\n26,5401020A5FEEAD52,2021/01/01 05:03:59+00,Medium,WD,WANTED ON WARR,P210010036,1700 GWYNNS FALLS PY,1700 GWYNNS FALLS PY BALTIMORE MD,Parkview/Woodbrook,Western,732,7,D2,Penn North/Reservoir Hill,Census Tract 1304,,21217,False,False\n27,5901020A5FEEAD7A,2021/01/01 05:03:59+00,High,NE,DISCHRG FIREARM,P210010033,4100 PARKSIDE DR,4100 PARKSIDE DR BALTIMORE MD,Belair-Parkside,Northeastern,422,3,D4,Lauraville,Census Tract 2701.01,,21206,True,False\n28,9C01020A5FEEAD4D,2021/01/01 05:03:59+00,Non-Emergency,CD,Business Check,P210010026,S CHARLES ST/E CONWAY ST,S CHARLES ST and E CONWAY ST BALTIMORE MD,Otterbein,Central,113,11,D7,Inner Harbor/Federal Hill,Census Tract 2201,,21201,True,False\n29,9C01020A5FEEAD5E,2021/01/01 05:03:59+00,Non-Emergency,SW,Business Check,P210010027,700 LINNARD ST,700 LINNARD ST BALTIMORE MD,Edgewood,Southwestern,844,8,D10,Edmondson Village,Census Tract 1608.02,,21229,True,False\n30,5901020A5FEEADB4,2021/01/01 05:05:00+00,Medium,ED,DISORDERLY,P210010038,E 0ND ST/BARCLAY ST,E 0ND ST and BARCLAY ST BALTIMORE MD,Barclay,Eastern,341,12,D2,Greater Charles Village/Barclay,Census Tract 1204,,21218,True,False\n31,5A01020A5FEEAD88,2021/01/01 05:05:00+00,Medium,CD,DISORDERLY,P210010034,N CALVERT ST/E LANVALE ST,N CALVERT ST and E LANVALE ST BALTIMORE MD,Greenmount West,Eastern,311,12,D5,Midtown,Census Tract 1205,,21202,True,False\n32,5C01020A5FEEAD8B,2021/01/01 05:05:00+00,Low,SW,SUSPICIOUS PERS,P210010049,2700 BLK WILKENS AV,2700 BLK WILKENS AV BALTIMORE MD,Millhill,Southwestern,841,10,D10,Allendale/Irvington/S. Hilton,Census Tract 2006,,21223,True,False\n33,5601020A5FEEADA6,2021/01/01 05:05:00+00,Low,SD,911/NO  VOICE,P210010042,1200 W OSTEND ST,1200 W OSTEND ST BALTIMORE MD,Washington Village/Pigtown,Southern,932,10,D7,Washington Village/Pigtown,Census Tract 2102,,21230,True,False\n34,5B01020A5FEEAD83,2021/01/01 05:05:00+00,High,ED,DISCHRG FIREARM,P210010037,3600 PULASKI HY,3600 PULASKI HY BALTIMORE MD,Orangeville,Eastern,333,2,D6,Orangeville/East Highlandtown,Census Tract 2604.04,,21224,True,False\n35,6301020A5FEEAD91,2021/01/01 05:05:00+00,High,CD,ARMED PERSON,P210010041,MCCULLOH ST/MCMECHEN ST,MCCULLOH ST and MCMECHEN ST BALTIMORE MD,Upton,Central,123,11,D8,Upton/Druid Heights,Census Tract 1402,,21217,True,False\n36,1ACC9DA95FEEADAE,2021/01/01 05:05:00+00,High,WD,DISCHRG FIREARM,P210010052,300 N GILMOR ST,300 N GILMOR ST BALTIMORE MD,Franklin Square,Western,711,9,D8,Southwest Baltimore,Census Tract 1901,,21223,False,False\n37,6501020A5FEEADEA,2021/01/01 05:06:00+00,High,NE,DISCHRG FIREARM,P210010051,2700 BLK PELHAM AV,2700 BLK PELHAM AV BALTIMORE MD,Belair-Edison,Northeastern,432,13,D5,Belair-Edison,Census Tract 801.01,,21213,True,False\n38,5B01020A5FEEADEB,2021/01/01 05:06:00+00,High,NE,DISCHRG FIREARM,P210010045,4200 BLK NICHOLAS AV,4200 BLK NICHOLAS AV BALTIMORE MD,Arcadia,Northeastern,422,3,D4,Lauraville,Census Tract 2602.02,Northeastern,21206,True,False\n39,29CC9DA95FEEADE3,2021/01/01 05:06:00+00,Medium,ND,DISORDERLY,P210010073,3400 KESWICK RD,3400 KESWICK RD BALTIMORE MD,Hampden,Northern,531,14,D2,Medfield/Hampden/Woodberry/Remington,Census Tract 1306,,21211,False,False\n40,5901020A5FEEADE8,2021/01/01 05:06:00+00,Low,WD,911/NO  VOICE,P210010043,1500 MOSHER ST,1500 MOSHER ST BALTIMORE MD,Sandtown-Winchester,Western,743,9,D8,Sandtown-Winchester/Harlem Park,Census Tract 1602,Central,21217,True,False\n41,5901020A5FEEAE0A,2021/01/01 05:06:59+00,Low,CD,911/NO  VOICE,P210010046,700 DRUID PARK LAKE DR,700 DRUID PARK LAKE DR BALTIMORE MD,Reservoir Hill,Central,133,7,D2,Penn North/Reservoir Hill,Census Tract 1301,,21217,True,False\n42,9C01020A5FEEAE08,2021/01/01 05:06:59+00,Non-Emergency,WD,DIRECTED PATROL,P210010044,1700 MORELAND AV,1700 MORELAND AV BALTIMORE MD,Coppin Heights/Ash-Co-East,Western,723,7,D9,Greater Rosemont,Census Tract 1503,Western,21216,True,False\n43,9C01020A5FEEAE2D,2021/01/01 05:06:59+00,Medium,SW,EXPART/PROT/PEAC,P210010048,100 DENISON ST,100 DENISON ST BALTIMORE MD,Allendale,Southwestern,843,8,D10,Allendale/Irvington/S. Hilton,Census Tract 2007.01,,21229,True,False\n44,5601020A5FEEADFB,2021/01/01 05:06:59+00,High,SD,COMMON ASSAULT,P210010047,1800 RAMSAY ST,1800 RAMSAY ST BALTIMORE MD,Carrollton Ridge,Southern,934,9,D8,Southwest Baltimore,Census Tract 1903,Tri-District,21223,True,False\n45,5B01020A5FEEAE25,2021/01/01 05:06:59+00,Medium,SD,DISORDERLY,P210010054,800 S CHARLES ST,800 S CHARLES ST BALTIMORE MD,Federal Hill,Southern,942,11,D7,Inner Harbor/Federal Hill,Census Tract 2201,,21230,True,False\n46,6301020A5FEEAE06,2021/01/01 05:06:59+00,Medium,NW,DISORDERLY,P210010059,DAMASCUS CT/KIM DR,DAMASCUS CT and KIM DR BALTIMORE MD,Cheswolde,Northwestern,632,5,D1,Cross-Country/Cheswolde,Census Tract 2720.04,,21209,True,False\n47,5601020A5FEEAE40,2021/01/01 05:07:59+00,High,WD,DISCHRG FIREARM,P210010062,1600 BLK GWYNNS FALLS PY,1600 BLK GWYNNS FALLS PY BALTIMORE MD,Parkview/Woodbrook,Western,732,7,D2,Penn North/Reservoir Hill,Census Tract 1304,,21217,True,False\n48,9C01020A5FEEAE41,2021/01/01 05:07:59+00,Non-Emergency,WD,Business Check,P210010050,2400 LIBERTY HEIGHTS AV,2400 LIBERTY HEIGHTS AV BALTIMORE MD,Mondawmin,Western,731,7,D9,Greater Mondawmin,Census Tract 1505,,21215,True,False\n49,9C01020A5FEEAE60,2021/01/01 05:07:59+00,High,ED,ShotSpot Alert,P210010056,1100 HARFORD AV,1100 HARFORD AV BALTIMORE MD,Johnston Square,Eastern,311,12,D5,Greenmount East,Census Tract 1001,,21202,True,False\n50,9C01020A5FEEAE63,2021/01/01 05:07:59+00,Non-Emergency,SD,Business Check,P210010058,6300 EFFICIENCY WY,6300 EFFICIENCY WY BALTIMORE MD,Hawkins Point,Southern,911,10,D7,Brooklyn/Curtis Bay/Hawkins Point,Census Tract 2505,,21226,True,False\n51,9C01020A5FEEAE6A,2021/01/01 05:07:59+00,Non-Emergency,SW,Business Check,P210010060,600 N EDGEWOOD ST,600 N EDGEWOOD ST BALTIMORE MD,Edgewood,Southwestern,844,8,D10,Edmondson Village,Census Tract 1608.02,,21229,True,False\n52,5901020A5FEEAE32,2021/01/01 05:07:59+00,Medium,CD,SILENT ALARM,P210010057,0 W NORTH AV,0 W NORTH AV BALTIMORE MD,Charles North,Central,141,12,D8,Midtown,Census Tract 1205,,21201,True,False\n53,9C01020A5FEEAE77,2021/01/01 05:09:00+00,Non-Emergency,CD,Business Check,P210010061,100 E REDWOOD ST,100 E REDWOOD ST BALTIMORE MD,Downtown,Central,111,11,D7,Downtown/Seton Hill,Census Tract 401,,21202,True,False\n54,5C01020A5FEEAEA7,2021/01/01 05:09:00+00,High,NE,DISCHRG FIREARM,P210010074,E COLD SPRING LN/LOCH RAVEN BL,E COLD SPRING LN and LOCH RAVEN BL BALTIMORE MD,New Northwood,Northeastern,413,3,D4,Northwood,Census Tract 2709.03,,21239,True,False\n55,5A01020A5FEEAE9A,2021/01/01 05:09:00+00,Medium,ND,DISORDERLY,P210010066,GUILFORD AV/ILCHESTER AV,GUILFORD AV and ILCHESTER AV BALTIMORE MD,Harwood,Northern,512,12,D2,Greater Charles Village/Barclay,Census Tract 1203,,21218,True,False\n56,13CC9DA95FEEAE7D,2021/01/01 05:09:00+00,Medium,ED,DISORDERLY,P210010067,E PRESTON ST/N CENTRAL AV,E PRESTON ST and N CENTRAL AV BALTIMORE MD,Oliver,Eastern,343,12,D5,Greenmount East,Census Tract 1001,,21202,False,False\n57,5601020A5FEEAE9A,2021/01/01 05:09:00+00,Low,NE,OTHER,P210010069,AILSA AV/GRINDON AV,AILSA AV and GRINDON AV BALTIMORE MD,Lauraville,Northeastern,421,3,D4,Lauraville,Census Tract 2703.01,,21214,True,False\n58,5B01020A5FEEAE71,2021/01/01 05:09:00+00,High,ED,DISCHRG FIREARM,P210010063,1000 BLK DARLEY AV,1000 BLK DARLEY AV BALTIMORE MD,East Baltimore Midway,Eastern,342,12,D5,Midway/Coldstream,Census Tract 908,Eastern1,21218,True,False\n59,6501020A5FEEAE74,2021/01/01 05:09:00+00,Low,ND,911/NO  VOICE,P210010064,700 E 37TH ST,700 E 37TH ST BALTIMORE MD,Waverly,Northern,543,14,D2,The Waverlies,Census Tract 903,,21218,True,False\n60,6501020A5FEEAEB7,2021/01/01 05:10:00+00,Low,CD,911/NO  VOICE,P210010072,2100 MT ROYAL TE,2100 MT ROYAL TE BALTIMORE MD,Reservoir Hill,Central,133,7,D2,Penn North/Reservoir Hill,Census Tract 1302,,21217,True,False\n61,9C01020A5FEEAEB0,2021/01/01 05:10:00+00,Non-Emergency,NE,Business Check,P210010065,700 E 25TH ST,700 E 25TH ST BALTIMORE MD,East Baltimore Midway,Eastern,342,12,D5,Midway/Coldstream,Census Tract 908,,21218,True,False\n62,9C01020A5FEEAECD,2021/01/01 05:10:00+00,Non-Emergency,SW,Repairs/Service,P210010068,100,100 BALTIMORE MD,Penn-Fallsway,Eastern,312,12,D7,Oldtown/Middle East,Census Tract 2805,,21202,True,False\n63,9C01020A5FEEAEEC,2021/01/01 05:10:59+00,Non-Emergency,NW,Business Check,P210010071,5500 PARK HEIGHTS AV,5500 PARK HEIGHTS AV BALTIMORE MD,Arlington,Northwestern,633,5,D1,Glen-Fallstaff,Census Tract 2719,,21215,True,False\n64,6601020A5FEEAF0B,2021/01/01 05:10:59+00,Low,NE,OTHER,P210010081,1300 BLK STONEWOOD RD,1300 BLK STONEWOOD RD BALTIMORE MD,New Northwood,Northeastern,413,4,D2,Northwood,Census Tract 2709.01,,21239,True,False\n65,6301020A5FEEAF16,2021/01/01 05:10:59+00,Medium,SE,DISORDERLY,P210010076,6500 BLK PARNELL AV,6500 BLK PARNELL AV BALTIMORE MD,Saint Helena,Southeastern,243,1,D7,Southeastern,Census Tract 2606.05,,21222,True,False\n66,5C01020A5FEEAF56,2021/01/01 05:12:00+00,Low,WD,INTOXICATED PERS,P210010079,2000 EDMONDSON AV,2000 EDMONDSON AV BALTIMORE MD,Midtown-Edmondson,Western,722,9,D8,Sandtown-Winchester/Harlem Park,Census Tract 1604,,21223,True,False\n67,5901020A5FEEAF23,2021/01/01 05:12:00+00,Medium,ND,DISORDERLY,P210010075,2500 EDGECOMBE CI N,2500 EDGECOMBE CI N BALTIMORE MD,Parklane,Northern,532,6,D2,Southern Park Heights,Census Tract 2716,,21215,True,False\n68,5901020A5FEEAF74,2021/01/01 05:13:00+00,High,NE,COMMON ASSAULT,P210010077,4100 BLK WOODLEA AV,4100 BLK WOODLEA AV BALTIMORE MD,Waltherson,Northeastern,426,3,D4,Lauraville,Census Tract 2701.02,,21206,True,False\n69,5A01020A5FEEAF6B,2021/01/01 05:13:00+00,Non-Emergency,ND,SICK CASE,P210010080,5200 YORK RD,5200 YORK RD BALTIMORE MD,Winston-Govans,Northern,524,4,D2,Greater Govans,Census Tract 2710.02,,21212,True,False\n70,5401020A5FEEAF68,2021/01/01 05:13:00+00,Medium,SD,DISORDERLY,P210010086,2700 BLK NORLAND RD,2700 BLK NORLAND RD BALTIMORE MD,Lakeland,Southern,923,10,D7,Westport/Mount Winans/Lakeland,Census Tract 2502.05,,21230,False,False\n71,6301020A5FEEAF90,2021/01/01 05:13:00+00,High,NE,DISCHRG FIREARM,P210010088,HILLEN RD/PERRING PY,HILLEN RD and PERRING PY BALTIMORE MD,Perring Loch,Northeastern,415,3,D4,Northwood,Census Tract 2709.02,,21239,True,False\n72,5B01020A5FEEAF69,2021/01/01 05:13:00+00,Medium,NW,DISORDERLY,P210010087,6400 ELRAY DR,6400 ELRAY DR BALTIMORE MD,Cheswolde,Northwestern,632,5,D1,Cross-Country/Cheswolde,Census Tract 2720.04,,21209,True,False\n73,5601020A5FEEAF7F,2021/01/01 05:13:00+00,Medium,NW,DISORDERLY,P210010082,2900 TERRY DR,2900 TERRY DR BALTIMORE MD,Cheswolde,Northwestern,632,5,D1,Cross-Country/Cheswolde,Census Tract 2720.04,,21209,True,False\n74,29CC9DA95FEEAF64,2021/01/01 05:13:00+00,Medium,ND,DISORDERLY,P210010098,E 0TH ST/ST PAUL ST,E 0TH ST and ST PAUL ST BALTIMORE MD,Charles Village,Northern,512,12,D2,Greater Charles Village/Barclay,Census Tract 1203,,21218,False,False\n75,5501020A5FEEAF64,2021/01/01 05:13:00+00,High,ND,DISCHRG FIREARM,P210010083,3000 BLK VIRGINIA AV,3000 BLK VIRGINIA AV BALTIMORE MD,Cylburn,Northern,532,6,D2,Southern Park Heights,Census Tract 2716,,21215,True,False\n76,5601020A5FEEAFC4,2021/01/01 05:13:59+00,Non-Emergency,ND,SUPV COMPLAINT,P210010096,500 RICHWOOD AV,500 RICHWOOD AV BALTIMORE MD,Richnor Springs,Northern,524,4,D2,Greater Govans,Census Tract 2710.02,,21212,True,False\n77,5C01020A5FEEAFD1,2021/01/01 05:13:59+00,High,SD,DISCHRG FIREARM,P210010091,WASHBURN AV/ST MARGARET ST,WASHBURN AV and ST MARGARET ST BALTIMORE MD,Brooklyn,Southern,913,10,D7,Brooklyn/Curtis Bay/Hawkins Point,Census Tract 2505,Brooklyn,21225,True,False\n78,5901020A5FEEAFA7,2021/01/01 05:13:59+00,High,NW,DISCHRG FIREARM,P210010084,ROSEDALE RD/LIBERTY HEIGHTS AV,ROSEDALE RD and LIBERTY HEIGHTS AV BALTIMORE MD,Hanlon-Longwood,Northwestern,643,7,D9,Greater Mondawmin,Census Tract 1507.01,,21215,True,False\n79,9C01020A5FEEAFD0,2021/01/01 05:13:59+00,Non-Emergency,SW,Foot  Patrol,P210010085,EDMONDSON AV/N EDGEWOOD ST,EDMONDSON AV and N EDGEWOOD ST BALTIMORE MD,Edgewood,Southwestern,844,8,D10,Edmondson Village,Census Tract 2007.01,,21229,True,False\n80,5901020A5FEEAFE1,2021/01/01 05:15:00+00,Medium,NW,DISORDERLY,P210010089,3800 BLK DORCHESTER RD,3800 BLK DORCHESTER RD BALTIMORE MD,Callaway-Garrison,Northwestern,642,6,D1,Dorchester/Ashburton,Census Tract 1511,,21215,True,False\n81,5401020A5FEEAFF8,2021/01/01 05:15:00+00,High,SW,DISCHRG FIREARM,P210010093,500 BRUNSWICK ST,500 BRUNSWICK ST BALTIMORE MD,Millhill,Southwestern,841,10,D10,Allendale/Irvington/S. Hilton,Census Tract 2006,,21223,False,False\n82,5401020A5FEEB043,2021/01/01 05:16:00+00,Medium,ED,FAMILY DISTURB,P210010105,1000 ORLEANS ST,1000 ORLEANS ST BALTIMORE MD,Pleasant View Gardens,Southeastern,211,12,D7,Oldtown/Middle East,Census Tract 2805,,21202,False,False\n83,5901020A5FEEB021,2021/01/01 05:16:00+00,High,ED,DISCHRG FIREARM,P210010099,500 E 23RD ST,500 E 23RD ST BALTIMORE MD,East Baltimore Midway,Eastern,342,12,D5,Midway/Coldstream,Census Tract 908,,21218,True,False\n84,9C01020A5FEEB019,2021/01/01 05:16:00+00,Non-Emergency,ED,Business Check,P210010090,2500 E BIDDLE ST,2500 E BIDDLE ST BALTIMORE MD,Biddle Street,Eastern,323,13,D5,Clifton-Berea,Census Tract 803.01,Eastern2,21213,True,False\n85,9C01020A5FEEB029,2021/01/01 05:16:00+00,Non-Emergency,SW,DIRECTED PATROL,P210010092,1900 BLOOMINGDALE RD,1900 BLOOMINGDALE RD BALTIMORE MD,Walbrook,Southwestern,811,7,D9,Greater Rosemont,Census Tract 1506,,21216,True,False\n86,9C01020A5FEEB03C,2021/01/01 05:16:00+00,Non-Emergency,SD,Business Check,P210010094,6400 FORT SMALLWOOD RD,6400 FORT SMALLWOOD RD BALTIMORE MD,Hawkins Point,Southern,911,10,D7,Brooklyn/Curtis Bay/Hawkins Point,Census Tract 2505,,21226,True,False\n87,9C01020A5FEEB044,2021/01/01 05:16:00+00,Non-Emergency,NW,Business Check,P210010095,2600 GWYNNS FALLS PY,2600 GWYNNS FALLS PY BALTIMORE MD,Burleith-Leighton,Northwestern,611,7,D9,Greater Mondawmin,Census Tract 1505,,21216,True,False\n88,5501020A5FEEB01E,2021/01/01 05:16:00+00,Medium,CD,BEHAVIOR CRISIS,P210010107,1500 PARK AV,1500 PARK AV BALTIMORE MD,Bolton Hill,Central,132,11,D8,Midtown,Census Tract 1401,,21217,True,False\n89,6301020A5FEEB030,2021/01/01 05:16:00+00,Medium,SD,SILENT ALARM,P210010100,0 S POPPLETON ST,0 S POPPLETON ST BALTIMORE MD,Hollins Market,Southern,931,9,D8,Poppleton/The Terraces/Hollins Market,Census Tract 1803,,21223,True,False\n90,5601020A5FEEB073,2021/01/01 05:16:59+00,Medium,NE,DISORDERLY,P210010103,E NORTHERN PY/LAURELTON AV,E NORTHERN PY and LAURELTON AV BALTIMORE MD,Hamilton Hills,Northeastern,423,3,D3,Harford/Echodale,Census Tract 2707.02,,21214,True,False\n91,9C01020A5FEEB051,2021/01/01 05:16:59+00,High,NW,AUTO ACC/INJURY,P210010097,GARRISON BL/FAIRVIEW AV,GARRISON BL and FAIRVIEW AV BALTIMORE MD,Forest Park,Northwestern,642,6,D9,Forest Park/Walbrook,Census Tract 1508,,21216,True,False\n92,5C01020A5FEEB04F,2021/01/01 05:16:59+00,Medium,NW,DISORDERLY,P210010101,2900 TERRY DR,2900 TERRY DR BALTIMORE MD,Cheswolde,Northwestern,632,5,D1,Cross-Country/Cheswolde,Census Tract 2720.04,,21209,True,False\n93,5C01020A5FEEB098,2021/01/01 05:18:00+00,High,NE,DISCHRG FIREARM,P210010108,3200 BLK ELMLEY AV,3200 BLK ELMLEY AV BALTIMORE MD,Belair-Edison,Northeastern,434,13,D5,Belair-Edison,Census Tract 801.02,,21213,True,False\n94,9C01020A5FEEB0A6,2021/01/01 05:18:00+00,High,CD,ShotSpot Alert,P210010102,1300 ARGYLE AV,1300 ARGYLE AV BALTIMORE MD,Upton,Central,123,11,D8,Upton/Druid Heights,Census Tract 1703,Central,21217,True,False\n95,9C01020A5FEEB0B0,2021/01/01 05:18:00+00,Non-Emergency,ED,Business Check,P210010104,3000 E BIDDLE ST,3000 E BIDDLE ST BALTIMORE MD,Berea,Eastern,332,13,D5,Clifton-Berea,Census Tract 803.02,,21213,True,False\n96,5901020A5FEEB08F,2021/01/01 05:18:00+00,Low,TRU,AUTO ACCIDENT,P210010106,YORK RD/E COLD SPRING LN,YORK RD and E COLD SPRING LN BALTIMORE MD,Kernewood,Northern,521,4,D2,North Baltimore/Guilford/Homeland,Census Tract 2710.01,,21212,True,False\n97,5601020A5FEEB0B4,2021/01/01 05:18:00+00,Medium,SD,DISORDERLY,P210010110,W OSTEND ST/CARROLL ST,W OSTEND ST and CARROLL ST BALTIMORE MD,Washington Village/Pigtown,Southern,932,10,D7,Washington Village/Pigtown,Census Tract 2102,,21230,True,False\n98,5B01020A5FEEB09B,2021/01/01 05:18:00+00,Medium,NW,DWI,P210010112,W ROGERS AV/REISTERSTOWN RD,W ROGERS AV and REISTERSTOWN RD BALTIMORE MD,Woodmere,Northwestern,623,5,D1,Glen-Fallstaff,Census Tract 2801.01,,21215,True,False\n99,6301020A5FEEB0A7,2021/01/01 05:18:00+00,High,NW,DISCHRG FIREARM,P210010133,4800 BLK PIMLICO RD,4800 BLK PIMLICO RD BALTIMORE MD,Central Park Heights,Northwestern,614,6,D1,Southern Park Heights,Census Tract 2716,,21215,True,False\n100,5901020A5FEEB0D7,2021/01/01 05:19:00+00,High,NE,AGGRAV ASSAULT,P210010114,1900 WADSWORTH WY,1900 WADSWORTH WY BALTIMORE MD,Loch Raven,Northeastern,415,4,D3,Loch Raven,Census Tract 2708.03,,21239,True,False\n101,9C01020A5FEEB0D5,2021/01/01 05:19:00+00,Non-Emergency,CD,DIRECTED PATROL,P210010109,300 N EUTAW ST,300 N EUTAW ST BALTIMORE MD,Downtown,Central,111,11,D7,Downtown/Seton Hill,Census Tract 401,,21201,True,False\n102,9C01020A5FEEB0EA,2021/01/01 05:19:00+00,High,WD,ShotSpot Alert,P210010111,1700 LAURENS ST,1700 LAURENS ST BALTIMORE MD,Sandtown-Winchester,Western,743,7,D8,Sandtown-Winchester/Harlem Park,Census Tract 1502,,21217,True,False\n103,5401020A5FEEB0D1,2021/01/01 05:19:00+00,Medium,SE,FAMILY DISTURB,P210010120,600 RAPPOLLA ST,600 RAPPOLLA ST BALTIMORE MD,Greektown,Southeastern,242,1,D6,Orangeville/East Highlandtown,Census Tract 2605.01,,21224,False,False\n104,5C01020A5FEEB10A,2021/01/01 05:19:59+00,Low,CD,SUSPICIOUS PERS,P210010122,1500 DRUID HILL AV,1500 DRUID HILL AV BALTIMORE MD,Upton,Central,123,11,D8,Upton/Druid Heights,Census Tract 1402,Central,21217,True,False\n105,9C01020A5FEEB11D,2021/01/01 05:19:59+00,Non-Emergency,ED,Business Check,P210010113,3000 E PRESTON ST,3000 E PRESTON ST BALTIMORE MD,Berea,Eastern,332,13,D5,Clifton-Berea,Census Tract 803.02,,21213,True,False\n106,9C01020A5FEEB135,2021/01/01 05:19:59+00,Non-Emergency,ED,Business Check,P210010115,2800 E PRESTON ST,2800 E PRESTON ST BALTIMORE MD,Berea,Eastern,332,13,D5,Clifton-Berea,Census Tract 803.02,,21213,True,False\n107,5601020A5FEEB12E,2021/01/01 05:19:59+00,Medium,SD,DISORDERLY,P210010123,W OSTEND ST/CARROLL ST,W OSTEND ST and CARROLL ST BALTIMORE MD,Washington Village/Pigtown,Southern,932,10,D7,Washington Village/Pigtown,Census Tract 2102,,21230,True,False\n108,5B01020A5FEEB142,2021/01/01 05:21:00+00,Low,SD,DISABLE CAR,P210010156,NB MD 300 N AT WATERVIEW AV,NB MD 300 N AT WATERVIEW AV BALTIMORE MD,Westport,Southern,921,10,D7,Westport/Mount Winans/Lakeland,Census Tract 2503.01,,21230,True,False\n109,5501020A5FEEB13C,2021/01/01 05:21:00+00,Medium,SD,SILENT ALARM,P210010131,0 S POPPLETON ST,0 S POPPLETON ST BALTIMORE MD,Hollins Market,Southern,931,9,D8,Poppleton/The Terraces/Hollins Market,Census Tract 1803,,21223,True,False\n110,9C01020A5FEEB14D,2021/01/01 05:21:00+00,Non-Emergency,ED,Business Check,P210010117,1300 N LUZERNE AV,1300 N LUZERNE AV BALTIMORE MD,Berea,Eastern,332,13,D5,Clifton-Berea,Census Tract 803.01,,21213,True,False\n111,9C01020A5FEEB165,2021/01/01 05:21:00+00,High,CD,ShotSpot Alert,P210010118,500 ISLAMIC WY,500 ISLAMIC WY BALTIMORE MD,Upton,Central,123,11,D8,Upton/Druid Heights,Census Tract 1402,Central,21217,True,False\n\n*** WARNING: skipped 15734 bytes of output ***\n\n182,9C01020A5FEEB61E,2021/01/01 05:41:00+00,High,SD,FIRE,P210010199,1600 PLUM ST,1600 PLUM ST BALTIMORE MD,Curtis Bay,Southern,911,10,D7,Brooklyn/Curtis Bay/Hawkins Point,Census Tract 2505,,21226,True,False\n183,5901020A5FEEB5F3,2021/01/01 05:41:00+00,Low,ED,911/NO  VOICE,P210010198,3800 PULASKI HY,3800 PULASKI HY BALTIMORE MD,Orangeville,Eastern,333,2,D6,Orangeville/East Highlandtown,Census Tract 2604.04,,21224,True,False\n184,2701020A5FEEB5EF,2021/01/01 05:41:00+00,Non-Emergency,CD,TOWED VEHICLE,P210010201,MADISON AV/N MARTIN LUTHER KING JR BL,MADISON AV and N MARTIN LUTHER KING JR BL BALTIMORE MD,Madison Park,Central,132,11,D8,Upton/Druid Heights,Census Tract 1702,,21201,False,False\n185,6301020A5FEEB5EC,2021/01/01 05:41:00+00,Medium,WD,SEE TEXT,P210010220,0 N BENTALOU ST,0 N BENTALOU ST BALTIMORE MD,Penrose/Fayette Street Outreach,Western,714,9,D8,Southwest Baltimore,Census Tract 2002,,21223,True,False\n186,5701020A5FEEB62C,2021/01/01 05:42:00+00,Medium,SE,DISORDERLY,P210010212,N JANNEY ST/E FAIRMOUNT AV,N JANNEY ST and E FAIRMOUNT AV BALTIMORE MD,Kresson,Southeastern,241,2,D6,Orangeville/East Highlandtown,Census Tract 2604.04,,21224,True,False\n187,5A01020A5FEEB63D,2021/01/01 05:42:00+00,Medium,ND,DISORDERLY,P210010204,600 PARKWYRTH AV,600 PARKWYRTH AV BALTIMORE MD,Waverly,Northern,543,4,D2,Greater Govans,Census Tract 901,,21218,True,False\n188,9C01020A5FEEB641,2021/01/01 05:42:00+00,Non-Emergency,ND,Business Check,P210010202,4400 FALLS RD,4400 FALLS RD BALTIMORE MD,Medfield,Northern,541,7,D2,Medfield/Hampden/Woodberry/Remington,Census Tract 1308.03,,21211,True,False\n189,9C01020A5FEEB64E,2021/01/01 05:42:00+00,Non-Emergency,NW,Business Check,P210010203,3400 CARLINS PARK DR,3400 CARLINS PARK DR BALTIMORE MD,Park Circle,Northwestern,612,7,D1,Greater Mondawmin,Census Tract 1505,,21215,True,False\n190,9C01020A5FEEB694,2021/01/01 05:42:59+00,High,WD,DISCHRG FIREARM,P210010206,2100 PENNSYLVANIA AV,2100 PENNSYLVANIA AV BALTIMORE MD,Sandtown-Winchester,Western,742,7,D8,Sandtown-Winchester/Harlem Park,Census Tract 1501,Western,21217,True,False\n191,13CC9DA95FEEB67E,2021/01/01 05:42:59+00,Low,NE,AUTO ACCIDENT,P210010214,1500 E 29TH ST,1500 E 29TH ST BALTIMORE MD,Coldstream Homestead Montebello,Northeastern,411,14,D5,Midway/Coldstream,Census Tract 907,,21218,False,False\n192,5B01020A5FEEB67E,2021/01/01 05:42:59+00,Medium,ND,DISORDERLY,P210010209,5900 CHINQUAPIN PY,5900 CHINQUAPIN PY BALTIMORE MD,Glen Oaks,Northern,522,4,D3,Loch Raven,Census Tract 2708.02,,21239,True,False\n193,5501020A5FEEB672,2021/01/01 05:42:59+00,Medium,WD,FAMILY DISTURB,P210010208,2400 WOODBROOK AV,2400 WOODBROOK AV BALTIMORE MD,Penn North,Western,733,7,D2,Penn North/Reservoir Hill,Census Tract 1303,Western,21217,True,False\n194,5601020A5FEEB6D3,2021/01/01 05:44:00+00,Non-Emergency,SE,LOUD MUSIC,P210010218,300 GUSRYAN ST,300 GUSRYAN ST BALTIMORE MD,Bayview,Southeastern,241,1,D6,Orangeville/East Highlandtown,Census Tract 2605.01,,21224,True,False\n195,29CC9DA95FEEB6C3,2021/01/01 05:44:00+00,Medium,CD,DISORDERLY,P210010211,DOLPHIN ST/PENNSYLVANIA AV,DOLPHIN ST and PENNSYLVANIA AV BALTIMORE MD,Upton,Central,123,11,D8,Upton/Druid Heights,Census Tract 1703,Central,21201,False,False\n196,9C01020A5FEEB6A0,2021/01/01 05:44:00+00,Non-Emergency,ND,Business Check,P210010207,1100 W 41ST ST,1100 W 41ST ST BALTIMORE MD,Hampden,Northern,531,14,D2,Medfield/Hampden/Woodberry/Remington,Census Tract 1307,,21211,True,False\n197,9C01020A5FEEB6EE,2021/01/01 05:45:00+00,Non-Emergency,CD,HANDGUN VIOLATIO,P210010210,SHAKE AND BAKE FAMILY FUN CENTER,SHAKE AND BAKE FAMILY FUN CENTER BALTIMORE MD,Upton,Central,123,11,D8,Upton/Druid Heights,Census Tract 1402,Central,21217,True,False\n198,9C01020A5FEEB703,2021/01/01 05:45:00+00,High,ED,ShotSpot Alert,P210010213,1200 E MONUMENT ST,1200 E MONUMENT ST BALTIMORE MD,Oldtown,Eastern,312,12,D5,Oldtown/Middle East,Census Tract 1002,,21202,True,False\n199,9C01020A5FEEB70F,2021/01/01 05:45:00+00,High,WD,ShotSpot Alert,P210010215,2100 PRESSTMAN ST,2100 PRESSTMAN ST BALTIMORE MD,Easterwood,Western,741,7,D9,Greater Rosemont,Census Tract 1503,,21217,True,False\n200,9C01020A5FEEB710,2021/01/01 05:45:00+00,Non-Emergency,SE,Business Check,P210010216,3100 PULASKI HY,3100 PULASKI HY BALTIMORE MD,Ellwood Park/Monument,Southeastern,224,13,D5,Patterson Park North &amp; East,Census Tract 601,,21224,True,False\n201,29CC9DA95FEEB6F8,2021/01/01 05:45:00+00,Non-Emergency,ND,LOUD MUSIC,P210010217,1000 UPNOR RD,1000 UPNOR RD BALTIMORE MD,Cameron Village,Northern,523,4,D2,Chinquapin Park/Belvedere,Census Tract 2708.05,,21212,False,False\n202,5F01020A5FEEB700,2021/01/01 05:45:00+00,Low,CD,911/NO  VOICE,P210010242,600 E FAYETTE ST,600 E FAYETTE ST BALTIMORE MD,Downtown,Central,111,11,D7,Downtown/Seton Hill,Census Tract 401,,21202,True,False\n203,5701020A5FEEB740,2021/01/01 05:45:59+00,Medium,ND,DISORDERLY,P210010224,700 BELGIAN ST,700 BELGIAN ST BALTIMORE MD,Pen Lucy,Northern,542,4,D2,Greater Govans,Census Tract 2710.01,,21218,True,False\n204,9C01020A5FEEB73A,2021/01/01 05:45:59+00,Non-Emergency,SD,Business Check,P210010219,2100 W PATAPSCO AV,2100 W PATAPSCO AV BALTIMORE MD,Lakeland,Southern,923,10,D7,Westport/Mount Winans/Lakeland,Census Tract 2502.05,,21230,True,False\n205,9C01020A5FEEB74F,2021/01/01 05:45:59+00,Medium,SD,NARCOTICS,P210010221,3600 S HANOVER ST,3600 S HANOVER ST BALTIMORE MD,Brooklyn,Southern,913,10,D7,Brooklyn/Curtis Bay/Hawkins Point,Census Tract 2504.01,,21225,True,False\n206,5901020A5FEEB73B,2021/01/01 05:45:59+00,Medium,SD,DISORDERLY,P210010222,100 W FORT AV,100 W FORT AV BALTIMORE MD,South Baltimore,Southern,942,11,D7,Inner Harbor/Federal Hill,Census Tract 2302,,21230,True,False\n207,5401020A5FEEB722,2021/01/01 05:45:59+00,High,CD,ARMED PERSON,P210010227,200 E PRATT ST,200 E PRATT ST BALTIMORE MD,Inner Harbor,Central,112,11,D7,Downtown/Seton Hill,Census Tract 401,,21202,False,False\n208,9C01020A5FEEB774,2021/01/01 05:47:00+00,High,ED,ShotSpot Alert,P210010223,1600 E EAGER ST,1600 E EAGER ST BALTIMORE MD,Gay Street,Eastern,313,12,D5,Oldtown/Middle East,Census Tract 704,,21205,True,False\n209,5601020A5FEEB78D,2021/01/01 05:47:00+00,Low,SE,911/NO  VOICE,P210010229,3400 E BALTIMORE ST,3400 E BALTIMORE ST BALTIMORE MD,Baltimore Highlands,Southeastern,223,1,D6,Orangeville/East Highlandtown,Census Tract 2604.04,,21224,True,False\n210,5501020A5FEEB755,2021/01/01 05:47:00+00,Low,SE,911/NO  VOICE,P210010231,2200 BOSTON ST,2200 BOSTON ST BALTIMORE MD,Canton,Southeastern,232,1,D6,Canton,Census Tract 104,,21231,True,False\n211,6401020A5FEEB79C,2021/01/01 05:48:00+00,Medium,NW,DISORDERLY,P210010230,5400 BLK DENMORE AV,5400 BLK DENMORE AV BALTIMORE MD,Arlington,Northwestern,633,5,D1,Pimlico/Arlington/Hilltop,Census Tract 2718.01,,21215,True,False\n212,9C01020A5FEEB79D,2021/01/01 05:48:00+00,Non-Emergency,SD,Foot  Patrol,P210010225,300 BLK WARREN AV,300 BLK WARREN AV BALTIMORE MD,Federal Hill,Southern,942,11,D7,Inner Harbor/Federal Hill,Census Tract 2201,,21230,True,False\n213,9C01020A5FEEB7AA,2021/01/01 05:48:00+00,Non-Emergency,SD,Business Check,P210010226,2200 W PATAPSCO AV,2200 W PATAPSCO AV BALTIMORE MD,Lakeland,Southern,923,10,D7,Westport/Mount Winans/Lakeland,Census Tract 2502.05,,21230,True,False\n214,9C01020A5FEEB7BE,2021/01/01 05:48:00+00,Non-Emergency,NE,Business Check,P210010228,1700 E NORTHERN PY,1700 E NORTHERN PY BALTIMORE MD,Loch Raven,Northeastern,415,4,D3,Loch Raven,Census Tract 2708.03,,21239,True,False\n215,13CC9DA95FEEB79C,2021/01/01 05:48:00+00,Medium,SE,DISORDERLY,P210010234,300 FALLSWAY,300 FALLSWAY BALTIMORE MD,Jonestown,Southeastern,211,12,D7,Oldtown/Middle East,Census Tract 2805,,21202,False,False\n216,9C01020A5FEEB7F9,2021/01/01 05:48:59+00,Non-Emergency,SW,DIRECTED PATROL,P210010232,3900 FREDERICK AV,3900 FREDERICK AV BALTIMORE MD,Irvington,Southwestern,843,8,D10,Allendale/Irvington/S. Hilton,Census Tract 2008,,21229,True,False\n217,5901020A5FEEB7E0,2021/01/01 05:48:59+00,Low,NE,911/NO  VOICE,P210010233,3500 HILLEN RD,3500 HILLEN RD BALTIMORE MD,Ednor Gardens-Lakeside,Northeastern,412,14,D4,Northwood,Census Tract 902,,21218,True,False\n218,9C01020A5FEEB825,2021/01/01 05:50:00+00,Non-Emergency,SE,Business Check,P210010236,2200 BOSTON ST,2200 BOSTON ST BALTIMORE MD,Canton,Southeastern,232,1,D6,Canton,Census Tract 104,,21231,True,False\n219,6401020A5FEEB838,2021/01/01 05:50:00+00,Medium,SE,FAMILY DISTURB,P210010238,400 N GLOVER ST,400 N GLOVER ST BALTIMORE MD,McElderry Park,Southeastern,221,13,D5,Patterson Park North &amp; East,Census Tract 602,,21224,True,False\n220,5501020A5FEEB84C,2021/01/01 05:51:00+00,Medium,WD,DISORDERLY,P210010240,1600 MORELAND AV,1600 MORELAND AV BALTIMORE MD,Coppin Heights/Ash-Co-East,Western,723,7,D9,Greater Rosemont,Census Tract 1503,Western,21216,True,False\n221,9C01020A5FEEB860,2021/01/01 05:51:00+00,Non-Emergency,SD,Business Check,P210010237,2200 W PATAPSCO AV,2200 W PATAPSCO AV BALTIMORE MD,Lakeland,Southern,923,10,D7,Westport/Mount Winans/Lakeland,Census Tract 2502.05,,21230,True,False\n222,9C01020A5FEEB89E,2021/01/01 05:51:59+00,Non-Emergency,SW,Business Check,P210010239,5000 FREDERICK AV,5000 FREDERICK AV BALTIMORE MD,Ten Hills,Southwestern,823,8,D10,Beechfield/Ten Hills/West Hills,Census Tract 2804.03,,21229,True,False\n223,9C01020A5FEEB8EE,2021/01/01 05:52:59+00,Non-Emergency,SW,DIRECTED PATROL,P210010241,WILKENS AV/S SMALLWOOD ST,WILKENS AV and S SMALLWOOD ST BALTIMORE MD,Carrollton Ridge,Southwestern,841,9,D8,Southwest Baltimore,Census Tract 2005,Tri-District,21223,True,False\n224,5601020A5FEEB8CC,2021/01/01 05:52:59+00,Medium,SE,NARCOTICS,P210010243,1400 E FAYETTE ST,1400 E FAYETTE ST BALTIMORE MD,Washington Hill,Southeastern,212,12,D7,Harbor East/Little Italy,Census Tract 301,,21231,True,False\n225,29CC9DA95FEEB920,2021/01/01 05:54:00+00,Medium,ND,DISORDERLY,P210010254,ST PAUL ST/E 0TH ST,ST PAUL ST and E 0TH ST BALTIMORE MD,Charles Village,Northern,512,12,D2,Greater Charles Village/Barclay,Census Tract 1203,,21218,False,False\n226,5501020A5FEEB926,2021/01/01 05:54:00+00,Medium,NE,SILENT ALARM,P210010248,6200 BELAIR RD,6200 BELAIR RD BALTIMORE MD,Glenham-Belhar,Northeastern,425,2,D4,Hamilton,Census Tract 2704.01,,21206,True,False\n227,6301020A5FEEB902,2021/01/01 05:54:00+00,High,SE,COMMON ASSAULT,P210010253,6500 DETROIT AV,6500 DETROIT AV BALTIMORE MD,Saint Helena,Southeastern,243,1,D7,Southeastern,Census Tract 2606.05,,21222,True,False\n228,9C01020A5FEEB92A,2021/01/01 05:54:00+00,High,CD,ShotSpot Alert,P210010244,500 W LAFAYETTE AV,500 W LAFAYETTE AV BALTIMORE MD,Upton,Central,123,11,D8,Upton/Druid Heights,Census Tract 1402,Central,21217,True,False\n229,13CC9DA95FEEB939,2021/01/01 05:54:00+00,Medium,SE,DISORDERLY,P210010247,300 KANE ST,300 KANE ST BALTIMORE MD,Bayview,Southeastern,241,1,D6,Orangeville/East Highlandtown,Census Tract 2605.01,,21224,False,False\n230,9C01020A5FEEB957,2021/01/01 05:55:00+00,Non-Emergency,SD,Business Check,P210010246,2700 W PATAPSCO AV,2700 W PATAPSCO AV BALTIMORE MD,Lakeland,Southern,923,10,D7,Westport/Mount Winans/Lakeland,Census Tract 2502.05,,21230,True,False\n231,5701020A5FEEB938,2021/01/01 05:55:00+00,Low,WD,OTHER,P210010252,2700 W NORTH AV,2700 W NORTH AV BALTIMORE MD,Mondawmin,Western,731,7,D9,Greater Rosemont,Census Tract 1506,,21216,True,False\n232,5F01020A5FEEB937,2021/01/01 05:55:00+00,Low,CD,OTHER,P210010256,600 E FAYETTE ST,600 E FAYETTE ST BALTIMORE MD,Downtown,Central,111,11,D7,Downtown/Seton Hill,Census Tract 401,,21202,True,False\n233,5601020A5FEEB9A0,2021/01/01 05:55:59+00,Medium,SE,COMMON ASSAULT,P210010262,3400-BLK E BALTIMORE ST,3400-BLK E BALTIMORE ST BALTIMORE MD,Baltimore Highlands,Southeastern,223,1,D6,Orangeville/East Highlandtown,Census Tract 2604.04,,21224,True,False\n234,9C01020A5FEEB998,2021/01/01 05:55:59+00,Non-Emergency,SW,Foot  Patrol,P210010249,3100 W NORTH AV,3100 W NORTH AV BALTIMORE MD,Walbrook,Southwestern,811,7,D9,Greater Rosemont,Census Tract 1506,,21216,True,False\n235,9C01020A5FEEB99A,2021/01/01 05:55:59+00,Non-Emergency,SW,Business Check,P210010250,4100 FREDERICK AV,4100 FREDERICK AV BALTIMORE MD,Irvington,Southwestern,833,8,D10,Allendale/Irvington/S. Hilton,Census Tract 2008,,21229,True,False\n236,9C01020A5FEEB99F,2021/01/01 05:55:59+00,Non-Emergency,SW,Foot  Patrol,P210010251,N WOODINGTON RD/CRANSTON AV,N WOODINGTON RD and CRANSTON AV BALTIMORE MD,Edmondson Village,Southwestern,844,8,D10,Edmondson Village,Census Tract 1608.01,,21229,True,False\n237,9C01020A5FEEB9CC,2021/01/01 05:57:00+00,Non-Emergency,ND,Business Check,P210010255,4500 FALLS RD,4500 FALLS RD BALTIMORE MD,Roland Park,Northern,541,6,D2,Greater Roland Park/Poplar Hill,Census Tract 2714,,21209,True,False\n238,9C01020A5FEEB9F8,2021/01/01 05:58:00+00,Non-Emergency,SW,DIRECTED PATROL,P210010257,HOLLINS ST/S WARWICK AV,HOLLINS ST and S WARWICK AV BALTIMORE MD,Shipley Hill,Southwestern,842,9,D8,Southwest Baltimore,Census Tract 2004,Tri-District,21223,True,False\n239,9C01020A5FEEB9FF,2021/01/01 05:58:00+00,Non-Emergency,SW,DIRECTED PATROL,P210010258,600 COOKS LN,600 COOKS LN BALTIMORE MD,Hunting Ridge,Southwestern,822,8,D10,Beechfield/Ten Hills/West Hills,Census Tract 2804.01,,21229,True,False\n240,9C01020A5FEEBA18,2021/01/01 05:58:00+00,Non-Emergency,SW,Business Check,P210010259,4200 FREDERICK AV,4200 FREDERICK AV BALTIMORE MD,Irvington,Southwestern,833,8,D10,Allendale/Irvington/S. Hilton,Census Tract 2501.02,,21229,True,False\n241,9C01020A5FEEBA1D,2021/01/01 05:58:00+00,Non-Emergency,NW,Business Check,P210010260,6600 REISTERSTOWN RD,6600 REISTERSTOWN RD BALTIMORE MD,Reisterstown Station,Northwestern,631,5,D1,Glen-Fallstaff,Census Tract 2801.01,,21215,True,False\n242,5501020A5FEEBA17,2021/01/01 05:58:00+00,Low,WD,INVESTIGATE,P210010265,2700 W NORTH AV,2700 W NORTH AV BALTIMORE MD,Mondawmin,Western,731,7,D9,Greater Rosemont,Census Tract 1506,,21216,True,False\n243,5701020A5FEEBA05,2021/01/01 05:58:00+00,Low,NE,INTOXICATED PERS,P210010261,4300 1/2 ORCHARD RIDGE BL,4300 1 and 2 ORCHARD RIDGE BL BALTIMORE MD,Orchard Ridge,Northeastern,433,13,D6,Claremont/Armistead,Census Tract 2603.03,,21213,True,False\n244,6301020A5FEEBA20,2021/01/01 05:58:00+00,High,SD,COMMON ASSAULT,P210010266,2000 RAMSAY ST,2000 RAMSAY ST BALTIMORE MD,Carrollton Ridge,Southern,934,9,D8,Southwest Baltimore,Census Tract 2003,Tri-District,21223,True,False\n245,5F01020A5FEEBA44,2021/01/01 05:58:59+00,Medium,CD,BURGLARY,P210010271,2500 BROOKFIELD AV,2500 BROOKFIELD AV BALTIMORE MD,Reservoir Hill,Central,133,7,D2,Penn North/Reservoir Hill,Census Tract 1301,,21217,True,False\n246,9C01020A5FEEBA8A,2021/01/01 06:00:00+00,Non-Emergency,SW,DIRECTED PATROL,P210010263,4900 WESTHILLS RD,4900 WESTHILLS RD BALTIMORE MD,West Hills,Southwestern,823,8,D10,Beechfield/Ten Hills/West Hills,Census Tract 2804.01,,21229,True,False\n247,9C01020A5FEEBA8B,2021/01/01 06:00:00+00,Non-Emergency,ED,Personal Relief,P210010264,EASTERN DISTRICT,EASTERN DISTRICT BALTIMORE MD,Berea,Eastern,332,13,D5,Clifton-Berea,Census Tract 802,,21213,True,False\n248,5601020A5FEEBA9E,2021/01/01 06:01:00+00,High,NW,COMMON ASSAULT,P210010270,3200 FERNDALE AV,3200 FERNDALE AV BALTIMORE MD,Howard Park,Northwestern,622,8,D9,Howard Park/West Arlington,Census Tract 2802,,21207,True,False\n249,5701020A5FEEBAC6,2021/01/01 06:01:00+00,Medium,SD,DISORDERLY,P210010273,2400 DORTON CT,2400 DORTON CT BALTIMORE MD,Westport,Southern,921,10,D7,Westport/Mount Winans/Lakeland,Census Tract 2503.01,,21230,True,False\n250,6301020A5FEEBAF6,2021/01/01 06:01:59+00,Medium,ND,DISORDERLY,P210010274,1100 HOMESTEAD ST,1100 HOMESTEAD ST BALTIMORE MD,Better Waverly,Northern,513,14,D5,The Waverlies,Census Tract 905,,21218,True,False\n251,6401020A5FEEBAF4,2021/01/01 06:01:59+00,Low,SW,911/NO  VOICE,P210010272,400 RANDOM RD,400 RANDOM RD BALTIMORE MD,Beechfield,Southwestern,833,8,D10,Beechfield/Ten Hills/West Hills,Census Tract 2501.01,,21229,True,False\n252,9C01020A5FEEBAD9,2021/01/01 06:01:59+00,Non-Emergency,SW,Business Check,P210010267,3400 CLIFTON AV,3400 CLIFTON AV BALTIMORE MD,Mount Holly,Southwestern,812,7,D9,Greater Rosemont,Census Tract 1506,,21216,True,False\n253,9C01020A5FEEBAE1,2021/01/01 06:01:59+00,Non-Emergency,SW,Business Check,P210010268,3400 CLIFTON AV,3400 CLIFTON AV BALTIMORE MD,Mount Holly,Southwestern,812,7,D9,Forest Park/Walbrook,Census Tract 1508,,21216,True,False\n254,9C01020A5FEEBAFA,2021/01/01 06:01:59+00,High,SD,ShotSpot Alert,P210010269,1100 CARROLL ST,1100 CARROLL ST BALTIMORE MD,Washington Village/Pigtown,Southern,932,10,D7,Washington Village/Pigtown,Census Tract 2102,,21230,True,False\n255,5501020A5FEEBB21,2021/01/01 06:03:00+00,Medium,SD,DISORDERLY,P210010276,2400 DORTON CT,2400 DORTON CT BALTIMORE MD,Westport,Southern,921,10,D7,Westport/Mount Winans/Lakeland,Census Tract 2503.01,,21230,True,False\n256,5601020A5FEEBB5E,2021/01/01 06:04:00+00,Low,WD,911/NO  VOICE,P210010280,2700 W NORTH AV,2700 W NORTH AV BALTIMORE MD,Mondawmin,Western,731,7,D9,Greater Rosemont,Census Tract 1506,,21216,True,False\n257,9C01020A5FEEBB80,2021/01/01 06:04:00+00,Non-Emergency,NW,Business Check,P210010275,4000 W NORTHERN PY,4000 W NORTHERN PY BALTIMORE MD,Woodmere,Northwestern,623,5,D1,Glen-Fallstaff,Census Tract 2719,,21215,True,False\n258,9C01020A5FEEBBB3,2021/01/01 06:04:59+00,Non-Emergency,WD,DIRECTED PATROL,P210010277,1600 MORELAND AV,1600 MORELAND AV BALTIMORE MD,Coppin Heights/Ash-Co-East,Western,723,7,D9,Greater Rosemont,Census Tract 1503,,21216,True,False\n259,9C01020A5FEEBBBC,2021/01/01 06:04:59+00,Non-Emergency,SW,Business Check,P210010278,5200 WINDSOR MILL RD,5200 WINDSOR MILL RD BALTIMORE MD,Franklintown,Southwestern,821,8,D9,Dickeyville/Franklintown,Census Tract 2803.01,,21207,True,False\n260,5401020A5FEEBBBD,2021/01/01 06:04:59+00,Medium,ND,FAMILY DISTURB,P210010286,4900 YORK RD,4900 YORK RD BALTIMORE MD,Winston-Govans,Northern,524,4,D2,Greater Govans,Census Tract 2710.02,,21212,False,False\n261,5501020A5FEEBBC7,2021/01/01 06:04:59+00,Non-Emergency,ND,LOUD MUSIC,P210010292,1000 WOODSON RD,1000 WOODSON RD BALTIMORE MD,Lake Walker,Northern,522,4,D2,Chinquapin Park/Belvedere,Census Tract 2708.04,,21212,True,False\n262,5701020A5FEEBBA7,2021/01/01 06:04:59+00,Medium,SD,DISORDERLY,P210010282,2400 DORTON CT,2400 DORTON CT BALTIMORE MD,Westport,Southern,921,10,D7,Westport/Mount Winans/Lakeland,Census Tract 2503.01,,21230,True,False\n263,6401020A5FEEBBCB,2021/01/01 06:06:00+00,Medium,SD,CHECK WELL BEING,P210010287,W PRATT ST/S CAREY ST,W PRATT ST and S CAREY ST BALTIMORE MD,Union Square,Southern,933,9,D7,Southwest Baltimore,Census Tract 2102,Tri-District,21223,True,False\n264,9C01020A5FEEBBD0,2021/01/01 06:06:00+00,Non-Emergency,SW,Traffic Stop,P210010279,2400 FREDERICK AV,2400 FREDERICK AV BALTIMORE MD,Shipley Hill,Southwestern,842,9,D8,Southwest Baltimore,Census Tract 2004,Tri-District,21223,True,False\n265,9C01020A5FEEBBEA,2021/01/01 06:06:00+00,Non-Emergency,NW,Business Check,P210010281,3300 CARLINS PARK DR,3300 CARLINS PARK DR BALTIMORE MD,Park Circle,Northwestern,612,7,D1,Greater Mondawmin,Census Tract 1505,,21215,True,False\n266,9C01020A5FEEBC0D,2021/01/01 06:07:00+00,Non-Emergency,WD,Business Check,P210010284,1300 PRESSTMAN ST,1300 PRESSTMAN ST BALTIMORE MD,Sandtown-Winchester,Western,743,7,D8,Sandtown-Winchester/Harlem Park,Census Tract 1501,,21217,True,False\n267,9C01020A5FEEBC11,2021/01/01 06:07:00+00,Non-Emergency,NW,Business Check,P210010285,4000 W NORTHERN PY,4000 W NORTHERN PY BALTIMORE MD,Glen,Northwestern,632,5,D1,Glen-Fallstaff,Census Tract 2719,,21215,True,False\n268,5901020A5FEEBC3C,2021/01/01 06:07:00+00,Low,ED,911/NO  VOICE,P210010288,3800 PULASKI HY,3800 PULASKI HY BALTIMORE MD,Orangeville,Eastern,333,2,D6,Orangeville/East Highlandtown,Census Tract 2604.04,,21224,True,False\n269,9C01020A5FEEBC52,2021/01/01 06:08:00+00,Non-Emergency,ND,Business Check,P210010289,900 W 36TH ST,900 W 36TH ST BALTIMORE MD,Hampden,Northern,531,14,D2,Medfield/Hampden/Woodberry/Remington,Census Tract 1306,,21211,True,False\n270,9C01020A5FEEBC5A,2021/01/01 06:08:00+00,Non-Emergency,WD,DIRECTED PATROL,P210010290,600 N MONROE ST,600 N MONROE ST BALTIMORE MD,Midtown-Edmondson,Western,722,9,D8,Sandtown-Winchester/Harlem Park,Census Tract 1604,,21223,True,False\n271,9C01020A5FEEBC62,2021/01/01 06:08:00+00,Non-Emergency,ND,Business Check,P210010291,3600 FALLS RD,3600 FALLS RD BALTIMORE MD,Hampden,Northern,531,7,D2,Medfield/Hampden/Woodberry/Remington,Census Tract 1306,,21211,True,False\n272,6301020A5FEEBC57,2021/01/01 06:08:00+00,Medium,SE,DISORDERLY,P210010297,500 N BOULDIN ST,500 N BOULDIN ST BALTIMORE MD,Ellwood Park/Monument,Southeastern,224,13,D6,Patterson Park North &amp; East,Census Tract 2610,,21205,True,False\n273,5701020A5FEEBC7D,2021/01/01 06:08:59+00,Medium,SE,DISORDERLY,P210010298,1000 ALICEANNA ST,1000 ALICEANNA ST BALTIMORE MD,Inner Harbor,Southeastern,211,1,D7,Harbor East/Little Italy,Census Tract 302,,21202,True,False\n274,6401020A5FEEBC86,2021/01/01 06:08:59+00,Medium,SW,DISORDERLY,P210010306,300 N WARWICK AV,300 N WARWICK AV BALTIMORE MD,Penrose/Fayette Street Outreach,Southwestern,842,9,D8,Southwest Baltimore,Census Tract 2002,,21223,True,False\n275,9C01020A5FEEBC90,2021/01/01 06:08:59+00,High,WD,ShotSpot Alert,P210010293,600 N FRANKLINTOWN RD,600 N FRANKLINTOWN RD BALTIMORE MD,Mosher,Western,721,9,D8,Greater Rosemont,Census Tract 1606,,21216,True,False\n276,9C01020A5FEEBCB5,2021/01/01 06:08:59+00,Non-Emergency,WD,Business Check,P210010294,1400 N FREMONT AV,1400 N FREMONT AV BALTIMORE MD,Sandtown-Winchester,Western,743,7,D8,Sandtown-Winchester/Harlem Park,Census Tract 1501,,21217,True,False\n277,9C01020A5FEEBCD1,2021/01/01 06:10:00+00,Non-Emergency,ND,Business Check,P210010295,900 W 36TH ST,900 W 36TH ST BALTIMORE MD,Hampden,Northern,531,14,D2,Medfield/Hampden/Woodberry/Remington,Census Tract 1306,,21211,True,False\n278,9C01020A5FEEBCD4,2021/01/01 06:10:00+00,Non-Emergency,NW,Business Check,P210010296,6900 REISTERSTOWN RD,6900 REISTERSTOWN RD BALTIMORE MD,Reisterstown Station,Northwestern,631,5,D1,Glen-Fallstaff,Census Tract 2801.01,,21215,True,False\n279,9C01020A5FEEBCE3,2021/01/01 06:10:00+00,Non-Emergency,SW,DIRECTED PATROL,P210010299,5200 WINDSOR MILL RD,5200 WINDSOR MILL RD BALTIMORE MD,Franklintown,Southwestern,821,8,D9,Dickeyville/Franklintown,Census Tract 2803.01,,21207,True,False\n280,9C01020A5FEEBCF2,2021/01/01 06:10:00+00,Non-Emergency,NW,Business Check,P210010300,5700 REISTERSTOWN RD,5700 REISTERSTOWN RD BALTIMORE MD,Glen,Northwestern,632,5,D1,Glen-Fallstaff,Census Tract 2719,,21215,True,False\n281,5601020A5FEEBCB8,2021/01/01 06:10:00+00,Medium,SD,DISORDERLY,P210010303,2500 BLK SOUTHDENE AV,2500 BLK SOUTHDENE AV BALTIMORE MD,Lakeland,Southern,923,10,D7,Westport/Mount Winans/Lakeland,Census Tract 2502.05,,21230,True,False\n282,5501020A5FEEBCEF,2021/01/01 06:10:00+00,Non-Emergency,SE,LOUD MUSIC,P210010312,3700 TOONE ST,3700 TOONE ST BALTIMORE MD,Canton Industrial Area,Southeastern,233,1,D6,Highlandtown,Census Tract 2609,,21224,True,False\n283,5701020A5FEEBD29,2021/01/01 06:11:00+00,High,SE,AGGRAV ASSAULT,P210010313,300 FORREST ST,300 FORREST ST BALTIMORE MD,Pleasant View Gardens,Southeastern,211,12,D7,Oldtown/Middle East,Census Tract 2805,,21202,True,False\n284,6301020A5FEEBD09,2021/01/01 06:11:00+00,Medium,WD,DISORDERLY,P210010309,2600 W NORTH AV,2600 W NORTH AV BALTIMORE MD,Mondawmin,Western,731,7,D9,Greater Rosemont,Census Tract 1506,,21216,True,False\n285,9C01020A5FEEBCFA,2021/01/01 06:11:00+00,Non-Emergency,SW,DIRECTED PATROL,P210010301,3100 W NORTH AV,3100 W NORTH AV BALTIMORE MD,Walbrook,Southwestern,811,7,D9,Greater Rosemont,Census Tract 1506,,21216,True,False\n286,9C01020A5FEEBD10,2021/01/01 06:11:00+00,Non-Emergency,ND,Business Check,P210010302,1100 W 41ST ST,1100 W 41ST ST BALTIMORE MD,Hampden,Northern,531,14,D2,Medfield/Hampden/Woodberry/Remington,Census Tract 1307,,21211,True,False\n287,9C01020A5FEEBD19,2021/01/01 06:11:00+00,Non-Emergency,NE,Business Check,P210010304,3800 CRESTLYN RD,3800 CRESTLYN RD BALTIMORE MD,Ednor Gardens-Lakeside,Northeastern,412,14,D2,Greater Govans,Census Tract 901,,21218,True,False\n288,9C01020A5FEEBD27,2021/01/01 06:11:00+00,High,NE,ShotSpot Alert,P210010305,3100 MAYFIELD AV,3100 MAYFIELD AV BALTIMORE MD,Belair-Edison,Northeastern,432,13,D5,Belair-Edison,Census Tract 2603.01,Northeastern,21213,True,False\n289,9C01020A5FEEBD39,2021/01/01 06:11:59+00,Non-Emergency,NE,Business Check,P210010307,1100 E COLD SPRING LN,1100 E COLD SPRING LN BALTIMORE MD,New Northwood,Northeastern,413,4,D2,Northwood,Census Tract 2709.01,,21239,True,False\n290,9C01020A5FEEBD63,2021/01/01 06:11:59+00,High,NE,ShotSpot Alert,P210010308,3600 LYNDALE AV,3600 LYNDALE AV BALTIMORE MD,Belair-Edison,Northeastern,434,13,D6,Belair-Edison,Census Tract 2603.02,,21213,True,False\n291,5601020A5FEEBD65,2021/01/01 06:11:59+00,High,SE,ARMED PERSON,P210010318,3300 LEVERTON AV,3300 LEVERTON AV BALTIMORE MD,Patterson Park Neighborhood,Southeastern,222,1,D6,Patterson Park North &amp; East,Census Tract 2610,,21224,True,False\n292,6301020A5FEEBD85,2021/01/01\n</div>",
       "datasetInfos": [],
       "metadata": {},
       "removedWidgets": [],
       "type": "html"
      }
     },
     "output_type": "display_data"
    }
   ],
   "source": [
    "%fs head /mnt/baltimore/911_Calls_for_Service_2021_.csv"
   ]
  },
  {
   "cell_type": "markdown",
   "metadata": {
    "application/vnd.databricks.v1+cell": {
     "cellMetadata": {
      "byteLimit": 2048000,
      "rowLimit": 10000
     },
     "inputWidgets": {},
     "nuid": "7691a65e-2871-4cd3-82b6-c0564f1a2a42",
     "showTitle": false,
     "title": ""
    }
   },
   "source": [
    "Then set a dedicated database to store tables. Let's call it Baltimore."
   ]
  },
  {
   "cell_type": "code",
   "execution_count": 0,
   "metadata": {
    "application/vnd.databricks.v1+cell": {
     "cellMetadata": {
      "byteLimit": 2048000,
      "implicitDf": true,
      "rowLimit": 10000
     },
     "inputWidgets": {},
     "nuid": "683a606e-3108-4ac2-9218-8dd64283cf06",
     "showTitle": false,
     "title": ""
    }
   },
   "outputs": [
    {
     "output_type": "display_data",
     "data": {
      "text/html": [
       "<style scoped>\n",
       "  .table-result-container {\n",
       "    max-height: 300px;\n",
       "    overflow: auto;\n",
       "  }\n",
       "  table, th, td {\n",
       "    border: 1px solid black;\n",
       "    border-collapse: collapse;\n",
       "  }\n",
       "  th, td {\n",
       "    padding: 5px;\n",
       "  }\n",
       "  th {\n",
       "    text-align: left;\n",
       "  }\n",
       "</style><div class='table-result-container'><table class='table-result'><thead style='background-color: white'><tr></tr></thead><tbody></tbody></table></div>"
      ]
     },
     "metadata": {
      "application/vnd.databricks.v1+output": {
       "addedWidgets": {},
       "aggData": [],
       "aggError": "",
       "aggOverflow": false,
       "aggSchema": [],
       "aggSeriesLimitReached": false,
       "aggType": "",
       "arguments": {},
       "columnCustomDisplayInfos": {},
       "data": [],
       "datasetInfos": [],
       "dbfsResultPath": null,
       "isJsonSchema": true,
       "metadata": {},
       "overflow": false,
       "plotOptions": {
        "customPlotOptions": {},
        "displayType": "table",
        "pivotAggregation": null,
        "pivotColumns": null,
        "xColumns": null,
        "yColumns": null
       },
       "removedWidgets": [],
       "schema": [],
       "type": "table"
      }
     },
     "output_type": "display_data"
    }
   ],
   "source": [
    "%sql\n",
    "\n",
    "CREATE DATABASE IF NOT EXISTS Baltimore"
   ]
  },
  {
   "cell_type": "code",
   "execution_count": 0,
   "metadata": {
    "application/vnd.databricks.v1+cell": {
     "cellMetadata": {
      "byteLimit": 2048000,
      "implicitDf": true,
      "rowLimit": 10000
     },
     "inputWidgets": {},
     "nuid": "1bf68f09-cf40-4c02-aaf7-049e0056f042",
     "showTitle": false,
     "title": ""
    }
   },
   "outputs": [
    {
     "output_type": "display_data",
     "data": {
      "text/html": [
       "<style scoped>\n",
       "  .table-result-container {\n",
       "    max-height: 300px;\n",
       "    overflow: auto;\n",
       "  }\n",
       "  table, th, td {\n",
       "    border: 1px solid black;\n",
       "    border-collapse: collapse;\n",
       "  }\n",
       "  th, td {\n",
       "    padding: 5px;\n",
       "  }\n",
       "  th {\n",
       "    text-align: left;\n",
       "  }\n",
       "</style><div class='table-result-container'><table class='table-result'><thead style='background-color: white'><tr></tr></thead><tbody></tbody></table></div>"
      ]
     },
     "metadata": {
      "application/vnd.databricks.v1+output": {
       "addedWidgets": {},
       "aggData": [],
       "aggError": "",
       "aggOverflow": false,
       "aggSchema": [],
       "aggSeriesLimitReached": false,
       "aggType": "",
       "arguments": {},
       "columnCustomDisplayInfos": {},
       "data": [],
       "datasetInfos": [],
       "dbfsResultPath": null,
       "isJsonSchema": true,
       "metadata": {},
       "overflow": false,
       "plotOptions": {
        "customPlotOptions": {},
        "displayType": "table",
        "pivotAggregation": null,
        "pivotColumns": null,
        "xColumns": null,
        "yColumns": null
       },
       "removedWidgets": [],
       "schema": [],
       "type": "table"
      }
     },
     "output_type": "display_data"
    }
   ],
   "source": [
    "%sql\n",
    "\n",
    "USE Baltimore"
   ]
  },
  {
   "cell_type": "markdown",
   "metadata": {
    "application/vnd.databricks.v1+cell": {
     "cellMetadata": {
      "byteLimit": 2048000,
      "rowLimit": 10000
     },
     "inputWidgets": {},
     "nuid": "6cb334e7-b214-484a-af99-9f668fa11738",
     "showTitle": false,
     "title": ""
    }
   },
   "source": [
    "Now create a table using SQL called 911_2021 so we can query it using SQL."
   ]
  },
  {
   "cell_type": "code",
   "execution_count": 0,
   "metadata": {
    "application/vnd.databricks.v1+cell": {
     "cellMetadata": {
      "byteLimit": 2048000,
      "implicitDf": true,
      "rowLimit": 10000
     },
     "inputWidgets": {},
     "nuid": "af0690ef-6ab7-4022-b1d6-e9af6a180e92",
     "showTitle": false,
     "title": ""
    }
   },
   "outputs": [
    {
     "output_type": "display_data",
     "data": {
      "text/html": [
       "<style scoped>\n",
       "  .table-result-container {\n",
       "    max-height: 300px;\n",
       "    overflow: auto;\n",
       "  }\n",
       "  table, th, td {\n",
       "    border: 1px solid black;\n",
       "    border-collapse: collapse;\n",
       "  }\n",
       "  th, td {\n",
       "    padding: 5px;\n",
       "  }\n",
       "  th {\n",
       "    text-align: left;\n",
       "  }\n",
       "</style><div class='table-result-container'><table class='table-result'><thead style='background-color: white'><tr></tr></thead><tbody></tbody></table></div>"
      ]
     },
     "metadata": {
      "application/vnd.databricks.v1+output": {
       "addedWidgets": {},
       "aggData": [],
       "aggError": "",
       "aggOverflow": false,
       "aggSchema": [],
       "aggSeriesLimitReached": false,
       "aggType": "",
       "arguments": {},
       "columnCustomDisplayInfos": {},
       "data": [],
       "datasetInfos": [],
       "dbfsResultPath": null,
       "isJsonSchema": true,
       "metadata": {},
       "overflow": false,
       "plotOptions": {
        "customPlotOptions": {},
        "displayType": "table",
        "pivotAggregation": null,
        "pivotColumns": null,
        "xColumns": null,
        "yColumns": null
       },
       "removedWidgets": [],
       "schema": [],
       "type": "table"
      }
     },
     "output_type": "display_data"
    }
   ],
   "source": [
    "%sql\n",
    "DROP TABLE IF EXISTS 911_2021;\n",
    "\n",
    "CREATE TABLE IF NOT EXISTS 911_2021\n",
    "USING csv\n",
    "OPTIONS (\n",
    "  header \"true\",\n",
    "  path \"/mnt/baltimore/911_Calls_for_Service_2021_.csv\",\n",
    "  inferSchema \"true\"\n",
    ")"
   ]
  },
  {
   "cell_type": "code",
   "execution_count": 0,
   "metadata": {
    "application/vnd.databricks.v1+cell": {
     "cellMetadata": {
      "byteLimit": 2048000,
      "implicitDf": true,
      "rowLimit": 10000
     },
     "inputWidgets": {},
     "nuid": "be66c37f-1923-4166-a9f8-5ef48d83381b",
     "showTitle": false,
     "title": ""
    }
   },
   "outputs": [
    {
     "output_type": "display_data",
     "data": {
      "text/html": [
       "<style scoped>\n",
       "  .table-result-container {\n",
       "    max-height: 300px;\n",
       "    overflow: auto;\n",
       "  }\n",
       "  table, th, td {\n",
       "    border: 1px solid black;\n",
       "    border-collapse: collapse;\n",
       "  }\n",
       "  th, td {\n",
       "    padding: 5px;\n",
       "  }\n",
       "  th {\n",
       "    text-align: left;\n",
       "  }\n",
       "</style><div class='table-result-container'><table class='table-result'><thead style='background-color: white'><tr></tr></thead><tbody></tbody></table></div>"
      ]
     },
     "metadata": {
      "application/vnd.databricks.v1+output": {
       "addedWidgets": {},
       "aggData": [],
       "aggError": "",
       "aggOverflow": false,
       "aggSchema": [],
       "aggSeriesLimitReached": false,
       "aggType": "",
       "arguments": {},
       "columnCustomDisplayInfos": {},
       "data": [],
       "datasetInfos": [],
       "dbfsResultPath": null,
       "isJsonSchema": true,
       "metadata": {},
       "overflow": false,
       "plotOptions": {
        "customPlotOptions": {},
        "displayType": "table",
        "pivotAggregation": null,
        "pivotColumns": null,
        "xColumns": null,
        "yColumns": null
       },
       "removedWidgets": [],
       "schema": [],
       "type": "table"
      }
     },
     "output_type": "display_data"
    }
   ],
   "source": [
    "%sql\n",
    "DROP TABLE IF EXISTS 911_2022;\n",
    "\n",
    "CREATE TABLE IF NOT EXISTS 911_2022\n",
    "USING csv\n",
    "OPTIONS (\n",
    "  header \"true\",\n",
    "  path \"/mnt/baltimore/911_Calls_for_Service_2022_New.csv\",\n",
    "  inferSchema \"true\"\n",
    ")"
   ]
  },
  {
   "cell_type": "code",
   "execution_count": 0,
   "metadata": {
    "application/vnd.databricks.v1+cell": {
     "cellMetadata": {
      "byteLimit": 2048000,
      "implicitDf": true,
      "rowLimit": 10000
     },
     "inputWidgets": {},
     "nuid": "7c7f74a8-a570-4180-b93a-49829dab2928",
     "showTitle": false,
     "title": ""
    }
   },
   "outputs": [
    {
     "output_type": "display_data",
     "data": {
      "text/html": [
       "<style scoped>\n",
       "  .table-result-container {\n",
       "    max-height: 300px;\n",
       "    overflow: auto;\n",
       "  }\n",
       "  table, th, td {\n",
       "    border: 1px solid black;\n",
       "    border-collapse: collapse;\n",
       "  }\n",
       "  th, td {\n",
       "    padding: 5px;\n",
       "  }\n",
       "  th {\n",
       "    text-align: left;\n",
       "  }\n",
       "</style><div class='table-result-container'><table class='table-result'><thead style='background-color: white'><tr><th>col_name</th><th>data_type</th><th>comment</th></tr></thead><tbody><tr><td>OBJECTID</td><td>int</td><td>null</td></tr><tr><td>callKey</td><td>string</td><td>null</td></tr><tr><td>callDateTime</td><td>string</td><td>null</td></tr><tr><td>priority</td><td>string</td><td>null</td></tr><tr><td>district</td><td>string</td><td>null</td></tr><tr><td>description</td><td>string</td><td>null</td></tr><tr><td>callNumber</td><td>string</td><td>null</td></tr><tr><td>incidentLocation</td><td>string</td><td>null</td></tr><tr><td>location</td><td>string</td><td>null</td></tr><tr><td>Neighborhood</td><td>string</td><td>null</td></tr><tr><td>PoliceDistrict</td><td>string</td><td>null</td></tr><tr><td>PolicePost</td><td>int</td><td>null</td></tr><tr><td>CouncilDistrict</td><td>int</td><td>null</td></tr><tr><td>SheriffDistricts</td><td>string</td><td>null</td></tr><tr><td>Community_Statistical_Areas</td><td>string</td><td>null</td></tr><tr><td>Census_Tracts</td><td>string</td><td>null</td></tr><tr><td>VRIZones</td><td>string</td><td>null</td></tr><tr><td>ZIPCode</td><td>int</td><td>null</td></tr><tr><td>NeedsSync</td><td>boolean</td><td>null</td></tr><tr><td>IsDeleted</td><td>boolean</td><td>null</td></tr></tbody></table></div>"
      ]
     },
     "metadata": {
      "application/vnd.databricks.v1+output": {
       "addedWidgets": {},
       "aggData": [],
       "aggError": "",
       "aggOverflow": false,
       "aggSchema": [],
       "aggSeriesLimitReached": false,
       "aggType": "",
       "arguments": {},
       "columnCustomDisplayInfos": {},
       "data": [
        [
         "OBJECTID",
         "int",
         null
        ],
        [
         "callKey",
         "string",
         null
        ],
        [
         "callDateTime",
         "string",
         null
        ],
        [
         "priority",
         "string",
         null
        ],
        [
         "district",
         "string",
         null
        ],
        [
         "description",
         "string",
         null
        ],
        [
         "callNumber",
         "string",
         null
        ],
        [
         "incidentLocation",
         "string",
         null
        ],
        [
         "location",
         "string",
         null
        ],
        [
         "Neighborhood",
         "string",
         null
        ],
        [
         "PoliceDistrict",
         "string",
         null
        ],
        [
         "PolicePost",
         "int",
         null
        ],
        [
         "CouncilDistrict",
         "int",
         null
        ],
        [
         "SheriffDistricts",
         "string",
         null
        ],
        [
         "Community_Statistical_Areas",
         "string",
         null
        ],
        [
         "Census_Tracts",
         "string",
         null
        ],
        [
         "VRIZones",
         "string",
         null
        ],
        [
         "ZIPCode",
         "int",
         null
        ],
        [
         "NeedsSync",
         "boolean",
         null
        ],
        [
         "IsDeleted",
         "boolean",
         null
        ]
       ],
       "datasetInfos": [],
       "dbfsResultPath": null,
       "isJsonSchema": true,
       "metadata": {},
       "overflow": false,
       "plotOptions": {
        "customPlotOptions": {},
        "displayType": "table",
        "pivotAggregation": null,
        "pivotColumns": null,
        "xColumns": null,
        "yColumns": null
       },
       "removedWidgets": [],
       "schema": [
        {
         "metadata": "{\"comment\":\"name of the column\"}",
         "name": "col_name",
         "type": "\"string\""
        },
        {
         "metadata": "{\"comment\":\"data type of the column\"}",
         "name": "data_type",
         "type": "\"string\""
        },
        {
         "metadata": "{\"comment\":\"comment of the column\"}",
         "name": "comment",
         "type": "\"string\""
        }
       ],
       "type": "table"
      }
     },
     "output_type": "display_data"
    }
   ],
   "source": [
    "%sql\n",
    "\n",
    "DESCRIBE 911_2021"
   ]
  },
  {
   "cell_type": "code",
   "execution_count": 0,
   "metadata": {
    "application/vnd.databricks.v1+cell": {
     "cellMetadata": {
      "byteLimit": 2048000,
      "implicitDf": true,
      "rowLimit": 10000
     },
     "inputWidgets": {},
     "nuid": "e12ae603-0195-45db-8191-f559f97bac15",
     "showTitle": false,
     "title": ""
    }
   },
   "outputs": [
    {
     "output_type": "display_data",
     "data": {
      "text/html": [
       "<style scoped>\n",
       "  .table-result-container {\n",
       "    max-height: 300px;\n",
       "    overflow: auto;\n",
       "  }\n",
       "  table, th, td {\n",
       "    border: 1px solid black;\n",
       "    border-collapse: collapse;\n",
       "  }\n",
       "  th, td {\n",
       "    padding: 5px;\n",
       "  }\n",
       "  th {\n",
       "    text-align: left;\n",
       "  }\n",
       "</style><div class='table-result-container'><table class='table-result'><thead style='background-color: white'><tr><th>col_name</th><th>data_type</th><th>comment</th></tr></thead><tbody><tr><td>recordId</td><td>int</td><td>null</td></tr><tr><td>callKey</td><td>string</td><td>null</td></tr><tr><td>callDateTime</td><td>string</td><td>null</td></tr><tr><td>priority</td><td>string</td><td>null</td></tr><tr><td>district</td><td>string</td><td>null</td></tr><tr><td>description</td><td>string</td><td>null</td></tr><tr><td>callNumber</td><td>string</td><td>null</td></tr><tr><td>incidentLocation</td><td>string</td><td>null</td></tr><tr><td>location</td><td>string</td><td>null</td></tr><tr><td>Neighborhood</td><td>string</td><td>null</td></tr><tr><td>PoliceDistrict</td><td>string</td><td>null</td></tr><tr><td>PolicePost</td><td>int</td><td>null</td></tr><tr><td>CouncilDistrict</td><td>int</td><td>null</td></tr><tr><td>SheriffDistricts</td><td>string</td><td>null</td></tr><tr><td>Community_Statistical_Areas</td><td>string</td><td>null</td></tr><tr><td>Census_Tracts</td><td>string</td><td>null</td></tr><tr><td>ZIPCode</td><td>int</td><td>null</td></tr><tr><td>ObjectId</td><td>int</td><td>null</td></tr></tbody></table></div>"
      ]
     },
     "metadata": {
      "application/vnd.databricks.v1+output": {
       "addedWidgets": {},
       "aggData": [],
       "aggError": "",
       "aggOverflow": false,
       "aggSchema": [],
       "aggSeriesLimitReached": false,
       "aggType": "",
       "arguments": {},
       "columnCustomDisplayInfos": {},
       "data": [
        [
         "recordId",
         "int",
         null
        ],
        [
         "callKey",
         "string",
         null
        ],
        [
         "callDateTime",
         "string",
         null
        ],
        [
         "priority",
         "string",
         null
        ],
        [
         "district",
         "string",
         null
        ],
        [
         "description",
         "string",
         null
        ],
        [
         "callNumber",
         "string",
         null
        ],
        [
         "incidentLocation",
         "string",
         null
        ],
        [
         "location",
         "string",
         null
        ],
        [
         "Neighborhood",
         "string",
         null
        ],
        [
         "PoliceDistrict",
         "string",
         null
        ],
        [
         "PolicePost",
         "int",
         null
        ],
        [
         "CouncilDistrict",
         "int",
         null
        ],
        [
         "SheriffDistricts",
         "string",
         null
        ],
        [
         "Community_Statistical_Areas",
         "string",
         null
        ],
        [
         "Census_Tracts",
         "string",
         null
        ],
        [
         "ZIPCode",
         "int",
         null
        ],
        [
         "ObjectId",
         "int",
         null
        ]
       ],
       "datasetInfos": [],
       "dbfsResultPath": null,
       "isJsonSchema": true,
       "metadata": {},
       "overflow": false,
       "plotOptions": {
        "customPlotOptions": {},
        "displayType": "table",
        "pivotAggregation": null,
        "pivotColumns": null,
        "xColumns": null,
        "yColumns": null
       },
       "removedWidgets": [],
       "schema": [
        {
         "metadata": "{\"comment\":\"name of the column\"}",
         "name": "col_name",
         "type": "\"string\""
        },
        {
         "metadata": "{\"comment\":\"data type of the column\"}",
         "name": "data_type",
         "type": "\"string\""
        },
        {
         "metadata": "{\"comment\":\"comment of the column\"}",
         "name": "comment",
         "type": "\"string\""
        }
       ],
       "type": "table"
      }
     },
     "output_type": "display_data"
    }
   ],
   "source": [
    "%sql\n",
    "\n",
    "DESCRIBE 911_2022"
   ]
  },
  {
   "cell_type": "markdown",
   "metadata": {
    "application/vnd.databricks.v1+cell": {
     "cellMetadata": {},
     "inputWidgets": {},
     "nuid": "98961769-8b19-4416-8c3f-62efe27d5459",
     "showTitle": false,
     "title": ""
    }
   },
   "source": [
    "## Running Spark SQL Quries"
   ]
  },
  {
   "cell_type": "code",
   "execution_count": 0,
   "metadata": {
    "application/vnd.databricks.v1+cell": {
     "cellMetadata": {
      "byteLimit": 2048000,
      "implicitDf": true,
      "rowLimit": 10000
     },
     "inputWidgets": {},
     "nuid": "d22fdee4-f121-4a71-a706-b55feea1a3cb",
     "showTitle": false,
     "title": ""
    }
   },
   "outputs": [
    {
     "output_type": "display_data",
     "data": {
      "text/html": [
       "<style scoped>\n",
       "  .table-result-container {\n",
       "    max-height: 300px;\n",
       "    overflow: auto;\n",
       "  }\n",
       "  table, th, td {\n",
       "    border: 1px solid black;\n",
       "    border-collapse: collapse;\n",
       "  }\n",
       "  th, td {\n",
       "    padding: 5px;\n",
       "  }\n",
       "  th {\n",
       "    text-align: left;\n",
       "  }\n",
       "</style><div class='table-result-container'><table class='table-result'><thead style='background-color: white'><tr><th>OBJECTID</th><th>callKey</th><th>callDateTime</th><th>priority</th><th>district</th><th>description</th><th>callNumber</th><th>incidentLocation</th><th>location</th><th>Neighborhood</th><th>PoliceDistrict</th><th>PolicePost</th><th>CouncilDistrict</th><th>SheriffDistricts</th><th>Community_Statistical_Areas</th><th>Census_Tracts</th><th>VRIZones</th><th>ZIPCode</th><th>NeedsSync</th><th>IsDeleted</th></tr></thead><tbody><tr><td>1</td><td>6301020A5FEEAC59</td><td>2021/01/01 05:00:00+00</td><td>High</td><td>WD</td><td>DISCHRG FIREARM</td><td>P210010012</td><td>2100 BLK EDMONDSON AV</td><td>2100 BLK EDMONDSON AV BALTIMORE MD</td><td>Midtown-Edmondson</td><td>Western</td><td>722</td><td>9</td><td>D8</td><td>Sandtown-Winchester/Harlem Park</td><td>Census Tract 1604</td><td>null</td><td>21223</td><td>true</td><td>false</td></tr><tr><td>2</td><td>29CC9DA95FEEAC72</td><td>2021/01/01 05:00:00+00</td><td>Non-Emergency</td><td>WD</td><td>SUPV COMPLAINT</td><td>P210010019</td><td>1300 HARLEM AV</td><td>1300 HARLEM AV BALTIMORE MD</td><td>Harlem Park</td><td>Western</td><td>713</td><td>9</td><td>D8</td><td>Sandtown-Winchester/Harlem Park</td><td>Census Tract 1602</td><td>Central</td><td>21217</td><td>false</td><td>false</td></tr><tr><td>3</td><td>5601020A5FEEAC7C</td><td>2021/01/01 05:00:00+00</td><td>Low</td><td>NE</td><td>911/NO  VOICE</td><td>P210010011</td><td>1900 E BELVEDERE AV</td><td>1900 E BELVEDERE AV BALTIMORE MD</td><td>Loch Raven</td><td>Northeastern</td><td>415</td><td>4</td><td>D3</td><td>Loch Raven</td><td>Census Tract 2708.03</td><td>null</td><td>21239</td><td>true</td><td>false</td></tr><tr><td>4</td><td>9C01020A5FEEAC67</td><td>2021/01/01 05:00:00+00</td><td>High</td><td>ND</td><td>ShotSpot Alert</td><td>P210010002</td><td>200 W NORTH AV</td><td>200 W NORTH AV BALTIMORE MD</td><td>Charles North</td><td>Central</td><td>141</td><td>12</td><td>D8</td><td>Midtown</td><td>Census Tract 1205</td><td>null</td><td>21201</td><td>true</td><td>false</td></tr><tr><td>5</td><td>5901020A5FEEAC81</td><td>2021/01/01 05:00:00+00</td><td>Low</td><td>NE</td><td>911/NO  VOICE</td><td>P210010008</td><td>1100 E COLD SPRING LN</td><td>1100 E COLD SPRING LN BALTIMORE MD</td><td>New Northwood</td><td>Northeastern</td><td>413</td><td>4</td><td>D2</td><td>Northwood</td><td>Census Tract 2709.01</td><td>null</td><td>21239</td><td>true</td><td>false</td></tr><tr><td>6</td><td>5901020A5FEEACA4</td><td>2021/01/01 05:00:59+00</td><td>Medium</td><td>SW</td><td>DISORDERLY</td><td>P210010010</td><td>1400 BLK N LONGWOOD ST</td><td>1400 BLK N LONGWOOD ST BALTIMORE MD</td><td>Rosemont</td><td>Southwestern</td><td>813</td><td>9</td><td>D9</td><td>Greater Rosemont</td><td>Census Tract 1607</td><td>null</td><td>21216</td><td>true</td><td>false</td></tr><tr><td>7</td><td>9C01020A5FEEACA2</td><td>2021/01/01 05:00:59+00</td><td>High</td><td>ND</td><td>DISCHRG FIREARM</td><td>P210010009</td><td>500 RICHWOOD AV</td><td>500 RICHWOOD AV BALTIMORE MD</td><td>Richnor Springs</td><td>Northern</td><td>524</td><td>4</td><td>D2</td><td>Greater Govans</td><td>Census Tract 2710.02</td><td>null</td><td>21212</td><td>true</td><td>false</td></tr><tr><td>8</td><td>5401020A5FEEACAE</td><td>2021/01/01 05:00:59+00</td><td>High</td><td>SD</td><td>DISCHRG FIREARM</td><td>P210010016</td><td>1100 BLK JAMES ST</td><td>1100 BLK JAMES ST BALTIMORE MD</td><td>Washington Village/Pigtown</td><td>Southern</td><td>932</td><td>10</td><td>D7</td><td>Washington Village/Pigtown</td><td>Census Tract 2102</td><td>null</td><td>21223</td><td>false</td><td>false</td></tr><tr><td>9</td><td>5A01020A5FEEAC9D</td><td>2021/01/01 05:00:59+00</td><td>Medium</td><td>SE</td><td>BURGLARY</td><td>P210010013</td><td>0 N CLINTON ST</td><td>0 N CLINTON ST BALTIMORE MD</td><td>Patterson Park Neighborhood</td><td>Southeastern</td><td>222</td><td>1</td><td>D6</td><td>Patterson Park North & East</td><td>Census Tract 2610</td><td>null</td><td>21224</td><td>true</td><td>false</td></tr><tr><td>10</td><td>5F01020A5FEEACB9</td><td>2021/01/01 05:00:59+00</td><td>Medium</td><td>SD</td><td>DISORDERLY</td><td>P210010030</td><td>4000 8TH ST</td><td>4000 8TH ST BALTIMORE MD</td><td>Brooklyn</td><td>Southern</td><td>913</td><td>10</td><td>D7</td><td>Brooklyn/Curtis Bay/Hawkins Point</td><td>Census Tract 2504.02</td><td>null</td><td>21225</td><td>true</td><td>false</td></tr></tbody></table></div>"
      ]
     },
     "metadata": {
      "application/vnd.databricks.v1+output": {
       "addedWidgets": {},
       "aggData": [],
       "aggError": "",
       "aggOverflow": false,
       "aggSchema": [],
       "aggSeriesLimitReached": false,
       "aggType": "",
       "arguments": {},
       "columnCustomDisplayInfos": {},
       "data": [
        [
         1,
         "6301020A5FEEAC59",
         "2021/01/01 05:00:00+00",
         "High",
         "WD",
         "DISCHRG FIREARM",
         "P210010012",
         "2100 BLK EDMONDSON AV",
         "2100 BLK EDMONDSON AV BALTIMORE MD",
         "Midtown-Edmondson",
         "Western",
         722,
         9,
         "D8",
         "Sandtown-Winchester/Harlem Park",
         "Census Tract 1604",
         null,
         21223,
         true,
         false
        ],
        [
         2,
         "29CC9DA95FEEAC72",
         "2021/01/01 05:00:00+00",
         "Non-Emergency",
         "WD",
         "SUPV COMPLAINT",
         "P210010019",
         "1300 HARLEM AV",
         "1300 HARLEM AV BALTIMORE MD",
         "Harlem Park",
         "Western",
         713,
         9,
         "D8",
         "Sandtown-Winchester/Harlem Park",
         "Census Tract 1602",
         "Central",
         21217,
         false,
         false
        ],
        [
         3,
         "5601020A5FEEAC7C",
         "2021/01/01 05:00:00+00",
         "Low",
         "NE",
         "911/NO  VOICE",
         "P210010011",
         "1900 E BELVEDERE AV",
         "1900 E BELVEDERE AV BALTIMORE MD",
         "Loch Raven",
         "Northeastern",
         415,
         4,
         "D3",
         "Loch Raven",
         "Census Tract 2708.03",
         null,
         21239,
         true,
         false
        ],
        [
         4,
         "9C01020A5FEEAC67",
         "2021/01/01 05:00:00+00",
         "High",
         "ND",
         "ShotSpot Alert",
         "P210010002",
         "200 W NORTH AV",
         "200 W NORTH AV BALTIMORE MD",
         "Charles North",
         "Central",
         141,
         12,
         "D8",
         "Midtown",
         "Census Tract 1205",
         null,
         21201,
         true,
         false
        ],
        [
         5,
         "5901020A5FEEAC81",
         "2021/01/01 05:00:00+00",
         "Low",
         "NE",
         "911/NO  VOICE",
         "P210010008",
         "1100 E COLD SPRING LN",
         "1100 E COLD SPRING LN BALTIMORE MD",
         "New Northwood",
         "Northeastern",
         413,
         4,
         "D2",
         "Northwood",
         "Census Tract 2709.01",
         null,
         21239,
         true,
         false
        ],
        [
         6,
         "5901020A5FEEACA4",
         "2021/01/01 05:00:59+00",
         "Medium",
         "SW",
         "DISORDERLY",
         "P210010010",
         "1400 BLK N LONGWOOD ST",
         "1400 BLK N LONGWOOD ST BALTIMORE MD",
         "Rosemont",
         "Southwestern",
         813,
         9,
         "D9",
         "Greater Rosemont",
         "Census Tract 1607",
         null,
         21216,
         true,
         false
        ],
        [
         7,
         "9C01020A5FEEACA2",
         "2021/01/01 05:00:59+00",
         "High",
         "ND",
         "DISCHRG FIREARM",
         "P210010009",
         "500 RICHWOOD AV",
         "500 RICHWOOD AV BALTIMORE MD",
         "Richnor Springs",
         "Northern",
         524,
         4,
         "D2",
         "Greater Govans",
         "Census Tract 2710.02",
         null,
         21212,
         true,
         false
        ],
        [
         8,
         "5401020A5FEEACAE",
         "2021/01/01 05:00:59+00",
         "High",
         "SD",
         "DISCHRG FIREARM",
         "P210010016",
         "1100 BLK JAMES ST",
         "1100 BLK JAMES ST BALTIMORE MD",
         "Washington Village/Pigtown",
         "Southern",
         932,
         10,
         "D7",
         "Washington Village/Pigtown",
         "Census Tract 2102",
         null,
         21223,
         false,
         false
        ],
        [
         9,
         "5A01020A5FEEAC9D",
         "2021/01/01 05:00:59+00",
         "Medium",
         "SE",
         "BURGLARY",
         "P210010013",
         "0 N CLINTON ST",
         "0 N CLINTON ST BALTIMORE MD",
         "Patterson Park Neighborhood",
         "Southeastern",
         222,
         1,
         "D6",
         "Patterson Park North & East",
         "Census Tract 2610",
         null,
         21224,
         true,
         false
        ],
        [
         10,
         "5F01020A5FEEACB9",
         "2021/01/01 05:00:59+00",
         "Medium",
         "SD",
         "DISORDERLY",
         "P210010030",
         "4000 8TH ST",
         "4000 8TH ST BALTIMORE MD",
         "Brooklyn",
         "Southern",
         913,
         10,
         "D7",
         "Brooklyn/Curtis Bay/Hawkins Point",
         "Census Tract 2504.02",
         null,
         21225,
         true,
         false
        ]
       ],
       "datasetInfos": [],
       "dbfsResultPath": null,
       "isJsonSchema": true,
       "metadata": {},
       "overflow": false,
       "plotOptions": {
        "customPlotOptions": {},
        "displayType": "table",
        "pivotAggregation": null,
        "pivotColumns": null,
        "xColumns": null,
        "yColumns": null
       },
       "removedWidgets": [],
       "schema": [
        {
         "metadata": "{}",
         "name": "OBJECTID",
         "type": "\"integer\""
        },
        {
         "metadata": "{}",
         "name": "callKey",
         "type": "\"string\""
        },
        {
         "metadata": "{}",
         "name": "callDateTime",
         "type": "\"string\""
        },
        {
         "metadata": "{}",
         "name": "priority",
         "type": "\"string\""
        },
        {
         "metadata": "{}",
         "name": "district",
         "type": "\"string\""
        },
        {
         "metadata": "{}",
         "name": "description",
         "type": "\"string\""
        },
        {
         "metadata": "{}",
         "name": "callNumber",
         "type": "\"string\""
        },
        {
         "metadata": "{}",
         "name": "incidentLocation",
         "type": "\"string\""
        },
        {
         "metadata": "{}",
         "name": "location",
         "type": "\"string\""
        },
        {
         "metadata": "{}",
         "name": "Neighborhood",
         "type": "\"string\""
        },
        {
         "metadata": "{}",
         "name": "PoliceDistrict",
         "type": "\"string\""
        },
        {
         "metadata": "{}",
         "name": "PolicePost",
         "type": "\"integer\""
        },
        {
         "metadata": "{}",
         "name": "CouncilDistrict",
         "type": "\"integer\""
        },
        {
         "metadata": "{}",
         "name": "SheriffDistricts",
         "type": "\"string\""
        },
        {
         "metadata": "{}",
         "name": "Community_Statistical_Areas",
         "type": "\"string\""
        },
        {
         "metadata": "{}",
         "name": "Census_Tracts",
         "type": "\"string\""
        },
        {
         "metadata": "{}",
         "name": "VRIZones",
         "type": "\"string\""
        },
        {
         "metadata": "{}",
         "name": "ZIPCode",
         "type": "\"integer\""
        },
        {
         "metadata": "{}",
         "name": "NeedsSync",
         "type": "\"boolean\""
        },
        {
         "metadata": "{}",
         "name": "IsDeleted",
         "type": "\"boolean\""
        }
       ],
       "type": "table"
      }
     },
     "output_type": "display_data"
    }
   ],
   "source": [
    "%sql\n",
    "\n",
    "SELECT * FROM 911_2021 LIMIT 10"
   ]
  },
  {
   "cell_type": "markdown",
   "metadata": {
    "application/vnd.databricks.v1+cell": {
     "cellMetadata": {},
     "inputWidgets": {},
     "nuid": "7bbcdf5f-24ce-4caa-b12c-879d4ccd04a5",
     "showTitle": false,
     "title": ""
    }
   },
   "source": [
    "Let's see which neighborhoods have the most fire calls in 2021."
   ]
  },
  {
   "cell_type": "code",
   "execution_count": 0,
   "metadata": {
    "application/vnd.databricks.v1+cell": {
     "cellMetadata": {
      "byteLimit": 2048000,
      "implicitDf": true,
      "rowLimit": 10000
     },
     "inputWidgets": {},
     "nuid": "dbdbb1f2-1aa0-4670-bd48-813716472d94",
     "showTitle": false,
     "title": ""
    }
   },
   "outputs": [
    {
     "output_type": "display_data",
     "data": {
      "text/html": [
       "<style scoped>\n",
       "  .table-result-container {\n",
       "    max-height: 300px;\n",
       "    overflow: auto;\n",
       "  }\n",
       "  table, th, td {\n",
       "    border: 1px solid black;\n",
       "    border-collapse: collapse;\n",
       "  }\n",
       "  th, td {\n",
       "    padding: 5px;\n",
       "  }\n",
       "  th {\n",
       "    text-align: left;\n",
       "  }\n",
       "</style><div class='table-result-container'><table class='table-result'><thead style='background-color: white'><tr><th>Neighborhood</th><th>count</th></tr></thead><tbody><tr><td>Downtown</td><td>53947</td></tr><tr><td>Sandtown-Winchester</td><td>39429</td></tr><tr><td>Brooklyn</td><td>33084</td></tr><tr><td>Central Park Heights</td><td>32041</td></tr><tr><td>Upton</td><td>27082</td></tr><tr><td>Frankford</td><td>27011</td></tr><tr><td>Carrollton Ridge</td><td>26657</td></tr><tr><td>Penn-Fallsway</td><td>25708</td></tr><tr><td>Belair-Edison</td><td>24148</td></tr><tr><td>Reisterstown Station</td><td>21866</td></tr><tr><td>McElderry Park</td><td>20710</td></tr><tr><td>East Baltimore Midway</td><td>19992</td></tr><tr><td>Woodmere</td><td>19530</td></tr><tr><td>Penrose/Fayette Street Outreach</td><td>19379</td></tr><tr><td>Penn North</td><td>18885</td></tr><tr><td>Baltimore Highlands</td><td>17194</td></tr><tr><td>Cherry Hill</td><td>17097</td></tr><tr><td>Broadway East</td><td>16954</td></tr><tr><td>Mondawmin</td><td>16617</td></tr><tr><td>Glen</td><td>16449</td></tr><tr><td>Washington Village/Pigtown</td><td>16214</td></tr><tr><td>Inner Harbor</td><td>15775</td></tr><tr><td>Ellwood Park/Monument</td><td>15106</td></tr><tr><td>Fells Point</td><td>15085</td></tr><tr><td>Poppleton</td><td>14659</td></tr><tr><td>Carroll - Camden Industrial Area</td><td>14652</td></tr><tr><td>Coldstream Homestead Montebello</td><td>14446</td></tr><tr><td>Morrell Park</td><td>14143</td></tr><tr><td>Arlington</td><td>14061</td></tr><tr><td>Lakeland</td><td>13659</td></tr><tr><td>Canton</td><td>13495</td></tr><tr><td>Harlem Park</td><td>13451</td></tr><tr><td>Irvington</td><td>13091</td></tr><tr><td>Pulaski Industrial Area</td><td>12979</td></tr><tr><td>Franklin Square</td><td>12909</td></tr><tr><td>Middle East</td><td>12908</td></tr><tr><td>Hampden</td><td>12885</td></tr><tr><td>Barclay</td><td>12493</td></tr><tr><td>Patterson Park Neighborhood</td><td>11977</td></tr><tr><td>Charles North</td><td>11929</td></tr><tr><td>Oliver</td><td>11858</td></tr><tr><td>Howard Park</td><td>11838</td></tr><tr><td>Mount Vernon</td><td>11489</td></tr><tr><td>Parkview/Woodbrook</td><td>11311</td></tr><tr><td>Mid-Town Belvedere</td><td>11245</td></tr><tr><td>Curtis Bay</td><td>11191</td></tr><tr><td>Dunbar-Broadway</td><td>10806</td></tr><tr><td>Riverside</td><td>10746</td></tr><tr><td>Berea</td><td>10206</td></tr><tr><td>Hollins Market</td><td>9804</td></tr><tr><td>Better Waverly</td><td>9761</td></tr><tr><td>Midtown-Edmondson</td><td>9596</td></tr><tr><td>Druid Heights</td><td>9588</td></tr><tr><td>Millhill</td><td>9587</td></tr><tr><td>Hamilton Hills</td><td>9586</td></tr><tr><td>Reservoir Hill</td><td>9319</td></tr><tr><td>Glen Oaks</td><td>9233</td></tr><tr><td>Orangeville</td><td>9176</td></tr><tr><td>Charles Village</td><td>9172</td></tr><tr><td>Gay Street</td><td>8959</td></tr><tr><td>Liberty Square</td><td>8784</td></tr><tr><td>Remington</td><td>8741</td></tr><tr><td>Milton-Montford</td><td>8551</td></tr><tr><td>Highlandtown</td><td>8495</td></tr><tr><td>Johnston Square</td><td>8331</td></tr><tr><td>Canton Industrial Area</td><td>8279</td></tr><tr><td>Bridgeview/Greenlawn</td><td>8150</td></tr><tr><td>Washington Hill</td><td>7916</td></tr><tr><td>South Clifton Park</td><td>7908</td></tr><tr><td>Dolfield</td><td>7644</td></tr><tr><td>Walbrook</td><td>7467</td></tr><tr><td>Mount Holly</td><td>7405</td></tr><tr><td>Rosemont</td><td>7320</td></tr><tr><td>Harwood</td><td>7212</td></tr><tr><td>Federal Hill</td><td>7146</td></tr><tr><td>Park Circle</td><td>7127</td></tr><tr><td>O'Donnell Heights</td><td>7058</td></tr><tr><td>CARE</td><td>6995</td></tr><tr><td>Rognel Heights</td><td>6958</td></tr><tr><td>Old Goucher</td><td>6931</td></tr><tr><td>Abell</td><td>6861</td></tr><tr><td>Homeland</td><td>6748</td></tr><tr><td>Bolton Hill</td><td>6656</td></tr><tr><td>Callaway-Garrison</td><td>6613</td></tr><tr><td>New Northwood</td><td>6541</td></tr><tr><td>Oldtown</td><td>6460</td></tr><tr><td>Madison Park</td><td>6251</td></tr><tr><td>Seton Business Park</td><td>6167</td></tr><tr><td>Easterwood</td><td>6090</td></tr><tr><td>Jonestown</td><td>6085</td></tr><tr><td>Coppin Heights/Ash-Co-East</td><td>6071</td></tr><tr><td>University Of Maryland</td><td>6043</td></tr><tr><td>Allendale</td><td>6014</td></tr><tr><td>Greektown</td><td>5829</td></tr><tr><td>Glenham-Belhar</td><td>5797</td></tr><tr><td>Middle Branch/Reedbird Parks</td><td>5734</td></tr><tr><td>Edgewood</td><td>5730</td></tr><tr><td>Forest Park</td><td>5711</td></tr><tr><td>New Southwest/Mount Clare</td><td>5691</td></tr><tr><td>Graceland Park</td><td>5647</td></tr><tr><td>Loch Raven</td><td>5611</td></tr><tr><td>Violetville</td><td>5599</td></tr><tr><td>Cheswolde</td><td>5583</td></tr><tr><td>Westport</td><td>5535</td></tr><tr><td>Coldspring</td><td>5527</td></tr><tr><td>Westfield</td><td>5512</td></tr><tr><td>Mosher</td><td>5323</td></tr><tr><td>Ednor Gardens-Lakeside</td><td>5276</td></tr><tr><td>Northwest Community Action</td><td>5243</td></tr><tr><td>Shipley Hill</td><td>5165</td></tr><tr><td>Pen Lucy</td><td>5131</td></tr><tr><td>Franklintown Road</td><td>5108</td></tr><tr><td>Seton Hill</td><td>5049</td></tr><tr><td>Parklane</td><td>5012</td></tr><tr><td>Hanlon-Longwood</td><td>4998</td></tr><tr><td>Madison-Eastend</td><td>4907</td></tr><tr><td>Roland Park</td><td>4905</td></tr><tr><td>Bayview</td><td>4697</td></tr><tr><td>Hopkins Bayview</td><td>4669</td></tr><tr><td>Wyman Park</td><td>4665</td></tr><tr><td>Fairfield Area</td><td>4639</td></tr><tr><td>Waltherson</td><td>4628</td></tr><tr><td>Downtown West</td><td>4567</td></tr><tr><td>Gwynns Falls</td><td>4546</td></tr><tr><td>Ashburton</td><td>4526</td></tr><tr><td>Fallstaff</td><td>4513</td></tr><tr><td>Armistead Gardens</td><td>4199</td></tr><tr><td>Central Forest Park</td><td>4147</td></tr><tr><td>Saint Josephs</td><td>4090</td></tr><tr><td>Locust Point Industrial Area</td><td>4080</td></tr><tr><td>Druid Hill Park</td><td>3981</td></tr><tr><td>Boyd-Booth</td><td>3962</td></tr><tr><td>North Harford Road</td><td>3918</td></tr><tr><td>Langston Hughes</td><td>3824</td></tr><tr><td>Towanda-Grantley</td><td>3801</td></tr><tr><td>Greenmount West</td><td>3787</td></tr><tr><td>Sharp-Leadenhall</td><td>3768</td></tr><tr><td>Clifton Park</td><td>3767</td></tr><tr><td>Broening Manor</td><td>3760</td></tr><tr><td>Lauraville</td><td>3732</td></tr><tr><td>Greenspring</td><td>3727</td></tr><tr><td>Waverly</td><td>3658</td></tr><tr><td>Medfield</td><td>3626</td></tr><tr><td>Edmondson Village</td><td>3603</td></tr><tr><td>Rosemont Homeowners/Tenants</td><td>3587</td></tr><tr><td>Brewers Hill</td><td>3486</td></tr><tr><td>Woodbourne-McCabe</td><td>3454</td></tr><tr><td>Franklintown</td><td>3415</td></tr><tr><td>Darley Park</td><td>3408</td></tr><tr><td>Medford</td><td>3378</td></tr><tr><td>Evergreen</td><td>3373</td></tr><tr><td>Garwyn Oaks</td><td>3371</td></tr><tr><td>Cross Country</td><td>3369</td></tr><tr><td>Levindale</td><td>3252</td></tr><tr><td>Dorchester</td><td>3206</td></tr><tr><td>Pimlico Good Neighbors</td><td>3197</td></tr><tr><td>Patterson Place</td><td>3178</td></tr><tr><td>Biddle Street</td><td>3162</td></tr><tr><td>Winston-Govans</td><td>3094</td></tr><tr><td>South Baltimore</td><td>3048</td></tr><tr><td>Otterbein</td><td>3024</td></tr><tr><td>West Arlington</td><td>2919</td></tr><tr><td>Cedonia</td><td>2867</td></tr><tr><td>Union Square</td><td>2800</td></tr><tr><td>Mid-Govans</td><td>2796</td></tr><tr><td>Pleasant View Gardens</td><td>2768</td></tr><tr><td>Saint Agnes</td><td>2687</td></tr><tr><td>Richnor Springs</td><td>2656</td></tr><tr><td>Radnor-Winston</td><td>2640</td></tr><tr><td>Upper Fells Point</td><td>2595</td></tr><tr><td>Beechfield</td><td>2565</td></tr><tr><td>Hunting Ridge</td><td>2518</td></tr><tr><td>Ridgely's Delight</td><td>2515</td></tr><tr><td>Cedmont</td><td>2444</td></tr><tr><td>Westgate</td><td>2395</td></tr><tr><td>Morgan State University</td><td>2378</td></tr><tr><td>Chinquapin Park</td><td>2355</td></tr><tr><td>Carroll-South Hilton</td><td>2278</td></tr><tr><td>Rosemont East</td><td>2201</td></tr><tr><td>Mount Washington</td><td>2176</td></tr><tr><td>Concerned Citizens Of Forest Park</td><td>2172</td></tr><tr><td>Wakefield</td><td>2130</td></tr><tr><td>Cylburn</td><td>2120</td></tr><tr><td>Winchester</td><td>2117</td></tr><tr><td>Yale Heights</td><td>2082</td></tr><tr><td>Hillen</td><td>2029</td></tr><tr><td>Kernewood</td><td>2025</td></tr><tr><td>West Forest Park</td><td>2015</td></tr><tr><td>Idlewood</td><td>1969</td></tr><tr><td>Oakenshawe</td><td>1963</td></tr><tr><td>Carroll Park</td><td>1962</td></tr><tr><td>Orchard Ridge</td><td>1954</td></tr><tr><td>Four By Four</td><td>1936</td></tr><tr><td>Wilson Park</td><td>1884</td></tr><tr><td>Ten Hills</td><td>1881</td></tr><tr><td>Little Italy</td><td>1840</td></tr><tr><td>Heritage Crossing</td><td>1802</td></tr><tr><td>Hawkins Point</td><td>1788</td></tr><tr><td>West Hills</td><td>1754</td></tr><tr><td>Perkins Homes</td><td>1740</td></tr><tr><td>York-Homeland</td><td>1712</td></tr><tr><td>Butcher's Hill</td><td>1693</td></tr><tr><td>Tremont</td><td>1685</td></tr><tr><td>Lucille Park</td><td>1676</td></tr><tr><td>East Arlington</td><td>1623</td></tr><tr><td>Kresson</td><td>1605</td></tr><tr><td>Windsor Hills</td><td>1603</td></tr><tr><td>Belair-Parkside</td><td>1589</td></tr><tr><td>Belvedere</td><td>1548</td></tr><tr><td>Wilhelm Park</td><td>1542</td></tr><tr><td>Jones Falls Area</td><td>1534</td></tr><tr><td>Panway/Braddish Avenue</td><td>1521</td></tr><tr><td>Grove Park</td><td>1518</td></tr><tr><td>Ramblewood</td><td>1511</td></tr><tr><td>Orangeville Industrial Area</td><td>1478</td></tr><tr><td>Perring Loch</td><td>1463</td></tr><tr><td>Parkside</td><td>1458</td></tr><tr><td>Woodbourne Heights</td><td>1376</td></tr><tr><td>Patterson Park</td><td>1346</td></tr><tr><td>Woodberry</td><td>1334</td></tr><tr><td>Arcadia</td><td>1330</td></tr><tr><td>Guilford</td><td>1299</td></tr><tr><td>Stadium Area</td><td>1264</td></tr><tr><td>Locust Point</td><td>1264</td></tr><tr><td>Uplands</td><td>1244</td></tr><tr><td>Rosebank</td><td>1212</td></tr><tr><td>Hoes Heights</td><td>1207</td></tr><tr><td>Lake Walker</td><td>1203</td></tr><tr><td>Fairmont</td><td>1165</td></tr><tr><td>Cameron Village</td><td>1164</td></tr><tr><td>Evergreen Lawn</td><td>1159</td></tr><tr><td>Cedarcroft</td><td>1148</td></tr><tr><td>Burleith-Leighton</td><td>1100</td></tr><tr><td>Mount Winans</td><td>1037</td></tr><tr><td>Lower Edmondson Village</td><td>960</td></tr><tr><td>Oaklee</td><td>935</td></tr><tr><td>Cross Keys</td><td>854</td></tr><tr><td>Gwynns Falls/Leakin Park</td><td>807</td></tr><tr><td>Kenilworth Park</td><td>786</td></tr><tr><td>Wrenlane</td><td>747</td></tr><tr><td>Stonewood-Pentwood-Winston</td><td>742</td></tr><tr><td>North Roland Park/Poplar Hill</td><td>721</td></tr><tr><td>Holabird Industrial Park</td><td>646</td></tr><tr><td>Original Northwood</td><td>631</td></tr><tr><td>Barre Circle</td><td>618</td></tr><tr><td>Moravia-Walther</td><td>602</td></tr><tr><td>Port Covington</td><td>600</td></tr><tr><td>Wyndhurst</td><td>591</td></tr><tr><td>Tuscany-Canterbury</td><td>586</td></tr><tr><td>Eastwood</td><td>578</td></tr><tr><td>Overlea</td><td>552</td></tr><tr><td>Beverly Hills</td><td>523</td></tr><tr><td>Montebello</td><td>511</td></tr><tr><td>Johns Hopkins Homewood</td><td>506</td></tr><tr><td>Mayfield</td><td>504</td></tr><tr><td>Herring Run Park</td><td>495</td></tr><tr><td>Spring Garden Industrial Area</td><td>493</td></tr><tr><td>Greenmount Cemetery</td><td>471</td></tr><tr><td>Purnell</td><td>444</td></tr><tr><td>Dickeyville</td><td>429</td></tr><tr><td>Saint Helena</td><td>395</td></tr><tr><td>Loyola/Notre Dame</td><td>336</td></tr><tr><td>Evesham Park</td><td>332</td></tr><tr><td>Keswick</td><td>283</td></tr><tr><td>Sabina-Mattfeldt</td><td>269</td></tr><tr><td>Curtis Bay Industrial Area</td><td>242</td></tr><tr><td>Mt Pleasant Park</td><td>211</td></tr><tr><td>Lake Evesham</td><td>208</td></tr><tr><td>Forest Park Golf Course</td><td>190</td></tr><tr><td>Lower Herring Run Park</td><td>189</td></tr><tr><td>The Orchards</td><td>168</td></tr><tr><td>Taylor Heights</td><td>160</td></tr><tr><td>Saint Paul</td><td>155</td></tr><tr><td>Bellona-Gittings</td><td>142</td></tr><tr><td>Morgan Park</td><td>136</td></tr><tr><td>Villages Of Homeland</td><td>88</td></tr><tr><td>Dundalk Marine Terminal</td><td>56</td></tr><tr><td>Blythewood</td><td>24</td></tr><tr><td>null</td><td>0</td></tr></tbody></table></div>"
      ]
     },
     "metadata": {
      "application/vnd.databricks.v1+output": {
       "addedWidgets": {},
       "aggData": [],
       "aggError": "",
       "aggOverflow": false,
       "aggSchema": [],
       "aggSeriesLimitReached": false,
       "aggType": "",
       "arguments": {},
       "columnCustomDisplayInfos": {},
       "data": [
        [
         "Downtown",
         53947
        ],
        [
         "Sandtown-Winchester",
         39429
        ],
        [
         "Brooklyn",
         33084
        ],
        [
         "Central Park Heights",
         32041
        ],
        [
         "Upton",
         27082
        ],
        [
         "Frankford",
         27011
        ],
        [
         "Carrollton Ridge",
         26657
        ],
        [
         "Penn-Fallsway",
         25708
        ],
        [
         "Belair-Edison",
         24148
        ],
        [
         "Reisterstown Station",
         21866
        ],
        [
         "McElderry Park",
         20710
        ],
        [
         "East Baltimore Midway",
         19992
        ],
        [
         "Woodmere",
         19530
        ],
        [
         "Penrose/Fayette Street Outreach",
         19379
        ],
        [
         "Penn North",
         18885
        ],
        [
         "Baltimore Highlands",
         17194
        ],
        [
         "Cherry Hill",
         17097
        ],
        [
         "Broadway East",
         16954
        ],
        [
         "Mondawmin",
         16617
        ],
        [
         "Glen",
         16449
        ],
        [
         "Washington Village/Pigtown",
         16214
        ],
        [
         "Inner Harbor",
         15775
        ],
        [
         "Ellwood Park/Monument",
         15106
        ],
        [
         "Fells Point",
         15085
        ],
        [
         "Poppleton",
         14659
        ],
        [
         "Carroll - Camden Industrial Area",
         14652
        ],
        [
         "Coldstream Homestead Montebello",
         14446
        ],
        [
         "Morrell Park",
         14143
        ],
        [
         "Arlington",
         14061
        ],
        [
         "Lakeland",
         13659
        ],
        [
         "Canton",
         13495
        ],
        [
         "Harlem Park",
         13451
        ],
        [
         "Irvington",
         13091
        ],
        [
         "Pulaski Industrial Area",
         12979
        ],
        [
         "Franklin Square",
         12909
        ],
        [
         "Middle East",
         12908
        ],
        [
         "Hampden",
         12885
        ],
        [
         "Barclay",
         12493
        ],
        [
         "Patterson Park Neighborhood",
         11977
        ],
        [
         "Charles North",
         11929
        ],
        [
         "Oliver",
         11858
        ],
        [
         "Howard Park",
         11838
        ],
        [
         "Mount Vernon",
         11489
        ],
        [
         "Parkview/Woodbrook",
         11311
        ],
        [
         "Mid-Town Belvedere",
         11245
        ],
        [
         "Curtis Bay",
         11191
        ],
        [
         "Dunbar-Broadway",
         10806
        ],
        [
         "Riverside",
         10746
        ],
        [
         "Berea",
         10206
        ],
        [
         "Hollins Market",
         9804
        ],
        [
         "Better Waverly",
         9761
        ],
        [
         "Midtown-Edmondson",
         9596
        ],
        [
         "Druid Heights",
         9588
        ],
        [
         "Millhill",
         9587
        ],
        [
         "Hamilton Hills",
         9586
        ],
        [
         "Reservoir Hill",
         9319
        ],
        [
         "Glen Oaks",
         9233
        ],
        [
         "Orangeville",
         9176
        ],
        [
         "Charles Village",
         9172
        ],
        [
         "Gay Street",
         8959
        ],
        [
         "Liberty Square",
         8784
        ],
        [
         "Remington",
         8741
        ],
        [
         "Milton-Montford",
         8551
        ],
        [
         "Highlandtown",
         8495
        ],
        [
         "Johnston Square",
         8331
        ],
        [
         "Canton Industrial Area",
         8279
        ],
        [
         "Bridgeview/Greenlawn",
         8150
        ],
        [
         "Washington Hill",
         7916
        ],
        [
         "South Clifton Park",
         7908
        ],
        [
         "Dolfield",
         7644
        ],
        [
         "Walbrook",
         7467
        ],
        [
         "Mount Holly",
         7405
        ],
        [
         "Rosemont",
         7320
        ],
        [
         "Harwood",
         7212
        ],
        [
         "Federal Hill",
         7146
        ],
        [
         "Park Circle",
         7127
        ],
        [
         "O'Donnell Heights",
         7058
        ],
        [
         "CARE",
         6995
        ],
        [
         "Rognel Heights",
         6958
        ],
        [
         "Old Goucher",
         6931
        ],
        [
         "Abell",
         6861
        ],
        [
         "Homeland",
         6748
        ],
        [
         "Bolton Hill",
         6656
        ],
        [
         "Callaway-Garrison",
         6613
        ],
        [
         "New Northwood",
         6541
        ],
        [
         "Oldtown",
         6460
        ],
        [
         "Madison Park",
         6251
        ],
        [
         "Seton Business Park",
         6167
        ],
        [
         "Easterwood",
         6090
        ],
        [
         "Jonestown",
         6085
        ],
        [
         "Coppin Heights/Ash-Co-East",
         6071
        ],
        [
         "University Of Maryland",
         6043
        ],
        [
         "Allendale",
         6014
        ],
        [
         "Greektown",
         5829
        ],
        [
         "Glenham-Belhar",
         5797
        ],
        [
         "Middle Branch/Reedbird Parks",
         5734
        ],
        [
         "Edgewood",
         5730
        ],
        [
         "Forest Park",
         5711
        ],
        [
         "New Southwest/Mount Clare",
         5691
        ],
        [
         "Graceland Park",
         5647
        ],
        [
         "Loch Raven",
         5611
        ],
        [
         "Violetville",
         5599
        ],
        [
         "Cheswolde",
         5583
        ],
        [
         "Westport",
         5535
        ],
        [
         "Coldspring",
         5527
        ],
        [
         "Westfield",
         5512
        ],
        [
         "Mosher",
         5323
        ],
        [
         "Ednor Gardens-Lakeside",
         5276
        ],
        [
         "Northwest Community Action",
         5243
        ],
        [
         "Shipley Hill",
         5165
        ],
        [
         "Pen Lucy",
         5131
        ],
        [
         "Franklintown Road",
         5108
        ],
        [
         "Seton Hill",
         5049
        ],
        [
         "Parklane",
         5012
        ],
        [
         "Hanlon-Longwood",
         4998
        ],
        [
         "Madison-Eastend",
         4907
        ],
        [
         "Roland Park",
         4905
        ],
        [
         "Bayview",
         4697
        ],
        [
         "Hopkins Bayview",
         4669
        ],
        [
         "Wyman Park",
         4665
        ],
        [
         "Fairfield Area",
         4639
        ],
        [
         "Waltherson",
         4628
        ],
        [
         "Downtown West",
         4567
        ],
        [
         "Gwynns Falls",
         4546
        ],
        [
         "Ashburton",
         4526
        ],
        [
         "Fallstaff",
         4513
        ],
        [
         "Armistead Gardens",
         4199
        ],
        [
         "Central Forest Park",
         4147
        ],
        [
         "Saint Josephs",
         4090
        ],
        [
         "Locust Point Industrial Area",
         4080
        ],
        [
         "Druid Hill Park",
         3981
        ],
        [
         "Boyd-Booth",
         3962
        ],
        [
         "North Harford Road",
         3918
        ],
        [
         "Langston Hughes",
         3824
        ],
        [
         "Towanda-Grantley",
         3801
        ],
        [
         "Greenmount West",
         3787
        ],
        [
         "Sharp-Leadenhall",
         3768
        ],
        [
         "Clifton Park",
         3767
        ],
        [
         "Broening Manor",
         3760
        ],
        [
         "Lauraville",
         3732
        ],
        [
         "Greenspring",
         3727
        ],
        [
         "Waverly",
         3658
        ],
        [
         "Medfield",
         3626
        ],
        [
         "Edmondson Village",
         3603
        ],
        [
         "Rosemont Homeowners/Tenants",
         3587
        ],
        [
         "Brewers Hill",
         3486
        ],
        [
         "Woodbourne-McCabe",
         3454
        ],
        [
         "Franklintown",
         3415
        ],
        [
         "Darley Park",
         3408
        ],
        [
         "Medford",
         3378
        ],
        [
         "Evergreen",
         3373
        ],
        [
         "Garwyn Oaks",
         3371
        ],
        [
         "Cross Country",
         3369
        ],
        [
         "Levindale",
         3252
        ],
        [
         "Dorchester",
         3206
        ],
        [
         "Pimlico Good Neighbors",
         3197
        ],
        [
         "Patterson Place",
         3178
        ],
        [
         "Biddle Street",
         3162
        ],
        [
         "Winston-Govans",
         3094
        ],
        [
         "South Baltimore",
         3048
        ],
        [
         "Otterbein",
         3024
        ],
        [
         "West Arlington",
         2919
        ],
        [
         "Cedonia",
         2867
        ],
        [
         "Union Square",
         2800
        ],
        [
         "Mid-Govans",
         2796
        ],
        [
         "Pleasant View Gardens",
         2768
        ],
        [
         "Saint Agnes",
         2687
        ],
        [
         "Richnor Springs",
         2656
        ],
        [
         "Radnor-Winston",
         2640
        ],
        [
         "Upper Fells Point",
         2595
        ],
        [
         "Beechfield",
         2565
        ],
        [
         "Hunting Ridge",
         2518
        ],
        [
         "Ridgely's Delight",
         2515
        ],
        [
         "Cedmont",
         2444
        ],
        [
         "Westgate",
         2395
        ],
        [
         "Morgan State University",
         2378
        ],
        [
         "Chinquapin Park",
         2355
        ],
        [
         "Carroll-South Hilton",
         2278
        ],
        [
         "Rosemont East",
         2201
        ],
        [
         "Mount Washington",
         2176
        ],
        [
         "Concerned Citizens Of Forest Park",
         2172
        ],
        [
         "Wakefield",
         2130
        ],
        [
         "Cylburn",
         2120
        ],
        [
         "Winchester",
         2117
        ],
        [
         "Yale Heights",
         2082
        ],
        [
         "Hillen",
         2029
        ],
        [
         "Kernewood",
         2025
        ],
        [
         "West Forest Park",
         2015
        ],
        [
         "Idlewood",
         1969
        ],
        [
         "Oakenshawe",
         1963
        ],
        [
         "Carroll Park",
         1962
        ],
        [
         "Orchard Ridge",
         1954
        ],
        [
         "Four By Four",
         1936
        ],
        [
         "Wilson Park",
         1884
        ],
        [
         "Ten Hills",
         1881
        ],
        [
         "Little Italy",
         1840
        ],
        [
         "Heritage Crossing",
         1802
        ],
        [
         "Hawkins Point",
         1788
        ],
        [
         "West Hills",
         1754
        ],
        [
         "Perkins Homes",
         1740
        ],
        [
         "York-Homeland",
         1712
        ],
        [
         "Butcher's Hill",
         1693
        ],
        [
         "Tremont",
         1685
        ],
        [
         "Lucille Park",
         1676
        ],
        [
         "East Arlington",
         1623
        ],
        [
         "Kresson",
         1605
        ],
        [
         "Windsor Hills",
         1603
        ],
        [
         "Belair-Parkside",
         1589
        ],
        [
         "Belvedere",
         1548
        ],
        [
         "Wilhelm Park",
         1542
        ],
        [
         "Jones Falls Area",
         1534
        ],
        [
         "Panway/Braddish Avenue",
         1521
        ],
        [
         "Grove Park",
         1518
        ],
        [
         "Ramblewood",
         1511
        ],
        [
         "Orangeville Industrial Area",
         1478
        ],
        [
         "Perring Loch",
         1463
        ],
        [
         "Parkside",
         1458
        ],
        [
         "Woodbourne Heights",
         1376
        ],
        [
         "Patterson Park",
         1346
        ],
        [
         "Woodberry",
         1334
        ],
        [
         "Arcadia",
         1330
        ],
        [
         "Guilford",
         1299
        ],
        [
         "Stadium Area",
         1264
        ],
        [
         "Locust Point",
         1264
        ],
        [
         "Uplands",
         1244
        ],
        [
         "Rosebank",
         1212
        ],
        [
         "Hoes Heights",
         1207
        ],
        [
         "Lake Walker",
         1203
        ],
        [
         "Fairmont",
         1165
        ],
        [
         "Cameron Village",
         1164
        ],
        [
         "Evergreen Lawn",
         1159
        ],
        [
         "Cedarcroft",
         1148
        ],
        [
         "Burleith-Leighton",
         1100
        ],
        [
         "Mount Winans",
         1037
        ],
        [
         "Lower Edmondson Village",
         960
        ],
        [
         "Oaklee",
         935
        ],
        [
         "Cross Keys",
         854
        ],
        [
         "Gwynns Falls/Leakin Park",
         807
        ],
        [
         "Kenilworth Park",
         786
        ],
        [
         "Wrenlane",
         747
        ],
        [
         "Stonewood-Pentwood-Winston",
         742
        ],
        [
         "North Roland Park/Poplar Hill",
         721
        ],
        [
         "Holabird Industrial Park",
         646
        ],
        [
         "Original Northwood",
         631
        ],
        [
         "Barre Circle",
         618
        ],
        [
         "Moravia-Walther",
         602
        ],
        [
         "Port Covington",
         600
        ],
        [
         "Wyndhurst",
         591
        ],
        [
         "Tuscany-Canterbury",
         586
        ],
        [
         "Eastwood",
         578
        ],
        [
         "Overlea",
         552
        ],
        [
         "Beverly Hills",
         523
        ],
        [
         "Montebello",
         511
        ],
        [
         "Johns Hopkins Homewood",
         506
        ],
        [
         "Mayfield",
         504
        ],
        [
         "Herring Run Park",
         495
        ],
        [
         "Spring Garden Industrial Area",
         493
        ],
        [
         "Greenmount Cemetery",
         471
        ],
        [
         "Purnell",
         444
        ],
        [
         "Dickeyville",
         429
        ],
        [
         "Saint Helena",
         395
        ],
        [
         "Loyola/Notre Dame",
         336
        ],
        [
         "Evesham Park",
         332
        ],
        [
         "Keswick",
         283
        ],
        [
         "Sabina-Mattfeldt",
         269
        ],
        [
         "Curtis Bay Industrial Area",
         242
        ],
        [
         "Mt Pleasant Park",
         211
        ],
        [
         "Lake Evesham",
         208
        ],
        [
         "Forest Park Golf Course",
         190
        ],
        [
         "Lower Herring Run Park",
         189
        ],
        [
         "The Orchards",
         168
        ],
        [
         "Taylor Heights",
         160
        ],
        [
         "Saint Paul",
         155
        ],
        [
         "Bellona-Gittings",
         142
        ],
        [
         "Morgan Park",
         136
        ],
        [
         "Villages Of Homeland",
         88
        ],
        [
         "Dundalk Marine Terminal",
         56
        ],
        [
         "Blythewood",
         24
        ],
        [
         null,
         0
        ]
       ],
       "datasetInfos": [],
       "dbfsResultPath": null,
       "isJsonSchema": true,
       "metadata": {},
       "overflow": false,
       "plotOptions": {
        "customPlotOptions": {},
        "displayType": "table",
        "pivotAggregation": null,
        "pivotColumns": null,
        "xColumns": null,
        "yColumns": null
       },
       "removedWidgets": [],
       "schema": [
        {
         "metadata": "{}",
         "name": "Neighborhood",
         "type": "\"string\""
        },
        {
         "metadata": "{}",
         "name": "count",
         "type": "\"long\""
        }
       ],
       "type": "table"
      }
     },
     "output_type": "display_data"
    }
   ],
   "source": [
    "%sql \n",
    "\n",
    "SELECT Neighborhood, COUNT(Neighborhood) as count \n",
    "FROM 911_2021\n",
    "GROUP BY Neighborhood\n",
    "ORDER BY count DESC"
   ]
  },
  {
   "cell_type": "markdown",
   "metadata": {
    "application/vnd.databricks.v1+cell": {
     "cellMetadata": {},
     "inputWidgets": {},
     "nuid": "a2204efb-a8c2-4bd7-a53e-9d49c12df499",
     "showTitle": false,
     "title": ""
    }
   },
   "source": [
    "## Visualizing Data"
   ]
  },
  {
   "cell_type": "markdown",
   "metadata": {
    "application/vnd.databricks.v1+cell": {
     "cellMetadata": {},
     "inputWidgets": {},
     "nuid": "d66d19a7-5e04-481e-8761-784fc0ce65cd",
     "showTitle": false,
     "title": ""
    }
   },
   "source": [
    "Let's use the built-in Databricks visualization to see which neighborhoods have the most 911 calls."
   ]
  },
  {
   "cell_type": "code",
   "execution_count": 0,
   "metadata": {
    "application/vnd.databricks.v1+cell": {
     "cellMetadata": {
      "byteLimit": 2048000,
      "implicitDf": true,
      "rowLimit": 10000
     },
     "inputWidgets": {},
     "nuid": "214e72a8-ac97-4fca-81b5-99e0b954a91d",
     "showTitle": false,
     "title": ""
    }
   },
   "outputs": [
    {
     "output_type": "display_data",
     "data": {
      "text/html": [
       "<style scoped>\n",
       "  .table-result-container {\n",
       "    max-height: 300px;\n",
       "    overflow: auto;\n",
       "  }\n",
       "  table, th, td {\n",
       "    border: 1px solid black;\n",
       "    border-collapse: collapse;\n",
       "  }\n",
       "  th, td {\n",
       "    padding: 5px;\n",
       "  }\n",
       "  th {\n",
       "    text-align: left;\n",
       "  }\n",
       "</style><div class='table-result-container'><table class='table-result'><thead style='background-color: white'><tr><th>Neighborhood</th><th>count</th></tr></thead><tbody><tr><td>Downtown</td><td>53947</td></tr><tr><td>Sandtown-Winchester</td><td>39429</td></tr><tr><td>Brooklyn</td><td>33084</td></tr><tr><td>Central Park Heights</td><td>32041</td></tr><tr><td>Upton</td><td>27082</td></tr><tr><td>Frankford</td><td>27011</td></tr><tr><td>Carrollton Ridge</td><td>26657</td></tr><tr><td>Penn-Fallsway</td><td>25708</td></tr><tr><td>Belair-Edison</td><td>24148</td></tr><tr><td>Reisterstown Station</td><td>21866</td></tr><tr><td>McElderry Park</td><td>20710</td></tr><tr><td>East Baltimore Midway</td><td>19992</td></tr><tr><td>Woodmere</td><td>19530</td></tr><tr><td>Penrose/Fayette Street Outreach</td><td>19379</td></tr><tr><td>Penn North</td><td>18885</td></tr><tr><td>Baltimore Highlands</td><td>17194</td></tr><tr><td>Cherry Hill</td><td>17097</td></tr><tr><td>Broadway East</td><td>16954</td></tr><tr><td>Mondawmin</td><td>16617</td></tr><tr><td>Glen</td><td>16449</td></tr><tr><td>Washington Village/Pigtown</td><td>16214</td></tr><tr><td>Inner Harbor</td><td>15775</td></tr><tr><td>Ellwood Park/Monument</td><td>15106</td></tr><tr><td>Fells Point</td><td>15085</td></tr><tr><td>Poppleton</td><td>14659</td></tr><tr><td>Carroll - Camden Industrial Area</td><td>14652</td></tr><tr><td>Coldstream Homestead Montebello</td><td>14446</td></tr><tr><td>Morrell Park</td><td>14143</td></tr><tr><td>Arlington</td><td>14061</td></tr><tr><td>Lakeland</td><td>13659</td></tr><tr><td>Canton</td><td>13495</td></tr><tr><td>Harlem Park</td><td>13451</td></tr><tr><td>Irvington</td><td>13091</td></tr><tr><td>Pulaski Industrial Area</td><td>12979</td></tr><tr><td>Franklin Square</td><td>12909</td></tr><tr><td>Middle East</td><td>12908</td></tr><tr><td>Hampden</td><td>12885</td></tr><tr><td>Barclay</td><td>12493</td></tr><tr><td>Patterson Park Neighborhood</td><td>11977</td></tr><tr><td>Charles North</td><td>11929</td></tr><tr><td>Oliver</td><td>11858</td></tr><tr><td>Howard Park</td><td>11838</td></tr><tr><td>Mount Vernon</td><td>11489</td></tr><tr><td>Parkview/Woodbrook</td><td>11311</td></tr><tr><td>Mid-Town Belvedere</td><td>11245</td></tr><tr><td>Curtis Bay</td><td>11191</td></tr><tr><td>Dunbar-Broadway</td><td>10806</td></tr><tr><td>Riverside</td><td>10746</td></tr><tr><td>Berea</td><td>10206</td></tr><tr><td>Hollins Market</td><td>9804</td></tr><tr><td>Better Waverly</td><td>9761</td></tr><tr><td>Midtown-Edmondson</td><td>9596</td></tr><tr><td>Druid Heights</td><td>9588</td></tr><tr><td>Millhill</td><td>9587</td></tr><tr><td>Hamilton Hills</td><td>9586</td></tr><tr><td>Reservoir Hill</td><td>9319</td></tr><tr><td>Glen Oaks</td><td>9233</td></tr><tr><td>Orangeville</td><td>9176</td></tr><tr><td>Charles Village</td><td>9172</td></tr><tr><td>Gay Street</td><td>8959</td></tr><tr><td>Liberty Square</td><td>8784</td></tr><tr><td>Remington</td><td>8741</td></tr><tr><td>Milton-Montford</td><td>8551</td></tr><tr><td>Highlandtown</td><td>8495</td></tr><tr><td>Johnston Square</td><td>8331</td></tr><tr><td>Canton Industrial Area</td><td>8279</td></tr><tr><td>Bridgeview/Greenlawn</td><td>8150</td></tr><tr><td>Washington Hill</td><td>7916</td></tr><tr><td>South Clifton Park</td><td>7908</td></tr><tr><td>Dolfield</td><td>7644</td></tr><tr><td>Walbrook</td><td>7467</td></tr><tr><td>Mount Holly</td><td>7405</td></tr><tr><td>Rosemont</td><td>7320</td></tr><tr><td>Harwood</td><td>7212</td></tr><tr><td>Federal Hill</td><td>7146</td></tr><tr><td>Park Circle</td><td>7127</td></tr><tr><td>O'Donnell Heights</td><td>7058</td></tr><tr><td>CARE</td><td>6995</td></tr><tr><td>Rognel Heights</td><td>6958</td></tr><tr><td>Old Goucher</td><td>6931</td></tr><tr><td>Abell</td><td>6861</td></tr><tr><td>Homeland</td><td>6748</td></tr><tr><td>Bolton Hill</td><td>6656</td></tr><tr><td>Callaway-Garrison</td><td>6613</td></tr><tr><td>New Northwood</td><td>6541</td></tr><tr><td>Oldtown</td><td>6460</td></tr><tr><td>Madison Park</td><td>6251</td></tr><tr><td>Seton Business Park</td><td>6167</td></tr><tr><td>Easterwood</td><td>6090</td></tr><tr><td>Jonestown</td><td>6085</td></tr><tr><td>Coppin Heights/Ash-Co-East</td><td>6071</td></tr><tr><td>University Of Maryland</td><td>6043</td></tr><tr><td>Allendale</td><td>6014</td></tr><tr><td>Greektown</td><td>5829</td></tr><tr><td>Glenham-Belhar</td><td>5797</td></tr><tr><td>Middle Branch/Reedbird Parks</td><td>5734</td></tr><tr><td>Edgewood</td><td>5730</td></tr><tr><td>Forest Park</td><td>5711</td></tr><tr><td>New Southwest/Mount Clare</td><td>5691</td></tr><tr><td>Graceland Park</td><td>5647</td></tr><tr><td>Loch Raven</td><td>5611</td></tr><tr><td>Violetville</td><td>5599</td></tr><tr><td>Cheswolde</td><td>5583</td></tr><tr><td>Westport</td><td>5535</td></tr><tr><td>Coldspring</td><td>5527</td></tr><tr><td>Westfield</td><td>5512</td></tr><tr><td>Mosher</td><td>5323</td></tr><tr><td>Ednor Gardens-Lakeside</td><td>5276</td></tr><tr><td>Northwest Community Action</td><td>5243</td></tr><tr><td>Shipley Hill</td><td>5165</td></tr><tr><td>Pen Lucy</td><td>5131</td></tr><tr><td>Franklintown Road</td><td>5108</td></tr><tr><td>Seton Hill</td><td>5049</td></tr><tr><td>Parklane</td><td>5012</td></tr><tr><td>Hanlon-Longwood</td><td>4998</td></tr><tr><td>Madison-Eastend</td><td>4907</td></tr><tr><td>Roland Park</td><td>4905</td></tr><tr><td>Bayview</td><td>4697</td></tr><tr><td>Hopkins Bayview</td><td>4669</td></tr><tr><td>Wyman Park</td><td>4665</td></tr><tr><td>Fairfield Area</td><td>4639</td></tr><tr><td>Waltherson</td><td>4628</td></tr><tr><td>Downtown West</td><td>4567</td></tr><tr><td>Gwynns Falls</td><td>4546</td></tr><tr><td>Ashburton</td><td>4526</td></tr><tr><td>Fallstaff</td><td>4513</td></tr><tr><td>Armistead Gardens</td><td>4199</td></tr><tr><td>Central Forest Park</td><td>4147</td></tr><tr><td>Saint Josephs</td><td>4090</td></tr><tr><td>Locust Point Industrial Area</td><td>4080</td></tr><tr><td>Druid Hill Park</td><td>3981</td></tr><tr><td>Boyd-Booth</td><td>3962</td></tr><tr><td>North Harford Road</td><td>3918</td></tr><tr><td>Langston Hughes</td><td>3824</td></tr><tr><td>Towanda-Grantley</td><td>3801</td></tr><tr><td>Greenmount West</td><td>3787</td></tr><tr><td>Sharp-Leadenhall</td><td>3768</td></tr><tr><td>Clifton Park</td><td>3767</td></tr><tr><td>Broening Manor</td><td>3760</td></tr><tr><td>Lauraville</td><td>3732</td></tr><tr><td>Greenspring</td><td>3727</td></tr><tr><td>Waverly</td><td>3658</td></tr><tr><td>Medfield</td><td>3626</td></tr><tr><td>Edmondson Village</td><td>3603</td></tr><tr><td>Rosemont Homeowners/Tenants</td><td>3587</td></tr><tr><td>Brewers Hill</td><td>3486</td></tr><tr><td>Woodbourne-McCabe</td><td>3454</td></tr><tr><td>Franklintown</td><td>3415</td></tr><tr><td>Darley Park</td><td>3408</td></tr><tr><td>Medford</td><td>3378</td></tr><tr><td>Evergreen</td><td>3373</td></tr><tr><td>Garwyn Oaks</td><td>3371</td></tr><tr><td>Cross Country</td><td>3369</td></tr><tr><td>Levindale</td><td>3252</td></tr><tr><td>Dorchester</td><td>3206</td></tr><tr><td>Pimlico Good Neighbors</td><td>3197</td></tr><tr><td>Patterson Place</td><td>3178</td></tr><tr><td>Biddle Street</td><td>3162</td></tr><tr><td>Winston-Govans</td><td>3094</td></tr><tr><td>South Baltimore</td><td>3048</td></tr><tr><td>Otterbein</td><td>3024</td></tr><tr><td>West Arlington</td><td>2919</td></tr><tr><td>Cedonia</td><td>2867</td></tr><tr><td>Union Square</td><td>2800</td></tr><tr><td>Mid-Govans</td><td>2796</td></tr><tr><td>Pleasant View Gardens</td><td>2768</td></tr><tr><td>Saint Agnes</td><td>2687</td></tr><tr><td>Richnor Springs</td><td>2656</td></tr><tr><td>Radnor-Winston</td><td>2640</td></tr><tr><td>Upper Fells Point</td><td>2595</td></tr><tr><td>Beechfield</td><td>2565</td></tr><tr><td>Hunting Ridge</td><td>2518</td></tr><tr><td>Ridgely's Delight</td><td>2515</td></tr><tr><td>Cedmont</td><td>2444</td></tr><tr><td>Westgate</td><td>2395</td></tr><tr><td>Morgan State University</td><td>2378</td></tr><tr><td>Chinquapin Park</td><td>2355</td></tr><tr><td>Carroll-South Hilton</td><td>2278</td></tr><tr><td>Rosemont East</td><td>2201</td></tr><tr><td>Mount Washington</td><td>2176</td></tr><tr><td>Concerned Citizens Of Forest Park</td><td>2172</td></tr><tr><td>Wakefield</td><td>2130</td></tr><tr><td>Cylburn</td><td>2120</td></tr><tr><td>Winchester</td><td>2117</td></tr><tr><td>Yale Heights</td><td>2082</td></tr><tr><td>Hillen</td><td>2029</td></tr><tr><td>Kernewood</td><td>2025</td></tr><tr><td>West Forest Park</td><td>2015</td></tr><tr><td>Idlewood</td><td>1969</td></tr><tr><td>Oakenshawe</td><td>1963</td></tr><tr><td>Carroll Park</td><td>1962</td></tr><tr><td>Orchard Ridge</td><td>1954</td></tr><tr><td>Four By Four</td><td>1936</td></tr><tr><td>Wilson Park</td><td>1884</td></tr><tr><td>Ten Hills</td><td>1881</td></tr><tr><td>Little Italy</td><td>1840</td></tr><tr><td>Heritage Crossing</td><td>1802</td></tr><tr><td>Hawkins Point</td><td>1788</td></tr><tr><td>West Hills</td><td>1754</td></tr><tr><td>Perkins Homes</td><td>1740</td></tr><tr><td>York-Homeland</td><td>1712</td></tr><tr><td>Butcher's Hill</td><td>1693</td></tr><tr><td>Tremont</td><td>1685</td></tr><tr><td>Lucille Park</td><td>1676</td></tr><tr><td>East Arlington</td><td>1623</td></tr><tr><td>Kresson</td><td>1605</td></tr><tr><td>Windsor Hills</td><td>1603</td></tr><tr><td>Belair-Parkside</td><td>1589</td></tr><tr><td>Belvedere</td><td>1548</td></tr><tr><td>Wilhelm Park</td><td>1542</td></tr><tr><td>Jones Falls Area</td><td>1534</td></tr><tr><td>Panway/Braddish Avenue</td><td>1521</td></tr><tr><td>Grove Park</td><td>1518</td></tr><tr><td>Ramblewood</td><td>1511</td></tr><tr><td>Orangeville Industrial Area</td><td>1478</td></tr><tr><td>Perring Loch</td><td>1463</td></tr><tr><td>Parkside</td><td>1458</td></tr><tr><td>Woodbourne Heights</td><td>1376</td></tr><tr><td>Patterson Park</td><td>1346</td></tr><tr><td>Woodberry</td><td>1334</td></tr><tr><td>Arcadia</td><td>1330</td></tr><tr><td>Guilford</td><td>1299</td></tr><tr><td>Stadium Area</td><td>1264</td></tr><tr><td>Locust Point</td><td>1264</td></tr><tr><td>Uplands</td><td>1244</td></tr><tr><td>Rosebank</td><td>1212</td></tr><tr><td>Hoes Heights</td><td>1207</td></tr><tr><td>Lake Walker</td><td>1203</td></tr><tr><td>Fairmont</td><td>1165</td></tr><tr><td>Cameron Village</td><td>1164</td></tr><tr><td>Evergreen Lawn</td><td>1159</td></tr><tr><td>Cedarcroft</td><td>1148</td></tr><tr><td>Burleith-Leighton</td><td>1100</td></tr><tr><td>Mount Winans</td><td>1037</td></tr><tr><td>Lower Edmondson Village</td><td>960</td></tr><tr><td>Oaklee</td><td>935</td></tr><tr><td>Cross Keys</td><td>854</td></tr><tr><td>Gwynns Falls/Leakin Park</td><td>807</td></tr><tr><td>Kenilworth Park</td><td>786</td></tr><tr><td>Wrenlane</td><td>747</td></tr><tr><td>Stonewood-Pentwood-Winston</td><td>742</td></tr><tr><td>North Roland Park/Poplar Hill</td><td>721</td></tr><tr><td>Holabird Industrial Park</td><td>646</td></tr><tr><td>Original Northwood</td><td>631</td></tr><tr><td>Barre Circle</td><td>618</td></tr><tr><td>Moravia-Walther</td><td>602</td></tr><tr><td>Port Covington</td><td>600</td></tr><tr><td>Wyndhurst</td><td>591</td></tr><tr><td>Tuscany-Canterbury</td><td>586</td></tr><tr><td>Eastwood</td><td>578</td></tr><tr><td>Overlea</td><td>552</td></tr><tr><td>Beverly Hills</td><td>523</td></tr><tr><td>Montebello</td><td>511</td></tr><tr><td>Johns Hopkins Homewood</td><td>506</td></tr><tr><td>Mayfield</td><td>504</td></tr><tr><td>Herring Run Park</td><td>495</td></tr><tr><td>Spring Garden Industrial Area</td><td>493</td></tr><tr><td>Greenmount Cemetery</td><td>471</td></tr><tr><td>Purnell</td><td>444</td></tr><tr><td>Dickeyville</td><td>429</td></tr><tr><td>Saint Helena</td><td>395</td></tr><tr><td>Loyola/Notre Dame</td><td>336</td></tr><tr><td>Evesham Park</td><td>332</td></tr><tr><td>Keswick</td><td>283</td></tr><tr><td>Sabina-Mattfeldt</td><td>269</td></tr><tr><td>Curtis Bay Industrial Area</td><td>242</td></tr><tr><td>Mt Pleasant Park</td><td>211</td></tr><tr><td>Lake Evesham</td><td>208</td></tr><tr><td>Forest Park Golf Course</td><td>190</td></tr><tr><td>Lower Herring Run Park</td><td>189</td></tr><tr><td>The Orchards</td><td>168</td></tr><tr><td>Taylor Heights</td><td>160</td></tr><tr><td>Saint Paul</td><td>155</td></tr><tr><td>Bellona-Gittings</td><td>142</td></tr><tr><td>Morgan Park</td><td>136</td></tr><tr><td>Villages Of Homeland</td><td>88</td></tr><tr><td>Dundalk Marine Terminal</td><td>56</td></tr><tr><td>Blythewood</td><td>24</td></tr><tr><td>null</td><td>0</td></tr></tbody></table></div>"
      ]
     },
     "metadata": {
      "application/vnd.databricks.v1+output": {
       "addedWidgets": {},
       "aggData": [],
       "aggError": "",
       "aggOverflow": false,
       "aggSchema": [],
       "aggSeriesLimitReached": false,
       "aggType": "",
       "arguments": {},
       "columnCustomDisplayInfos": {},
       "data": [
        [
         "Downtown",
         53947
        ],
        [
         "Sandtown-Winchester",
         39429
        ],
        [
         "Brooklyn",
         33084
        ],
        [
         "Central Park Heights",
         32041
        ],
        [
         "Upton",
         27082
        ],
        [
         "Frankford",
         27011
        ],
        [
         "Carrollton Ridge",
         26657
        ],
        [
         "Penn-Fallsway",
         25708
        ],
        [
         "Belair-Edison",
         24148
        ],
        [
         "Reisterstown Station",
         21866
        ],
        [
         "McElderry Park",
         20710
        ],
        [
         "East Baltimore Midway",
         19992
        ],
        [
         "Woodmere",
         19530
        ],
        [
         "Penrose/Fayette Street Outreach",
         19379
        ],
        [
         "Penn North",
         18885
        ],
        [
         "Baltimore Highlands",
         17194
        ],
        [
         "Cherry Hill",
         17097
        ],
        [
         "Broadway East",
         16954
        ],
        [
         "Mondawmin",
         16617
        ],
        [
         "Glen",
         16449
        ],
        [
         "Washington Village/Pigtown",
         16214
        ],
        [
         "Inner Harbor",
         15775
        ],
        [
         "Ellwood Park/Monument",
         15106
        ],
        [
         "Fells Point",
         15085
        ],
        [
         "Poppleton",
         14659
        ],
        [
         "Carroll - Camden Industrial Area",
         14652
        ],
        [
         "Coldstream Homestead Montebello",
         14446
        ],
        [
         "Morrell Park",
         14143
        ],
        [
         "Arlington",
         14061
        ],
        [
         "Lakeland",
         13659
        ],
        [
         "Canton",
         13495
        ],
        [
         "Harlem Park",
         13451
        ],
        [
         "Irvington",
         13091
        ],
        [
         "Pulaski Industrial Area",
         12979
        ],
        [
         "Franklin Square",
         12909
        ],
        [
         "Middle East",
         12908
        ],
        [
         "Hampden",
         12885
        ],
        [
         "Barclay",
         12493
        ],
        [
         "Patterson Park Neighborhood",
         11977
        ],
        [
         "Charles North",
         11929
        ],
        [
         "Oliver",
         11858
        ],
        [
         "Howard Park",
         11838
        ],
        [
         "Mount Vernon",
         11489
        ],
        [
         "Parkview/Woodbrook",
         11311
        ],
        [
         "Mid-Town Belvedere",
         11245
        ],
        [
         "Curtis Bay",
         11191
        ],
        [
         "Dunbar-Broadway",
         10806
        ],
        [
         "Riverside",
         10746
        ],
        [
         "Berea",
         10206
        ],
        [
         "Hollins Market",
         9804
        ],
        [
         "Better Waverly",
         9761
        ],
        [
         "Midtown-Edmondson",
         9596
        ],
        [
         "Druid Heights",
         9588
        ],
        [
         "Millhill",
         9587
        ],
        [
         "Hamilton Hills",
         9586
        ],
        [
         "Reservoir Hill",
         9319
        ],
        [
         "Glen Oaks",
         9233
        ],
        [
         "Orangeville",
         9176
        ],
        [
         "Charles Village",
         9172
        ],
        [
         "Gay Street",
         8959
        ],
        [
         "Liberty Square",
         8784
        ],
        [
         "Remington",
         8741
        ],
        [
         "Milton-Montford",
         8551
        ],
        [
         "Highlandtown",
         8495
        ],
        [
         "Johnston Square",
         8331
        ],
        [
         "Canton Industrial Area",
         8279
        ],
        [
         "Bridgeview/Greenlawn",
         8150
        ],
        [
         "Washington Hill",
         7916
        ],
        [
         "South Clifton Park",
         7908
        ],
        [
         "Dolfield",
         7644
        ],
        [
         "Walbrook",
         7467
        ],
        [
         "Mount Holly",
         7405
        ],
        [
         "Rosemont",
         7320
        ],
        [
         "Harwood",
         7212
        ],
        [
         "Federal Hill",
         7146
        ],
        [
         "Park Circle",
         7127
        ],
        [
         "O'Donnell Heights",
         7058
        ],
        [
         "CARE",
         6995
        ],
        [
         "Rognel Heights",
         6958
        ],
        [
         "Old Goucher",
         6931
        ],
        [
         "Abell",
         6861
        ],
        [
         "Homeland",
         6748
        ],
        [
         "Bolton Hill",
         6656
        ],
        [
         "Callaway-Garrison",
         6613
        ],
        [
         "New Northwood",
         6541
        ],
        [
         "Oldtown",
         6460
        ],
        [
         "Madison Park",
         6251
        ],
        [
         "Seton Business Park",
         6167
        ],
        [
         "Easterwood",
         6090
        ],
        [
         "Jonestown",
         6085
        ],
        [
         "Coppin Heights/Ash-Co-East",
         6071
        ],
        [
         "University Of Maryland",
         6043
        ],
        [
         "Allendale",
         6014
        ],
        [
         "Greektown",
         5829
        ],
        [
         "Glenham-Belhar",
         5797
        ],
        [
         "Middle Branch/Reedbird Parks",
         5734
        ],
        [
         "Edgewood",
         5730
        ],
        [
         "Forest Park",
         5711
        ],
        [
         "New Southwest/Mount Clare",
         5691
        ],
        [
         "Graceland Park",
         5647
        ],
        [
         "Loch Raven",
         5611
        ],
        [
         "Violetville",
         5599
        ],
        [
         "Cheswolde",
         5583
        ],
        [
         "Westport",
         5535
        ],
        [
         "Coldspring",
         5527
        ],
        [
         "Westfield",
         5512
        ],
        [
         "Mosher",
         5323
        ],
        [
         "Ednor Gardens-Lakeside",
         5276
        ],
        [
         "Northwest Community Action",
         5243
        ],
        [
         "Shipley Hill",
         5165
        ],
        [
         "Pen Lucy",
         5131
        ],
        [
         "Franklintown Road",
         5108
        ],
        [
         "Seton Hill",
         5049
        ],
        [
         "Parklane",
         5012
        ],
        [
         "Hanlon-Longwood",
         4998
        ],
        [
         "Madison-Eastend",
         4907
        ],
        [
         "Roland Park",
         4905
        ],
        [
         "Bayview",
         4697
        ],
        [
         "Hopkins Bayview",
         4669
        ],
        [
         "Wyman Park",
         4665
        ],
        [
         "Fairfield Area",
         4639
        ],
        [
         "Waltherson",
         4628
        ],
        [
         "Downtown West",
         4567
        ],
        [
         "Gwynns Falls",
         4546
        ],
        [
         "Ashburton",
         4526
        ],
        [
         "Fallstaff",
         4513
        ],
        [
         "Armistead Gardens",
         4199
        ],
        [
         "Central Forest Park",
         4147
        ],
        [
         "Saint Josephs",
         4090
        ],
        [
         "Locust Point Industrial Area",
         4080
        ],
        [
         "Druid Hill Park",
         3981
        ],
        [
         "Boyd-Booth",
         3962
        ],
        [
         "North Harford Road",
         3918
        ],
        [
         "Langston Hughes",
         3824
        ],
        [
         "Towanda-Grantley",
         3801
        ],
        [
         "Greenmount West",
         3787
        ],
        [
         "Sharp-Leadenhall",
         3768
        ],
        [
         "Clifton Park",
         3767
        ],
        [
         "Broening Manor",
         3760
        ],
        [
         "Lauraville",
         3732
        ],
        [
         "Greenspring",
         3727
        ],
        [
         "Waverly",
         3658
        ],
        [
         "Medfield",
         3626
        ],
        [
         "Edmondson Village",
         3603
        ],
        [
         "Rosemont Homeowners/Tenants",
         3587
        ],
        [
         "Brewers Hill",
         3486
        ],
        [
         "Woodbourne-McCabe",
         3454
        ],
        [
         "Franklintown",
         3415
        ],
        [
         "Darley Park",
         3408
        ],
        [
         "Medford",
         3378
        ],
        [
         "Evergreen",
         3373
        ],
        [
         "Garwyn Oaks",
         3371
        ],
        [
         "Cross Country",
         3369
        ],
        [
         "Levindale",
         3252
        ],
        [
         "Dorchester",
         3206
        ],
        [
         "Pimlico Good Neighbors",
         3197
        ],
        [
         "Patterson Place",
         3178
        ],
        [
         "Biddle Street",
         3162
        ],
        [
         "Winston-Govans",
         3094
        ],
        [
         "South Baltimore",
         3048
        ],
        [
         "Otterbein",
         3024
        ],
        [
         "West Arlington",
         2919
        ],
        [
         "Cedonia",
         2867
        ],
        [
         "Union Square",
         2800
        ],
        [
         "Mid-Govans",
         2796
        ],
        [
         "Pleasant View Gardens",
         2768
        ],
        [
         "Saint Agnes",
         2687
        ],
        [
         "Richnor Springs",
         2656
        ],
        [
         "Radnor-Winston",
         2640
        ],
        [
         "Upper Fells Point",
         2595
        ],
        [
         "Beechfield",
         2565
        ],
        [
         "Hunting Ridge",
         2518
        ],
        [
         "Ridgely's Delight",
         2515
        ],
        [
         "Cedmont",
         2444
        ],
        [
         "Westgate",
         2395
        ],
        [
         "Morgan State University",
         2378
        ],
        [
         "Chinquapin Park",
         2355
        ],
        [
         "Carroll-South Hilton",
         2278
        ],
        [
         "Rosemont East",
         2201
        ],
        [
         "Mount Washington",
         2176
        ],
        [
         "Concerned Citizens Of Forest Park",
         2172
        ],
        [
         "Wakefield",
         2130
        ],
        [
         "Cylburn",
         2120
        ],
        [
         "Winchester",
         2117
        ],
        [
         "Yale Heights",
         2082
        ],
        [
         "Hillen",
         2029
        ],
        [
         "Kernewood",
         2025
        ],
        [
         "West Forest Park",
         2015
        ],
        [
         "Idlewood",
         1969
        ],
        [
         "Oakenshawe",
         1963
        ],
        [
         "Carroll Park",
         1962
        ],
        [
         "Orchard Ridge",
         1954
        ],
        [
         "Four By Four",
         1936
        ],
        [
         "Wilson Park",
         1884
        ],
        [
         "Ten Hills",
         1881
        ],
        [
         "Little Italy",
         1840
        ],
        [
         "Heritage Crossing",
         1802
        ],
        [
         "Hawkins Point",
         1788
        ],
        [
         "West Hills",
         1754
        ],
        [
         "Perkins Homes",
         1740
        ],
        [
         "York-Homeland",
         1712
        ],
        [
         "Butcher's Hill",
         1693
        ],
        [
         "Tremont",
         1685
        ],
        [
         "Lucille Park",
         1676
        ],
        [
         "East Arlington",
         1623
        ],
        [
         "Kresson",
         1605
        ],
        [
         "Windsor Hills",
         1603
        ],
        [
         "Belair-Parkside",
         1589
        ],
        [
         "Belvedere",
         1548
        ],
        [
         "Wilhelm Park",
         1542
        ],
        [
         "Jones Falls Area",
         1534
        ],
        [
         "Panway/Braddish Avenue",
         1521
        ],
        [
         "Grove Park",
         1518
        ],
        [
         "Ramblewood",
         1511
        ],
        [
         "Orangeville Industrial Area",
         1478
        ],
        [
         "Perring Loch",
         1463
        ],
        [
         "Parkside",
         1458
        ],
        [
         "Woodbourne Heights",
         1376
        ],
        [
         "Patterson Park",
         1346
        ],
        [
         "Woodberry",
         1334
        ],
        [
         "Arcadia",
         1330
        ],
        [
         "Guilford",
         1299
        ],
        [
         "Stadium Area",
         1264
        ],
        [
         "Locust Point",
         1264
        ],
        [
         "Uplands",
         1244
        ],
        [
         "Rosebank",
         1212
        ],
        [
         "Hoes Heights",
         1207
        ],
        [
         "Lake Walker",
         1203
        ],
        [
         "Fairmont",
         1165
        ],
        [
         "Cameron Village",
         1164
        ],
        [
         "Evergreen Lawn",
         1159
        ],
        [
         "Cedarcroft",
         1148
        ],
        [
         "Burleith-Leighton",
         1100
        ],
        [
         "Mount Winans",
         1037
        ],
        [
         "Lower Edmondson Village",
         960
        ],
        [
         "Oaklee",
         935
        ],
        [
         "Cross Keys",
         854
        ],
        [
         "Gwynns Falls/Leakin Park",
         807
        ],
        [
         "Kenilworth Park",
         786
        ],
        [
         "Wrenlane",
         747
        ],
        [
         "Stonewood-Pentwood-Winston",
         742
        ],
        [
         "North Roland Park/Poplar Hill",
         721
        ],
        [
         "Holabird Industrial Park",
         646
        ],
        [
         "Original Northwood",
         631
        ],
        [
         "Barre Circle",
         618
        ],
        [
         "Moravia-Walther",
         602
        ],
        [
         "Port Covington",
         600
        ],
        [
         "Wyndhurst",
         591
        ],
        [
         "Tuscany-Canterbury",
         586
        ],
        [
         "Eastwood",
         578
        ],
        [
         "Overlea",
         552
        ],
        [
         "Beverly Hills",
         523
        ],
        [
         "Montebello",
         511
        ],
        [
         "Johns Hopkins Homewood",
         506
        ],
        [
         "Mayfield",
         504
        ],
        [
         "Herring Run Park",
         495
        ],
        [
         "Spring Garden Industrial Area",
         493
        ],
        [
         "Greenmount Cemetery",
         471
        ],
        [
         "Purnell",
         444
        ],
        [
         "Dickeyville",
         429
        ],
        [
         "Saint Helena",
         395
        ],
        [
         "Loyola/Notre Dame",
         336
        ],
        [
         "Evesham Park",
         332
        ],
        [
         "Keswick",
         283
        ],
        [
         "Sabina-Mattfeldt",
         269
        ],
        [
         "Curtis Bay Industrial Area",
         242
        ],
        [
         "Mt Pleasant Park",
         211
        ],
        [
         "Lake Evesham",
         208
        ],
        [
         "Forest Park Golf Course",
         190
        ],
        [
         "Lower Herring Run Park",
         189
        ],
        [
         "The Orchards",
         168
        ],
        [
         "Taylor Heights",
         160
        ],
        [
         "Saint Paul",
         155
        ],
        [
         "Bellona-Gittings",
         142
        ],
        [
         "Morgan Park",
         136
        ],
        [
         "Villages Of Homeland",
         88
        ],
        [
         "Dundalk Marine Terminal",
         56
        ],
        [
         "Blythewood",
         24
        ],
        [
         null,
         0
        ]
       ],
       "datasetInfos": [],
       "dbfsResultPath": null,
       "isJsonSchema": true,
       "metadata": {},
       "overflow": false,
       "plotOptions": {
        "customPlotOptions": {},
        "displayType": "table",
        "pivotAggregation": null,
        "pivotColumns": null,
        "xColumns": null,
        "yColumns": null
       },
       "removedWidgets": [],
       "schema": [
        {
         "metadata": "{}",
         "name": "Neighborhood",
         "type": "\"string\""
        },
        {
         "metadata": "{}",
         "name": "count",
         "type": "\"long\""
        }
       ],
       "type": "table"
      }
     },
     "output_type": "display_data"
    },
    {
     "output_type": "display_data",
     "data": {
      "text/plain": [
       "Databricks visualization. Run in Databricks to view."
      ]
     },
     "metadata": {
      "application/vnd.databricks.v1.subcommand+json": {
       "bindings": {},
       "collapsed": false,
       "command": "%sql WITH q AS (SELECT Neighborhood, COUNT(Neighborhood) as count \nFROM 911_2021\nGROUP BY Neighborhood\nORDER BY count DESC) SELECT `Neighborhood`,SUM(`count`) `column_a02f87f1112` FROM q GROUP BY `Neighborhood`",
       "commandTitle": "Visualization 1",
       "commandType": "auto",
       "commandVersion": 0,
       "commentThread": [],
       "commentsVisible": false,
       "contentSha256Hex": null,
       "customPlotOptions": {
        "redashChart": [
         {
          "key": "type",
          "value": "CHART"
         },
         {
          "key": "options",
          "value": {
           "alignYAxesAtZero": true,
           "coefficient": 1,
           "columnConfigurationMap": {
            "x": {
             "column": "Neighborhood",
             "id": "column_a02f87f1110"
            },
            "y": [
             {
              "column": "count",
              "id": "column_a02f87f1112",
              "transform": "SUM"
             }
            ]
           },
           "dateTimeFormat": "DD/MM/YYYY HH:mm",
           "direction": {
            "type": "counterclockwise"
           },
           "error_y": {
            "type": "data",
            "visible": true
           },
           "globalSeriesType": "column",
           "isAggregationOn": true,
           "legend": {
            "traceorder": "normal"
           },
           "missingValuesAsZero": true,
           "numberFormat": "0,0[.]00000",
           "percentFormat": "0[.]00%",
           "series": {
            "error_y": {
             "type": "data",
             "visible": true
            },
            "stacking": null
           },
           "seriesOptions": {
            "column_a02f87f1112": {
             "type": "column",
             "yAxis": 0
            }
           },
           "showDataLabels": false,
           "sizemode": "diameter",
           "sortX": false,
           "sortY": true,
           "swappedAxes": false,
           "textFormat": "",
           "useAggregationsUi": true,
           "valuesOptions": {},
           "version": 2,
           "xAxis": {
            "labels": {
             "enabled": true
            },
            "type": "-"
           },
           "yAxis": [
            {
             "type": "-"
            },
            {
             "opposite": true,
             "type": "-"
            }
           ]
          }
         }
        ]
       },
       "datasetPreviewNameToCmdIdMap": {},
       "diffDeletes": [],
       "diffInserts": [],
       "displayType": "redashChart",
       "error": null,
       "errorSummary": null,
       "errorTraceType": null,
       "finishTime": 0,
       "globalVars": {},
       "guid": "918a78b2-fefd-4270-b793-e86855618828",
       "height": "auto",
       "hideCommandCode": false,
       "hideCommandResult": false,
       "iPythonMetadata": null,
       "inputWidgets": {},
       "isLockedInExamMode": false,
       "latestUser": "a user",
       "latestUserId": null,
       "listResultMetadata": null,
       "metadata": {},
       "nuid": "646af0f8-5d9c-4506-8f9b-d54ae5e8d73f",
       "origId": 989154586109709,
       "parentHierarchy": [
        "a6538e66-44fd-49de-8adc-0d556d0a6e54"
       ],
       "pivotAggregation": null,
       "pivotColumns": null,
       "position": 19.0,
       "resultDbfsErrorMessage": null,
       "resultDbfsStatus": "INLINED_IN_TREE",
       "results": null,
       "showCommandTitle": false,
       "startTime": 0,
       "state": "input",
       "streamStates": {},
       "subcommandOptions": {
        "queryPlan": {
         "groups": [
          {
           "column": "Neighborhood",
           "type": "column"
          }
         ],
         "selects": [
          {
           "column": "Neighborhood",
           "type": "column"
          },
          {
           "alias": "column_a02f87f1112",
           "args": [
            {
             "column": "count",
             "type": "column"
            }
           ],
           "function": "SUM",
           "type": "function"
          }
         ]
        }
       },
       "submitTime": 0,
       "subtype": "tableResultSubCmd.visualization",
       "tableResultIndex": 0,
       "useConsistentColors": false,
       "version": "CommandV1",
       "width": "auto",
       "workflows": [],
       "xColumns": null,
       "yColumns": null
      }
     },
     "output_type": "display_data"
    }
   ],
   "source": [
    "%sql\n",
    "\n",
    "SELECT Neighborhood, COUNT(Neighborhood) as count \n",
    "FROM 911_2021\n",
    "GROUP BY Neighborhood\n",
    "ORDER BY count DESC"
   ]
  },
  {
   "cell_type": "markdown",
   "metadata": {
    "application/vnd.databricks.v1+cell": {
     "cellMetadata": {},
     "inputWidgets": {},
     "nuid": "b18cb977-1825-4523-8396-631fb7ac097c",
     "showTitle": false,
     "title": ""
    }
   },
   "source": [
    "It seems like Downton area has reported much significant 911 calls then other area. Let's further explore which type of report occurred the most."
   ]
  },
  {
   "cell_type": "code",
   "execution_count": 0,
   "metadata": {
    "application/vnd.databricks.v1+cell": {
     "cellMetadata": {
      "byteLimit": 2048000,
      "implicitDf": true,
      "rowLimit": 10000
     },
     "inputWidgets": {},
     "nuid": "d9459b15-fa82-4264-bb62-5aa9c0827245",
     "showTitle": false,
     "title": ""
    }
   },
   "outputs": [
    {
     "output_type": "display_data",
     "data": {
      "text/html": [
       "<style scoped>\n",
       "  .table-result-container {\n",
       "    max-height: 300px;\n",
       "    overflow: auto;\n",
       "  }\n",
       "  table, th, td {\n",
       "    border: 1px solid black;\n",
       "    border-collapse: collapse;\n",
       "  }\n",
       "  th, td {\n",
       "    padding: 5px;\n",
       "  }\n",
       "  th {\n",
       "    text-align: left;\n",
       "  }\n",
       "</style><div class='table-result-container'><table class='table-result'><thead style='background-color: white'><tr><th>description</th><th>count</th></tr></thead><tbody><tr><td>Business Check</td><td>453326</td></tr><tr><td>DIRECTED PATROL</td><td>304091</td></tr><tr><td>DISORDERLY</td><td>94787</td></tr><tr><td>911/NO  VOICE</td><td>74289</td></tr><tr><td>Traffic Stop</td><td>58819</td></tr><tr><td>AUTO ACCIDENT</td><td>40477</td></tr><tr><td>Foot Patrol</td><td>39241</td></tr><tr><td>COMMON ASSAULT</td><td>37222</td></tr><tr><td>Repairs/Service</td><td>36685</td></tr><tr><td>SILENT ALARM</td><td>32217</td></tr><tr><td>NARCOTICS</td><td>29452</td></tr><tr><td>Foot  Patrol</td><td>24741</td></tr><tr><td>FAMILY DISTURB</td><td>24287</td></tr><tr><td>OTHER</td><td>22432</td></tr><tr><td>HIT AND RUN</td><td>20210</td></tr><tr><td>Warrant Service</td><td>19402</td></tr><tr><td>LARCENY</td><td>16730</td></tr><tr><td>INVESTIGATE</td><td>14022</td></tr><tr><td>RA POLICE</td><td>13659</td></tr><tr><td>DESTRUCT PROP</td><td>13632</td></tr><tr><td>BURGLARY</td><td>13580</td></tr><tr><td>AUTO ACC/INJURY</td><td>12073</td></tr><tr><td>LOUD MUSIC</td><td>11842</td></tr><tr><td>Private Tow</td><td>10631</td></tr><tr><td>Other</td><td>10569</td></tr><tr><td>LARCENY F/AUTO</td><td>10132</td></tr><tr><td>SUSPICIOUS PERS</td><td>9893</td></tr><tr><td>FOLLOW UP</td><td>9466</td></tr><tr><td>AUTO THEFT</td><td>9392</td></tr><tr><td>Personal Relief</td><td>7927</td></tr><tr><td>AGGRAV ASSAULT</td><td>7847</td></tr><tr><td>ARMED PERSON</td><td>7721</td></tr><tr><td>BEHAVIOR CRISIS</td><td>7632</td></tr><tr><td>Lab Request</td><td>7236</td></tr><tr><td>SICK CASE</td><td>6971</td></tr><tr><td>Repo</td><td>6576</td></tr><tr><td>MISSING PERSON</td><td>6553</td></tr><tr><td>INVESTIGATE AUTO</td><td>6414</td></tr><tr><td>WANTED ON WARR</td><td>6267</td></tr><tr><td>OVERDOSE</td><td>6244</td></tr><tr><td>PRKG COMPLAINT</td><td>5990</td></tr><tr><td>DISCHRG FIREARM</td><td>5815</td></tr><tr><td>EXPART/PROT/PEAC</td><td>5035</td></tr><tr><td>FALSE PRETENSE</td><td>4421</td></tr><tr><td>Transport</td><td>4044</td></tr><tr><td>VEHICLE DISTURB</td><td>3852</td></tr><tr><td>CHECK WELL BEING</td><td>3833</td></tr><tr><td>RECOVERED VEH</td><td>3582</td></tr><tr><td>POLICE NOTIFY ON</td><td>3565</td></tr><tr><td>TOWED VEHICLE</td><td>3521</td></tr><tr><td>SEE TEXT</td><td>3360</td></tr><tr><td>SUPV COMPLAINT</td><td>3255</td></tr><tr><td>ShotSpot Alert</td><td>3066</td></tr><tr><td>RECOVER PROPERTY</td><td>2946</td></tr><tr><td>PICKUP ORDERS</td><td>2528</td></tr><tr><td>SHOOTING</td><td>2419</td></tr><tr><td>ROBBERY ARMED</td><td>2312</td></tr><tr><td>Field Interview</td><td>2289</td></tr><tr><td>LYING IN STREET</td><td>2209</td></tr><tr><td>STREET OBSTRUCT</td><td>2196</td></tr><tr><td>NONBREATHING / A</td><td>2143</td></tr><tr><td>INVEST</td><td>2036</td></tr><tr><td>JUV DISTURBANCE</td><td>1905</td></tr><tr><td>INTOXICATED PERS</td><td>1859</td></tr><tr><td>HOLDUP ALARM</td><td>1722</td></tr><tr><td>AUDIBLE ALARM</td><td>1697</td></tr><tr><td>BY THREAT</td><td>1673</td></tr><tr><td>CHECK WELLBEING</td><td>1639</td></tr><tr><td>LOST PROPERTY</td><td>1622</td></tr><tr><td>SQUEEGEE DIST</td><td>1611</td></tr><tr><td>ESCORT</td><td>1596</td></tr><tr><td>ANIMAL DISTURBAN</td><td>1521</td></tr><tr><td>ROBBERY UNARMED</td><td>1519</td></tr><tr><td>WELLNESS CHECK</td><td>1485</td></tr><tr><td>DWI</td><td>1451</td></tr><tr><td>UNFOUNDED</td><td>1312</td></tr><tr><td>INJURED PERSON</td><td>1228</td></tr><tr><td>INVEST TROUBLE</td><td>1228</td></tr><tr><td>GET BELONGINGS</td><td>1213</td></tr><tr><td>SIGNAL OUT</td><td>1207</td></tr><tr><td>EP  PAPERS</td><td>1184</td></tr><tr><td>CLOSED CALL</td><td>1118</td></tr><tr><td>INV STOP</td><td>1117</td></tr><tr><td>WELFARE CHECK</td><td>1114</td></tr><tr><td>FIRE</td><td>1074</td></tr><tr><td>LEWD ACT</td><td>1051</td></tr><tr><td>HANDGUN VIOLATIO</td><td>1050</td></tr><tr><td>CUTTING</td><td>943</td></tr><tr><td>UNAUTHORIZED USE</td><td>910</td></tr><tr><td>CHK WELL BEING</td><td>899</td></tr><tr><td>DISABLED VEH</td><td>894</td></tr><tr><td>CAR JACKING</td><td>842</td></tr><tr><td>PANHANDLER</td><td>796</td></tr><tr><td>SEARCH&SEIZURE</td><td>776</td></tr><tr><td>POLICE INFO</td><td>733</td></tr><tr><td>CK WELL BEING</td><td>720</td></tr><tr><td>PROSTITUTION</td><td>677</td></tr><tr><td>UNKNOWN TROUBLE</td><td>618</td></tr><tr><td>56</td><td>534</td></tr><tr><td>CHK WELLBEING</td><td>508</td></tr><tr><td>WELLBEING CHECK</td><td>499</td></tr><tr><td>Court</td><td>482</td></tr><tr><td>ILLEGAL DUMPING</td><td>482</td></tr><tr><td>STREET DISTURB</td><td>480</td></tr><tr><td>ANIMAL CRUELTY</td><td>473</td></tr><tr><td>DEPT ACCIDENT</td><td>459</td></tr><tr><td>NOTIFY</td><td>457</td></tr><tr><td>WELL BEING CHECK</td><td>447</td></tr><tr><td>DOG BITE</td><td>444</td></tr><tr><td>Traffic Control</td><td>440</td></tr><tr><td>VIOLATION GOVN O</td><td>436</td></tr><tr><td>INVEST PROBLEM</td><td>414</td></tr><tr><td>GAMBLING</td><td>397</td></tr><tr><td>POSSIBLE</td><td>393</td></tr><tr><td>NOISE COMPLAINT</td><td>390</td></tr><tr><td>ATT SUICIDE-VIOL</td><td>387</td></tr><tr><td>Escort</td><td>381</td></tr><tr><td>PEACE ORDER</td><td>377</td></tr><tr><td>911 MISUSE</td><td>341</td></tr><tr><td>BEHAV CRISIS-VIO</td><td>338</td></tr><tr><td>ASSIST</td><td>327</td></tr><tr><td>COMMUNITY MEETIN</td><td>305</td></tr><tr><td>TROUBLE UNKNOWN</td><td>300</td></tr><tr><td>7C</td><td>295</td></tr><tr><td>DISABLED VEHICLE</td><td>290</td></tr><tr><td>INVESTAGATE</td><td>257</td></tr><tr><td>POLICE ESCORT</td><td>254</td></tr><tr><td>DIVERSION NOTIFY</td><td>251</td></tr><tr><td>ABDUCTION OTHER</td><td>238</td></tr><tr><td>PROTECTIVE ORDER</td><td>237</td></tr><tr><td>WELL CHECK</td><td>220</td></tr><tr><td>PROTECT ORDER</td><td>194</td></tr><tr><td>UNKNOWN PROBLEM</td><td>186</td></tr><tr><td>CLSD</td><td>179</td></tr><tr><td>SANITATION CMPT</td><td>173</td></tr><tr><td>CHECK LOC</td><td>166</td></tr><tr><td>CHECKWELLBEING</td><td>164</td></tr><tr><td>BAILOUT</td><td>163</td></tr><tr><td>EXPLOSION</td><td>162</td></tr><tr><td>ATTEMPT TO LOCAT</td><td>141</td></tr><tr><td>PHONE MISUSE</td><td>139</td></tr><tr><td>ATT SUICIDE-WEAP</td><td>137</td></tr><tr><td>BAIL OUT</td><td>127</td></tr><tr><td>CLOSE CALL</td><td>125</td></tr><tr><td>LOITERING</td><td>125</td></tr><tr><td>RECKLESS DRIVER</td><td>123</td></tr><tr><td>DOA</td><td>121</td></tr><tr><td>65</td><td>121</td></tr><tr><td>FORCED ENTRY</td><td>120</td></tr><tr><td>TRAFFIC CONTROL</td><td>117</td></tr><tr><td>BY MISTAKE</td><td>114</td></tr><tr><td>Immediate Inc</td><td>113</td></tr><tr><td>RUNAWAY</td><td>112</td></tr><tr><td>6J</td><td>112</td></tr><tr><td>AWOL</td><td>108</td></tr><tr><td>EP</td><td>107</td></tr><tr><td>INVOL DETENTION</td><td>107</td></tr><tr><td>WELL BEING</td><td>106</td></tr><tr><td>LARCENY PERSON C</td><td>104</td></tr><tr><td>Tow - DO NOT USE</td><td>103</td></tr><tr><td>LOCATE</td><td>98</td></tr><tr><td>TRESPASSING</td><td>98</td></tr><tr><td>5G</td><td>98</td></tr><tr><td>WELLNESS</td><td>98</td></tr><tr><td>LOUD NOISE</td><td>97</td></tr><tr><td>EMERG PETITION</td><td>97</td></tr><tr><td>ATT TO LOCATE</td><td>93</td></tr><tr><td>EP BYPASS</td><td>91</td></tr><tr><td>FIREWORKS</td><td>87</td></tr><tr><td>OPEN LINE</td><td>85</td></tr><tr><td>DISABLE VEHICLE</td><td>84</td></tr><tr><td>ASSIST OFFICER</td><td>82</td></tr><tr><td>99</td><td>81</td></tr><tr><td>BELONGINGS</td><td>81</td></tr><tr><td>ATTEMPT TO LOC</td><td>80</td></tr><tr><td>School/Church</td><td>78</td></tr><tr><td>BEHAV CRISIS-WEA</td><td>78</td></tr><tr><td>INFO</td><td>77</td></tr><tr><td>30</td><td>76</td></tr><tr><td>CHECK WELL BEGIN</td><td>76</td></tr><tr><td>EMERGENCY PETITI</td><td>75</td></tr><tr><td>SUSPICIOUS VEH</td><td>75</td></tr><tr><td>UNAUTHORIZE USE</td><td>74</td></tr><tr><td>GET BELONINGS</td><td>70</td></tr><tr><td>WRECKLESS DRIVER</td><td>69</td></tr><tr><td>AFTER TRUST</td><td>68</td></tr><tr><td>ASSIST FIRE DEPT</td><td>67</td></tr><tr><td>ATTEMPTED</td><td>66</td></tr><tr><td>Bike Patrol</td><td>65</td></tr><tr><td>POLICE ASSIT</td><td>63</td></tr><tr><td>POLICE ASSIST</td><td>63</td></tr><tr><td>THREAT</td><td>61</td></tr><tr><td>DISPUTE</td><td>61</td></tr><tr><td>4E</td><td>61</td></tr><tr><td>CHECK LOCATION</td><td>61</td></tr><tr><td>POLICE REPORT</td><td>59</td></tr><tr><td>FORCE ENTRY</td><td>57</td></tr><tr><td>ATTEMPT</td><td>56</td></tr><tr><td>REQ POL OFFICER</td><td>55</td></tr><tr><td>DEPTACCIDENT/INJ</td><td>55</td></tr><tr><td>CITIZEN ASSIST</td><td>55</td></tr><tr><td>LOUD MUSIC/NOISE</td><td>53</td></tr><tr><td>CHECK WELFARE</td><td>52</td></tr><tr><td>DEATH</td><td>51</td></tr><tr><td>ESCORT NEEDED</td><td>51</td></tr><tr><td>ELOPEMENT</td><td>50</td></tr><tr><td>6D</td><td>50</td></tr><tr><td>CUSTODY DISPUTE</td><td>50</td></tr><tr><td>WELL-BEING CHECK</td><td>49</td></tr><tr><td>75</td><td>49</td></tr><tr><td>55</td><td>49</td></tr><tr><td>ASSIST MTA</td><td>49</td></tr><tr><td>WATER RESCUE</td><td>48</td></tr><tr><td>FRAUD</td><td>47</td></tr><tr><td>SEE TXT</td><td>47</td></tr><tr><td>POSS</td><td>47</td></tr><tr><td>OPEN DOOR</td><td>46</td></tr><tr><td>INV UNK TROUBLE</td><td>46</td></tr><tr><td>DISABLE VEH</td><td>46</td></tr><tr><td>LOST</td><td>45</td></tr><tr><td>INVESITGATE</td><td>45</td></tr><tr><td>DISABLED DRIVER</td><td>44</td></tr><tr><td>TOWING</td><td>43</td></tr><tr><td>HARASSMENT</td><td>42</td></tr><tr><td>TROUBLE UNK</td><td>41</td></tr><tr><td>UNKNOWN</td><td>40</td></tr><tr><td>GET BELONGING</td><td>40</td></tr><tr><td>AUTO ACC/DEATH</td><td>38</td></tr><tr><td>CHECK WELL BEIN</td><td>38</td></tr><tr><td>LOCKED OUT</td><td>37</td></tr><tr><td>LOCKED IN</td><td>36</td></tr><tr><td>79</td><td>36</td></tr><tr><td>ABDUCT/PARENT</td><td>35</td></tr><tr><td>INVESTGATE</td><td>35</td></tr><tr><td>WELLNESS CK</td><td>35</td></tr><tr><td>CHANGE MIND</td><td>34</td></tr><tr><td>WELNESS CHECK</td><td>34</td></tr><tr><td>GETBELONGINGS</td><td>32</td></tr><tr><td>NOTIFICATION</td><td>32</td></tr><tr><td>INV UNKN TRBL</td><td>32</td></tr><tr><td>ELOPED</td><td>31</td></tr><tr><td>CHECKWELFARE</td><td>31</td></tr><tr><td>VAGRANT REMOVAL</td><td>31</td></tr><tr><td>SQUATTERS</td><td>30</td></tr><tr><td>LOST PERSON</td><td>30</td></tr><tr><td>INVETSIGATE</td><td>29</td></tr><tr><td>INVESTIGATION</td><td>29</td></tr><tr><td>CHILD ON PHONE</td><td>29</td></tr><tr><td>POSS FORCE ENTRY</td><td>29</td></tr><tr><td>CHECK WELBEING</td><td>28</td></tr><tr><td>SAFETY CHECK</td><td>28</td></tr><tr><td>FOLLOW UP 7C</td><td>27</td></tr><tr><td>POLICE ASSIST.</td><td>27</td></tr><tr><td>RAILROADS</td><td>27</td></tr><tr><td>INVESIGATE</td><td>26</td></tr><tr><td>DRIVING RECKLESS</td><td>26</td></tr><tr><td>INVESTIAGTE</td><td>26</td></tr><tr><td>RECKLESS DRIVING</td><td>25</td></tr><tr><td>DISABLED VEH.</td><td>25</td></tr><tr><td>FOLLOW UP 56</td><td>25</td></tr><tr><td>GATHER BELONGING</td><td>25</td></tr><tr><td>DISABLED CAR</td><td>24</td></tr><tr><td>UNAUTH USE</td><td>24</td></tr><tr><td>INVETIGATE</td><td>24</td></tr><tr><td>49</td><td>24</td></tr><tr><td>SHELTER</td><td>24</td></tr><tr><td>CRY FOR HELP</td><td>24</td></tr><tr><td>INFORMATION</td><td>23</td></tr><tr><td>POSS BURGLARY</td><td>23</td></tr><tr><td>CHECK WELL</td><td>23</td></tr><tr><td>CHECK/ADVISE</td><td>23</td></tr><tr><td>CHK  WELL  BEING</td><td>22</td></tr><tr><td>RUN AWAY</td><td>22</td></tr><tr><td>WELLFARE CHECK</td><td>22</td></tr><tr><td>STALLED AUTO</td><td>22</td></tr><tr><td>TEST</td><td>22</td></tr><tr><td>AGGV DRIVER</td><td>22</td></tr><tr><td>TEST CALL</td><td>22</td></tr><tr><td>WARRANT</td><td>21</td></tr><tr><td>BANK HOLDUP</td><td>21</td></tr><tr><td>HRES - HARBOR RE</td><td>21</td></tr><tr><td>EMERGENCY PETIT</td><td>21</td></tr><tr><td>FOLLOW UP - 56</td><td>21</td></tr><tr><td>DEATH NOTIFY</td><td>20</td></tr><tr><td>BOLO</td><td>20</td></tr><tr><td>INVES</td><td>20</td></tr><tr><td>ELOPE</td><td>20</td></tr><tr><td>SEE  TEXT</td><td>20</td></tr><tr><td>UNAUTH USE VEH</td><td>19</td></tr><tr><td>CHECK AND ADVISE</td><td>19</td></tr><tr><td>TRAFFIC SIGNAL</td><td>19</td></tr><tr><td>CK WELL-BEING</td><td>19</td></tr><tr><td>HELP IS THERE</td><td>19</td></tr><tr><td>HARRASSMENT</td><td>19</td></tr><tr><td>ASSIST CPS</td><td>19</td></tr><tr><td>CHECK WELLNESS</td><td>18</td></tr><tr><td>LOCK OUT</td><td>18</td></tr><tr><td>DISABLED</td><td>18</td></tr><tr><td>4D</td><td>18</td></tr><tr><td>BLDG COLLAPSE</td><td>18</td></tr><tr><td>REAR TAG</td><td>17</td></tr><tr><td>ERRATIC DRIVER</td><td>17</td></tr><tr><td>FEMALE SCREAMING</td><td>17</td></tr><tr><td>WARRANTS</td><td>17</td></tr><tr><td>EMER PETITION</td><td>17</td></tr><tr><td>PHONE ABUSE</td><td>17</td></tr><tr><td>PAPERWORK</td><td>17</td></tr><tr><td>ROAD RAGE</td><td>17</td></tr><tr><td>WANTS BELONGINGS</td><td>17</td></tr><tr><td>TRESPASS</td><td>17</td></tr><tr><td>NOISE</td><td>17</td></tr><tr><td>VULNERABLE ADULT</td><td>17</td></tr><tr><td>TELEPHONE MISUSE</td><td>17</td></tr><tr><td>SUSPICIOUS VEHIC</td><td>16</td></tr><tr><td>CHILD CALLER</td><td>16</td></tr><tr><td>LOST CHILD</td><td>16</td></tr><tr><td>A.W.O.L.</td><td>16</td></tr><tr><td>CHECKWELL BEING</td><td>16</td></tr><tr><td>BAIL-OUT</td><td>16</td></tr><tr><td>CHECK WELL-BEING</td><td>16</td></tr><tr><td>911/HANGUP</td><td>16</td></tr><tr><td>INVESTIGTE</td><td>16</td></tr><tr><td>CHK & ADVISE</td><td>16</td></tr><tr><td>ASSISTANCE</td><td>15</td></tr><tr><td>ASSIST BGE</td><td>15</td></tr><tr><td>WELL CHCK</td><td>15</td></tr><tr><td>ABANDONED VEH</td><td>15</td></tr><tr><td>WELLNES CHECK</td><td>15</td></tr><tr><td>4A</td><td>15</td></tr><tr><td>ELOPED PATIENT</td><td>15</td></tr><tr><td>GET ITEMS</td><td>15</td></tr><tr><td>CITIZEN ASST</td><td>15</td></tr><tr><td>K9 Recanvasing</td><td>15</td></tr><tr><td>UNKN</td><td>14</td></tr><tr><td>3N</td><td>14</td></tr><tr><td>ATTEMPTTOLOCATE</td><td>14</td></tr><tr><td>TRAFFIC</td><td>14</td></tr><tr><td>PRISONER PICKUP</td><td>14</td></tr><tr><td>CHECK WEL BEING</td><td>14</td></tr><tr><td>SCREAMING</td><td>14</td></tr><tr><td>DISABLD VEHICLE</td><td>14</td></tr><tr><td>3P</td><td>13</td></tr><tr><td>P/U PAPERS</td><td>13</td></tr><tr><td>CHK WEL BEING</td><td>13</td></tr><tr><td>73</td><td>13</td></tr><tr><td>WELLBEING</td><td>13</td></tr><tr><td>ATTEMPT LOCATE</td><td>13</td></tr><tr><td>STRANDED</td><td>13</td></tr><tr><td>DISBALED VEH</td><td>13</td></tr><tr><td>CK WELLBEING</td><td>12</td></tr><tr><td>FOLLOW UP 30</td><td>12</td></tr><tr><td>GET BELONGINS</td><td>12</td></tr><tr><td>DISABLED  VEH</td><td>12</td></tr><tr><td>WANTS ITEMS</td><td>12</td></tr><tr><td>31</td><td>12</td></tr><tr><td>27</td><td>12</td></tr><tr><td>95</td><td>12</td></tr><tr><td>BY THREATS</td><td>12</td></tr><tr><td>P</td><td>12</td></tr><tr><td>REPORT</td><td>12</td></tr><tr><td>DISABLED AUTO</td><td>11</td></tr><tr><td>CHILD REMOVAL</td><td>11</td></tr><tr><td>PANIC ALARM</td><td>11</td></tr><tr><td>CK LOCATION</td><td>11</td></tr><tr><td>CHEK WELL BEING</td><td>11</td></tr><tr><td>GET  BELONGINGS</td><td>11</td></tr><tr><td>DIRT BIKE</td><td>11</td></tr><tr><td>POSS ARMED PERSO</td><td>11</td></tr><tr><td>LOUD BASS</td><td>11</td></tr><tr><td>WELL CK</td><td>11</td></tr><tr><td>DEATH NOTIFICATI</td><td>10</td></tr><tr><td>NOISE COMPLIANT</td><td>10</td></tr><tr><td>HAZARD MATERIAL</td><td>10</td></tr><tr><td>TESTING</td><td>10</td></tr><tr><td>BY PHONE</td><td>10</td></tr><tr><td>TRANSPORT</td><td>10</td></tr><tr><td>RUN-A-WAY</td><td>10</td></tr><tr><td>DISABLE CAR</td><td>10</td></tr><tr><td>CHECK WELL EBING</td><td>10</td></tr><tr><td>23</td><td>10</td></tr><tr><td>THREATS</td><td>10</td></tr><tr><td>INESTIGATE</td><td>10</td></tr><tr><td>WELL FARE CHECK</td><td>10</td></tr><tr><td>WELLBEING CHK</td><td>10</td></tr><tr><td>E.P.</td><td>9</td></tr><tr><td>SEE NOTES</td><td>9</td></tr><tr><td>FOLLOW UP 99</td><td>9</td></tr><tr><td>COVID VIOLATION</td><td>9</td></tr><tr><td>DEATH REPORT</td><td>9</td></tr><tr><td>FOLLOW UP 4E</td><td>9</td></tr><tr><td>DISABLE VEHC</td><td>9</td></tr><tr><td>JANE DOE</td><td>9</td></tr><tr><td>WOMAN SCREAMING</td><td>9</td></tr><tr><td>PICKUP PAPERS</td><td>9</td></tr><tr><td>LOCKOUT</td><td>9</td></tr><tr><td>GET BELONGS</td><td>9</td></tr><tr><td>INVESTIGAT</td><td>9</td></tr><tr><td>TRESSPASSING</td><td>9</td></tr><tr><td>D.O.A.</td><td>9</td></tr><tr><td>WANTS BELONGING</td><td>9</td></tr><tr><td>UNAUTHOR USE</td><td>9</td></tr><tr><td>NOTIFY OWNER</td><td>9</td></tr><tr><td>ER PETITION</td><td>9</td></tr><tr><td>SEE COMMENT</td><td>9</td></tr><tr><td>PICKUP WARR/SUMM</td><td>8</td></tr><tr><td>CHECK & ADVISE</td><td>8</td></tr><tr><td>CLOSE</td><td>8</td></tr><tr><td>77</td><td>8</td></tr><tr><td>NOISE DISTURBANC</td><td>8</td></tr><tr><td>TREPASSING</td><td>8</td></tr><tr><td>IVESTIGATE</td><td>8</td></tr><tr><td>POLICE</td><td>8</td></tr><tr><td>DIRECT TRAFFIC</td><td>8</td></tr><tr><td>TRAFFIC LIGHTS</td><td>8</td></tr><tr><td>IMPEDING TRAFFIC</td><td>8</td></tr><tr><td>INVSTIGATE</td><td>8</td></tr><tr><td>LOUD NOISES</td><td>8</td></tr><tr><td>A WOL</td><td>8</td></tr><tr><td>LOST MAN</td><td>8</td></tr><tr><td>57</td><td>8</td></tr><tr><td>UNAUTH USE VEHIC</td><td>8</td></tr><tr><td>ADMIN</td><td>8</td></tr><tr><td>CONE FOR PARKING</td><td>8</td></tr><tr><td>INVESTIGAE</td><td>7</td></tr><tr><td>SCAM</td><td>7</td></tr><tr><td>CLOSED CAL</td><td>7</td></tr><tr><td>ATTEMP TO LOCATE</td><td>7</td></tr><tr><td>ATTEMPTING</td><td>7</td></tr><tr><td>CUSTODY EXCHANGE</td><td>7</td></tr><tr><td>TRAFFIC LIGHT</td><td>7</td></tr><tr><td>WATER MAIN BREAK</td><td>7</td></tr><tr><td>STRANDED PERSON</td><td>7</td></tr><tr><td>ATT TO LOC</td><td>7</td></tr><tr><td>VERBAL THREATS</td><td>7</td></tr><tr><td>LOCK IN</td><td>7</td></tr><tr><td>NTFY</td><td>7</td></tr><tr><td>NO MASK</td><td>7</td></tr><tr><td>POLICE ASSISTANC</td><td>7</td></tr><tr><td>UNAUTHORIZ USE</td><td>7</td></tr><tr><td>OFFICER ASSIST</td><td>7</td></tr><tr><td>SERVE ORDER</td><td>7</td></tr><tr><td>WELNESS</td><td>7</td></tr><tr><td>HOMELESS REMOVAL</td><td>7</td></tr><tr><td>67</td><td>7</td></tr><tr><td>DISABLE VEHC.</td><td>7</td></tr><tr><td>PATIENT ELOPEMEN</td><td>7</td></tr><tr><td>HOMELESS PERSON</td><td>7</td></tr><tr><td>BUSN CHECK</td><td>7</td></tr><tr><td>IMVESTIGATE</td><td>7</td></tr><tr><td>LOCATE VEH</td><td>7</td></tr><tr><td>MAN ON EXPWY</td><td>7</td></tr><tr><td>CONTACT</td><td>6</td></tr><tr><td>EMERG  PETITION</td><td>6</td></tr><tr><td>INVESTIIGATE</td><td>6</td></tr><tr><td>ATTMPT TO LOCATE</td><td>6</td></tr><tr><td>OUT OF JURISDICT</td><td>6</td></tr><tr><td>ELOPED PT</td><td>6</td></tr><tr><td>PROTECTIV ORDER</td><td>6</td></tr><tr><td>INFO ONLY</td><td>6</td></tr><tr><td>4B</td><td>6</td></tr><tr><td>SERVE A ORDER</td><td>6</td></tr><tr><td>POSS CMMN ASSLT</td><td>6</td></tr><tr><td>RECKELESS DRIVER</td><td>6</td></tr><tr><td>ARSON</td><td>6</td></tr><tr><td>26</td><td>6</td></tr><tr><td>LIGHTS OUT</td><td>6</td></tr><tr><td>ESCORTE</td><td>6</td></tr><tr><td>AGGRESSIVE DRIVE</td><td>6</td></tr><tr><td>LOST ADULT</td><td>6</td></tr><tr><td>POS FORCED ENTRY</td><td>6</td></tr><tr><td>INVESTIGATE.</td><td>6</td></tr><tr><td>WELLBEING CHECK.</td><td>6</td></tr><tr><td>VUNERABLE ADULT</td><td>6</td></tr><tr><td>INEST</td><td>6</td></tr><tr><td>INVERSTIGATE</td><td>6</td></tr><tr><td>PROPICKUP ORDERS</td><td>6</td></tr><tr><td>UNATHORIZED USE</td><td>6</td></tr><tr><td>CHECK WELL BEIGN</td><td>6</td></tr><tr><td>UPDATE</td><td>6</td></tr><tr><td>CHILD LOCKED IN</td><td>6</td></tr><tr><td>POL  INFO</td><td>6</td></tr><tr><td>CHK   WELL  BEIN</td><td>6</td></tr><tr><td>CLOSED</td><td>6</td></tr><tr><td>LAR AFTR TRUST</td><td>6</td></tr><tr><td>MAKE CONTACT</td><td>6</td></tr><tr><td>`</td><td>6</td></tr><tr><td>FALLEN TREE</td><td>6</td></tr><tr><td>83</td><td>6</td></tr><tr><td>CHILD IN CAR</td><td>6</td></tr><tr><td>MTA BUS</td><td>6</td></tr><tr><td>CEHCK WELL BEING</td><td>6</td></tr><tr><td>CHECK WELL  BEIN</td><td>6</td></tr><tr><td>76</td><td>6</td></tr><tr><td>SCENE SAFETY</td><td>6</td></tr><tr><td>FOLLOW UP 55</td><td>6</td></tr><tr><td>STREET OBSTRUCTI</td><td>6</td></tr><tr><td>UNAUTHORIZED US</td><td>6</td></tr><tr><td>FOLLOW UP 6J</td><td>6</td></tr><tr><td>VERBAL THREAT</td><td>6</td></tr><tr><td>911 ABUSE</td><td>6</td></tr><tr><td>ATTEMPT TO LOCA</td><td>6</td></tr><tr><td>ASSIST CITIZEN</td><td>6</td></tr><tr><td>FOR THE RECORD</td><td>6</td></tr><tr><td>POSSIBLY</td><td>6</td></tr><tr><td>WELFARECHECK</td><td>6</td></tr><tr><td>WALK IN</td><td>5</td></tr><tr><td>ELDER ABUSE</td><td>5</td></tr><tr><td>28</td><td>5</td></tr><tr><td>CHECK WILL BEING</td><td>5</td></tr><tr><td>85</td><td>5</td></tr><tr><td>OPEN  LINE</td><td>5</td></tr><tr><td>NOTFIY</td><td>5</td></tr><tr><td>61</td><td>5</td></tr><tr><td>POSS ARMED PERS</td><td>5</td></tr><tr><td>HELP THERE</td><td>5</td></tr><tr><td>LOST WOMAN</td><td>5</td></tr><tr><td>CHECK</td><td>5</td></tr><tr><td>MASK VIO</td><td>5</td></tr><tr><td>HOMELESS COMPLAI</td><td>5</td></tr><tr><td>D.O.A</td><td>5</td></tr><tr><td>ALL OUT</td><td>5</td></tr><tr><td>PHONE THREAT</td><td>5</td></tr><tr><td>SEE TEXTOTHER</td><td>5</td></tr><tr><td>UNAUTHORISE USE</td><td>5</td></tr><tr><td>POLICE INFOR</td><td>5</td></tr><tr><td>TROUBLE UNKNWON</td><td>5</td></tr><tr><td>HELD AGAINST WIL</td><td>5</td></tr><tr><td>BUSINESS CHECK</td><td>5</td></tr><tr><td>33</td><td>5</td></tr><tr><td>CK WEL BEING</td><td>5</td></tr><tr><td>LOUD BANGING</td><td>5</td></tr><tr><td>CHECK  LOCATION</td><td>5</td></tr><tr><td>ALARM</td><td>5</td></tr><tr><td>INVESTOGATE</td><td>5</td></tr><tr><td>DIABLED VEH</td><td>5</td></tr><tr><td>WRECKLESS DRVR</td><td>5</td></tr><tr><td>REQ POL ASST</td><td>5</td></tr><tr><td>POLICE PRESENCE</td><td>5</td></tr><tr><td>FRONT TAG</td><td>5</td></tr><tr><td>INVESTIGATE SCEN</td><td>5</td></tr><tr><td>TRAILER</td><td>5</td></tr><tr><td>UNKNOWN SITUATIO</td><td>5</td></tr><tr><td>WELLBEING CHK.</td><td>5</td></tr><tr><td>FEMALE YELLING</td><td>5</td></tr><tr><td>RUNNAWAY</td><td>5</td></tr><tr><td>POLICE  INFO</td><td>5</td></tr><tr><td>POLICE HELP</td><td>5</td></tr><tr><td>FOLLOW UP - 7C</td><td>5</td></tr><tr><td>WITH BAILOUT</td><td>5</td></tr><tr><td>Lunch</td><td>5</td></tr><tr><td>SHELTER ASSIST</td><td>4</td></tr><tr><td>TRAFFIC ASSIST</td><td>4</td></tr><tr><td>REPORT DEATH</td><td>4</td></tr><tr><td>54</td><td>4</td></tr><tr><td>WARRANT P/U</td><td>4</td></tr><tr><td>OTHERINVESTAGATE</td><td>4</td></tr><tr><td>NOTIFY FAMILY</td><td>4</td></tr><tr><td>DIRT BIKES</td><td>4</td></tr><tr><td>ATTPT TO LOCATE</td><td>4</td></tr><tr><td>WAGON RUN</td><td>4</td></tr><tr><td>COVID VIOLATIONS</td><td>4</td></tr><tr><td>52</td><td>4</td></tr><tr><td>INVESTIGATEE</td><td>4</td></tr><tr><td>SQUATTER</td><td>4</td></tr><tr><td>LOUD TV</td><td>4</td></tr><tr><td>FOLLOW UP - 99</td><td>4</td></tr><tr><td>AGGRV DRIVER</td><td>4</td></tr><tr><td>CHILD LOCKD VEH</td><td>4</td></tr><tr><td>LOST WALLET</td><td>4</td></tr><tr><td>REF  TO   56</td><td>4</td></tr><tr><td>FOLLOW UP 54</td><td>4</td></tr><tr><td>E/P</td><td>4</td></tr><tr><td>STALKER</td><td>4</td></tr><tr><td>INNVESTIGATE</td><td>4</td></tr><tr><td>FYI</td><td>4</td></tr><tr><td>SEE VIDEO</td><td>4</td></tr><tr><td>ASSAULT</td><td>4</td></tr><tr><td>CHANGE MINE</td><td>4</td></tr><tr><td>CHRCK WELL BEING</td><td>4</td></tr><tr><td>CHECK  WELL BEIN</td><td>4</td></tr><tr><td>LOST LICENSE</td><td>4</td></tr><tr><td>2A</td><td>4</td></tr><tr><td>EP PAPERWORK</td><td>4</td></tr><tr><td>CHECK WELL BENG</td><td>4</td></tr><tr><td>VEHICLE REMOVAL</td><td>4</td></tr><tr><td>J</td><td>4</td></tr><tr><td>REF TO  55</td><td>4</td></tr><tr><td>BARKING DOG</td><td>4</td></tr><tr><td>VERIFY</td><td>4</td></tr><tr><td>FORECE ENTRY</td><td>4</td></tr><tr><td>CONES</td><td>4</td></tr><tr><td>NVESTIGATE</td><td>4</td></tr><tr><td>EMERG PETIT</td><td>4</td></tr><tr><td>POLICE INVEST</td><td>4</td></tr><tr><td>CAMERA REVIEW</td><td>4</td></tr><tr><td>PATIENT ELOPED</td><td>4</td></tr><tr><td>CHECK WELL BEIG</td><td>4</td></tr><tr><td>LOST FEMALE</td><td>4</td></tr><tr><td>OPENLINE</td><td>4</td></tr><tr><td>COVID 19</td><td>4</td></tr><tr><td>WARRENT</td><td>4</td></tr><tr><td>ESCOURT</td><td>4</td></tr><tr><td>DISORIENTED</td><td>4</td></tr><tr><td>NO PERMIT</td><td>4</td></tr><tr><td>CAR ALARM</td><td>4</td></tr><tr><td>FOLLOW UP 5G</td><td>4</td></tr><tr><td>ELDER NEGLECT</td><td>4</td></tr><tr><td>INV TROUBLE</td><td>4</td></tr><tr><td>CK  WELL BEING</td><td>4</td></tr><tr><td>GET THINGS</td><td>4</td></tr><tr><td>CHECK WELL BIENG</td><td>4</td></tr><tr><td>IN PERSON</td><td>4</td></tr><tr><td>DISABLED VEHS</td><td>4</td></tr><tr><td>A.W.O.L</td><td>4</td></tr><tr><td>E.P</td><td>4</td></tr><tr><td>INVESTIGATE PROB</td><td>4</td></tr><tr><td>ATT. TO LOCATE</td><td>4</td></tr><tr><td>BY  THREAT</td><td>4</td></tr><tr><td>UNKNWN TROUBLE</td><td>4</td></tr><tr><td>FOUND CHILD</td><td>4</td></tr><tr><td>CK WELL BEGING</td><td>4</td></tr><tr><td>MALE SCREAMING</td><td>4</td></tr><tr><td>IVNESTIGATE</td><td>4</td></tr><tr><td>SERVICE PAPERS</td><td>4</td></tr><tr><td>MOTORCYCLE</td><td>4</td></tr><tr><td>POSS FORCED ENTR</td><td>4</td></tr><tr><td>POLICE NOTIFY</td><td>4</td></tr><tr><td>WELL CHILD CHECK</td><td>4</td></tr><tr><td>RECKELSS DRIVER</td><td>4</td></tr><tr><td>NEEDS ASSIST</td><td>4</td></tr><tr><td>VEH DISABLED</td><td>4</td></tr><tr><td>RELOCATE VEH</td><td>4</td></tr><tr><td>CHECK THE WELL</td><td>3</td></tr><tr><td>NOTIFIED</td><td>3</td></tr><tr><td>TAGS</td><td>3</td></tr><tr><td>GET BLONGINGS</td><td>3</td></tr><tr><td>SEE TX</td><td>3</td></tr><tr><td>CHK WELL BEGIN</td><td>3</td></tr><tr><td>TRAFFIC BACKUP</td><td>3</td></tr><tr><td>NOISE OMPLAINT</td><td>3</td></tr><tr><td>INVEESTIGATE</td><td>3</td></tr><tr><td>CK WELL BREING</td><td>3</td></tr><tr><td>ACCIDENT</td><td>3</td></tr><tr><td>3</td><td>3</td></tr><tr><td>FOLLOW UP-6J</td><td>3</td></tr><tr><td>FAMILY DISTURBAN</td><td>3</td></tr><tr><td>DUMPING IN PROGE</td><td>3</td></tr><tr><td>LOTTERING</td><td>3</td></tr><tr><td>LOST ELDERLY</td><td>3</td></tr><tr><td>PICKUP PAPERWORK</td><td>3</td></tr><tr><td>HARRASMENT</td><td>3</td></tr><tr><td>INVESTIGATE .</td><td>3</td></tr><tr><td>ASSIST DJS</td><td>3</td></tr><tr><td>TRUCKER ASSIST</td><td>3</td></tr><tr><td>BAIL  OUT</td><td>3</td></tr><tr><td>PARKING ISSUE</td><td>3</td></tr><tr><td>DRIVING RECKLES</td><td>3</td></tr><tr><td>CHK WELL BEIN</td><td>3</td></tr><tr><td>BREAK IN</td><td>3</td></tr><tr><td>BY THREATT</td><td>3</td></tr><tr><td>LOCATE M/P</td><td>3</td></tr><tr><td>SEE TEXGT</td><td>3</td></tr><tr><td>CHECK WELLBING</td><td>3</td></tr><tr><td>WELL-CHCK</td><td>3</td></tr><tr><td>UNK TROUBLE</td><td>3</td></tr><tr><td>EXPARTE</td><td>3</td></tr><tr><td>DIASBLED VEH</td><td>3</td></tr><tr><td>CHECK WELL BING</td><td>3</td></tr><tr><td>INVESTIGATE SCNE</td><td>3</td></tr><tr><td>TRAFFIC HELP</td><td>3</td></tr><tr><td>C&R DRIVER</td><td>3</td></tr><tr><td>TROUBLE  UNKNOWN</td><td>3</td></tr><tr><td>FOUND WALLET</td><td>3</td></tr><tr><td>RECKLES DRIVER</td><td>3</td></tr><tr><td>GET BELOGINGS</td><td>3</td></tr><tr><td>CAR DISPUTE</td><td>3</td></tr><tr><td>INVEST OPEN DOOR</td><td>3</td></tr><tr><td>THREATENED</td><td>3</td></tr><tr><td>FOLLOWUP</td><td>3</td></tr><tr><td>PICK UP EP</td><td>3</td></tr><tr><td>LIGHT OUT</td><td>3</td></tr><tr><td>THEFT</td><td>3</td></tr><tr><td>GATHER BELONGIN</td><td>3</td></tr><tr><td>NOTIFIY</td><td>3</td></tr><tr><td>CURFEW VIOLATION</td><td>3</td></tr><tr><td>PEACE ORDERS</td><td>3</td></tr><tr><td>IDENTIFY</td><td>3</td></tr><tr><td>THREAT BY TEXT</td><td>3</td></tr><tr><td>WEEL CHECK</td><td>3</td></tr><tr><td>CHILD WELFARE</td><td>3</td></tr><tr><td>INVESTT</td><td>3</td></tr><tr><td>WELNNESS CHECK</td><td>3</td></tr><tr><td>LOTERING</td><td>3</td></tr><tr><td>UNKNWON PROBLEM</td><td>3</td></tr><tr><td>ATEMPT TO LOCATE</td><td>3</td></tr><tr><td>DEATH NOTICE</td><td>3</td></tr><tr><td>MALE YELLING</td><td>3</td></tr><tr><td>ADULT ABUSE</td><td>3</td></tr><tr><td>97</td><td>3</td></tr><tr><td>ERPO</td><td>3</td></tr><tr><td>ILLEGAL EVICTION</td><td>3</td></tr><tr><td>HARASSEMENT</td><td>3</td></tr><tr><td>1</td><td>3</td></tr><tr><td>BOTH TAGS</td><td>3</td></tr><tr><td>BY TRHEAT</td><td>3</td></tr><tr><td>POLICE INFORMATI</td><td>3</td></tr><tr><td>EMERG. PETITION</td><td>3</td></tr><tr><td>POLICE INFORM</td><td>3</td></tr><tr><td>REF  TO   5G</td><td>3</td></tr><tr><td>PROT ORDER</td><td>3</td></tr><tr><td>IMVEST</td><td>3</td></tr><tr><td>NOTFY</td><td>3</td></tr><tr><td>FOLLOW UP - 65</td><td>3</td></tr><tr><td>HOMELESS COMPL</td><td>3</td></tr><tr><td>EVICTION</td><td>3</td></tr><tr><td>ASST. ANIMAL CON</td><td>3</td></tr><tr><td>63</td><td>3</td></tr><tr><td>CHECK WWELL BEIN</td><td>3</td></tr><tr><td>39</td><td>3</td></tr><tr><td>REQ POLICE</td><td>3</td></tr><tr><td>COUNTY ASSIST</td><td>3</td></tr><tr><td>PICK UP BELONGIN</td><td>3</td></tr><tr><td>FOLLOW UP 23</td><td>3</td></tr><tr><td>TROUBLE</td><td>3</td></tr><tr><td>Traffic Pursuit</td><td>3</td></tr><tr><td>OFFICER REQUEST</td><td>3</td></tr><tr><td>CHECK WELL BEGI</td><td>3</td></tr><tr><td>TRAF HAZ</td><td>3</td></tr><tr><td>PROPERTY CHECK</td><td>3</td></tr><tr><td>REF  TO  7C</td><td>3</td></tr><tr><td>ATMPT TO LOCATE</td><td>3</td></tr><tr><td>DUMPING</td><td>3</td></tr><tr><td>CALL ASSIST</td><td>3</td></tr><tr><td>ATTEMPT TO NOTIF</td><td>3</td></tr><tr><td>COVID</td><td>3</td></tr><tr><td>DOA REPORT</td><td>3</td></tr><tr><td>SUSPICIOUS</td><td>3</td></tr><tr><td>AGGV DRIVERS</td><td>3</td></tr><tr><td>CHEK WELLBEING</td><td>3</td></tr><tr><td>EMERGENCY PET</td><td>3</td></tr><tr><td>OPEN BURNING</td><td>3</td></tr><tr><td>WARRANT P/UP</td><td>3</td></tr><tr><td>HOMLESS COMPL</td><td>3</td></tr><tr><td>RUN A WAY</td><td>3</td></tr><tr><td>911 MIS USE</td><td>3</td></tr><tr><td>FEMALE CRYING</td><td>3</td></tr><tr><td>DISABLED MOTORIS</td><td>3</td></tr><tr><td>NO LOC</td><td>3</td></tr><tr><td>ADULT NEGLECT</td><td>3</td></tr><tr><td>POSS FORCD ENTRY</td><td>3</td></tr><tr><td>INVESSTIGATE</td><td>3</td></tr><tr><td>DISABELED VEH</td><td>3</td></tr><tr><td>BY POINTING</td><td>3</td></tr><tr><td>WELL BEING CHK</td><td>3</td></tr><tr><td>POSS ARMED</td><td>3</td></tr><tr><td>UNKNONWN TROUBLE</td><td>3</td></tr><tr><td>FIRE WORKS</td><td>3</td></tr><tr><td>UNKNOWNTROUBLE</td><td>3</td></tr><tr><td>CITIZENS ASSIST</td><td>3</td></tr><tr><td>WELL-BEING</td><td>3</td></tr><tr><td>68</td><td>3</td></tr><tr><td>VEH RELOCATED</td><td>3</td></tr><tr><td>NEXT OF KIN</td><td>3</td></tr><tr><td>EMERGENY PETITIO</td><td>3</td></tr><tr><td>INVEST PROBLM</td><td>3</td></tr><tr><td>INVESTIGATED</td><td>3</td></tr><tr><td>SEETEXT</td><td>3</td></tr><tr><td>TRAFFIC CNTRL</td><td>3</td></tr><tr><td>WALK-IN</td><td>3</td></tr><tr><td>PROTECT ORDERS</td><td>3</td></tr><tr><td>UNKNOWN  TROUBLE</td><td>3</td></tr><tr><td>UNKNOWN TROUBLE.</td><td>3</td></tr><tr><td>ROADRAGE</td><td>3</td></tr><tr><td>ALLOUT</td><td>3</td></tr><tr><td>INVESTIAGATE</td><td>3</td></tr><tr><td>WELAFARE CHECK</td><td>3</td></tr><tr><td>UNAUTHROISE USE</td><td>3</td></tr><tr><td>ASK FOR HELP</td><td>3</td></tr><tr><td>ELOPMENT</td><td>3</td></tr><tr><td>CHECK WLL BEING</td><td>3</td></tr><tr><td>REQUEST POLICE</td><td>3</td></tr><tr><td>VEH FIRE</td><td>3</td></tr><tr><td>POSS DOA</td><td>3</td></tr><tr><td>DRUG ACT</td><td>2</td></tr><tr><td>PROPERTY DAMAGE</td><td>2</td></tr><tr><td>TRUANCY</td><td>2</td></tr><tr><td>RECKELSSS DRIVER</td><td>2</td></tr><tr><td>ATEEMPTS</td><td>2</td></tr><tr><td>LADY SCREAMING</td><td>2</td></tr><tr><td>FOLLOW UP TO 56</td><td>2</td></tr><tr><td>EMERG  EVALUATIO</td><td>2</td></tr><tr><td>FOUND ID OF CUST</td><td>2</td></tr><tr><td>CHILD EXCH</td><td>2</td></tr><tr><td>CHECKK WELL BEIN</td><td>2</td></tr><tr><td>NOISE COMPLAINTS</td><td>2</td></tr><tr><td>ASSIST ANIMAL CO</td><td>2</td></tr><tr><td>OPDN  LINE</td><td>2</td></tr><tr><td>INVEST..</td><td>2</td></tr><tr><td>CONST. SITE</td><td>2</td></tr><tr><td>SUPERVISOR COMP</td><td>2</td></tr><tr><td>LOST AND CONFUSE</td><td>2</td></tr><tr><td>SERVE PETITION</td><td>2</td></tr><tr><td>101</td><td>2</td></tr><tr><td>DISABLE MOTORIST</td><td>2</td></tr><tr><td>EULOPE</td><td>2</td></tr><tr><td>OPEN AIR</td><td>2</td></tr><tr><td>CHECK WELL BEIMG</td><td>2</td></tr><tr><td>CHJ WELL BEING</td><td>2</td></tr><tr><td>POLICE ASSISTAN</td><td>2</td></tr><tr><td>LOCATE A VEHICLE</td><td>2</td></tr><tr><td>IUNKNOWN PROBLEM</td><td>2</td></tr><tr><td>VACANT PROPERTY</td><td>2</td></tr><tr><td>FOUND DRUG APT</td><td>2</td></tr><tr><td>REF  TO  56</td><td>2</td></tr><tr><td>87</td><td>2</td></tr><tr><td>PROT ORDER VIO</td><td>2</td></tr><tr><td>FOLLOW UP TO 31</td><td>2</td></tr><tr><td>INVEST KNIFE</td><td>2</td></tr><tr><td>HOSPITAL</td><td>2</td></tr><tr><td>NOISE COMPLAIMT</td><td>2</td></tr><tr><td>TO GET CHILDREN</td><td>2</td></tr><tr><td>LOUD MUSIC/TV</td><td>2</td></tr><tr><td>UNKKOWN TROUBLE</td><td>2</td></tr><tr><td>OPOEN  DOOR</td><td>2</td></tr><tr><td>CK WELL BING</td><td>2</td></tr><tr><td>CHECK LCCATION</td><td>2</td></tr><tr><td>REPORT OF DEATH</td><td>2</td></tr><tr><td>LIGHTS OUTS</td><td>2</td></tr><tr><td>INVESTIGATING</td><td>2</td></tr><tr><td>SUSPICIOUS DEATH</td><td>2</td></tr><tr><td>SCREAM 4 HELP</td><td>2</td></tr><tr><td>Q</td><td>2</td></tr><tr><td>REQ SHELTER</td><td>2</td></tr><tr><td>NOISE COMPLAIT</td><td>2</td></tr><tr><td>ASST. TRAFFIC</td><td>2</td></tr><tr><td>VERBALTHREAT</td><td>2</td></tr><tr><td>CHECK THE WELL B</td><td>2</td></tr><tr><td>POLICE INFO.</td><td>2</td></tr><tr><td>FOLLOW UP - 2L</td><td>2</td></tr><tr><td>INVESITIGATE</td><td>2</td></tr><tr><td>INVESTAGAE</td><td>2</td></tr><tr><td>THREATING HER</td><td>2</td></tr><tr><td>INVESTIATE</td><td>2</td></tr><tr><td>REF  TO   4E</td><td>2</td></tr><tr><td>FOLLOW UP 61</td><td>2</td></tr><tr><td>INVEST SCREAMING</td><td>2</td></tr><tr><td>DISABLED VE</td><td>2</td></tr><tr><td>NEIGHBOR DISPUTE</td><td>2</td></tr><tr><td>DEATH  REPORT</td><td>2</td></tr><tr><td>ILLEGAL USE</td><td>2</td></tr><tr><td>SEEKING SHELTER</td><td>2</td></tr><tr><td>WELLBEING CHECCK</td><td>2</td></tr><tr><td>AGGV DRIVING</td><td>2</td></tr><tr><td>WARRANTS/SUMMONS</td><td>2</td></tr><tr><td>CALL OFFICER</td><td>2</td></tr><tr><td>CONFUSED   MALE</td><td>2</td></tr><tr><td>INVESTIVATE</td><td>2</td></tr><tr><td>UNKNONW TROUBLE</td><td>2</td></tr><tr><td>HOMR INVASION</td><td>2</td></tr><tr><td>VEHICLE STOP</td><td>2</td></tr><tr><td>UNSAFE DRIVER</td><td>2</td></tr><tr><td>WELLBEING  CHECK</td><td>2</td></tr><tr><td>LAR AFTER TRUST</td><td>2</td></tr><tr><td>DISBALED VEHICLE</td><td>2</td></tr><tr><td>GET BELONINGINS</td><td>2</td></tr><tr><td>NOTIFY/ADVISE</td><td>2</td></tr><tr><td>POS FORC'D ENTRY</td><td>2</td></tr><tr><td>TOWD</td><td>2</td></tr><tr><td>SCREAMINNG</td><td>2</td></tr><tr><td>LOUD NOISE CMPLT</td><td>2</td></tr><tr><td>CLOSEDE CALL</td><td>2</td></tr><tr><td>TELE MISUSE</td><td>2</td></tr><tr><td>INEBRIATED PERS.</td><td>2</td></tr><tr><td>CLOSED CLL</td><td>2</td></tr><tr><td>FAMLIY DISP</td><td>2</td></tr><tr><td>CITIZEN  ASSIST</td><td>2</td></tr><tr><td>WANTS MALE</td><td>2</td></tr><tr><td>SWEEGEE COMPLAIN</td><td>2</td></tr><tr><td>PANHANDLING</td><td>2</td></tr><tr><td>CHILD CHECK</td><td>2</td></tr><tr><td>BEL/FRANKFORD</td><td>2</td></tr><tr><td>NOITIFY</td><td>2</td></tr><tr><td>INVESTIGGATE</td><td>2</td></tr><tr><td>SIGNOFFONVEHICLE</td><td>2</td></tr><tr><td>EMERG/PETITION</td><td>2</td></tr><tr><td>STOLEN BIKE</td><td>2</td></tr><tr><td>ATTEMPT ARSAN</td><td>2</td></tr><tr><td>TRAFFIC DIR</td><td>2</td></tr><tr><td>INDECENT EXPOSUR</td><td>2</td></tr><tr><td>CK WELL BEINIG</td><td>2</td></tr><tr><td>CHECK WELL BEIMN</td><td>2</td></tr><tr><td>TRAFF SIG OUT</td><td>2</td></tr><tr><td>LEFT MEDS</td><td>2</td></tr><tr><td>DOMESTIC</td><td>2</td></tr><tr><td>RECOVERED VEH.</td><td>2</td></tr><tr><td>DISABLED VEHH</td><td>2</td></tr><tr><td>CUSTODY ISSUE</td><td>2</td></tr><tr><td>FOLLOW UP 98</td><td>2</td></tr><tr><td>WARRANT PICKUP</td><td>2</td></tr><tr><td>BAILS BONDSMAN</td><td>2</td></tr><tr><td>GE BELONGINGS</td><td>2</td></tr><tr><td>DISPIUTE</td><td>2</td></tr><tr><td>CONFUSED  FEMALE</td><td>2</td></tr><tr><td>CODE BLUE</td><td>2</td></tr><tr><td>LOCATION CHECK</td><td>2</td></tr><tr><td>BY THREATENING</td><td>2</td></tr><tr><td>ATTM TO LOCATE</td><td>2</td></tr><tr><td>FALSE PRETENCE</td><td>2</td></tr><tr><td>CHECK  WELL  BEI</td><td>2</td></tr><tr><td>NONBEATHER</td><td>2</td></tr><tr><td>TESTING CAD</td><td>2</td></tr><tr><td>WELFARE   CHECK</td><td>2</td></tr><tr><td>TO SEE PICS</td><td>2</td></tr><tr><td>ADVISE MEDICAL</td><td>2</td></tr><tr><td>WELLNEESS</td><td>2</td></tr><tr><td>DISABLED DRIVERS</td><td>2</td></tr><tr><td>OTWELLNESS CHECK</td><td>2</td></tr><tr><td>ATM MACHINE</td><td>2</td></tr><tr><td>RUN AWAY CHILD</td><td>2</td></tr><tr><td>CHK  WELL BEING</td><td>2</td></tr><tr><td>SUSPICIOUS VEHCE</td><td>2</td></tr><tr><td>THEFT ATTEMPT</td><td>2</td></tr><tr><td>THREATEN/MOUTH</td><td>2</td></tr><tr><td>EMERG PETETION</td><td>2</td></tr><tr><td>EMER PETTI</td><td>2</td></tr><tr><td>WELLENESS CK</td><td>2</td></tr><tr><td>ESCPRT</td><td>2</td></tr><tr><td>THREAT BY MOUTH</td><td>2</td></tr><tr><td>POLCE ESCORT</td><td>2</td></tr><tr><td>BAG CHECK</td><td>2</td></tr><tr><td>NEED SHELTER</td><td>2</td></tr><tr><td>WARRANT APREHENS</td><td>2</td></tr><tr><td>PHONE MI</td><td>2</td></tr><tr><td>WELLINESS CHECK</td><td>2</td></tr><tr><td>RECLESS DRIVING</td><td>2</td></tr><tr><td>POLICE INFORMAT</td><td>2</td></tr><tr><td>GET BELEONGINGS</td><td>2</td></tr><tr><td>GEET BELONGINGS</td><td>2</td></tr><tr><td>POSSIBLE SCAM</td><td>2</td></tr><tr><td>TRAFFIC ISSUE</td><td>2</td></tr><tr><td>ATTEPMT TO LOC</td><td>2</td></tr><tr><td>ABANDON VEH.</td><td>2</td></tr><tr><td>HIT & RUN</td><td>2</td></tr><tr><td>NOISE COMPL</td><td>2</td></tr><tr><td>POSSIBKE</td><td>2</td></tr><tr><td>TRANSPORTATION</td><td>2</td></tr><tr><td>OBVIOUS DEATH</td><td>2</td></tr><tr><td>BALIL OUT</td><td>2</td></tr><tr><td>NOTIFY/WELL BEIN</td><td>2</td></tr><tr><td>DOG DISPUTE</td><td>2</td></tr><tr><td>FOLLOW UP - 4E</td><td>2</td></tr><tr><td>INVESTIGATE DEAT</td><td>2</td></tr><tr><td>INVESTIGAION</td><td>2</td></tr><tr><td>CHECK CHILD WARF</td><td>2</td></tr><tr><td>ICY CONDITIONS</td><td>2</td></tr><tr><td>SEXT TEXT</td><td>2</td></tr><tr><td>REF TO 65</td><td>2</td></tr><tr><td>EMERG  PET</td><td>2</td></tr><tr><td>CHECKE WELL BEIN</td><td>2</td></tr><tr><td>CHK BELONGINGS</td><td>2</td></tr><tr><td>INVEST UNK TRBLE</td><td>2</td></tr><tr><td>MOBILE SOS ALARM</td><td>2</td></tr><tr><td>WARR Transport</td><td>2</td></tr><tr><td>VAGRANT REM</td><td>2</td></tr><tr><td>RECKLESS DRVER</td><td>2</td></tr><tr><td>EMER PEITION</td><td>2</td></tr><tr><td>REF TO  33</td><td>2</td></tr><tr><td>WORKING ON LINES</td><td>2</td></tr><tr><td>SIG OUT</td><td>2</td></tr><tr><td>TRESSPASSER</td><td>2</td></tr><tr><td>CHESK WELL BEING</td><td>2</td></tr><tr><td>INVESTG.</td><td>2</td></tr><tr><td>NOTIFY PERSON</td><td>2</td></tr><tr><td>ATTEMPT B&E</td><td>2</td></tr><tr><td>OPEN PROPERTY</td><td>2</td></tr><tr><td>UNAUTH OF USE</td><td>2</td></tr><tr><td>OSEE TEXTTHER</td><td>2</td></tr><tr><td>SUPERVISOR</td><td>2</td></tr><tr><td>GATHER BELNGINGS</td><td>2</td></tr><tr><td>DIRT BIKE COMP</td><td>2</td></tr><tr><td>ESORT</td><td>2</td></tr><tr><td>INVEST.</td><td>2</td></tr><tr><td>OPOEN  LINE</td><td>2</td></tr><tr><td>FAMILY ISSUE</td><td>2</td></tr><tr><td>MOVING VEHICLE</td><td>2</td></tr><tr><td>CONCERN</td><td>2</td></tr><tr><td>UKNOWN TROUBLE</td><td>2</td></tr><tr><td>FEMALE SCREAM</td><td>2</td></tr><tr><td>TEL MISUSE</td><td>2</td></tr><tr><td>UNKNON TROUBLE</td><td>2</td></tr><tr><td>MACHETE COLLECTI</td><td>2</td></tr><tr><td>SEE   TEXT</td><td>2</td></tr><tr><td>CHECK AND ADVI</td><td>2</td></tr><tr><td>ANIMAL SCREAMING</td><td>2</td></tr><tr><td>60A</td><td>2</td></tr><tr><td>ATTEMPT STABBING</td><td>2</td></tr><tr><td>CHEECK WELL BEIN</td><td>2</td></tr><tr><td>DOG BARKING</td><td>2</td></tr><tr><td>P/U WARRANTS</td><td>2</td></tr><tr><td>FOLLOW UP 3P</td><td>2</td></tr><tr><td>INV VACANT PRPT</td><td>2</td></tr><tr><td>NEEDS TO E/P</td><td>2</td></tr><tr><td>DISAB VEHICLE</td><td>2</td></tr><tr><td>CHECK VAC HOUSE</td><td>2</td></tr><tr><td>E/P PAPERS</td><td>2</td></tr><tr><td>CHECH WELL BEING</td><td>2</td></tr><tr><td>MALE FELL</td><td>2</td></tr><tr><td>CK WELL BEIING</td><td>2</td></tr><tr><td>INVSTAGATE</td><td>2</td></tr><tr><td>ASSIST STRANDED</td><td>2</td></tr><tr><td>DUMPING IN PRGES</td><td>2</td></tr><tr><td>PAT ELOPED</td><td>2</td></tr><tr><td>BABY ON PHONE</td><td>2</td></tr><tr><td>POSIBLE</td><td>2</td></tr><tr><td>INVEWSTIGATE</td><td>2</td></tr><tr><td>PREACE ORDER</td><td>2</td></tr><tr><td>ATTEMT TO NOTIFY</td><td>2</td></tr><tr><td>ASSIST BCO</td><td>2</td></tr><tr><td>ATT LRCNY F/AUT</td><td>2</td></tr><tr><td>BLOCKING SIDEWAL</td><td>2</td></tr><tr><td>SEE TEXTTHER</td><td>2</td></tr><tr><td>INVESYTIGATE</td><td>2</td></tr><tr><td>GET TAGS</td><td>2</td></tr><tr><td>SEX ABUSE</td><td>2</td></tr><tr><td>CHEK WELL BEGING</td><td>2</td></tr><tr><td>TRAFFIC HAZZARD</td><td>2</td></tr><tr><td>MALICIOUS</td><td>2</td></tr><tr><td>SE</td><td>2</td></tr><tr><td>ASSIS. ANIMAL CO</td><td>2</td></tr><tr><td>TREE DOWN</td><td>2</td></tr><tr><td>UNKWN TROUBLE</td><td>2</td></tr><tr><td>KEYS  LOCKED IN</td><td>2</td></tr><tr><td>LOST MEDS</td><td>2</td></tr><tr><td>BABY STUCK IN CA</td><td>2</td></tr><tr><td>ARSON REPORT</td><td>2</td></tr><tr><td>85E</td><td>2</td></tr><tr><td>PATIENT ELOPMENT</td><td>2</td></tr><tr><td>INVEST TRB UNKN</td><td>2</td></tr><tr><td>ILL EVICT</td><td>2</td></tr><tr><td>MEET BCO-INVEST</td><td>2</td></tr><tr><td>POLICE REQUEST</td><td>2</td></tr><tr><td>ER DEATH</td><td>2</td></tr><tr><td>INNESTIGATE</td><td>2</td></tr><tr><td>POLKICE ASSIT</td><td>2</td></tr><tr><td>STOLEN TAGS</td><td>2</td></tr><tr><td>52C03G</td><td>2</td></tr><tr><td>EMERGE PETITION</td><td>2</td></tr><tr><td>SH</td><td>2</td></tr><tr><td>BIO HAZARD</td><td>2</td></tr><tr><td>POL INFO</td><td>2</td></tr><tr><td>LOST ELDERY LADY</td><td>2</td></tr><tr><td>POS FORCD ENTRY</td><td>2</td></tr><tr><td>CHECK WELLING BE</td><td>2</td></tr><tr><td>NEEDS EP</td><td>2</td></tr><tr><td>CHECK AND ANDIES</td><td>2</td></tr><tr><td>DISABLED VEJHICL</td><td>2</td></tr><tr><td>ASSIT</td><td>2</td></tr><tr><td>COVID ISSUE</td><td>2</td></tr><tr><td>CK WELL BRING</td><td>2</td></tr><tr><td>WELLNESS CHECK.</td><td>2</td></tr><tr><td>TROUBLEE UNKNOWN</td><td>2</td></tr><tr><td>FOLLW UP</td><td>2</td></tr><tr><td>INVESGATE</td><td>2</td></tr><tr><td>REQ POL ESCORT</td><td>2</td></tr><tr><td>IMVEST TROUBLE</td><td>2</td></tr><tr><td>PORCH GRILL</td><td>2</td></tr><tr><td>ARMED PERS</td><td>2</td></tr><tr><td>EXTRM TIRED DRVR</td><td>2</td></tr><tr><td>REF   TO    30</td><td>2</td></tr><tr><td>THRREATS</td><td>2</td></tr><tr><td>FOLLOW UP TO 75</td><td>2</td></tr><tr><td>GET BEONGINGS</td><td>2</td></tr><tr><td>SCREAMING HELP</td><td>2</td></tr><tr><td>LOCKED-IN</td><td>2</td></tr><tr><td>PATIENT DEATH</td><td>2</td></tr><tr><td>ASSIST PERSONS</td><td>2</td></tr><tr><td>SUSPECTED BREAKI</td><td>2</td></tr><tr><td>ANIMLAS LOCKEDI</td><td>2</td></tr><tr><td>EMERGENCY PETITO</td><td>2</td></tr><tr><td>PROTECRTIVE ORDE</td><td>2</td></tr><tr><td>KEYS  LOCKED  IN</td><td>2</td></tr><tr><td>WALLET</td><td>2</td></tr><tr><td>WILLNESS CHECK</td><td>2</td></tr><tr><td>INFO FOLLOW UP</td><td>2</td></tr><tr><td>UNAUTHORAIZED US</td><td>2</td></tr><tr><td>DISABBLE VEH</td><td>2</td></tr><tr><td>CHAIR REMOVED</td><td>2</td></tr><tr><td>GAS EMERG</td><td>2</td></tr><tr><td>REF TO  4E</td><td>2</td></tr><tr><td>FORSED ENTRY</td><td>2</td></tr><tr><td>ATTEMPT TO OTHER</td><td>2</td></tr><tr><td>ABUSE REPORT</td><td>2</td></tr><tr><td>GET STOLEN BELON</td><td>2</td></tr><tr><td>AIR RIFFLE</td><td>2</td></tr><tr><td>RECKLESS DRIVERS</td><td>2</td></tr><tr><td>VIOLATION</td><td>2</td></tr><tr><td>INVESTAIGATE</td><td>2</td></tr><tr><td>VAGRANT CHECK</td><td>2</td></tr><tr><td>POLICE NEEDED</td><td>2</td></tr><tr><td>TROUBLE UNKNON</td><td>2</td></tr><tr><td>ESCORTOTHER</td><td>2</td></tr><tr><td>DISABELD VEHICLE</td><td>2</td></tr><tr><td>0VER CROWDED CL</td><td>2</td></tr><tr><td>BLKING SIDEWALK</td><td>2</td></tr><tr><td>NEED NO HELP</td><td>2</td></tr><tr><td>EMERGECY PETITI</td><td>2</td></tr><tr><td>NOISE COMPLANT</td><td>2</td></tr><tr><td>INVEST NEEDLES</td><td>2</td></tr><tr><td>BYTHREAT</td><td>2</td></tr><tr><td>AWOLL</td><td>2</td></tr><tr><td>ADVISED REPO'D</td><td>2</td></tr><tr><td>ASSIST COUNTY</td><td>2</td></tr><tr><td>CRITICAL MISSING</td><td>2</td></tr><tr><td>LOCATE PERSON</td><td>2</td></tr><tr><td>ESCORT HOME</td><td>2</td></tr><tr><td>ILLEGAL LOCK OUT</td><td>2</td></tr><tr><td>CHK WEL LBEING</td><td>2</td></tr><tr><td>CKECK WELL BEING</td><td>2</td></tr><tr><td>PATIENT ELOPE</td><td>2</td></tr><tr><td>POLICEINFO</td><td>2</td></tr><tr><td>DIASABLED VEH</td><td>2</td></tr><tr><td>PASSD OUT IN VEH</td><td>2</td></tr><tr><td>RECOVERY AUTO</td><td>2</td></tr><tr><td>PICKUP WAR/SUMM</td><td>2</td></tr><tr><td>SEE CONTENT</td><td>2</td></tr><tr><td>WELLBEING CHILD.</td><td>2</td></tr><tr><td>INVBESTIGATE</td><td>2</td></tr><tr><td>ASSIST MDTA</td><td>2</td></tr><tr><td>SUSPICIOUS MALE</td><td>2</td></tr><tr><td>AGGRV DRIVERS</td><td>2</td></tr><tr><td>OPEN FRONT DOOR</td><td>2</td></tr><tr><td>DUMPING NOW</td><td>2</td></tr><tr><td>NEGLECT</td><td>2</td></tr><tr><td>LOCKED/OUT</td><td>2</td></tr><tr><td>MEET HOMICIDE</td><td>2</td></tr><tr><td>POSSIBLE .</td><td>2</td></tr><tr><td>911 MISSUE</td><td>2</td></tr><tr><td>CHECK WELL \\BEIN</td><td>2</td></tr><tr><td>UNUATHORIZED USE</td><td>2</td></tr><tr><td>WITNESS INFO</td><td>2</td></tr><tr><td>INVESTIGTATE</td><td>2</td></tr><tr><td>POSS 73</td><td>2</td></tr><tr><td>TRAF LIGHTS OUT</td><td>2</td></tr><tr><td>EMERG [PETITION</td><td>2</td></tr><tr><td>79 UNATHORIZED U</td><td>2</td></tr><tr><td>REF T O  56</td><td>2</td></tr><tr><td>RECOVERED VEHICL</td><td>2</td></tr><tr><td>DISABLE  VEHICLE</td><td>2</td></tr><tr><td>WELL-BEING CHK</td><td>2</td></tr><tr><td>YELLING FOR HELP</td><td>2</td></tr><tr><td>FOLLOW UP TOWD</td><td>2</td></tr><tr><td>GET BELONIGS</td><td>2</td></tr><tr><td>MAN SCREAMING</td><td>2</td></tr><tr><td>VEH RELOCATE</td><td>2</td></tr><tr><td>CHILDLOCKEDINVEH</td><td>2</td></tr><tr><td>GET BBELONGINGS</td><td>2</td></tr><tr><td>FOLLOW UP 65</td><td>2</td></tr><tr><td>FLOODED AREA</td><td>2</td></tr><tr><td>PICK UP PROPERTY</td><td>2</td></tr><tr><td>UNKNOW PROBLEM</td><td>2</td></tr><tr><td>DISABLD VEH</td><td>2</td></tr><tr><td>HOMELESS</td><td>2</td></tr><tr><td>CHK WELL BEGING</td><td>2</td></tr><tr><td>LOUD SOUNDS</td><td>2</td></tr><tr><td>FOLLOW UP 49</td><td>2</td></tr><tr><td>LOST TAGS</td><td>2</td></tr><tr><td>WERLFARE CHECK</td><td>2</td></tr><tr><td>DOG IN CAR</td><td>2</td></tr><tr><td>FOLLOW UP 75</td><td>2</td></tr><tr><td>RECOVERY</td><td>2</td></tr><tr><td>ALOPMENT</td><td>2</td></tr><tr><td>CHK LOC</td><td>2</td></tr><tr><td>DISABLED VEHICE</td><td>2</td></tr><tr><td>AUTHORIZED USE</td><td>2</td></tr><tr><td>INVESTIGAYE</td><td>2</td></tr><tr><td>INVIESTIGATE</td><td>2</td></tr><tr><td>TRAFFIC ENFORCEM</td><td>2</td></tr><tr><td>BOISE COMPLAINT</td><td>2</td></tr><tr><td>INVESTIGAGTE</td><td>2</td></tr><tr><td>RECKLESS</td><td>2</td></tr><tr><td>TORUBLE UNKNOWN</td><td>2</td></tr><tr><td>INVESTGIATE</td><td>2</td></tr><tr><td>POSS AUTO THEFT</td><td>2</td></tr><tr><td>LOCKED INSIDE</td><td>2</td></tr><tr><td>ABANDONED VEHICL</td><td>2</td></tr><tr><td>ATTEMPT 2 LOCATE</td><td>2</td></tr><tr><td>UNAUTHR USE</td><td>2</td></tr><tr><td>FOLLOW UP 6D</td><td>2</td></tr><tr><td>AWHOL</td><td>2</td></tr><tr><td>INMVESTIGATE</td><td>2</td></tr><tr><td>TROUBLE UNKONW</td><td>2</td></tr><tr><td>ASSIST DRIVER</td><td>2</td></tr><tr><td>UNKNOWN PROBLM</td><td>2</td></tr><tr><td>CK WELL BEGIN</td><td>2</td></tr><tr><td>LOCKED IN CAR</td><td>2</td></tr><tr><td>WALK AWAY</td><td>2</td></tr><tr><td>DEER STRUCK</td><td>2</td></tr><tr><td>CHILD IN VEH</td><td>2</td></tr><tr><td>FOLLOW UP - 5G</td><td>2</td></tr><tr><td>RETURN BELONGING</td><td>2</td></tr><tr><td>WRONG WAY ON 83</td><td>2</td></tr><tr><td>WELFARE</td><td>2</td></tr><tr><td>CHKK WELL BEING</td><td>2</td></tr><tr><td>GET BULLET</td><td>2</td></tr><tr><td>CHILD LOCKD NCAR</td><td>2</td></tr><tr><td>INVESTIGATE 3</td><td>2</td></tr><tr><td>POWER OUTAGE</td><td>2</td></tr><tr><td>CHILD SCREAMING</td><td>2</td></tr><tr><td>EMERG PETITON</td><td>2</td></tr><tr><td>CLSOED CALL</td><td>2</td></tr><tr><td>MASK</td><td>2</td></tr><tr><td>WELL BEING CHK.</td><td>2</td></tr><tr><td>PICK UP BULLET</td><td>2</td></tr><tr><td>CHECK WELLBEIN</td><td>2</td></tr><tr><td>SEEE TEXT</td><td>2</td></tr><tr><td>CHECK THE LOC</td><td>2</td></tr><tr><td>911 MISUE</td><td>2</td></tr><tr><td>TOWED</td><td>2</td></tr><tr><td>ASSIST MOTORIST</td><td>2</td></tr><tr><td>IMNVESTIGATE</td><td>2</td></tr><tr><td>DISBABLE VEH</td><td>2</td></tr><tr><td>BUSINESS ASSIST</td><td>2</td></tr><tr><td>CHL WELL BEING</td><td>2</td></tr><tr><td>LOOK OUT</td><td>2</td></tr><tr><td>RECKLESS DRVR</td><td>2</td></tr><tr><td>TROUBLE UNKOWN</td><td>2</td></tr><tr><td>CHILD SAFETY CHK</td><td>2</td></tr><tr><td>GUN</td><td>2</td></tr><tr><td>DISABLED VEHI</td><td>2</td></tr><tr><td>SECURITY CHECK</td><td>2</td></tr><tr><td>9</td><td>2</td></tr><tr><td>2J</td><td>2</td></tr><tr><td>CDS</td><td>2</td></tr><tr><td>LOCKED IN GARAGE</td><td>2</td></tr><tr><td>DISABLE DRIVER</td><td>2</td></tr><tr><td>INVESTA</td><td>2</td></tr><tr><td>POLICE PATROL</td><td>2</td></tr><tr><td>SUSPICIOUS ACTIV</td><td>2</td></tr><tr><td>FLOODING</td><td>2</td></tr><tr><td>ACCIDENT INFO</td><td>2</td></tr><tr><td>POSS FORCE ENTR</td><td>2</td></tr><tr><td>INVESTIGHATE</td><td>2</td></tr><tr><td>CITIZEN'S ASSIST</td><td>2</td></tr><tr><td>WELFARE CHEKC</td><td>2</td></tr><tr><td>CHECL WELL BEING</td><td>2</td></tr><tr><td>LARCENY AFTER TR</td><td>2</td></tr><tr><td>TELE/THREAT/COM</td><td>2</td></tr><tr><td>LOCKED IN APT</td><td>2</td></tr><tr><td>ATTEMPT BURGLARY</td><td>2</td></tr><tr><td>REPAIR ORDER</td><td>2</td></tr><tr><td>CHCK WELL BEING</td><td>2</td></tr><tr><td>CHK WELL  BEING</td><td>2</td></tr><tr><td>LOST DOG</td><td>2</td></tr><tr><td>WELFAR CHECK</td><td>2</td></tr><tr><td>80</td><td>2</td></tr><tr><td>ESCORT BELONGING</td><td>2</td></tr><tr><td>WELFRE CHECK</td><td>2</td></tr><tr><td>IINVESTIGATE</td><td>2</td></tr><tr><td>FINGERPRINT</td><td>2</td></tr><tr><td>TACTICAL ALERT</td><td>2</td></tr><tr><td>POSS ARSON</td><td>2</td></tr><tr><td>HARASSED</td><td>2</td></tr><tr><td>STOLEN TAG</td><td>2</td></tr><tr><td>INVESTIGATE SCN</td><td>2</td></tr><tr><td>INVEST ABUSE</td><td>2</td></tr><tr><td>PLS SEE TEXT</td><td>2</td></tr><tr><td>STOLEN MEDS</td><td>1</td></tr><tr><td>YELLING</td><td>1</td></tr><tr><td>TELEPHOME MISUSE</td><td>1</td></tr><tr><td>PREOTECTIVE ORDE</td><td>1</td></tr><tr><td>BLOCKING MAIL</td><td>1</td></tr><tr><td>FOLLOW UP  99</td><td>1</td></tr><tr><td>POLICE ONLY</td><td>1</td></tr><tr><td>ATEMP ROBERY</td><td>1</td></tr><tr><td>ADVISEMENT</td><td>1</td></tr><tr><td>ME CASE</td><td>1</td></tr><tr><td>BYT THREAT</td><td>1</td></tr><tr><td>PERSON WITH GUN</td><td>1</td></tr><tr><td>LOST ELDERLY LAD</td><td>1</td></tr><tr><td>WLLNESS CHECK</td><td>1</td></tr><tr><td>CROWD</td><td>1</td></tr><tr><td>RECOVERED PROPER</td><td>1</td></tr><tr><td>WELL BEIN CHECK</td><td>1</td></tr><tr><td>WELLNWSS CHECK</td><td>1</td></tr><tr><td>CHILD LOC IN APT</td><td>1</td></tr><tr><td>OTESCORT</td><td>1</td></tr><tr><td>INVESTIGATET</td><td>1</td></tr><tr><td>BEGGAR REMOVAL</td><td>1</td></tr><tr><td>ATT  TO LOCATE</td><td>1</td></tr><tr><td>INFOMATION</td><td>1</td></tr><tr><td>DISABLED ROVER</td><td>1</td></tr><tr><td>WELLNESS CHRVK</td><td>1</td></tr><tr><td>PIT BULLS LOOSE</td><td>1</td></tr><tr><td>CHANGE</td><td>1</td></tr><tr><td>NICE</td><td>1</td></tr><tr><td>IN PERSON THREAT</td><td>1</td></tr><tr><td>WARRAANTS</td><td>1</td></tr><tr><td>INVETAGATE</td><td>1</td></tr><tr><td>FOUND LICENSE</td><td>1</td></tr><tr><td>THREAT BY PHONE</td><td>1</td></tr><tr><td>STREET LIGHT OUT</td><td>1</td></tr><tr><td>INV EST</td><td>1</td></tr><tr><td>CUSTODY DIS</td><td>1</td></tr><tr><td>CHECK WELLING</td><td>1</td></tr><tr><td>EMERGERNCY PETIT</td><td>1</td></tr><tr><td>STALKING</td><td>1</td></tr><tr><td>RELOCATED VEHC</td><td>1</td></tr><tr><td>BULLET RECOVERY</td><td>1</td></tr><tr><td>OTHERWELL BEING</td><td>1</td></tr><tr><td>10/11</td><td>1</td></tr><tr><td>DRIVER CHECK</td><td>1</td></tr><tr><td>ECORT</td><td>1</td></tr><tr><td>REF TO 7C</td><td>1</td></tr><tr><td>CONTRACTOR DIS</td><td>1</td></tr><tr><td>ELDERLY NEG.</td><td>1</td></tr><tr><td>59</td><td>1</td></tr><tr><td>CHILD SWAP</td><td>1</td></tr><tr><td>CHECK AND ADIVSE</td><td>1</td></tr><tr><td>FOUND ITEMS</td><td>1</td></tr><tr><td>VENDOR REMOVAL</td><td>1</td></tr><tr><td>EMPLOYEE DISPUTE</td><td>1</td></tr><tr><td>PROTECTIVE OEDER</td><td>1</td></tr><tr><td>REQUEST FOR ASSI</td><td>1</td></tr><tr><td>STABBING VIC.</td><td>1</td></tr><tr><td>NEXT OF KIN CHK</td><td>1</td></tr><tr><td>HOMELESS/SHELTER</td><td>1</td></tr><tr><td>SRR  TEXT</td><td>1</td></tr><tr><td>PEACE PORDER</td><td>1</td></tr><tr><td>ESCROT</td><td>1</td></tr><tr><td>PROT WITNESS</td><td>1</td></tr><tr><td>SUS PACKAGE</td><td>1</td></tr><tr><td>WELLNESS INVEST</td><td>1</td></tr><tr><td>REF  TO   3P</td><td>1</td></tr><tr><td>LOST   FEMALE</td><td>1</td></tr><tr><td>INVESTIGAGATE</td><td>1</td></tr><tr><td>ATT TOLOCATE</td><td>1</td></tr><tr><td>RIDE</td><td>1</td></tr><tr><td>ATTP TO LOC</td><td>1</td></tr><tr><td>POLICE CHECK</td><td>1</td></tr><tr><td>CUSTODY DISP.</td><td>1</td></tr><tr><td>LOST PROPERT</td><td>1</td></tr><tr><td>OPER HYDRANT</td><td>1</td></tr><tr><td>RELOCATE VEHC</td><td>1</td></tr><tr><td>10-11</td><td>1</td></tr><tr><td>DISABLE VEHCLE</td><td>1</td></tr><tr><td>CHECK FOR JUVN.</td><td>1</td></tr><tr><td>223</td><td>1</td></tr><tr><td>OFFICER ASSIST.</td><td>1</td></tr><tr><td>INV UNK TROBLE</td><td>1</td></tr><tr><td>INVESTN</td><td>1</td></tr><tr><td>CAR ASSISTANCE</td><td>1</td></tr><tr><td>NEEDLE COLLECT</td><td>1</td></tr><tr><td>PEDESTRIAN ON 83</td><td>1</td></tr><tr><td>CONE REMOVAL</td><td>1</td></tr><tr><td>VEHICLE ASSIST</td><td>1</td></tr><tr><td>CUSTODY SWAP</td><td>1</td></tr><tr><td>ACCIDENT INFO.</td><td>1</td></tr><tr><td>ESCORET</td><td>1</td></tr><tr><td>GETBELONINGS</td><td>1</td></tr><tr><td>STRANGE ODOR</td><td>1</td></tr><tr><td>DRUNNK DRIVER</td><td>1</td></tr><tr><td>LOCKED VEH</td><td>1</td></tr><tr><td>EMER PETETION</td><td>1</td></tr><tr><td>EMERGE. PETITION</td><td>1</td></tr><tr><td>ESCORTY</td><td>1</td></tr><tr><td>EXTINGUISHED</td><td>1</td></tr><tr><td>HOMELESS REVMOAL</td><td>1</td></tr><tr><td>INVESTIGATTE</td><td>1</td></tr><tr><td>AGGR DRIVER</td><td>1</td></tr><tr><td>WELLNESSCHECK</td><td>1</td></tr><tr><td>INVTAGATE</td><td>1</td></tr><tr><td>SCORT</td><td>1</td></tr><tr><td>SUSPICOUS</td><td>1</td></tr><tr><td>ATTEMPTED BURG</td><td>1</td></tr><tr><td>TAG CHECK</td><td>1</td></tr><tr><td>10-11 BALTIMOREC</td><td>1</td></tr><tr><td>P/UP PAPERS</td><td>1</td></tr><tr><td>VERBAL ABUSE</td><td>1</td></tr><tr><td>PEDESTRIANS</td><td>1</td></tr><tr><td>CONFUSED  NEIGHB</td><td>1</td></tr><tr><td>POLE DOWN</td><td>1</td></tr><tr><td>APT CHECK</td><td>1</td></tr><tr><td>AGGR DRIVERS</td><td>1</td></tr><tr><td>DRUG PICK UP</td><td>1</td></tr><tr><td>EP ORDER/SERVE</td><td>1</td></tr><tr><td>IN-PROGRESS</td><td>1</td></tr><tr><td>COURT ORDER VIOL</td><td>1</td></tr><tr><td>.</td><td>1</td></tr><tr><td>ALOPED PATIENT</td><td>1</td></tr><tr><td>WELCARE CHECK</td><td>1</td></tr><tr><td>BLOOD ON PORCH</td><td>1</td></tr><tr><td>EMERG EVALUATION</td><td>1</td></tr><tr><td>LOCK OUT OF VEH</td><td>1</td></tr><tr><td>NOISE COMP</td><td>1</td></tr><tr><td>PEACE</td><td>1</td></tr><tr><td>CHK   LOC</td><td>1</td></tr><tr><td>PROTECTIVE ODER</td><td>1</td></tr><tr><td>DISABLED   VEH</td><td>1</td></tr><tr><td>REF  TO 6J</td><td>1</td></tr><tr><td>PAPERWORK PICKUP</td><td>1</td></tr><tr><td>CHECKELL BEING</td><td>1</td></tr><tr><td>MEDICAL ALARM</td><td>1</td></tr><tr><td>FOUND DRUGS</td><td>1</td></tr><tr><td>PICK UP KIDS</td><td>1</td></tr><tr><td>STOLEN $$</td><td>1</td></tr><tr><td>DISABLE VEHICLE.</td><td>1</td></tr><tr><td>IDENTITY THEFT</td><td>1</td></tr><tr><td>WELL BEIMG CHECK</td><td>1</td></tr><tr><td>INVESTGATION</td><td>1</td></tr><tr><td>THEFT REPORT</td><td>1</td></tr><tr><td>HECK WELLING</td><td>1</td></tr><tr><td>PRLOTECTIVE ORDE</td><td>1</td></tr><tr><td>SUSP VHCL</td><td>1</td></tr><tr><td>LOST POLICE JACK</td><td>1</td></tr><tr><td>RETURN ITEMS</td><td>1</td></tr><tr><td>SUMMONS</td><td>1</td></tr><tr><td>DISABLE VEHOTHER</td><td>1</td></tr><tr><td>HOMLESS COMPLAIN</td><td>1</td></tr><tr><td>WELL CHK</td><td>1</td></tr><tr><td>TRAFFIC BLOCK OF</td><td>1</td></tr><tr><td>WELARE CHECK</td><td>1</td></tr><tr><td>SWEEGE</td><td>1</td></tr><tr><td>STOP WORK ORDER</td><td>1</td></tr><tr><td>DISABLEDVEHICLE</td><td>1</td></tr><tr><td>EXTREM PROT ORDE</td><td>1</td></tr><tr><td>INVEDTIGATE</td><td>1</td></tr><tr><td>SAFE  KEEPING</td><td>1</td></tr><tr><td>INFROMATION</td><td>1</td></tr><tr><td>OW UP</td><td>1</td></tr><tr><td>EMERG. PETIION</td><td>1</td></tr><tr><td>ELPOED</td><td>1</td></tr><tr><td>PAIENT DEATH</td><td>1</td></tr><tr><td>WELLBEING CEHCK</td><td>1</td></tr><tr><td>NOYTIFY</td><td>1</td></tr><tr><td>RELOC VEHC</td><td>1</td></tr><tr><td>20S</td><td>1</td></tr><tr><td>INVESTG</td><td>1</td></tr><tr><td>INV UKN TROUBLE</td><td>1</td></tr><tr><td>DISABLED DRIVR</td><td>1</td></tr><tr><td>SEE TXTT</td><td>1</td></tr><tr><td>ESCAPE</td><td>1</td></tr><tr><td>STUCK TRUCK</td><td>1</td></tr><tr><td>WELLNEDD CK</td><td>1</td></tr><tr><td>EMERG PETET</td><td>1</td></tr><tr><td>WANTED ON WARRAN</td><td>1</td></tr><tr><td>CHECKWELL BEGING</td><td>1</td></tr><tr><td>CHECK WELLNEING</td><td>1</td></tr><tr><td>WEE CHECK</td><td>1</td></tr><tr><td>CAR ON TRAIN TRA</td><td>1</td></tr><tr><td>REF   TO  56</td><td>1</td></tr><tr><td>BLOCKING STREET</td><td>1</td></tr><tr><td>UNIDENTIF PERSON</td><td>1</td></tr><tr><td>VACATE ASSISTANC</td><td>1</td></tr><tr><td>CAR REMOVAL</td><td>1</td></tr><tr><td>POL ESCORT</td><td>1</td></tr><tr><td>RPT A DEATH</td><td>1</td></tr><tr><td>MASK MANDATE</td><td>1</td></tr><tr><td>CHEST WELLBEING</td><td>1</td></tr><tr><td>TRUCK CHECK</td><td>1</td></tr><tr><td>HOUSE CHECK</td><td>1</td></tr><tr><td>ATT LOC</td><td>1</td></tr><tr><td>HEARD SHOTS</td><td>1</td></tr><tr><td>MISS.PERS.FOUND</td><td>1</td></tr><tr><td>WANTS MAIL</td><td>1</td></tr><tr><td>BY THROAT</td><td>1</td></tr><tr><td>REF  TO  79</td><td>1</td></tr><tr><td>P/U WARRANT</td><td>1</td></tr><tr><td>ERCO/PROTEC ORDE</td><td>1</td></tr><tr><td>RECCLESS DRIER</td><td>1</td></tr><tr><td>VERBAL ASSUALT</td><td>1</td></tr><tr><td>DOOR SLAMMING</td><td>1</td></tr><tr><td>TRAFFIC DIRECTIO</td><td>1</td></tr><tr><td>MISSIN PERSON</td><td>1</td></tr><tr><td>DOMESTIC DISPUTE</td><td>1</td></tr><tr><td>WARR/SUMMONS</td><td>1</td></tr><tr><td>ESCORTT</td><td>1</td></tr><tr><td>DUMPSTER FIRE</td><td>1</td></tr><tr><td>LIDS</td><td>1</td></tr><tr><td>OFFICER TEXTING</td><td>1</td></tr><tr><td>SAFETY   CHECK</td><td>1</td></tr><tr><td>VHECK WELL BEING</td><td>1</td></tr><tr><td>DISPABLE VEHIC</td><td>1</td></tr><tr><td>ASSESS</td><td>1</td></tr><tr><td>MENTAL</td><td>1</td></tr><tr><td>CHCK WELLBEING</td><td>1</td></tr><tr><td>POLICE ASSIT.</td><td>1</td></tr><tr><td>ASSIT US MARSHAL</td><td>1</td></tr><tr><td>FRAUD .</td><td>1</td></tr><tr><td>CARS ON SIDEWALK</td><td>1</td></tr><tr><td>SCHOOL ASSIST</td><td>1</td></tr><tr><td>STRANGE  ODOR</td><td>1</td></tr><tr><td>ASSIST ANIM CTR</td><td>1</td></tr><tr><td>FOUND GUN</td><td>1</td></tr><tr><td>TRAFFIC DIRECT</td><td>1</td></tr><tr><td>EMERG  EVALU</td><td>1</td></tr><tr><td>4E BY THREAT</td><td>1</td></tr><tr><td>NEEDS ASSIT.</td><td>1</td></tr><tr><td>PAN HANDELING</td><td>1</td></tr><tr><td>CEHCEK WELLBEING</td><td>1</td></tr><tr><td>PROTECTION ORDER</td><td>1</td></tr><tr><td>WELLNESS CHECK74</td><td>1</td></tr><tr><td>PROT. ORDER</td><td>1</td></tr><tr><td>LRCNY AFTR TRUST</td><td>1</td></tr><tr><td>COURT PAPERS</td><td>1</td></tr><tr><td>CHECK  AREA</td><td>1</td></tr><tr><td>DISPUITE</td><td>1</td></tr><tr><td>IN VESTAGATE</td><td>1</td></tr><tr><td>WARRANTS P/UP</td><td>1</td></tr><tr><td>MVEST</td><td>1</td></tr><tr><td>MASK VIOLATION</td><td>1</td></tr><tr><td>EMERGENCY PETTIO</td><td>1</td></tr><tr><td>CHECK WEELLBEING</td><td>1</td></tr><tr><td>EMERGENCY EVAL</td><td>1</td></tr><tr><td>NO DISTANCE</td><td>1</td></tr><tr><td>CHECK WELL OTHER</td><td>1</td></tr><tr><td>CHK   AREA</td><td>1</td></tr><tr><td>WELLNESS CHECH</td><td>1</td></tr><tr><td>VIDEO REVIEW</td><td>1</td></tr><tr><td>POLICES ASSIST.</td><td>1</td></tr><tr><td>LOCK  OUT</td><td>1</td></tr><tr><td>WELL BEING BEING</td><td>1</td></tr><tr><td>WELLNESS CHTHER</td><td>1</td></tr><tr><td>CUSTODY INFO.</td><td>1</td></tr><tr><td>ROBBERY</td><td>1</td></tr><tr><td>PEACE ORDER VIO</td><td>1</td></tr><tr><td>HANDICAP VIO</td><td>1</td></tr><tr><td>DRUGS/FIREWORKS</td><td>1</td></tr><tr><td>COUNTERFIT BILL</td><td>1</td></tr><tr><td>SWEEGY COMPLAINT</td><td>1</td></tr><tr><td>FINGER PRINT REQ</td><td>1</td></tr><tr><td>BLOCKING ALLEY</td><td>1</td></tr><tr><td>REQUEST</td><td>1</td></tr><tr><td>MISSING DOG</td><td>1</td></tr><tr><td>PROT ODER</td><td>1</td></tr><tr><td>PARKING COMP.</td><td>1</td></tr><tr><td>PETITION</td><td>1</td></tr><tr><td>ENTRY ASSISTANCE</td><td>1</td></tr><tr><td>INVESTIGATE P</td><td>1</td></tr><tr><td>MECHANIC REMOVAL</td><td>1</td></tr><tr><td>NOTIFACATION</td><td>1</td></tr><tr><td>PHONE TEXT</td><td>1</td></tr><tr><td>SEE OTHER</td><td>1</td></tr><tr><td>ATTEMPT TO  LOC</td><td>1</td></tr><tr><td>ESDORT</td><td>1</td></tr><tr><td>FOLLOW UP  7C</td><td>1</td></tr><tr><td>CHECK WE;; BEOMG</td><td>1</td></tr><tr><td>WELLNESS CHEVK</td><td>1</td></tr><tr><td>PEACE IRDER</td><td>1</td></tr><tr><td>MISS MANHOLE COV</td><td>1</td></tr><tr><td>DISPABLE VEHC</td><td>1</td></tr><tr><td>EP TRANSPORT</td><td>1</td></tr><tr><td>TWING</td><td>1</td></tr><tr><td>COMTACT</td><td>1</td></tr><tr><td>PEACE ORDERE</td><td>1</td></tr><tr><td>ABANDONED CAR</td><td>1</td></tr><tr><td>EMRG  PETITION</td><td>1</td></tr><tr><td>EMER EVALUATION</td><td>1</td></tr><tr><td>DECEASED PT</td><td>1</td></tr><tr><td>ORDER SERVE</td><td>1</td></tr><tr><td>DIRT BIKE COMPLI</td><td>1</td></tr><tr><td>FOLLOW UP56</td><td>1</td></tr><tr><td>ATL</td><td>1</td></tr><tr><td>CHK & VEH</td><td>1</td></tr><tr><td>INV  UNK TROUBLE</td><td>1</td></tr><tr><td>REF TO  73</td><td>1</td></tr><tr><td>ATMPT BURGLARY</td><td>1</td></tr><tr><td>CAR HORN SOUNDIN</td><td>1</td></tr><tr><td>SEE TEXT P</td><td>1</td></tr><tr><td>ESCORT BGE</td><td>1</td></tr><tr><td>INVESTIGETE</td><td>1</td></tr><tr><td>ORDER SERVED</td><td>1</td></tr><tr><td>ONVEST</td><td>1</td></tr><tr><td>BY HREAT</td><td>1</td></tr><tr><td>EMER PERTITION</td><td>1</td></tr><tr><td>BAD TEEN</td><td>1</td></tr><tr><td>EMRG PETITION</td><td>1</td></tr><tr><td>PHONEMISUSE</td><td>1</td></tr><tr><td>WANTS DOG</td><td>1</td></tr><tr><td>UNAUTH  USE</td><td>1</td></tr><tr><td>WARRANT PICK UP</td><td>1</td></tr><tr><td>PROTEST</td><td>1</td></tr><tr><td>CHECKWELLBEING.</td><td>1</td></tr><tr><td>CHECK WELL BTHER</td><td>1</td></tr><tr><td>ATTEMPTTONOTIFY</td><td>1</td></tr><tr><td>WANTS KEYS</td><td>1</td></tr><tr><td>SAFE KEEPING</td><td>1</td></tr><tr><td>CONST DISPUTE</td><td>1</td></tr><tr><td>ATTEMPTED THEFT</td><td>1</td></tr><tr><td>NOISE ISSUE</td><td>1</td></tr><tr><td>SUSPICIOUS CAR</td><td>1</td></tr><tr><td>NOTIFIATCION</td><td>1</td></tr><tr><td>FOUND PURSE</td><td>1</td></tr><tr><td>IDENTIFICATION</td><td>1</td></tr><tr><td>REPORTED DEATH</td><td>1</td></tr><tr><td>OFC. ASSIST</td><td>1</td></tr><tr><td>PROTECRIVE ORDER</td><td>1</td></tr><tr><td>POL   INFO</td><td>1</td></tr><tr><td>RESTRAIN ORDER</td><td>1</td></tr><tr><td>WELLNESS CHCK</td><td>1</td></tr><tr><td>SUSPICOUS ITEM</td><td>1</td></tr><tr><td>LIFT AWOL</td><td>1</td></tr><tr><td>DIRT BIKE COMPLA</td><td>1</td></tr><tr><td>PEACE ORDR</td><td>1</td></tr><tr><td>TRAFFIC OFFICER</td><td>1</td></tr><tr><td>STUCK ON TRACK</td><td>1</td></tr><tr><td>INVESTAGATED</td><td>1</td></tr><tr><td>FINGER PRINTS</td><td>1</td></tr><tr><td>CHILD PICK UP</td><td>1</td></tr><tr><td>EVIDENCE CHECK</td><td>1</td></tr><tr><td>PACKAGE PU</td><td>1</td></tr><tr><td>LOUD NISE</td><td>1</td></tr><tr><td>POLICE REP.</td><td>1</td></tr><tr><td>HOSP ASSISTANCE</td><td>1</td></tr><tr><td>FLOOD</td><td>1</td></tr><tr><td>LOITERING INSIDE</td><td>1</td></tr><tr><td>ILLEGAL WEAPON</td><td>1</td></tr><tr><td>INVESSTAGATE</td><td>1</td></tr><tr><td>EMERG PET</td><td>1</td></tr><tr><td>UNAUTHROZED USE</td><td>1</td></tr><tr><td>DISABLEL VEHICLE</td><td>1</td></tr><tr><td>LARGE POTHOLE</td><td>1</td></tr><tr><td>PERSON REVOVAL</td><td>1</td></tr><tr><td>BLOCKED ALLEY</td><td>1</td></tr><tr><td>RECKLESS DRIVIN</td><td>1</td></tr><tr><td>CHECK AND ADVISD</td><td>1</td></tr><tr><td>FOUND EQUIP</td><td>1</td></tr><tr><td>RUNWAY</td><td>1</td></tr><tr><td>INVESTAGATION</td><td>1</td></tr><tr><td>CONSTUCTION NOIS</td><td>1</td></tr><tr><td>SEE TEXR</td><td>1</td></tr><tr><td>ELOPE PATIENT</td><td>1</td></tr><tr><td>INVCESTAGATE</td><td>1</td></tr><tr><td>EP PAPERS PICK/U</td><td>1</td></tr><tr><td>DISABLE</td><td>1</td></tr><tr><td>POLICE INFORMA</td><td>1</td></tr><tr><td>BULLET PARTS</td><td>1</td></tr><tr><td>WALKAWAY</td><td>1</td></tr><tr><td>OTHERASSIST</td><td>1</td></tr><tr><td>AMPLIFIER</td><td>1</td></tr><tr><td>CHECK WELL BBEIN</td><td>1</td></tr><tr><td>NOISE COMP.</td><td>1</td></tr><tr><td>FAMILY CONTACT</td><td>1</td></tr><tr><td>FINGER PRINTING</td><td>1</td></tr><tr><td>STOLEN PROPERTY</td><td>1</td></tr><tr><td>PROTECTIVE ORDDE</td><td>1</td></tr><tr><td>HANDICAP SPACE</td><td>1</td></tr><tr><td>EP PICKUP</td><td>1</td></tr><tr><td>HOMLESS</td><td>1</td></tr><tr><td>PATIENT IDENTIFI</td><td>1</td></tr><tr><td>TAG RUN</td><td>1</td></tr><tr><td>PROTECTTIVE ORDE</td><td>1</td></tr><tr><td>ATT TO LOC.</td><td>1</td></tr><tr><td>PATROL AREA</td><td>1</td></tr><tr><td>TRAFFIC BLOCKED</td><td>1</td></tr><tr><td>POLICE INVO</td><td>1</td></tr><tr><td>TILL PU</td><td>1</td></tr><tr><td>PROTECTIVE ORDR</td><td>1</td></tr><tr><td>TEXT BY PHONE</td><td>1</td></tr><tr><td>CHCK WLL BEING</td><td>1</td></tr><tr><td>SHOOTING REPORT</td><td>1</td></tr><tr><td>CHEC WELLEBING O</td><td>1</td></tr><tr><td>INVESTI</td><td>1</td></tr><tr><td>SIDABLED VEH</td><td>1</td></tr><tr><td>SIGNAL CONCERN</td><td>1</td></tr><tr><td>NVESTAGATE</td><td>1</td></tr><tr><td>ATTEMPT BREAK IN</td><td>1</td></tr><tr><td>PICK UP PAPERWOR</td><td>1</td></tr><tr><td>DISAB  VEH</td><td>1</td></tr><tr><td>WELL CHEK</td><td>1</td></tr><tr><td>FIRWORKS</td><td>1</td></tr><tr><td>PERSON SLEEPING</td><td>1</td></tr><tr><td>DOGS IN CAR</td><td>1</td></tr><tr><td>CHECK FOR LIC</td><td>1</td></tr><tr><td>WRECKLESS DRIVIN</td><td>1</td></tr><tr><td>PARKING</td><td>1</td></tr><tr><td>P/UP WARRANTS</td><td>1</td></tr><tr><td>WELFARE CHEK</td><td>1</td></tr><tr><td>MELLNESS CHECK</td><td>1</td></tr><tr><td>DISABLBED VEHICL</td><td>1</td></tr><tr><td>LOUD MUSIC/MUSIC</td><td>1</td></tr><tr><td>TOW VEH</td><td>1</td></tr><tr><td>INVEST UNKNOWN</td><td>1</td></tr><tr><td>UNKNONW PROBLEM</td><td>1</td></tr><tr><td>NOISE CONCERT</td><td>1</td></tr><tr><td>DEPT W/ INJURIES</td><td>1</td></tr><tr><td>DOOR OPEN</td><td>1</td></tr><tr><td>79  CAD (1143)</td><td>1</td></tr><tr><td>VEH STUCK</td><td>1</td></tr><tr><td>INVESTIGATEY</td><td>1</td></tr><tr><td>SIKE PATIENT</td><td>1</td></tr><tr><td>WALK OUT</td><td>1</td></tr><tr><td>LOCATE VEHICLE</td><td>1</td></tr><tr><td>POLIC INFO</td><td>1</td></tr><tr><td>CHECK LOCATION .</td><td>1</td></tr><tr><td>LOUD NOISE COMPL</td><td>1</td></tr><tr><td>POLLICE  INFO</td><td>1</td></tr><tr><td>ASSIST AMTRAK</td><td>1</td></tr><tr><td>NEEDS POLICE</td><td>1</td></tr><tr><td>DISABLED VEC</td><td>1</td></tr><tr><td>UNKNOWN PROBLEM/</td><td>1</td></tr><tr><td>DUPLICATE CALL</td><td>1</td></tr><tr><td>FIRE DEPT CONFUS</td><td>1</td></tr><tr><td>WELL NBEING</td><td>1</td></tr><tr><td>INVESTIGATE3</td><td>1</td></tr><tr><td>ASSIST DRVR</td><td>1</td></tr><tr><td>LYING ON THE GRO</td><td>1</td></tr><tr><td>GETS BELONGINGS</td><td>1</td></tr><tr><td>INVESTED</td><td>1</td></tr><tr><td>LOUD MUSIC/ROSS</td><td>1</td></tr><tr><td>REPORT DOA</td><td>1</td></tr><tr><td>SEET TEXT</td><td>1</td></tr><tr><td>WELLMESS CHECK</td><td>1</td></tr><tr><td>TROUBLEK UNKNOWN</td><td>1</td></tr><tr><td>LOCKED OUT VEH</td><td>1</td></tr><tr><td>EMER PARTITION</td><td>1</td></tr><tr><td>GET BELOINGING</td><td>1</td></tr><tr><td>FOUL ODOR</td><td>1</td></tr><tr><td>DOG LOCKD IN VEH</td><td>1</td></tr><tr><td>FOLLOW UP 4D</td><td>1</td></tr><tr><td>ATTEMPT TO ID</td><td>1</td></tr><tr><td>69</td><td>1</td></tr><tr><td>CHEVK WELL BEING</td><td>1</td></tr><tr><td>LOCK-OUT</td><td>1</td></tr><tr><td>ASSAULT BY THREA</td><td>1</td></tr><tr><td>CLOSE  CALL</td><td>1</td></tr><tr><td>BAIL OUT --</td><td>1</td></tr><tr><td>DECEASED  PATIEN</td><td>1</td></tr><tr><td>DISABLED VEHICED</td><td>1</td></tr><tr><td>4e  ( cad #3413)</td><td>1</td></tr><tr><td>INVEST SCENE</td><td>1</td></tr><tr><td>BULLET PICKUP</td><td>1</td></tr><tr><td>7C  ( CAD #3906)</td><td>1</td></tr><tr><td>STRONG ODOR</td><td>1</td></tr><tr><td>POSS LOST</td><td>1</td></tr><tr><td>DIRTBIKE</td><td>1</td></tr><tr><td>ASSIST FBI</td><td>1</td></tr><tr><td>CHECK/LOC</td><td>1</td></tr><tr><td>CONES IN STREET</td><td>1</td></tr><tr><td>MALE YELLNG</td><td>1</td></tr><tr><td>DISABLE VEH/</td><td>1</td></tr><tr><td>LOST CAR PLATE</td><td>1</td></tr><tr><td>IVNEST</td><td>1</td></tr><tr><td>POSS DESTRCT PRO</td><td>1</td></tr><tr><td>UNATUHORIZED USE</td><td>1</td></tr><tr><td>DISABLED VEHILCE</td><td>1</td></tr><tr><td>CLOSE CALLR</td><td>1</td></tr><tr><td>RELOCATE VEHICLE</td><td>1</td></tr><tr><td>INVESTIGA</td><td>1</td></tr><tr><td>CHILD LOCKED APT</td><td>1</td></tr><tr><td>POLICE ASS</td><td>1</td></tr><tr><td>ESCORT NEEDEED</td><td>1</td></tr><tr><td>DIABLE VEHICLE</td><td>1</td></tr><tr><td>BUILDING SEARCH</td><td>1</td></tr><tr><td>CHECK THE WELLBE</td><td>1</td></tr><tr><td>79 SAFETY CHECK</td><td>1</td></tr><tr><td>WELL FARE CK</td><td>1</td></tr><tr><td>BY THREATD</td><td>1</td></tr><tr><td>WELBEING</td><td>1</td></tr><tr><td>CHECK AND ADVICE</td><td>1</td></tr><tr><td>S/C BANK SAFE CK</td><td>1</td></tr><tr><td>NOT 7C/TOWD</td><td>1</td></tr><tr><td>POSS AGGRV ASSLT</td><td>1</td></tr><tr><td>GATHER BELINGING</td><td>1</td></tr><tr><td>CHK WELLBING</td><td>1</td></tr><tr><td>ASSISTANT</td><td>1</td></tr><tr><td>PETITION SERVE</td><td>1</td></tr><tr><td>WELLBRING CHECK</td><td>1</td></tr><tr><td>POLICE ESCCORT</td><td>1</td></tr><tr><td>4E BY   THREAT</td><td>1</td></tr><tr><td>POSS ELOPE</td><td>1</td></tr><tr><td>WELLNESS CHK</td><td>1</td></tr><tr><td>INKNOWN TROUBLE</td><td>1</td></tr><tr><td>FLLW UP 79-ESCOR</td><td>1</td></tr><tr><td>FIRE HAZARD</td><td>1</td></tr><tr><td>YORK</td><td>1</td></tr><tr><td>TRESPASSER</td><td>1</td></tr><tr><td>WELFARE CHCK</td><td>1</td></tr><tr><td>SUSPICIOUS COND</td><td>1</td></tr><tr><td>FOLLOW UP 68</td><td>1</td></tr><tr><td>BY THEAT</td><td>1</td></tr><tr><td>TRAFFIC DANGER</td><td>1</td></tr><tr><td>79-CHK WELLBEING</td><td>1</td></tr><tr><td>CHECK WELLNBEING</td><td>1</td></tr><tr><td>ASSSIST</td><td>1</td></tr><tr><td>GIRL SCREAMING</td><td>1</td></tr><tr><td>CK WELL BENG</td><td>1</td></tr><tr><td>CKWELLBEING</td><td>1</td></tr><tr><td>INFO 4 911</td><td>1</td></tr><tr><td>WRONGFULLY EVICT</td><td>1</td></tr><tr><td>ATTP TO NTFY</td><td>1</td></tr><tr><td>UNK SITUATION</td><td>1</td></tr><tr><td>SPUN OUT</td><td>1</td></tr><tr><td>CHK WELL BENG</td><td>1</td></tr><tr><td>GET BELONGING S</td><td>1</td></tr><tr><td>INVESTIGATE LOC</td><td>1</td></tr><tr><td>LOUD SOUND</td><td>1</td></tr><tr><td>ATT. TO NOTIFY</td><td>1</td></tr><tr><td>OTHESCORTER</td><td>1</td></tr><tr><td>UNKNOWN TTOUBLE</td><td>1</td></tr><tr><td>TROUBLE UNKONWN</td><td>1</td></tr><tr><td>POLICE ESSCORT</td><td>1</td></tr><tr><td>ARSON ATTEMPT</td><td>1</td></tr><tr><td>ATTEMPT ARM ROB</td><td>1</td></tr><tr><td>BAD ODOR</td><td>1</td></tr><tr><td>NEEDS POL ESCRT</td><td>1</td></tr><tr><td>SEE TECT</td><td>1</td></tr><tr><td>BY THRREAT</td><td>1</td></tr><tr><td>CHKE WELL LBEING</td><td>1</td></tr><tr><td>CALL FOR HELP</td><td>1</td></tr><tr><td>98</td><td>1</td></tr><tr><td>ATTEMPT  LOCATE</td><td>1</td></tr><tr><td>EMRGY PETITION</td><td>1</td></tr><tr><td>FOLLOW UP - 73</td><td>1</td></tr><tr><td>NEED ESCORT</td><td>1</td></tr><tr><td>CHECK WELL BG</td><td>1</td></tr><tr><td>LOST ELDERLY ADU</td><td>1</td></tr><tr><td>GET BELOND</td><td>1</td></tr><tr><td>DIS</td><td>1</td></tr><tr><td>DEATH OF PATIENT</td><td>1</td></tr><tr><td>EX PARTE</td><td>1</td></tr><tr><td>FLOODS CONDITION</td><td>1</td></tr><tr><td>DISABLD VEHS</td><td>1</td></tr><tr><td>NOTIFY .</td><td>1</td></tr><tr><td>VEH RELOCATION</td><td>1</td></tr><tr><td>NOTIFICATION.</td><td>1</td></tr><tr><td>CHK WLL BEING</td><td>1</td></tr><tr><td>CHECK RESIDENCE</td><td>1</td></tr><tr><td>RECKELS DRIVER</td><td>1</td></tr><tr><td>DOG LOCKED IN VE</td><td>1</td></tr><tr><td>CHK N ADVISE</td><td>1</td></tr><tr><td>LOC CHECK</td><td>1</td></tr><tr><td>POSS ARMED PERSN</td><td>1</td></tr><tr><td>6J FOLLOW UP</td><td>1</td></tr><tr><td>POSSIBE</td><td>1</td></tr><tr><td>OINVESTIGATE</td><td>1</td></tr><tr><td>FLOOD CONDITIONS</td><td>1</td></tr><tr><td>POSS HIT AND RUN</td><td>1</td></tr><tr><td>VEHICLE STOPPED</td><td>1</td></tr><tr><td>LOUD MUSIC & TV</td><td>1</td></tr><tr><td>ASSOST</td><td>1</td></tr><tr><td>CHECK CRIT MISSI</td><td>1</td></tr><tr><td>LOST/STRANDED</td><td>1</td></tr><tr><td>BLOCKING TRAFFIC</td><td>1</td></tr><tr><td>CAR ACIDENT</td><td>1</td></tr><tr><td>PLAYING ON PHONE</td><td>1</td></tr><tr><td>NEED TRAF CONTRL</td><td>1</td></tr><tr><td>CHILD SCREAMIN</td><td>1</td></tr><tr><td>CHLD REMOVAL</td><td>1</td></tr><tr><td>SHELTER ORDER</td><td>1</td></tr><tr><td>ATTMPT LARCENY</td><td>1</td></tr><tr><td>ATT ROBBRY ARMED</td><td>1</td></tr><tr><td>POSS BAIL OUT</td><td>1</td></tr><tr><td>FOLLOW UP - 6D</td><td>1</td></tr><tr><td>ATTEMTP TO LOCAT</td><td>1</td></tr><tr><td>ASST. OFFICER</td><td>1</td></tr><tr><td>FOLLOW UP 39</td><td>1</td></tr><tr><td>UNATH USE VEH</td><td>1</td></tr><tr><td>EMRGENCY PETITIO</td><td>1</td></tr><tr><td>UNAUHORIZ USE</td><td>1</td></tr><tr><td>NOISE COMOPLAINT</td><td>1</td></tr><tr><td>UNKNOWN PRB</td><td>1</td></tr><tr><td>ELPOEMENT</td><td>1</td></tr><tr><td>FOLLOW UP 4A</td><td>1</td></tr><tr><td>WALK-AWAY</td><td>1</td></tr><tr><td>CHILD PICKUP</td><td>1</td></tr><tr><td>EMERGRNCY PETITI</td><td>1</td></tr><tr><td>P;OCIE INFO</td><td>1</td></tr><tr><td>UNAUTHROIZED USE</td><td>1</td></tr><tr><td>PICK UP BELONG</td><td>1</td></tr><tr><td>DISABLED VAN</td><td>1</td></tr><tr><td>CHILD TALKING</td><td>1</td></tr><tr><td>79 CAD #0671</td><td>1</td></tr><tr><td>LOCK OUT HOUSE</td><td>1</td></tr><tr><td>CAMERAS</td><td>1</td></tr><tr><td>56/MISSING CHILD</td><td>1</td></tr><tr><td>INVEST ODOR</td><td>1</td></tr><tr><td>INVEST TROUBULE</td><td>1</td></tr><tr><td>WELL CHECKBEING</td><td>1</td></tr><tr><td>PHONE HARASSMENT</td><td>1</td></tr><tr><td>EMERGECY PETITIO</td><td>1</td></tr><tr><td>LOST FAMILY</td><td>1</td></tr><tr><td>POSS BHAVR CRISS</td><td>1</td></tr><tr><td>MEET MARSHAL</td><td>1</td></tr><tr><td>EMERGENCY PETIIO</td><td>1</td></tr><tr><td>GET BELONGIGS</td><td>1</td></tr><tr><td>UNAUTH. USE VEH</td><td>1</td></tr><tr><td>DISABLE VEHS</td><td>1</td></tr><tr><td>POSS AFTER TRUST</td><td>1</td></tr><tr><td>ATTEMPT BREAKIN</td><td>1</td></tr><tr><td>CAR ON R.R.</td><td>1</td></tr><tr><td>TRAIN ON TRACKS</td><td>1</td></tr><tr><td>Y</td><td>1</td></tr><tr><td>WILJK</td><td>1</td></tr><tr><td>POSS DISABLED</td><td>1</td></tr><tr><td>ASST SEMI TRUCK</td><td>1</td></tr><tr><td>CHEVK WELLBEING</td><td>1</td></tr><tr><td>FOLLOW UP - 6J</td><td>1</td></tr><tr><td>POLICE FORCE</td><td>1</td></tr><tr><td>CHK AND ADVISE</td><td>1</td></tr><tr><td>FALLEN BRANCH</td><td>1</td></tr><tr><td>CEHCK WELL BEGIN</td><td>1</td></tr><tr><td>TELE/THREAT/COMM</td><td>1</td></tr><tr><td>VIN CHECK</td><td>1</td></tr><tr><td>VERBAL  THREATS</td><td>1</td></tr><tr><td>TRAF.LIGHTS</td><td>1</td></tr><tr><td>TROUBLE UNKN</td><td>1</td></tr><tr><td>NOTIFY NEXT KIN</td><td>1</td></tr><tr><td>VISITATATION</td><td>1</td></tr><tr><td>CHK WELL  EBING</td><td>1</td></tr><tr><td>ESCORT OUT</td><td>1</td></tr><tr><td>ASSIST INDV</td><td>1</td></tr><tr><td>ATT TO  LOCATE</td><td>1</td></tr><tr><td>INVEST TRUOBLE</td><td>1</td></tr><tr><td>CKHECK WELL BEIN</td><td>1</td></tr><tr><td>CHILD LOCK INCAR</td><td>1</td></tr><tr><td>LIFE IN DANGER</td><td>1</td></tr><tr><td>CHECK SUBJECT</td><td>1</td></tr><tr><td>NOISE COMLAINT</td><td>1</td></tr><tr><td>RECLESS DRIVER</td><td>1</td></tr><tr><td>READ TEXT</td><td>1</td></tr><tr><td>CHECK WELL CHECK</td><td>1</td></tr><tr><td>GET BWELONGING</td><td>1</td></tr><tr><td>AST A.A.CO.P.D.</td><td>1</td></tr><tr><td>POSS FATAL OVERD</td><td>1</td></tr><tr><td>ATT LOCATE</td><td>1</td></tr><tr><td>AMIN</td><td>1</td></tr><tr><td>INVEST PRBLEM</td><td>1</td></tr><tr><td>AWOL RETURN</td><td>1</td></tr><tr><td>UNAURTHORISE USE</td><td>1</td></tr><tr><td>INJ</td><td>1</td></tr><tr><td>REFUSE SERVICE</td><td>1</td></tr><tr><td>FALSE IMPRISONME</td><td>1</td></tr><tr><td>WALKTHROUGH</td><td>1</td></tr><tr><td>CHECK WEEL BEGIN</td><td>1</td></tr><tr><td>CHILD LOCK INVEH</td><td>1</td></tr><tr><td>FEMALE NEED HELP</td><td>1</td></tr><tr><td>CAR REPO'D NOT7C</td><td>1</td></tr><tr><td>DIABLED VEHICLE</td><td>1</td></tr><tr><td>FLOODED ROADS</td><td>1</td></tr><tr><td>EMRGNCY PETITION</td><td>1</td></tr><tr><td>CALLER ABUSE</td><td>1</td></tr><tr><td>OUTAGE</td><td>1</td></tr><tr><td>DURESS ALARM</td><td>1</td></tr><tr><td>INVESTISGATE</td><td>1</td></tr><tr><td>UNAUTHORIZE</td><td>1</td></tr><tr><td>POSS ARMD PERSON</td><td>1</td></tr><tr><td>HARRASS</td><td>1</td></tr><tr><td>BURG</td><td>1</td></tr><tr><td>HIT ANDRUN</td><td>1</td></tr><tr><td>ASSIST SENIOR</td><td>1</td></tr><tr><td>BUSD CHECK</td><td>1</td></tr><tr><td>GET BELOINGS</td><td>1</td></tr><tr><td>LOCKOUT ASST</td><td>1</td></tr><tr><td>VEH DISABLE</td><td>1</td></tr><tr><td>GET CLOTHING</td><td>1</td></tr><tr><td>POLIOCE INVO</td><td>1</td></tr><tr><td>EMERGENCY EP</td><td>1</td></tr><tr><td>HARASSING</td><td>1</td></tr><tr><td>BY THREAAT</td><td>1</td></tr><tr><td>FLOODED ROAD</td><td>1</td></tr><tr><td>CHILD CARE CHECK</td><td>1</td></tr><tr><td>FOLLOW UP  30</td><td>1</td></tr><tr><td>CITIZEN;S ASSIST</td><td>1</td></tr><tr><td>UNK PROBLEM</td><td>1</td></tr><tr><td>GET BELONGINGS.</td><td>1</td></tr><tr><td>FOUND ANIMAL</td><td>1</td></tr><tr><td>SE ETEXT</td><td>1</td></tr><tr><td>CHILD LOCK N VEH</td><td>1</td></tr><tr><td>ATTEMPT LARCENY</td><td>1</td></tr><tr><td>VERIFY ADDRESS</td><td>1</td></tr><tr><td>MEET MARSHALL</td><td>1</td></tr><tr><td>VEHICLE FIRE</td><td>1</td></tr><tr><td>INVESTUIGATE</td><td>1</td></tr><tr><td>CHILD LOCKD</td><td>1</td></tr><tr><td>CLAOSED CALL</td><td>1</td></tr><tr><td>CK LOC</td><td>1</td></tr><tr><td>LOCATE JUVENILE</td><td>1</td></tr><tr><td>NOISE COPLAINT</td><td>1</td></tr><tr><td>SEE REXT</td><td>1</td></tr><tr><td>DPW</td><td>1</td></tr><tr><td>EMRGCY EVAL</td><td>1</td></tr><tr><td>XHK WELL BEING</td><td>1</td></tr><tr><td>POLICE INOFO</td><td>1</td></tr><tr><td>REQ TO TOW</td><td>1</td></tr><tr><td>INVESTIGARE</td><td>1</td></tr><tr><td>INVETSUGATE</td><td>1</td></tr><tr><td>GET CHILD</td><td>1</td></tr><tr><td>OFC ASSIST</td><td>1</td></tr><tr><td>THREATENING</td><td>1</td></tr><tr><td>GET BELONGIGNS</td><td>1</td></tr><tr><td>HELP IS THRE</td><td>1</td></tr><tr><td>UNAUT USE OF VE</td><td>1</td></tr><tr><td>WATER BREAK</td><td>1</td></tr><tr><td>INVEVSTIGATE</td><td>1</td></tr><tr><td>REQ FORCE ENTRY</td><td>1</td></tr><tr><td>NOISE CCOMPLAINT</td><td>1</td></tr><tr><td>CKWELL BEING</td><td>1</td></tr><tr><td>EMERG</td><td>1</td></tr><tr><td>52B01S</td><td>1</td></tr><tr><td>ATTEMPYRF</td><td>1</td></tr><tr><td>ASSIST TRK DRVR</td><td>1</td></tr><tr><td>RUN- AWAY</td><td>1</td></tr><tr><td>TRAFFIC HAZARD</td><td>1</td></tr><tr><td>TRAFFIC LIGHTS O</td><td>1</td></tr><tr><td>DISCHARGE</td><td>1</td></tr><tr><td>INVESTI PROBLEM</td><td>1</td></tr><tr><td>SINK HOLE</td><td>1</td></tr><tr><td>3L</td><td>1</td></tr><tr><td>REQ  POLICE OFC</td><td>1</td></tr><tr><td>DRIVING RECKESS</td><td>1</td></tr><tr><td>DISBABLED VEH</td><td>1</td></tr><tr><td>BAIL OIT</td><td>1</td></tr><tr><td>MALE CHANGE MIND</td><td>1</td></tr><tr><td>INVEST CALL</td><td>1</td></tr><tr><td>CARELESS DRIVER</td><td>1</td></tr><tr><td>HARRSING</td><td>1</td></tr><tr><td>EMERGENY PETIT</td><td>1</td></tr><tr><td>INVESST PROBLEM</td><td>1</td></tr><tr><td>MISTAKE</td><td>1</td></tr><tr><td>TRSAFFIC ASSIST</td><td>1</td></tr><tr><td>BUY THREAT</td><td>1</td></tr><tr><td>CHK WELL BEING .</td><td>1</td></tr><tr><td>CHECK WELBING</td><td>1</td></tr><tr><td>SERVER  ORDER</td><td>1</td></tr><tr><td>WELL  BEING</td><td>1</td></tr><tr><td>DISALED CAR</td><td>1</td></tr><tr><td>ADVISE DPW</td><td>1</td></tr><tr><td>LOC VEH</td><td>1</td></tr><tr><td>INVESTIHATE</td><td>1</td></tr><tr><td>INVESATIGATE</td><td>1</td></tr><tr><td>INVEST ARSON</td><td>1</td></tr><tr><td>CHECK WELLLBEING</td><td>1</td></tr><tr><td>TELPHONE MISUSE</td><td>1</td></tr><tr><td>DSIABLED VEH</td><td>1</td></tr><tr><td>REPORTD RUNAWAYS</td><td>1</td></tr><tr><td>LOCATE WITNESS</td><td>1</td></tr><tr><td>DANGEROUS CONDIT</td><td>1</td></tr><tr><td>CHECK WELLEBING</td><td>1</td></tr><tr><td>CITIZEN SLEEPING</td><td>1</td></tr><tr><td>BIKE</td><td>1</td></tr><tr><td>BET BELONGINGS</td><td>1</td></tr><tr><td>INVESTROUBLE</td><td>1</td></tr><tr><td>OTHERAEE TEXT</td><td>1</td></tr><tr><td>PERSON ON EXPWY</td><td>1</td></tr><tr><td>INVESRGATE</td><td>1</td></tr><tr><td>SERVICE WARRANT</td><td>1</td></tr><tr><td>ATTEM TO LOCATE</td><td>1</td></tr><tr><td>DOG LOCKEDVEH</td><td>1</td></tr><tr><td>LOST MOTORIST</td><td>1</td></tr><tr><td>POLCE INFO</td><td>1</td></tr><tr><td>TRUCK DRIVER HLP</td><td>1</td></tr><tr><td>IVNEST TROUBLE</td><td>1</td></tr><tr><td>VEHICLES RELOCAT</td><td>1</td></tr><tr><td>FOUND A CHILD</td><td>1</td></tr><tr><td>WANTED PERSON</td><td>1</td></tr><tr><td>TRAFFIC STOP</td><td>1</td></tr><tr><td>CHANGE LOCATION</td><td>1</td></tr><tr><td>WELLING CHECK</td><td>1</td></tr><tr><td>POSS BY THREAT</td><td>1</td></tr><tr><td>WELLNESS CHECKP</td><td>1</td></tr><tr><td>PPOLICE INFO</td><td>1</td></tr><tr><td>LOCK KEYS N CAR</td><td>1</td></tr><tr><td>GET BELONG</td><td>1</td></tr><tr><td>SCREAMING WOMAN</td><td>1</td></tr><tr><td>TRAFFIC SIGNAL O</td><td>1</td></tr><tr><td>FOUND MISS JUV</td><td>1</td></tr><tr><td>GET B ELONGINGS</td><td>1</td></tr><tr><td>EMERGENCY  PETIT</td><td>1</td></tr><tr><td>POSS.</td><td>1</td></tr><tr><td>FOLLOW UP - 30</td><td>1</td></tr><tr><td>NEEDS SHELTER</td><td>1</td></tr><tr><td>POSSIBLE MISSING</td><td>1</td></tr><tr><td>REQ.POLIC.ESCORT</td><td>1</td></tr><tr><td>POSS FMILY DSTRB</td><td>1</td></tr><tr><td>INQUIRE</td><td>1</td></tr><tr><td>STREET RACE</td><td>1</td></tr><tr><td>INVET</td><td>1</td></tr><tr><td>ASSIST INDIVIDUA</td><td>1</td></tr><tr><td>HELD AGNST WILL</td><td>1</td></tr><tr><td>CJECK WELL BEGIN</td><td>1</td></tr><tr><td>INVEST PROBLTHER</td><td>1</td></tr><tr><td>KEYS LOCKED  IN</td><td>1</td></tr><tr><td>SERVE</td><td>1</td></tr><tr><td>WELLNESS CEHCK</td><td>1</td></tr><tr><td>CK  WELL-BEING</td><td>1</td></tr><tr><td>INVEST TROUPBLE</td><td>1</td></tr><tr><td>UNAUTHRISE USE</td><td>1</td></tr><tr><td>THEFT OF SERV</td><td>1</td></tr><tr><td>STOLEN CAR</td><td>1</td></tr><tr><td>RELOCAT VEHICLES</td><td>1</td></tr><tr><td>911 MSUSE</td><td>1</td></tr><tr><td>RECKLESSDRIVER</td><td>1</td></tr><tr><td>GET BELOINGINGS</td><td>1</td></tr><tr><td>PUPPY LCKD CAR</td><td>1</td></tr><tr><td>INFORM</td><td>1</td></tr><tr><td>ASSIST LOST FEM</td><td>1</td></tr><tr><td>LOCKED IN VEH</td><td>1</td></tr><tr><td>ASSIST BALT COUN</td><td>1</td></tr><tr><td>79  CK WELL BEIN</td><td>1</td></tr><tr><td>ATTEMPT NOTIFY</td><td>1</td></tr><tr><td>FOLLOW UP 79</td><td>1</td></tr><tr><td>CHK BUSN</td><td>1</td></tr><tr><td>SERVE EP</td><td>1</td></tr><tr><td>UNKNWOWN</td><td>1</td></tr><tr><td>NEEDED SHELTER</td><td>1</td></tr><tr><td>ADTER TRUST</td><td>1</td></tr><tr><td>UPDATED</td><td>1</td></tr><tr><td>INVESTUGATE</td><td>1</td></tr><tr><td>CHECK/ ADVISE</td><td>1</td></tr><tr><td>ELOPED W/I.V.</td><td>1</td></tr><tr><td>WELNESS CHECK.</td><td>1</td></tr><tr><td>ELOPE FROM LOC</td><td>1</td></tr><tr><td>BANK COMM DOWN</td><td>1</td></tr><tr><td>ATTEMPT TO NTFY</td><td>1</td></tr><tr><td>STOLEN VEH</td><td>1</td></tr><tr><td>PPOSSIBLE</td><td>1</td></tr><tr><td>POLICE ESCRT</td><td>1</td></tr><tr><td>RECKLESS DRVIER</td><td>1</td></tr><tr><td>BY THRAT</td><td>1</td></tr><tr><td>CYHANGE MIND</td><td>1</td></tr><tr><td>TORUBLE UNKNWN</td><td>1</td></tr><tr><td>CHICK WELL BEING</td><td>1</td></tr><tr><td>ESCAPE PATIENT</td><td>1</td></tr><tr><td>WATERBROKE-PREGN</td><td>1</td></tr><tr><td>ESCORT/MAYFIELDS</td><td>1</td></tr><tr><td>POSSIBLE BURG</td><td>1</td></tr><tr><td>CHECK NOTIFY</td><td>1</td></tr><tr><td>GET GLASSES</td><td>1</td></tr><tr><td>CHILD</td><td>1</td></tr><tr><td>ENLOPEMENT</td><td>1</td></tr><tr><td>SERVICE PAPER</td><td>1</td></tr><tr><td>INVESYIGATE</td><td>1</td></tr><tr><td>NEED LICENSE BAC</td><td>1</td></tr><tr><td>PIOSSIBLY</td><td>1</td></tr><tr><td>ASSISIT</td><td>1</td></tr><tr><td>WOMAN SCEAMING</td><td>1</td></tr><tr><td>CHECK-WELL BEING</td><td>1</td></tr><tr><td>INVESTITATE</td><td>1</td></tr><tr><td>GETTING BELONING</td><td>1</td></tr><tr><td>SINK HOLE-TRFFIC</td><td>1</td></tr><tr><td>E.R. ASST</td><td>1</td></tr><tr><td>REQUESTED POLIC</td><td>1</td></tr><tr><td>KNOCK AND TALK</td><td>1</td></tr><tr><td>81</td><td>1</td></tr><tr><td>BY THREATEN</td><td>1</td></tr><tr><td>EMERGENCY PEPIT</td><td>1</td></tr><tr><td>WELLS CHECK</td><td>1</td></tr><tr><td>CHECL WELLBEING</td><td>1</td></tr><tr><td>GET BELON</td><td>1</td></tr><tr><td>ATT MAKE CONTACT</td><td>1</td></tr><tr><td>4E ( CAD 0176 )</td><td>1</td></tr><tr><td>TRAFFIC CTRNL</td><td>1</td></tr><tr><td>CHEST WELL BEING</td><td>1</td></tr><tr><td>NEEDS TRAF CNTRL</td><td>1</td></tr><tr><td>LOCATE PARENT</td><td>1</td></tr><tr><td>BY  TEXT THREAT</td><td>1</td></tr><tr><td>INVEST TROUBL</td><td>1</td></tr><tr><td>INVESTIGATE  B</td><td>1</td></tr><tr><td>PARKING  SPACE</td><td>1</td></tr><tr><td>WELLBGINE CHECK</td><td>1</td></tr><tr><td>ASSIST CALL</td><td>1</td></tr><tr><td>LOST GIRL</td><td>1</td></tr><tr><td>DISABLED VEG</td><td>1</td></tr><tr><td>VEH RELOC</td><td>1</td></tr><tr><td>DISTRESSED</td><td>1</td></tr><tr><td>67 -- CAD (3172)</td><td>1</td></tr><tr><td>UBVESTUGATE</td><td>1</td></tr><tr><td>SSE TEXT</td><td>1</td></tr><tr><td>ALOPEMNET</td><td>1</td></tr><tr><td>REQUESTING  OFC</td><td>1</td></tr><tr><td>DEBRIS IN ROAD</td><td>1</td></tr><tr><td>3N (CAD #3953)</td><td>1</td></tr><tr><td>BY ASSAULT</td><td>1</td></tr><tr><td>BLACK MAIL</td><td>1</td></tr><tr><td>REQ.DISPOSITION</td><td>1</td></tr><tr><td>INVESTITGATE</td><td>1</td></tr><tr><td>POSS DIS VEHICLE</td><td>1</td></tr><tr><td>INV UNKN PROBLM</td><td>1</td></tr><tr><td>USAFE DRIVRS</td><td>1</td></tr><tr><td>ESCAPEE</td><td>1</td></tr><tr><td>DISBLED VEH</td><td>1</td></tr><tr><td>MEET CO POLICE</td><td>1</td></tr><tr><td>REG POL ASST</td><td>1</td></tr><tr><td>NOTIFY BA.CO.P.D</td><td>1</td></tr><tr><td>BA.CO.LOC.</td><td>1</td></tr><tr><td>NEED TRAFIC CNTR</td><td>1</td></tr><tr><td>BABY</td><td>1</td></tr><tr><td>WLEFARE CHECK</td><td>1</td></tr><tr><td>OTHERCHECK WELLB</td><td>1</td></tr><tr><td>EXIT BLKD TREE</td><td>1</td></tr><tr><td>POLICE  ESCORT</td><td>1</td></tr><tr><td>MALE HALLERING</td><td>1</td></tr><tr><td>CALL BACK</td><td>1</td></tr><tr><td>CHECK WELL BENIG</td><td>1</td></tr><tr><td>ECOSRT</td><td>1</td></tr><tr><td>TELE- THREAT</td><td>1</td></tr><tr><td>E.P.ELOPED</td><td>1</td></tr><tr><td>CHECK BUSD</td><td>1</td></tr><tr><td>POSSIBLE NEGLECT</td><td>1</td></tr><tr><td>CITIZEN ASSISTAN</td><td>1</td></tr><tr><td># 4-210608025</td><td>1</td></tr><tr><td>NEEDS POL ESC</td><td>1</td></tr><tr><td>BY THRETS</td><td>1</td></tr><tr><td>ATTMTAUTO THEFT</td><td>1</td></tr><tr><td>ELOPR</td><td>1</td></tr><tr><td>ASSIST CALLER</td><td>1</td></tr><tr><td>79 UNAUTH  USE</td><td>1</td></tr><tr><td>YELL FOR POLICE</td><td>1</td></tr><tr><td>SEE CAMERAS</td><td>1</td></tr><tr><td>INVVESTIGATE</td><td>1</td></tr><tr><td>ADVISED ON AMBO</td><td>1</td></tr><tr><td>CHECK ON CHILD</td><td>1</td></tr><tr><td>RECKELESS DRVER</td><td>1</td></tr><tr><td>FOLLOW -UP</td><td>1</td></tr><tr><td>UNSAFE DRIVING</td><td>1</td></tr><tr><td>CHILD WELFARE CH</td><td>1</td></tr><tr><td>ATT TO NOTIFY</td><td>1</td></tr><tr><td>CHECK WELLBEIG</td><td>1</td></tr><tr><td>LOST KIDS</td><td>1</td></tr><tr><td>65 ( CAD #4234)</td><td>1</td></tr><tr><td>CHILD LOCKED</td><td>1</td></tr><tr><td>UNKNOWN PROBLEMS</td><td>1</td></tr><tr><td>ASSIST LOCATE</td><td>1</td></tr><tr><td>OIL SPILL</td><td>1</td></tr><tr><td>LOST PLAQUE</td><td>1</td></tr><tr><td>SCREAMING MAN</td><td>1</td></tr><tr><td>WELL-BEING CHEK</td><td>1</td></tr><tr><td>UNAUTHORUZED USE</td><td>1</td></tr><tr><td>SCREAMER</td><td>1</td></tr><tr><td>CHECK  AND ADVIS</td><td>1</td></tr><tr><td>CHK WELL EBING</td><td>1</td></tr><tr><td>ASST BA.CO.P.O.</td><td>1</td></tr><tr><td>DSS ASSIST</td><td>1</td></tr><tr><td>POPOLICE ESCORT</td><td>1</td></tr><tr><td>AGGRESIVE DRIVER</td><td>1</td></tr><tr><td>WELL0-BEING CHEC</td><td>1</td></tr><tr><td>GET  BELONGINS</td><td>1</td></tr><tr><td>AGGRESSIVE DRIVR</td><td>1</td></tr><tr><td>POLICE  HELP</td><td>1</td></tr><tr><td>VACATE ORDER</td><td>1</td></tr><tr><td>CHECK WELL B</td><td>1</td></tr><tr><td>BOAT DRIFTING AW</td><td>1</td></tr><tr><td>ATTEMPT TO CONTA</td><td>1</td></tr><tr><td>POSS ATTEMPT</td><td>1</td></tr><tr><td>SIGNAL BOTH GRN</td><td>1</td></tr><tr><td>INVESTIGAYTE</td><td>1</td></tr><tr><td>UNAUTHRIZED USE</td><td>1</td></tr><tr><td>LOST CITIZEN</td><td>1</td></tr><tr><td>UNKN WHAT IS GOI</td><td>1</td></tr><tr><td>PLZ SEE TEXT</td><td>1</td></tr><tr><td>RECOVER GUNS</td><td>1</td></tr><tr><td>CAR WAS TOW</td><td>1</td></tr><tr><td>79 WELL CHECK</td><td>1</td></tr><tr><td>POSSIB.LE</td><td>1</td></tr><tr><td>PLEASE INVESTIGA</td><td>1</td></tr><tr><td>DEALER TAG</td><td>1</td></tr><tr><td>FREQUENT CALLER</td><td>1</td></tr><tr><td>SICK WELL</td><td>1</td></tr><tr><td>INVES TROUBLE</td><td>1</td></tr><tr><td>ADVISE ON AMBO.</td><td>1</td></tr><tr><td>VISITATION</td><td>1</td></tr><tr><td>PANIC</td><td>1</td></tr><tr><td>GETTING TO BELON</td><td>1</td></tr><tr><td>RECKESS DRIVER</td><td>1</td></tr><tr><td>CHILD LOCK IN CA</td><td>1</td></tr><tr><td>SHELTER W/CHILD</td><td>1</td></tr><tr><td>SCREAMING CHILD</td><td>1</td></tr><tr><td>KEYS IN CAR</td><td>1</td></tr><tr><td>SEE</td><td>1</td></tr><tr><td>PED ON 83N</td><td>1</td></tr><tr><td>INVEST2</td><td>1</td></tr><tr><td>NOTFIY,,, NFI</td><td>1</td></tr><tr><td>CHECK WEBEING</td><td>1</td></tr><tr><td>CLIENT ELOPED</td><td>1</td></tr><tr><td>VEHICLE RELOCA.</td><td>1</td></tr><tr><td>PICK UP THINGS</td><td>1</td></tr><tr><td>DISABLE TRUCK</td><td>1</td></tr><tr><td>SUSPICIOUS PERSO</td><td>1</td></tr><tr><td>ATTMPT BURGLARY</td><td>1</td></tr><tr><td>ASSIST OFFICERR</td><td>1</td></tr><tr><td>ATTEMPT TO LOACT</td><td>1</td></tr><tr><td>GET BELONIGINGS</td><td>1</td></tr><tr><td>NISSAN MAXIMA</td><td>1</td></tr><tr><td>POLICIE ASSIT</td><td>1</td></tr><tr><td>WELLNESS CHECKK</td><td>1</td></tr><tr><td>CRIMINAL SUMMONS</td><td>1</td></tr><tr><td>PSS ARMED PERSON</td><td>1</td></tr><tr><td>TRAFFIC CONTORL</td><td>1</td></tr><tr><td>INVESTIGATEQ</td><td>1</td></tr><tr><td>SEEKING INFO</td><td>1</td></tr><tr><td>CPS ASSIST</td><td>1</td></tr><tr><td>CHHK WELL BEING</td><td>1</td></tr><tr><td>GATHER BELONG</td><td>1</td></tr><tr><td>WELLNESS CHECK 3</td><td>1</td></tr><tr><td>UNAUTHORIZED</td><td>1</td></tr><tr><td>BY HTREAT</td><td>1</td></tr><tr><td>CHECK WELBEIN</td><td>1</td></tr><tr><td>CHECK WELL EBEIN</td><td>1</td></tr><tr><td>TRACKOBSTRUCTION</td><td>1</td></tr><tr><td>DISABLEVEH</td><td>1</td></tr><tr><td>FORCEENTRY</td><td>1</td></tr><tr><td>ESCRT</td><td>1</td></tr><tr><td>BAILBONDS AT LOC</td><td>1</td></tr><tr><td>SEE ETXT</td><td>1</td></tr><tr><td>RUN-AWAY</td><td>1</td></tr><tr><td>VUNERALE ADULT</td><td>1</td></tr><tr><td>TRANSPOSRT</td><td>1</td></tr><tr><td>ELOPED IV</td><td>1</td></tr><tr><td>NOTIFIER</td><td>1</td></tr><tr><td>POLICE  INVESTIG</td><td>1</td></tr><tr><td>TOW</td><td>1</td></tr><tr><td>PROTECTORDER</td><td>1</td></tr><tr><td>TELEPHONEMISUSE</td><td>1</td></tr><tr><td>GET BELOMNGINGS</td><td>1</td></tr><tr><td>CHECK WELL BWING</td><td>1</td></tr><tr><td>CHILD PLAYING</td><td>1</td></tr><tr><td>FOLLOW UP - 28</td><td>1</td></tr><tr><td>TRAFFIC JAM</td><td>1</td></tr><tr><td>GET BLEONGINGS</td><td>1</td></tr><tr><td>DISABLED TRUCK</td><td>1</td></tr><tr><td>LINVESTIGATE</td><td>1</td></tr><tr><td>SIGNAL BLINKING</td><td>1</td></tr><tr><td>BUSTD WATER PIPE</td><td>1</td></tr><tr><td>GET BELONIGNGS</td><td>1</td></tr><tr><td>POSS OVERDOSE</td><td>1</td></tr><tr><td>CITIZEN SSIST</td><td>1</td></tr><tr><td>62</td><td>1</td></tr><tr><td>SEE TEXT;</td><td>1</td></tr><tr><td>HAND CUFF</td><td>1</td></tr><tr><td>POLICE ESCOR</td><td>1</td></tr><tr><td>LOCK IN BUILDING</td><td>1</td></tr><tr><td>AGGRESS DRIVER</td><td>1</td></tr><tr><td>HAZMAT LOAD</td><td>1</td></tr><tr><td>CK WELL BEIN</td><td>1</td></tr><tr><td>ALOPEMENT</td><td>1</td></tr><tr><td>UNAUTHROSIE USE</td><td>1</td></tr><tr><td>GET</td><td>1</td></tr><tr><td>DISABLEB VEH</td><td>1</td></tr><tr><td>WATCH</td><td>1</td></tr><tr><td>AUTO ACCIDENTJ</td><td>1</td></tr><tr><td>INVEST, BLOOD</td><td>1</td></tr><tr><td>TEXT CALLER</td><td>1</td></tr><tr><td>GET BELONGINGINS</td><td>1</td></tr><tr><td>INVESTIVE</td><td>1</td></tr><tr><td>REQ POLICE ESCRT</td><td>1</td></tr><tr><td>SCREAMING PERSON</td><td>1</td></tr><tr><td>DISABLED VEHICL</td><td>1</td></tr><tr><td>NOISE COMPLINT</td><td>1</td></tr><tr><td>POLICE ESCPRT</td><td>1</td></tr><tr><td>CK WELL   BEING</td><td>1</td></tr><tr><td>POT HOLD</td><td>1</td></tr><tr><td>CHEC WELL BEING</td><td>1</td></tr><tr><td>POSS FMLY DSTRB</td><td>1</td></tr><tr><td>LARCENY ATM</td><td>1</td></tr><tr><td>OPEN L INE</td><td>1</td></tr><tr><td>ATTMPT  CONTACT</td><td>1</td></tr><tr><td>13</td><td>1</td></tr><tr><td>OTHERINVESTIGATE</td><td>1</td></tr><tr><td>?</td><td>1</td></tr><tr><td>POLICE PRESENSE</td><td>1</td></tr><tr><td>UNAU USE VEHICLE</td><td>1</td></tr><tr><td>TEST CALL TYPE</td><td>1</td></tr><tr><td>EMERGENCY PETI</td><td>1</td></tr><tr><td>SUSPICIOUS CONDI</td><td>1</td></tr><tr><td>EP .</td><td>1</td></tr><tr><td>BULLET</td><td>1</td></tr><tr><td>WATER MAIN BRK</td><td>1</td></tr><tr><td>SHELTER NEEDED</td><td>1</td></tr><tr><td>66</td><td>1</td></tr><tr><td>CHECOK WEL BEING</td><td>1</td></tr><tr><td>94</td><td>1</td></tr><tr><td>POLICE ASSISTANT</td><td>1</td></tr><tr><td>GET BELONGNINGS</td><td>1</td></tr><tr><td>FEMALE LEFT</td><td>1</td></tr><tr><td>SUSPICIOUS VEHS</td><td>1</td></tr><tr><td>POS PHONE MISUSE</td><td>1</td></tr><tr><td>TRAFFIC CONTRL</td><td>1</td></tr><tr><td>NEEDS TO BE E/P</td><td>1</td></tr><tr><td>PATIENT NEGLECT</td><td>1</td></tr><tr><td>TELEPHONE MIUSE</td><td>1</td></tr><tr><td>`INVEST</td><td>1</td></tr><tr><td>CAT ATTACK</td><td>1</td></tr><tr><td>INVESTIRGATE</td><td>1</td></tr><tr><td>CAD #2112</td><td>1</td></tr><tr><td>HECK WELL BEING</td><td>1</td></tr><tr><td>VUNERADLE ADULT</td><td>1</td></tr><tr><td>CHECK WELL BEUNG</td><td>1</td></tr><tr><td>FIREEWORKS</td><td>1</td></tr><tr><td>CONES CLOCKING</td><td>1</td></tr><tr><td>INVESST TROUBLE</td><td>1</td></tr><tr><td>REQ.POLICE.ESCRT</td><td>1</td></tr><tr><td>BREATHALYZER</td><td>1</td></tr><tr><td>ELDERLY ASSIST</td><td>1</td></tr><tr><td>TURN IN GUN</td><td>1</td></tr><tr><td>TEL / THR / COMM</td><td>1</td></tr><tr><td>DISABLED VEJ</td><td>1</td></tr><tr><td>CHECK WELL NEING</td><td>1</td></tr><tr><td>LOCATE SUBJECT</td><td>1</td></tr><tr><td>WELLBENG CHECK</td><td>1</td></tr><tr><td>LOCKED OUT APT</td><td>1</td></tr><tr><td>CLOSING ASSIST</td><td>1</td></tr><tr><td>NOSE COMPLAINT</td><td>1</td></tr><tr><td>;INVESTIGATE</td><td>1</td></tr><tr><td>CLOSED  CALL</td><td>1</td></tr><tr><td>AGGRV  DRIVER</td><td>1</td></tr><tr><td>UNKNOWN PROBLEM.</td><td>1</td></tr><tr><td>CROWDCONTROL</td><td>1</td></tr><tr><td>POLIOCE INFO</td><td>1</td></tr><tr><td>DISALED VEH</td><td>1</td></tr><tr><td>EXCHANGE CHIL</td><td>1</td></tr><tr><td>FOL UP</td><td>1</td></tr><tr><td>CHLD LCKD IN CAR</td><td>1</td></tr><tr><td>REQ POLICE OFC</td><td>1</td></tr><tr><td>INFO ON WEAPONS</td><td>1</td></tr><tr><td>IVEST</td><td>1</td></tr><tr><td>DISABLED VHEICLE</td><td>1</td></tr><tr><td>65 / CAD #0318</td><td>1</td></tr><tr><td>DISORDERLY/ASSIS</td><td>1</td></tr><tr><td>CHECK WELL DOING</td><td>1</td></tr><tr><td>FOLLOW UP 3N</td><td>1</td></tr><tr><td>HK WELL BEING</td><td>1</td></tr><tr><td>POLICE INGO</td><td>1</td></tr><tr><td>POSSIBLE DOA</td><td>1</td></tr><tr><td>ATTEMT TO LOCATE</td><td>1</td></tr><tr><td>FEMALE SCREAMIN</td><td>1</td></tr><tr><td>HUMAN REMAINS</td><td>1</td></tr><tr><td>GET BEELONGINGS</td><td>1</td></tr><tr><td>AGGRAV DRIVER</td><td>1</td></tr><tr><td>DISABLE VEHICLE-</td><td>1</td></tr><tr><td>CHK WELLBN</td><td>1</td></tr><tr><td>LOCKED IN KEYS</td><td>1</td></tr><tr><td>TROUBLE UKNOWN</td><td>1</td></tr><tr><td>HOSTAGE</td><td>1</td></tr><tr><td>UNAUTHORIZES USE</td><td>1</td></tr><tr><td>IN V EST</td><td>1</td></tr><tr><td>GET BELOONGGINGS</td><td>1</td></tr><tr><td>TRY TO LOCATE</td><td>1</td></tr><tr><td>CHRECK WELL BEIN</td><td>1</td></tr><tr><td>ATTEMPT   NOTIFY</td><td>1</td></tr><tr><td>TELE/THREAT</td><td>1</td></tr><tr><td>POSS LARCENY</td><td>1</td></tr><tr><td>ILIEGAL EVICTION</td><td>1</td></tr><tr><td>LOCATE PATIENT</td><td>1</td></tr><tr><td>EVIDENCE</td><td>1</td></tr><tr><td>I NVESTIGATE</td><td>1</td></tr><tr><td>SMALL CHILDREN</td><td>1</td></tr><tr><td>DISABELD VEH</td><td>1</td></tr><tr><td>STRAY ANIMAL</td><td>1</td></tr><tr><td>GET INFORMATION</td><td>1</td></tr><tr><td>SIGN FOR HELP</td><td>1</td></tr><tr><td>DISABLED VEHIC</td><td>1</td></tr><tr><td>FOLLOW UP 66</td><td>1</td></tr><tr><td>SCOOTER</td><td>1</td></tr><tr><td>WHEELCHAIR</td><td>1</td></tr><tr><td>PATIENT LEFT</td><td>1</td></tr><tr><td>DANGEROUS SITE</td><td>1</td></tr><tr><td>LOST ID</td><td>1</td></tr><tr><td>YARD SALE</td><td>1</td></tr><tr><td>FAMILY ASSIST</td><td>1</td></tr><tr><td>CAMERA</td><td>1</td></tr><tr><td>DISABLE/STUCK TR</td><td>1</td></tr><tr><td>COVID MASK</td><td>1</td></tr><tr><td>FOLLOWING CHILD</td><td>1</td></tr><tr><td>ASSIST OWNER</td><td>1</td></tr><tr><td>ROAD ASSIST</td><td>1</td></tr><tr><td>THREAT TO HARM</td><td>1</td></tr><tr><td>WIFE</td><td>1</td></tr><tr><td>DISTRESS VEHICLE</td><td>1</td></tr><tr><td>INVEST PHONE</td><td>1</td></tr><tr><td>TAGS WERE RETURN</td><td>1</td></tr><tr><td>FINGERPRINT PT</td><td>1</td></tr><tr><td>INFORM OFFICER</td><td>1</td></tr><tr><td>ASSIST TRAFFIC</td><td>1</td></tr><tr><td>PSSED OUT IN VEH</td><td>1</td></tr><tr><td>MENTAL PERSON</td><td>1</td></tr><tr><td>ASSISTTHE HOSP</td><td>1</td></tr><tr><td>LOCKED IN VEHICL</td><td>1</td></tr><tr><td>HANGING</td><td>1</td></tr><tr><td>DRUG NEEDLES</td><td>1</td></tr><tr><td>TRAFFIC CONCERN</td><td>1</td></tr><tr><td>NEED FORCE ENTRY</td><td>1</td></tr><tr><td>CAR HORN</td><td>1</td></tr><tr><td>REPORT FOR INJUR</td><td>1</td></tr><tr><td>MEDICAL OFFICE</td><td>1</td></tr><tr><td>MISSING TAG</td><td>1</td></tr><tr><td>LOST TAG</td><td>1</td></tr><tr><td>FOUND PROPERTY</td><td>1</td></tr><tr><td>LYING IN VEH</td><td>1</td></tr><tr><td>AWAL</td><td>1</td></tr><tr><td>BAN CITIZEN</td><td>1</td></tr><tr><td>LOSS</td><td>1</td></tr><tr><td>TRAFF CNTRL</td><td>1</td></tr><tr><td>LOCKED KEYS</td><td>1</td></tr><tr><td>INJURED DOG</td><td>1</td></tr><tr><td>TAG</td><td>1</td></tr><tr><td>INVETIGATE SCENE</td><td>1</td></tr><tr><td>CAR RUNNING</td><td>1</td></tr><tr><td>Subject Stop</td><td>1</td></tr><tr><td>MALE YELL HELP</td><td>1</td></tr><tr><td>INPERSONATING</td><td>1</td></tr><tr><td>POSS SQUATTERS</td><td>1</td></tr><tr><td>CONE</td><td>1</td></tr><tr><td>CAMARA</td><td>1</td></tr><tr><td>POSS D.O.A.</td><td>1</td></tr><tr><td>SIGNAL FLASHING</td><td>1</td></tr><tr><td>STARKING</td><td>1</td></tr><tr><td>CAMERA INFO</td><td>1</td></tr><tr><td>NO LEASH ON DOG</td><td>1</td></tr><tr><td>NOFITY</td><td>1</td></tr><tr><td>POLICE FORCE ENT</td><td>1</td></tr><tr><td>FORCD ENTRY POSS</td><td>1</td></tr><tr><td>TRAFFIC ASSISTAN</td><td>1</td></tr><tr><td>INVEST ROBBERY</td><td>1</td></tr><tr><td>WORKI ON V</td><td>1</td></tr><tr><td>INV JUV</td><td>1</td></tr><tr><td>HOLDING PARKING</td><td>1</td></tr><tr><td>IN A TREE</td><td>1</td></tr><tr><td>STANDING AT LOC</td><td>1</td></tr><tr><td>NO MASKS</td><td>1</td></tr><tr><td>ALARM BELLS</td><td>1</td></tr><tr><td>SUSPICIOUS CIRCU</td><td>1</td></tr><tr><td>INV</td><td>1</td></tr><tr><td>LARCENY/F AUTO</td><td>1</td></tr><tr><td>INFOR ON VEHICLE</td><td>1</td></tr><tr><td>DISORDLY DRIVER</td><td>1</td></tr><tr><td>WANT MONEY BACK</td><td>1</td></tr><tr><td>FINGER PRINT</td><td>1</td></tr><tr><td>FORCD ENTRY</td><td>1</td></tr><tr><td>RESTRAN ORDER</td><td>1</td></tr><tr><td>NOTFIED</td><td>1</td></tr><tr><td>TRESPASSERS</td><td>1</td></tr><tr><td>LOOSE DOG</td><td>1</td></tr><tr><td>NO PERMITS</td><td>1</td></tr><tr><td>DEBRI IN ROADWAY</td><td>1</td></tr><tr><td>URINATION</td><td>1</td></tr><tr><td>USED NEEDLES</td><td>1</td></tr><tr><td>FOUND A BIKE</td><td>1</td></tr><tr><td>10-30 SUBJECT</td><td>1</td></tr><tr><td>CHILD LOCK N CAR</td><td>1</td></tr><tr><td>VIDEO FOOTAGE</td><td>1</td></tr><tr><td>BURNING DEBRIS</td><td>1</td></tr><tr><td>POSS FORC ENTRY</td><td>1</td></tr><tr><td>OVER CROWDING</td><td>1</td></tr><tr><td>THREATEN CALL</td><td>1</td></tr><tr><td>WLFARE CHECK</td><td>1</td></tr><tr><td>SUSPICIOUS BAG</td><td>1</td></tr><tr><td>SUSPICOUS PACKAG</td><td>1</td></tr><tr><td>REMOVED CONE</td><td>1</td></tr><tr><td>WRLFARE CHECK</td><td>1</td></tr><tr><td>FORCED ENTR/POSS</td><td>1</td></tr><tr><td>INVEST ER</td><td>1</td></tr><tr><td>ABANDON VEH</td><td>1</td></tr><tr><td>EVICTED</td><td>1</td></tr><tr><td>INVESTI SCN</td><td>1</td></tr><tr><td>DISAB VEH</td><td>1</td></tr><tr><td>REPAIR VEHICLE</td><td>1</td></tr><tr><td>FOUND BIKE</td><td>1</td></tr><tr><td>EMG. PETITION</td><td>1</td></tr><tr><td>NAKE MALE</td><td>1</td></tr><tr><td>SEE A VIDEO</td><td>1</td></tr><tr><td>BEING FOLLOW</td><td>1</td></tr><tr><td>KEY LOCK IN CAR</td><td>1</td></tr><tr><td>LOOK AT VIDEO</td><td>1</td></tr><tr><td>LOITERTING</td><td>1</td></tr><tr><td>CAR BROKE DOWN</td><td>1</td></tr><tr><td>SET TEXT</td><td>1</td></tr><tr><td>REPORT ABUSE</td><td>1</td></tr><tr><td>WONT TURN GREEN</td><td>1</td></tr><tr><td>NOTFIYE</td><td>1</td></tr><tr><td>COUNTERFEIT MONE</td><td>1</td></tr><tr><td>TO ASSIT /DOOR</td><td>1</td></tr><tr><td>WELNNSS CHECK</td><td>1</td></tr><tr><td>BUILD COLLASPE</td><td>1</td></tr><tr><td>NEED VEH TOWD</td><td>1</td></tr><tr><td>REQ OFC</td><td>1</td></tr><tr><td>LOST ID CARD</td><td>1</td></tr><tr><td>NEED A POLICE RP</td><td>1</td></tr><tr><td>REPORT A DEATH</td><td>1</td></tr><tr><td>FIRE CRACKER</td><td>1</td></tr><tr><td>FOUND A WALLET</td><td>1</td></tr><tr><td>TRESPRASSERS</td><td>1</td></tr><tr><td>VIOL PROT ORDER</td><td>1</td></tr><tr><td>ASST BGE</td><td>1</td></tr><tr><td>PERMIT</td><td>1</td></tr><tr><td>ATEEMPT TO LOCAT</td><td>1</td></tr><tr><td>ILLEGALY HOOKUP</td><td>1</td></tr><tr><td>UNKNOWN PROB</td><td>1</td></tr><tr><td>CKK WELL BEING</td><td>1</td></tr><tr><td>BURNING TRASH</td><td>1</td></tr><tr><td>PEACE ODER</td><td>1</td></tr><tr><td>ASSIT FOR ENTRY</td><td>1</td></tr><tr><td>CANVAS</td><td>1</td></tr><tr><td>NEED FINGER PRIN</td><td>1</td></tr><tr><td>WAS REPT MISSING</td><td>1</td></tr><tr><td>PR INWHEEL CHAIR</td><td>1</td></tr><tr><td>WORKING ON CAR</td><td>1</td></tr><tr><td>HIT BY VEHICLE</td><td>1</td></tr><tr><td>BEEPING NOISE</td><td>1</td></tr><tr><td>SEE CMMENT</td><td>1</td></tr><tr><td>RAP</td><td>1</td></tr></tbody></table></div>"
      ]
     },
     "metadata": {
      "application/vnd.databricks.v1+output": {
       "addedWidgets": {},
       "aggData": [],
       "aggError": "",
       "aggOverflow": false,
       "aggSchema": [],
       "aggSeriesLimitReached": false,
       "aggType": "",
       "arguments": {},
       "columnCustomDisplayInfos": {},
       "data": [
        [
         "Business Check",
         453326
        ],
        [
         "DIRECTED PATROL",
         304091
        ],
        [
         "DISORDERLY",
         94787
        ],
        [
         "911/NO  VOICE",
         74289
        ],
        [
         "Traffic Stop",
         58819
        ],
        [
         "AUTO ACCIDENT",
         40477
        ],
        [
         "Foot Patrol",
         39241
        ],
        [
         "COMMON ASSAULT",
         37222
        ],
        [
         "Repairs/Service",
         36685
        ],
        [
         "SILENT ALARM",
         32217
        ],
        [
         "NARCOTICS",
         29452
        ],
        [
         "Foot  Patrol",
         24741
        ],
        [
         "FAMILY DISTURB",
         24287
        ],
        [
         "OTHER",
         22432
        ],
        [
         "HIT AND RUN",
         20210
        ],
        [
         "Warrant Service",
         19402
        ],
        [
         "LARCENY",
         16730
        ],
        [
         "INVESTIGATE",
         14022
        ],
        [
         "RA POLICE",
         13659
        ],
        [
         "DESTRUCT PROP",
         13632
        ],
        [
         "BURGLARY",
         13580
        ],
        [
         "AUTO ACC/INJURY",
         12073
        ],
        [
         "LOUD MUSIC",
         11842
        ],
        [
         "Private Tow",
         10631
        ],
        [
         "Other",
         10569
        ],
        [
         "LARCENY F/AUTO",
         10132
        ],
        [
         "SUSPICIOUS PERS",
         9893
        ],
        [
         "FOLLOW UP",
         9466
        ],
        [
         "AUTO THEFT",
         9392
        ],
        [
         "Personal Relief",
         7927
        ],
        [
         "AGGRAV ASSAULT",
         7847
        ],
        [
         "ARMED PERSON",
         7721
        ],
        [
         "BEHAVIOR CRISIS",
         7632
        ],
        [
         "Lab Request",
         7236
        ],
        [
         "SICK CASE",
         6971
        ],
        [
         "Repo",
         6576
        ],
        [
         "MISSING PERSON",
         6553
        ],
        [
         "INVESTIGATE AUTO",
         6414
        ],
        [
         "WANTED ON WARR",
         6267
        ],
        [
         "OVERDOSE",
         6244
        ],
        [
         "PRKG COMPLAINT",
         5990
        ],
        [
         "DISCHRG FIREARM",
         5815
        ],
        [
         "EXPART/PROT/PEAC",
         5035
        ],
        [
         "FALSE PRETENSE",
         4421
        ],
        [
         "Transport",
         4044
        ],
        [
         "VEHICLE DISTURB",
         3852
        ],
        [
         "CHECK WELL BEING",
         3833
        ],
        [
         "RECOVERED VEH",
         3582
        ],
        [
         "POLICE NOTIFY ON",
         3565
        ],
        [
         "TOWED VEHICLE",
         3521
        ],
        [
         "SEE TEXT",
         3360
        ],
        [
         "SUPV COMPLAINT",
         3255
        ],
        [
         "ShotSpot Alert",
         3066
        ],
        [
         "RECOVER PROPERTY",
         2946
        ],
        [
         "PICKUP ORDERS",
         2528
        ],
        [
         "SHOOTING",
         2419
        ],
        [
         "ROBBERY ARMED",
         2312
        ],
        [
         "Field Interview",
         2289
        ],
        [
         "LYING IN STREET",
         2209
        ],
        [
         "STREET OBSTRUCT",
         2196
        ],
        [
         "NONBREATHING / A",
         2143
        ],
        [
         "INVEST",
         2036
        ],
        [
         "JUV DISTURBANCE",
         1905
        ],
        [
         "INTOXICATED PERS",
         1859
        ],
        [
         "HOLDUP ALARM",
         1722
        ],
        [
         "AUDIBLE ALARM",
         1697
        ],
        [
         "BY THREAT",
         1673
        ],
        [
         "CHECK WELLBEING",
         1639
        ],
        [
         "LOST PROPERTY",
         1622
        ],
        [
         "SQUEEGEE DIST",
         1611
        ],
        [
         "ESCORT",
         1596
        ],
        [
         "ANIMAL DISTURBAN",
         1521
        ],
        [
         "ROBBERY UNARMED",
         1519
        ],
        [
         "WELLNESS CHECK",
         1485
        ],
        [
         "DWI",
         1451
        ],
        [
         "UNFOUNDED",
         1312
        ],
        [
         "INJURED PERSON",
         1228
        ],
        [
         "INVEST TROUBLE",
         1228
        ],
        [
         "GET BELONGINGS",
         1213
        ],
        [
         "SIGNAL OUT",
         1207
        ],
        [
         "EP  PAPERS",
         1184
        ],
        [
         "CLOSED CALL",
         1118
        ],
        [
         "INV STOP",
         1117
        ],
        [
         "WELFARE CHECK",
         1114
        ],
        [
         "FIRE",
         1074
        ],
        [
         "LEWD ACT",
         1051
        ],
        [
         "HANDGUN VIOLATIO",
         1050
        ],
        [
         "CUTTING",
         943
        ],
        [
         "UNAUTHORIZED USE",
         910
        ],
        [
         "CHK WELL BEING",
         899
        ],
        [
         "DISABLED VEH",
         894
        ],
        [
         "CAR JACKING",
         842
        ],
        [
         "PANHANDLER",
         796
        ],
        [
         "SEARCH&SEIZURE",
         776
        ],
        [
         "POLICE INFO",
         733
        ],
        [
         "CK WELL BEING",
         720
        ],
        [
         "PROSTITUTION",
         677
        ],
        [
         "UNKNOWN TROUBLE",
         618
        ],
        [
         "56",
         534
        ],
        [
         "CHK WELLBEING",
         508
        ],
        [
         "WELLBEING CHECK",
         499
        ],
        [
         "Court",
         482
        ],
        [
         "ILLEGAL DUMPING",
         482
        ],
        [
         "STREET DISTURB",
         480
        ],
        [
         "ANIMAL CRUELTY",
         473
        ],
        [
         "DEPT ACCIDENT",
         459
        ],
        [
         "NOTIFY",
         457
        ],
        [
         "WELL BEING CHECK",
         447
        ],
        [
         "DOG BITE",
         444
        ],
        [
         "Traffic Control",
         440
        ],
        [
         "VIOLATION GOVN O",
         436
        ],
        [
         "INVEST PROBLEM",
         414
        ],
        [
         "GAMBLING",
         397
        ],
        [
         "POSSIBLE",
         393
        ],
        [
         "NOISE COMPLAINT",
         390
        ],
        [
         "ATT SUICIDE-VIOL",
         387
        ],
        [
         "Escort",
         381
        ],
        [
         "PEACE ORDER",
         377
        ],
        [
         "911 MISUSE",
         341
        ],
        [
         "BEHAV CRISIS-VIO",
         338
        ],
        [
         "ASSIST",
         327
        ],
        [
         "COMMUNITY MEETIN",
         305
        ],
        [
         "TROUBLE UNKNOWN",
         300
        ],
        [
         "7C",
         295
        ],
        [
         "DISABLED VEHICLE",
         290
        ],
        [
         "INVESTAGATE",
         257
        ],
        [
         "POLICE ESCORT",
         254
        ],
        [
         "DIVERSION NOTIFY",
         251
        ],
        [
         "ABDUCTION OTHER",
         238
        ],
        [
         "PROTECTIVE ORDER",
         237
        ],
        [
         "WELL CHECK",
         220
        ],
        [
         "PROTECT ORDER",
         194
        ],
        [
         "UNKNOWN PROBLEM",
         186
        ],
        [
         "CLSD",
         179
        ],
        [
         "SANITATION CMPT",
         173
        ],
        [
         "CHECK LOC",
         166
        ],
        [
         "CHECKWELLBEING",
         164
        ],
        [
         "BAILOUT",
         163
        ],
        [
         "EXPLOSION",
         162
        ],
        [
         "ATTEMPT TO LOCAT",
         141
        ],
        [
         "PHONE MISUSE",
         139
        ],
        [
         "ATT SUICIDE-WEAP",
         137
        ],
        [
         "BAIL OUT",
         127
        ],
        [
         "CLOSE CALL",
         125
        ],
        [
         "LOITERING",
         125
        ],
        [
         "RECKLESS DRIVER",
         123
        ],
        [
         "DOA",
         121
        ],
        [
         "65",
         121
        ],
        [
         "FORCED ENTRY",
         120
        ],
        [
         "TRAFFIC CONTROL",
         117
        ],
        [
         "BY MISTAKE",
         114
        ],
        [
         "Immediate Inc",
         113
        ],
        [
         "RUNAWAY",
         112
        ],
        [
         "6J",
         112
        ],
        [
         "AWOL",
         108
        ],
        [
         "EP",
         107
        ],
        [
         "INVOL DETENTION",
         107
        ],
        [
         "WELL BEING",
         106
        ],
        [
         "LARCENY PERSON C",
         104
        ],
        [
         "Tow - DO NOT USE",
         103
        ],
        [
         "LOCATE",
         98
        ],
        [
         "TRESPASSING",
         98
        ],
        [
         "5G",
         98
        ],
        [
         "WELLNESS",
         98
        ],
        [
         "LOUD NOISE",
         97
        ],
        [
         "EMERG PETITION",
         97
        ],
        [
         "ATT TO LOCATE",
         93
        ],
        [
         "EP BYPASS",
         91
        ],
        [
         "FIREWORKS",
         87
        ],
        [
         "OPEN LINE",
         85
        ],
        [
         "DISABLE VEHICLE",
         84
        ],
        [
         "ASSIST OFFICER",
         82
        ],
        [
         "99",
         81
        ],
        [
         "BELONGINGS",
         81
        ],
        [
         "ATTEMPT TO LOC",
         80
        ],
        [
         "School/Church",
         78
        ],
        [
         "BEHAV CRISIS-WEA",
         78
        ],
        [
         "INFO",
         77
        ],
        [
         "30",
         76
        ],
        [
         "CHECK WELL BEGIN",
         76
        ],
        [
         "EMERGENCY PETITI",
         75
        ],
        [
         "SUSPICIOUS VEH",
         75
        ],
        [
         "UNAUTHORIZE USE",
         74
        ],
        [
         "GET BELONINGS",
         70
        ],
        [
         "WRECKLESS DRIVER",
         69
        ],
        [
         "AFTER TRUST",
         68
        ],
        [
         "ASSIST FIRE DEPT",
         67
        ],
        [
         "ATTEMPTED",
         66
        ],
        [
         "Bike Patrol",
         65
        ],
        [
         "POLICE ASSIT",
         63
        ],
        [
         "POLICE ASSIST",
         63
        ],
        [
         "THREAT",
         61
        ],
        [
         "DISPUTE",
         61
        ],
        [
         "4E",
         61
        ],
        [
         "CHECK LOCATION",
         61
        ],
        [
         "POLICE REPORT",
         59
        ],
        [
         "FORCE ENTRY",
         57
        ],
        [
         "ATTEMPT",
         56
        ],
        [
         "REQ POL OFFICER",
         55
        ],
        [
         "DEPTACCIDENT/INJ",
         55
        ],
        [
         "CITIZEN ASSIST",
         55
        ],
        [
         "LOUD MUSIC/NOISE",
         53
        ],
        [
         "CHECK WELFARE",
         52
        ],
        [
         "DEATH",
         51
        ],
        [
         "ESCORT NEEDED",
         51
        ],
        [
         "ELOPEMENT",
         50
        ],
        [
         "6D",
         50
        ],
        [
         "CUSTODY DISPUTE",
         50
        ],
        [
         "WELL-BEING CHECK",
         49
        ],
        [
         "75",
         49
        ],
        [
         "55",
         49
        ],
        [
         "ASSIST MTA",
         49
        ],
        [
         "WATER RESCUE",
         48
        ],
        [
         "FRAUD",
         47
        ],
        [
         "SEE TXT",
         47
        ],
        [
         "POSS",
         47
        ],
        [
         "OPEN DOOR",
         46
        ],
        [
         "INV UNK TROUBLE",
         46
        ],
        [
         "DISABLE VEH",
         46
        ],
        [
         "LOST",
         45
        ],
        [
         "INVESITGATE",
         45
        ],
        [
         "DISABLED DRIVER",
         44
        ],
        [
         "TOWING",
         43
        ],
        [
         "HARASSMENT",
         42
        ],
        [
         "TROUBLE UNK",
         41
        ],
        [
         "UNKNOWN",
         40
        ],
        [
         "GET BELONGING",
         40
        ],
        [
         "AUTO ACC/DEATH",
         38
        ],
        [
         "CHECK WELL BEIN",
         38
        ],
        [
         "LOCKED OUT",
         37
        ],
        [
         "LOCKED IN",
         36
        ],
        [
         "79",
         36
        ],
        [
         "ABDUCT/PARENT",
         35
        ],
        [
         "INVESTGATE",
         35
        ],
        [
         "WELLNESS CK",
         35
        ],
        [
         "CHANGE MIND",
         34
        ],
        [
         "WELNESS CHECK",
         34
        ],
        [
         "GETBELONGINGS",
         32
        ],
        [
         "NOTIFICATION",
         32
        ],
        [
         "INV UNKN TRBL",
         32
        ],
        [
         "ELOPED",
         31
        ],
        [
         "CHECKWELFARE",
         31
        ],
        [
         "VAGRANT REMOVAL",
         31
        ],
        [
         "SQUATTERS",
         30
        ],
        [
         "LOST PERSON",
         30
        ],
        [
         "INVETSIGATE",
         29
        ],
        [
         "INVESTIGATION",
         29
        ],
        [
         "CHILD ON PHONE",
         29
        ],
        [
         "POSS FORCE ENTRY",
         29
        ],
        [
         "CHECK WELBEING",
         28
        ],
        [
         "SAFETY CHECK",
         28
        ],
        [
         "FOLLOW UP 7C",
         27
        ],
        [
         "POLICE ASSIST.",
         27
        ],
        [
         "RAILROADS",
         27
        ],
        [
         "INVESIGATE",
         26
        ],
        [
         "DRIVING RECKLESS",
         26
        ],
        [
         "INVESTIAGTE",
         26
        ],
        [
         "RECKLESS DRIVING",
         25
        ],
        [
         "DISABLED VEH.",
         25
        ],
        [
         "FOLLOW UP 56",
         25
        ],
        [
         "GATHER BELONGING",
         25
        ],
        [
         "DISABLED CAR",
         24
        ],
        [
         "UNAUTH USE",
         24
        ],
        [
         "INVETIGATE",
         24
        ],
        [
         "49",
         24
        ],
        [
         "SHELTER",
         24
        ],
        [
         "CRY FOR HELP",
         24
        ],
        [
         "INFORMATION",
         23
        ],
        [
         "POSS BURGLARY",
         23
        ],
        [
         "CHECK WELL",
         23
        ],
        [
         "CHECK/ADVISE",
         23
        ],
        [
         "CHK  WELL  BEING",
         22
        ],
        [
         "RUN AWAY",
         22
        ],
        [
         "WELLFARE CHECK",
         22
        ],
        [
         "STALLED AUTO",
         22
        ],
        [
         "TEST",
         22
        ],
        [
         "AGGV DRIVER",
         22
        ],
        [
         "TEST CALL",
         22
        ],
        [
         "WARRANT",
         21
        ],
        [
         "BANK HOLDUP",
         21
        ],
        [
         "HRES - HARBOR RE",
         21
        ],
        [
         "EMERGENCY PETIT",
         21
        ],
        [
         "FOLLOW UP - 56",
         21
        ],
        [
         "DEATH NOTIFY",
         20
        ],
        [
         "BOLO",
         20
        ],
        [
         "INVES",
         20
        ],
        [
         "ELOPE",
         20
        ],
        [
         "SEE  TEXT",
         20
        ],
        [
         "UNAUTH USE VEH",
         19
        ],
        [
         "CHECK AND ADVISE",
         19
        ],
        [
         "TRAFFIC SIGNAL",
         19
        ],
        [
         "CK WELL-BEING",
         19
        ],
        [
         "HELP IS THERE",
         19
        ],
        [
         "HARRASSMENT",
         19
        ],
        [
         "ASSIST CPS",
         19
        ],
        [
         "CHECK WELLNESS",
         18
        ],
        [
         "LOCK OUT",
         18
        ],
        [
         "DISABLED",
         18
        ],
        [
         "4D",
         18
        ],
        [
         "BLDG COLLAPSE",
         18
        ],
        [
         "REAR TAG",
         17
        ],
        [
         "ERRATIC DRIVER",
         17
        ],
        [
         "FEMALE SCREAMING",
         17
        ],
        [
         "WARRANTS",
         17
        ],
        [
         "EMER PETITION",
         17
        ],
        [
         "PHONE ABUSE",
         17
        ],
        [
         "PAPERWORK",
         17
        ],
        [
         "ROAD RAGE",
         17
        ],
        [
         "WANTS BELONGINGS",
         17
        ],
        [
         "TRESPASS",
         17
        ],
        [
         "NOISE",
         17
        ],
        [
         "VULNERABLE ADULT",
         17
        ],
        [
         "TELEPHONE MISUSE",
         17
        ],
        [
         "SUSPICIOUS VEHIC",
         16
        ],
        [
         "CHILD CALLER",
         16
        ],
        [
         "LOST CHILD",
         16
        ],
        [
         "A.W.O.L.",
         16
        ],
        [
         "CHECKWELL BEING",
         16
        ],
        [
         "BAIL-OUT",
         16
        ],
        [
         "CHECK WELL-BEING",
         16
        ],
        [
         "911/HANGUP",
         16
        ],
        [
         "INVESTIGTE",
         16
        ],
        [
         "CHK & ADVISE",
         16
        ],
        [
         "ASSISTANCE",
         15
        ],
        [
         "ASSIST BGE",
         15
        ],
        [
         "WELL CHCK",
         15
        ],
        [
         "ABANDONED VEH",
         15
        ],
        [
         "WELLNES CHECK",
         15
        ],
        [
         "4A",
         15
        ],
        [
         "ELOPED PATIENT",
         15
        ],
        [
         "GET ITEMS",
         15
        ],
        [
         "CITIZEN ASST",
         15
        ],
        [
         "K9 Recanvasing",
         15
        ],
        [
         "UNKN",
         14
        ],
        [
         "3N",
         14
        ],
        [
         "ATTEMPTTOLOCATE",
         14
        ],
        [
         "TRAFFIC",
         14
        ],
        [
         "PRISONER PICKUP",
         14
        ],
        [
         "CHECK WEL BEING",
         14
        ],
        [
         "SCREAMING",
         14
        ],
        [
         "DISABLD VEHICLE",
         14
        ],
        [
         "3P",
         13
        ],
        [
         "P/U PAPERS",
         13
        ],
        [
         "CHK WEL BEING",
         13
        ],
        [
         "73",
         13
        ],
        [
         "WELLBEING",
         13
        ],
        [
         "ATTEMPT LOCATE",
         13
        ],
        [
         "STRANDED",
         13
        ],
        [
         "DISBALED VEH",
         13
        ],
        [
         "CK WELLBEING",
         12
        ],
        [
         "FOLLOW UP 30",
         12
        ],
        [
         "GET BELONGINS",
         12
        ],
        [
         "DISABLED  VEH",
         12
        ],
        [
         "WANTS ITEMS",
         12
        ],
        [
         "31",
         12
        ],
        [
         "27",
         12
        ],
        [
         "95",
         12
        ],
        [
         "BY THREATS",
         12
        ],
        [
         "P",
         12
        ],
        [
         "REPORT",
         12
        ],
        [
         "DISABLED AUTO",
         11
        ],
        [
         "CHILD REMOVAL",
         11
        ],
        [
         "PANIC ALARM",
         11
        ],
        [
         "CK LOCATION",
         11
        ],
        [
         "CHEK WELL BEING",
         11
        ],
        [
         "GET  BELONGINGS",
         11
        ],
        [
         "DIRT BIKE",
         11
        ],
        [
         "POSS ARMED PERSO",
         11
        ],
        [
         "LOUD BASS",
         11
        ],
        [
         "WELL CK",
         11
        ],
        [
         "DEATH NOTIFICATI",
         10
        ],
        [
         "NOISE COMPLIANT",
         10
        ],
        [
         "HAZARD MATERIAL",
         10
        ],
        [
         "TESTING",
         10
        ],
        [
         "BY PHONE",
         10
        ],
        [
         "TRANSPORT",
         10
        ],
        [
         "RUN-A-WAY",
         10
        ],
        [
         "DISABLE CAR",
         10
        ],
        [
         "CHECK WELL EBING",
         10
        ],
        [
         "23",
         10
        ],
        [
         "THREATS",
         10
        ],
        [
         "INESTIGATE",
         10
        ],
        [
         "WELL FARE CHECK",
         10
        ],
        [
         "WELLBEING CHK",
         10
        ],
        [
         "E.P.",
         9
        ],
        [
         "SEE NOTES",
         9
        ],
        [
         "FOLLOW UP 99",
         9
        ],
        [
         "COVID VIOLATION",
         9
        ],
        [
         "DEATH REPORT",
         9
        ],
        [
         "FOLLOW UP 4E",
         9
        ],
        [
         "DISABLE VEHC",
         9
        ],
        [
         "JANE DOE",
         9
        ],
        [
         "WOMAN SCREAMING",
         9
        ],
        [
         "PICKUP PAPERS",
         9
        ],
        [
         "LOCKOUT",
         9
        ],
        [
         "GET BELONGS",
         9
        ],
        [
         "INVESTIGAT",
         9
        ],
        [
         "TRESSPASSING",
         9
        ],
        [
         "D.O.A.",
         9
        ],
        [
         "WANTS BELONGING",
         9
        ],
        [
         "UNAUTHOR USE",
         9
        ],
        [
         "NOTIFY OWNER",
         9
        ],
        [
         "ER PETITION",
         9
        ],
        [
         "SEE COMMENT",
         9
        ],
        [
         "PICKUP WARR/SUMM",
         8
        ],
        [
         "CHECK & ADVISE",
         8
        ],
        [
         "CLOSE",
         8
        ],
        [
         "77",
         8
        ],
        [
         "NOISE DISTURBANC",
         8
        ],
        [
         "TREPASSING",
         8
        ],
        [
         "IVESTIGATE",
         8
        ],
        [
         "POLICE",
         8
        ],
        [
         "DIRECT TRAFFIC",
         8
        ],
        [
         "TRAFFIC LIGHTS",
         8
        ],
        [
         "IMPEDING TRAFFIC",
         8
        ],
        [
         "INVSTIGATE",
         8
        ],
        [
         "LOUD NOISES",
         8
        ],
        [
         "A WOL",
         8
        ],
        [
         "LOST MAN",
         8
        ],
        [
         "57",
         8
        ],
        [
         "UNAUTH USE VEHIC",
         8
        ],
        [
         "ADMIN",
         8
        ],
        [
         "CONE FOR PARKING",
         8
        ],
        [
         "INVESTIGAE",
         7
        ],
        [
         "SCAM",
         7
        ],
        [
         "CLOSED CAL",
         7
        ],
        [
         "ATTEMP TO LOCATE",
         7
        ],
        [
         "ATTEMPTING",
         7
        ],
        [
         "CUSTODY EXCHANGE",
         7
        ],
        [
         "TRAFFIC LIGHT",
         7
        ],
        [
         "WATER MAIN BREAK",
         7
        ],
        [
         "STRANDED PERSON",
         7
        ],
        [
         "ATT TO LOC",
         7
        ],
        [
         "VERBAL THREATS",
         7
        ],
        [
         "LOCK IN",
         7
        ],
        [
         "NTFY",
         7
        ],
        [
         "NO MASK",
         7
        ],
        [
         "POLICE ASSISTANC",
         7
        ],
        [
         "UNAUTHORIZ USE",
         7
        ],
        [
         "OFFICER ASSIST",
         7
        ],
        [
         "SERVE ORDER",
         7
        ],
        [
         "WELNESS",
         7
        ],
        [
         "HOMELESS REMOVAL",
         7
        ],
        [
         "67",
         7
        ],
        [
         "DISABLE VEHC.",
         7
        ],
        [
         "PATIENT ELOPEMEN",
         7
        ],
        [
         "HOMELESS PERSON",
         7
        ],
        [
         "BUSN CHECK",
         7
        ],
        [
         "IMVESTIGATE",
         7
        ],
        [
         "LOCATE VEH",
         7
        ],
        [
         "MAN ON EXPWY",
         7
        ],
        [
         "CONTACT",
         6
        ],
        [
         "EMERG  PETITION",
         6
        ],
        [
         "INVESTIIGATE",
         6
        ],
        [
         "ATTMPT TO LOCATE",
         6
        ],
        [
         "OUT OF JURISDICT",
         6
        ],
        [
         "ELOPED PT",
         6
        ],
        [
         "PROTECTIV ORDER",
         6
        ],
        [
         "INFO ONLY",
         6
        ],
        [
         "4B",
         6
        ],
        [
         "SERVE A ORDER",
         6
        ],
        [
         "POSS CMMN ASSLT",
         6
        ],
        [
         "RECKELESS DRIVER",
         6
        ],
        [
         "ARSON",
         6
        ],
        [
         "26",
         6
        ],
        [
         "LIGHTS OUT",
         6
        ],
        [
         "ESCORTE",
         6
        ],
        [
         "AGGRESSIVE DRIVE",
         6
        ],
        [
         "LOST ADULT",
         6
        ],
        [
         "POS FORCED ENTRY",
         6
        ],
        [
         "INVESTIGATE.",
         6
        ],
        [
         "WELLBEING CHECK.",
         6
        ],
        [
         "VUNERABLE ADULT",
         6
        ],
        [
         "INEST",
         6
        ],
        [
         "INVERSTIGATE",
         6
        ],
        [
         "PROPICKUP ORDERS",
         6
        ],
        [
         "UNATHORIZED USE",
         6
        ],
        [
         "CHECK WELL BEIGN",
         6
        ],
        [
         "UPDATE",
         6
        ],
        [
         "CHILD LOCKED IN",
         6
        ],
        [
         "POL  INFO",
         6
        ],
        [
         "CHK   WELL  BEIN",
         6
        ],
        [
         "CLOSED",
         6
        ],
        [
         "LAR AFTR TRUST",
         6
        ],
        [
         "MAKE CONTACT",
         6
        ],
        [
         "`",
         6
        ],
        [
         "FALLEN TREE",
         6
        ],
        [
         "83",
         6
        ],
        [
         "CHILD IN CAR",
         6
        ],
        [
         "MTA BUS",
         6
        ],
        [
         "CEHCK WELL BEING",
         6
        ],
        [
         "CHECK WELL  BEIN",
         6
        ],
        [
         "76",
         6
        ],
        [
         "SCENE SAFETY",
         6
        ],
        [
         "FOLLOW UP 55",
         6
        ],
        [
         "STREET OBSTRUCTI",
         6
        ],
        [
         "UNAUTHORIZED US",
         6
        ],
        [
         "FOLLOW UP 6J",
         6
        ],
        [
         "VERBAL THREAT",
         6
        ],
        [
         "911 ABUSE",
         6
        ],
        [
         "ATTEMPT TO LOCA",
         6
        ],
        [
         "ASSIST CITIZEN",
         6
        ],
        [
         "FOR THE RECORD",
         6
        ],
        [
         "POSSIBLY",
         6
        ],
        [
         "WELFARECHECK",
         6
        ],
        [
         "WALK IN",
         5
        ],
        [
         "ELDER ABUSE",
         5
        ],
        [
         "28",
         5
        ],
        [
         "CHECK WILL BEING",
         5
        ],
        [
         "85",
         5
        ],
        [
         "OPEN  LINE",
         5
        ],
        [
         "NOTFIY",
         5
        ],
        [
         "61",
         5
        ],
        [
         "POSS ARMED PERS",
         5
        ],
        [
         "HELP THERE",
         5
        ],
        [
         "LOST WOMAN",
         5
        ],
        [
         "CHECK",
         5
        ],
        [
         "MASK VIO",
         5
        ],
        [
         "HOMELESS COMPLAI",
         5
        ],
        [
         "D.O.A",
         5
        ],
        [
         "ALL OUT",
         5
        ],
        [
         "PHONE THREAT",
         5
        ],
        [
         "SEE TEXTOTHER",
         5
        ],
        [
         "UNAUTHORISE USE",
         5
        ],
        [
         "POLICE INFOR",
         5
        ],
        [
         "TROUBLE UNKNWON",
         5
        ],
        [
         "HELD AGAINST WIL",
         5
        ],
        [
         "BUSINESS CHECK",
         5
        ],
        [
         "33",
         5
        ],
        [
         "CK WEL BEING",
         5
        ],
        [
         "LOUD BANGING",
         5
        ],
        [
         "CHECK  LOCATION",
         5
        ],
        [
         "ALARM",
         5
        ],
        [
         "INVESTOGATE",
         5
        ],
        [
         "DIABLED VEH",
         5
        ],
        [
         "WRECKLESS DRVR",
         5
        ],
        [
         "REQ POL ASST",
         5
        ],
        [
         "POLICE PRESENCE",
         5
        ],
        [
         "FRONT TAG",
         5
        ],
        [
         "INVESTIGATE SCEN",
         5
        ],
        [
         "TRAILER",
         5
        ],
        [
         "UNKNOWN SITUATIO",
         5
        ],
        [
         "WELLBEING CHK.",
         5
        ],
        [
         "FEMALE YELLING",
         5
        ],
        [
         "RUNNAWAY",
         5
        ],
        [
         "POLICE  INFO",
         5
        ],
        [
         "POLICE HELP",
         5
        ],
        [
         "FOLLOW UP - 7C",
         5
        ],
        [
         "WITH BAILOUT",
         5
        ],
        [
         "Lunch",
         5
        ],
        [
         "SHELTER ASSIST",
         4
        ],
        [
         "TRAFFIC ASSIST",
         4
        ],
        [
         "REPORT DEATH",
         4
        ],
        [
         "54",
         4
        ],
        [
         "WARRANT P/U",
         4
        ],
        [
         "OTHERINVESTAGATE",
         4
        ],
        [
         "NOTIFY FAMILY",
         4
        ],
        [
         "DIRT BIKES",
         4
        ],
        [
         "ATTPT TO LOCATE",
         4
        ],
        [
         "WAGON RUN",
         4
        ],
        [
         "COVID VIOLATIONS",
         4
        ],
        [
         "52",
         4
        ],
        [
         "INVESTIGATEE",
         4
        ],
        [
         "SQUATTER",
         4
        ],
        [
         "LOUD TV",
         4
        ],
        [
         "FOLLOW UP - 99",
         4
        ],
        [
         "AGGRV DRIVER",
         4
        ],
        [
         "CHILD LOCKD VEH",
         4
        ],
        [
         "LOST WALLET",
         4
        ],
        [
         "REF  TO   56",
         4
        ],
        [
         "FOLLOW UP 54",
         4
        ],
        [
         "E/P",
         4
        ],
        [
         "STALKER",
         4
        ],
        [
         "INNVESTIGATE",
         4
        ],
        [
         "FYI",
         4
        ],
        [
         "SEE VIDEO",
         4
        ],
        [
         "ASSAULT",
         4
        ],
        [
         "CHANGE MINE",
         4
        ],
        [
         "CHRCK WELL BEING",
         4
        ],
        [
         "CHECK  WELL BEIN",
         4
        ],
        [
         "LOST LICENSE",
         4
        ],
        [
         "2A",
         4
        ],
        [
         "EP PAPERWORK",
         4
        ],
        [
         "CHECK WELL BENG",
         4
        ],
        [
         "VEHICLE REMOVAL",
         4
        ],
        [
         "J",
         4
        ],
        [
         "REF TO  55",
         4
        ],
        [
         "BARKING DOG",
         4
        ],
        [
         "VERIFY",
         4
        ],
        [
         "FORECE ENTRY",
         4
        ],
        [
         "CONES",
         4
        ],
        [
         "NVESTIGATE",
         4
        ],
        [
         "EMERG PETIT",
         4
        ],
        [
         "POLICE INVEST",
         4
        ],
        [
         "CAMERA REVIEW",
         4
        ],
        [
         "PATIENT ELOPED",
         4
        ],
        [
         "CHECK WELL BEIG",
         4
        ],
        [
         "LOST FEMALE",
         4
        ],
        [
         "OPENLINE",
         4
        ],
        [
         "COVID 19",
         4
        ],
        [
         "WARRENT",
         4
        ],
        [
         "ESCOURT",
         4
        ],
        [
         "DISORIENTED",
         4
        ],
        [
         "NO PERMIT",
         4
        ],
        [
         "CAR ALARM",
         4
        ],
        [
         "FOLLOW UP 5G",
         4
        ],
        [
         "ELDER NEGLECT",
         4
        ],
        [
         "INV TROUBLE",
         4
        ],
        [
         "CK  WELL BEING",
         4
        ],
        [
         "GET THINGS",
         4
        ],
        [
         "CHECK WELL BIENG",
         4
        ],
        [
         "IN PERSON",
         4
        ],
        [
         "DISABLED VEHS",
         4
        ],
        [
         "A.W.O.L",
         4
        ],
        [
         "E.P",
         4
        ],
        [
         "INVESTIGATE PROB",
         4
        ],
        [
         "ATT. TO LOCATE",
         4
        ],
        [
         "BY  THREAT",
         4
        ],
        [
         "UNKNWN TROUBLE",
         4
        ],
        [
         "FOUND CHILD",
         4
        ],
        [
         "CK WELL BEGING",
         4
        ],
        [
         "MALE SCREAMING",
         4
        ],
        [
         "IVNESTIGATE",
         4
        ],
        [
         "SERVICE PAPERS",
         4
        ],
        [
         "MOTORCYCLE",
         4
        ],
        [
         "POSS FORCED ENTR",
         4
        ],
        [
         "POLICE NOTIFY",
         4
        ],
        [
         "WELL CHILD CHECK",
         4
        ],
        [
         "RECKELSS DRIVER",
         4
        ],
        [
         "NEEDS ASSIST",
         4
        ],
        [
         "VEH DISABLED",
         4
        ],
        [
         "RELOCATE VEH",
         4
        ],
        [
         "CHECK THE WELL",
         3
        ],
        [
         "NOTIFIED",
         3
        ],
        [
         "TAGS",
         3
        ],
        [
         "GET BLONGINGS",
         3
        ],
        [
         "SEE TX",
         3
        ],
        [
         "CHK WELL BEGIN",
         3
        ],
        [
         "TRAFFIC BACKUP",
         3
        ],
        [
         "NOISE OMPLAINT",
         3
        ],
        [
         "INVEESTIGATE",
         3
        ],
        [
         "CK WELL BREING",
         3
        ],
        [
         "ACCIDENT",
         3
        ],
        [
         "3",
         3
        ],
        [
         "FOLLOW UP-6J",
         3
        ],
        [
         "FAMILY DISTURBAN",
         3
        ],
        [
         "DUMPING IN PROGE",
         3
        ],
        [
         "LOTTERING",
         3
        ],
        [
         "LOST ELDERLY",
         3
        ],
        [
         "PICKUP PAPERWORK",
         3
        ],
        [
         "HARRASMENT",
         3
        ],
        [
         "INVESTIGATE .",
         3
        ],
        [
         "ASSIST DJS",
         3
        ],
        [
         "TRUCKER ASSIST",
         3
        ],
        [
         "BAIL  OUT",
         3
        ],
        [
         "PARKING ISSUE",
         3
        ],
        [
         "DRIVING RECKLES",
         3
        ],
        [
         "CHK WELL BEIN",
         3
        ],
        [
         "BREAK IN",
         3
        ],
        [
         "BY THREATT",
         3
        ],
        [
         "LOCATE M/P",
         3
        ],
        [
         "SEE TEXGT",
         3
        ],
        [
         "CHECK WELLBING",
         3
        ],
        [
         "WELL-CHCK",
         3
        ],
        [
         "UNK TROUBLE",
         3
        ],
        [
         "EXPARTE",
         3
        ],
        [
         "DIASBLED VEH",
         3
        ],
        [
         "CHECK WELL BING",
         3
        ],
        [
         "INVESTIGATE SCNE",
         3
        ],
        [
         "TRAFFIC HELP",
         3
        ],
        [
         "C&R DRIVER",
         3
        ],
        [
         "TROUBLE  UNKNOWN",
         3
        ],
        [
         "FOUND WALLET",
         3
        ],
        [
         "RECKLES DRIVER",
         3
        ],
        [
         "GET BELOGINGS",
         3
        ],
        [
         "CAR DISPUTE",
         3
        ],
        [
         "INVEST OPEN DOOR",
         3
        ],
        [
         "THREATENED",
         3
        ],
        [
         "FOLLOWUP",
         3
        ],
        [
         "PICK UP EP",
         3
        ],
        [
         "LIGHT OUT",
         3
        ],
        [
         "THEFT",
         3
        ],
        [
         "GATHER BELONGIN",
         3
        ],
        [
         "NOTIFIY",
         3
        ],
        [
         "CURFEW VIOLATION",
         3
        ],
        [
         "PEACE ORDERS",
         3
        ],
        [
         "IDENTIFY",
         3
        ],
        [
         "THREAT BY TEXT",
         3
        ],
        [
         "WEEL CHECK",
         3
        ],
        [
         "CHILD WELFARE",
         3
        ],
        [
         "INVESTT",
         3
        ],
        [
         "WELNNESS CHECK",
         3
        ],
        [
         "LOTERING",
         3
        ],
        [
         "UNKNWON PROBLEM",
         3
        ],
        [
         "ATEMPT TO LOCATE",
         3
        ],
        [
         "DEATH NOTICE",
         3
        ],
        [
         "MALE YELLING",
         3
        ],
        [
         "ADULT ABUSE",
         3
        ],
        [
         "97",
         3
        ],
        [
         "ERPO",
         3
        ],
        [
         "ILLEGAL EVICTION",
         3
        ],
        [
         "HARASSEMENT",
         3
        ],
        [
         "1",
         3
        ],
        [
         "BOTH TAGS",
         3
        ],
        [
         "BY TRHEAT",
         3
        ],
        [
         "POLICE INFORMATI",
         3
        ],
        [
         "EMERG. PETITION",
         3
        ],
        [
         "POLICE INFORM",
         3
        ],
        [
         "REF  TO   5G",
         3
        ],
        [
         "PROT ORDER",
         3
        ],
        [
         "IMVEST",
         3
        ],
        [
         "NOTFY",
         3
        ],
        [
         "FOLLOW UP - 65",
         3
        ],
        [
         "HOMELESS COMPL",
         3
        ],
        [
         "EVICTION",
         3
        ],
        [
         "ASST. ANIMAL CON",
         3
        ],
        [
         "63",
         3
        ],
        [
         "CHECK WWELL BEIN",
         3
        ],
        [
         "39",
         3
        ],
        [
         "REQ POLICE",
         3
        ],
        [
         "COUNTY ASSIST",
         3
        ],
        [
         "PICK UP BELONGIN",
         3
        ],
        [
         "FOLLOW UP 23",
         3
        ],
        [
         "TROUBLE",
         3
        ],
        [
         "Traffic Pursuit",
         3
        ],
        [
         "OFFICER REQUEST",
         3
        ],
        [
         "CHECK WELL BEGI",
         3
        ],
        [
         "TRAF HAZ",
         3
        ],
        [
         "PROPERTY CHECK",
         3
        ],
        [
         "REF  TO  7C",
         3
        ],
        [
         "ATMPT TO LOCATE",
         3
        ],
        [
         "DUMPING",
         3
        ],
        [
         "CALL ASSIST",
         3
        ],
        [
         "ATTEMPT TO NOTIF",
         3
        ],
        [
         "COVID",
         3
        ],
        [
         "DOA REPORT",
         3
        ],
        [
         "SUSPICIOUS",
         3
        ],
        [
         "AGGV DRIVERS",
         3
        ],
        [
         "CHEK WELLBEING",
         3
        ],
        [
         "EMERGENCY PET",
         3
        ],
        [
         "OPEN BURNING",
         3
        ],
        [
         "WARRANT P/UP",
         3
        ],
        [
         "HOMLESS COMPL",
         3
        ],
        [
         "RUN A WAY",
         3
        ],
        [
         "911 MIS USE",
         3
        ],
        [
         "FEMALE CRYING",
         3
        ],
        [
         "DISABLED MOTORIS",
         3
        ],
        [
         "NO LOC",
         3
        ],
        [
         "ADULT NEGLECT",
         3
        ],
        [
         "POSS FORCD ENTRY",
         3
        ],
        [
         "INVESSTIGATE",
         3
        ],
        [
         "DISABELED VEH",
         3
        ],
        [
         "BY POINTING",
         3
        ],
        [
         "WELL BEING CHK",
         3
        ],
        [
         "POSS ARMED",
         3
        ],
        [
         "UNKNONWN TROUBLE",
         3
        ],
        [
         "FIRE WORKS",
         3
        ],
        [
         "UNKNOWNTROUBLE",
         3
        ],
        [
         "CITIZENS ASSIST",
         3
        ],
        [
         "WELL-BEING",
         3
        ],
        [
         "68",
         3
        ],
        [
         "VEH RELOCATED",
         3
        ],
        [
         "NEXT OF KIN",
         3
        ],
        [
         "EMERGENY PETITIO",
         3
        ],
        [
         "INVEST PROBLM",
         3
        ],
        [
         "INVESTIGATED",
         3
        ],
        [
         "SEETEXT",
         3
        ],
        [
         "TRAFFIC CNTRL",
         3
        ],
        [
         "WALK-IN",
         3
        ],
        [
         "PROTECT ORDERS",
         3
        ],
        [
         "UNKNOWN  TROUBLE",
         3
        ],
        [
         "UNKNOWN TROUBLE.",
         3
        ],
        [
         "ROADRAGE",
         3
        ],
        [
         "ALLOUT",
         3
        ],
        [
         "INVESTIAGATE",
         3
        ],
        [
         "WELAFARE CHECK",
         3
        ],
        [
         "UNAUTHROISE USE",
         3
        ],
        [
         "ASK FOR HELP",
         3
        ],
        [
         "ELOPMENT",
         3
        ],
        [
         "CHECK WLL BEING",
         3
        ],
        [
         "REQUEST POLICE",
         3
        ],
        [
         "VEH FIRE",
         3
        ],
        [
         "POSS DOA",
         3
        ],
        [
         "DRUG ACT",
         2
        ],
        [
         "PROPERTY DAMAGE",
         2
        ],
        [
         "TRUANCY",
         2
        ],
        [
         "RECKELSSS DRIVER",
         2
        ],
        [
         "ATEEMPTS",
         2
        ],
        [
         "LADY SCREAMING",
         2
        ],
        [
         "FOLLOW UP TO 56",
         2
        ],
        [
         "EMERG  EVALUATIO",
         2
        ],
        [
         "FOUND ID OF CUST",
         2
        ],
        [
         "CHILD EXCH",
         2
        ],
        [
         "CHECKK WELL BEIN",
         2
        ],
        [
         "NOISE COMPLAINTS",
         2
        ],
        [
         "ASSIST ANIMAL CO",
         2
        ],
        [
         "OPDN  LINE",
         2
        ],
        [
         "INVEST..",
         2
        ],
        [
         "CONST. SITE",
         2
        ],
        [
         "SUPERVISOR COMP",
         2
        ],
        [
         "LOST AND CONFUSE",
         2
        ],
        [
         "SERVE PETITION",
         2
        ],
        [
         "101",
         2
        ],
        [
         "DISABLE MOTORIST",
         2
        ],
        [
         "EULOPE",
         2
        ],
        [
         "OPEN AIR",
         2
        ],
        [
         "CHECK WELL BEIMG",
         2
        ],
        [
         "CHJ WELL BEING",
         2
        ],
        [
         "POLICE ASSISTAN",
         2
        ],
        [
         "LOCATE A VEHICLE",
         2
        ],
        [
         "IUNKNOWN PROBLEM",
         2
        ],
        [
         "VACANT PROPERTY",
         2
        ],
        [
         "FOUND DRUG APT",
         2
        ],
        [
         "REF  TO  56",
         2
        ],
        [
         "87",
         2
        ],
        [
         "PROT ORDER VIO",
         2
        ],
        [
         "FOLLOW UP TO 31",
         2
        ],
        [
         "INVEST KNIFE",
         2
        ],
        [
         "HOSPITAL",
         2
        ],
        [
         "NOISE COMPLAIMT",
         2
        ],
        [
         "TO GET CHILDREN",
         2
        ],
        [
         "LOUD MUSIC/TV",
         2
        ],
        [
         "UNKKOWN TROUBLE",
         2
        ],
        [
         "OPOEN  DOOR",
         2
        ],
        [
         "CK WELL BING",
         2
        ],
        [
         "CHECK LCCATION",
         2
        ],
        [
         "REPORT OF DEATH",
         2
        ],
        [
         "LIGHTS OUTS",
         2
        ],
        [
         "INVESTIGATING",
         2
        ],
        [
         "SUSPICIOUS DEATH",
         2
        ],
        [
         "SCREAM 4 HELP",
         2
        ],
        [
         "Q",
         2
        ],
        [
         "REQ SHELTER",
         2
        ],
        [
         "NOISE COMPLAIT",
         2
        ],
        [
         "ASST. TRAFFIC",
         2
        ],
        [
         "VERBALTHREAT",
         2
        ],
        [
         "CHECK THE WELL B",
         2
        ],
        [
         "POLICE INFO.",
         2
        ],
        [
         "FOLLOW UP - 2L",
         2
        ],
        [
         "INVESITIGATE",
         2
        ],
        [
         "INVESTAGAE",
         2
        ],
        [
         "THREATING HER",
         2
        ],
        [
         "INVESTIATE",
         2
        ],
        [
         "REF  TO   4E",
         2
        ],
        [
         "FOLLOW UP 61",
         2
        ],
        [
         "INVEST SCREAMING",
         2
        ],
        [
         "DISABLED VE",
         2
        ],
        [
         "NEIGHBOR DISPUTE",
         2
        ],
        [
         "DEATH  REPORT",
         2
        ],
        [
         "ILLEGAL USE",
         2
        ],
        [
         "SEEKING SHELTER",
         2
        ],
        [
         "WELLBEING CHECCK",
         2
        ],
        [
         "AGGV DRIVING",
         2
        ],
        [
         "WARRANTS/SUMMONS",
         2
        ],
        [
         "CALL OFFICER",
         2
        ],
        [
         "CONFUSED   MALE",
         2
        ],
        [
         "INVESTIVATE",
         2
        ],
        [
         "UNKNONW TROUBLE",
         2
        ],
        [
         "HOMR INVASION",
         2
        ],
        [
         "VEHICLE STOP",
         2
        ],
        [
         "UNSAFE DRIVER",
         2
        ],
        [
         "WELLBEING  CHECK",
         2
        ],
        [
         "LAR AFTER TRUST",
         2
        ],
        [
         "DISBALED VEHICLE",
         2
        ],
        [
         "GET BELONINGINS",
         2
        ],
        [
         "NOTIFY/ADVISE",
         2
        ],
        [
         "POS FORC'D ENTRY",
         2
        ],
        [
         "TOWD",
         2
        ],
        [
         "SCREAMINNG",
         2
        ],
        [
         "LOUD NOISE CMPLT",
         2
        ],
        [
         "CLOSEDE CALL",
         2
        ],
        [
         "TELE MISUSE",
         2
        ],
        [
         "INEBRIATED PERS.",
         2
        ],
        [
         "CLOSED CLL",
         2
        ],
        [
         "FAMLIY DISP",
         2
        ],
        [
         "CITIZEN  ASSIST",
         2
        ],
        [
         "WANTS MALE",
         2
        ],
        [
         "SWEEGEE COMPLAIN",
         2
        ],
        [
         "PANHANDLING",
         2
        ],
        [
         "CHILD CHECK",
         2
        ],
        [
         "BEL/FRANKFORD",
         2
        ],
        [
         "NOITIFY",
         2
        ],
        [
         "INVESTIGGATE",
         2
        ],
        [
         "SIGNOFFONVEHICLE",
         2
        ],
        [
         "EMERG/PETITION",
         2
        ],
        [
         "STOLEN BIKE",
         2
        ],
        [
         "ATTEMPT ARSAN",
         2
        ],
        [
         "TRAFFIC DIR",
         2
        ],
        [
         "INDECENT EXPOSUR",
         2
        ],
        [
         "CK WELL BEINIG",
         2
        ],
        [
         "CHECK WELL BEIMN",
         2
        ],
        [
         "TRAFF SIG OUT",
         2
        ],
        [
         "LEFT MEDS",
         2
        ],
        [
         "DOMESTIC",
         2
        ],
        [
         "RECOVERED VEH.",
         2
        ],
        [
         "DISABLED VEHH",
         2
        ],
        [
         "CUSTODY ISSUE",
         2
        ],
        [
         "FOLLOW UP 98",
         2
        ],
        [
         "WARRANT PICKUP",
         2
        ],
        [
         "BAILS BONDSMAN",
         2
        ],
        [
         "GE BELONGINGS",
         2
        ],
        [
         "DISPIUTE",
         2
        ],
        [
         "CONFUSED  FEMALE",
         2
        ],
        [
         "CODE BLUE",
         2
        ],
        [
         "LOCATION CHECK",
         2
        ],
        [
         "BY THREATENING",
         2
        ],
        [
         "ATTM TO LOCATE",
         2
        ],
        [
         "FALSE PRETENCE",
         2
        ],
        [
         "CHECK  WELL  BEI",
         2
        ],
        [
         "NONBEATHER",
         2
        ],
        [
         "TESTING CAD",
         2
        ],
        [
         "WELFARE   CHECK",
         2
        ],
        [
         "TO SEE PICS",
         2
        ],
        [
         "ADVISE MEDICAL",
         2
        ],
        [
         "WELLNEESS",
         2
        ],
        [
         "DISABLED DRIVERS",
         2
        ],
        [
         "OTWELLNESS CHECK",
         2
        ],
        [
         "ATM MACHINE",
         2
        ],
        [
         "RUN AWAY CHILD",
         2
        ],
        [
         "CHK  WELL BEING",
         2
        ],
        [
         "SUSPICIOUS VEHCE",
         2
        ],
        [
         "THEFT ATTEMPT",
         2
        ],
        [
         "THREATEN/MOUTH",
         2
        ],
        [
         "EMERG PETETION",
         2
        ],
        [
         "EMER PETTI",
         2
        ],
        [
         "WELLENESS CK",
         2
        ],
        [
         "ESCPRT",
         2
        ],
        [
         "THREAT BY MOUTH",
         2
        ],
        [
         "POLCE ESCORT",
         2
        ],
        [
         "BAG CHECK",
         2
        ],
        [
         "NEED SHELTER",
         2
        ],
        [
         "WARRANT APREHENS",
         2
        ],
        [
         "PHONE MI",
         2
        ],
        [
         "WELLINESS CHECK",
         2
        ],
        [
         "RECLESS DRIVING",
         2
        ],
        [
         "POLICE INFORMAT",
         2
        ],
        [
         "GET BELEONGINGS",
         2
        ],
        [
         "GEET BELONGINGS",
         2
        ],
        [
         "POSSIBLE SCAM",
         2
        ],
        [
         "TRAFFIC ISSUE",
         2
        ],
        [
         "ATTEPMT TO LOC",
         2
        ],
        [
         "ABANDON VEH.",
         2
        ],
        [
         "HIT & RUN",
         2
        ],
        [
         "NOISE COMPL",
         2
        ],
        [
         "POSSIBKE",
         2
        ],
        [
         "TRANSPORTATION",
         2
        ],
        [
         "OBVIOUS DEATH",
         2
        ],
        [
         "BALIL OUT",
         2
        ],
        [
         "NOTIFY/WELL BEIN",
         2
        ],
        [
         "DOG DISPUTE",
         2
        ],
        [
         "FOLLOW UP - 4E",
         2
        ],
        [
         "INVESTIGATE DEAT",
         2
        ],
        [
         "INVESTIGAION",
         2
        ],
        [
         "CHECK CHILD WARF",
         2
        ],
        [
         "ICY CONDITIONS",
         2
        ],
        [
         "SEXT TEXT",
         2
        ],
        [
         "REF TO 65",
         2
        ],
        [
         "EMERG  PET",
         2
        ],
        [
         "CHECKE WELL BEIN",
         2
        ],
        [
         "CHK BELONGINGS",
         2
        ],
        [
         "INVEST UNK TRBLE",
         2
        ],
        [
         "MOBILE SOS ALARM",
         2
        ],
        [
         "WARR Transport",
         2
        ],
        [
         "VAGRANT REM",
         2
        ],
        [
         "RECKLESS DRVER",
         2
        ],
        [
         "EMER PEITION",
         2
        ],
        [
         "REF TO  33",
         2
        ],
        [
         "WORKING ON LINES",
         2
        ],
        [
         "SIG OUT",
         2
        ],
        [
         "TRESSPASSER",
         2
        ],
        [
         "CHESK WELL BEING",
         2
        ],
        [
         "INVESTG.",
         2
        ],
        [
         "NOTIFY PERSON",
         2
        ],
        [
         "ATTEMPT B&E",
         2
        ],
        [
         "OPEN PROPERTY",
         2
        ],
        [
         "UNAUTH OF USE",
         2
        ],
        [
         "OSEE TEXTTHER",
         2
        ],
        [
         "SUPERVISOR",
         2
        ],
        [
         "GATHER BELNGINGS",
         2
        ],
        [
         "DIRT BIKE COMP",
         2
        ],
        [
         "ESORT",
         2
        ],
        [
         "INVEST.",
         2
        ],
        [
         "OPOEN  LINE",
         2
        ],
        [
         "FAMILY ISSUE",
         2
        ],
        [
         "MOVING VEHICLE",
         2
        ],
        [
         "CONCERN",
         2
        ],
        [
         "UKNOWN TROUBLE",
         2
        ],
        [
         "FEMALE SCREAM",
         2
        ],
        [
         "TEL MISUSE",
         2
        ],
        [
         "UNKNON TROUBLE",
         2
        ],
        [
         "MACHETE COLLECTI",
         2
        ],
        [
         "SEE   TEXT",
         2
        ],
        [
         "CHECK AND ADVI",
         2
        ],
        [
         "ANIMAL SCREAMING",
         2
        ],
        [
         "60A",
         2
        ],
        [
         "ATTEMPT STABBING",
         2
        ],
        [
         "CHEECK WELL BEIN",
         2
        ],
        [
         "DOG BARKING",
         2
        ],
        [
         "P/U WARRANTS",
         2
        ],
        [
         "FOLLOW UP 3P",
         2
        ],
        [
         "INV VACANT PRPT",
         2
        ],
        [
         "NEEDS TO E/P",
         2
        ],
        [
         "DISAB VEHICLE",
         2
        ],
        [
         "CHECK VAC HOUSE",
         2
        ],
        [
         "E/P PAPERS",
         2
        ],
        [
         "CHECH WELL BEING",
         2
        ],
        [
         "MALE FELL",
         2
        ],
        [
         "CK WELL BEIING",
         2
        ],
        [
         "INVSTAGATE",
         2
        ],
        [
         "ASSIST STRANDED",
         2
        ],
        [
         "DUMPING IN PRGES",
         2
        ],
        [
         "PAT ELOPED",
         2
        ],
        [
         "BABY ON PHONE",
         2
        ],
        [
         "POSIBLE",
         2
        ],
        [
         "INVEWSTIGATE",
         2
        ],
        [
         "PREACE ORDER",
         2
        ],
        [
         "ATTEMT TO NOTIFY",
         2
        ],
        [
         "ASSIST BCO",
         2
        ],
        [
         "ATT LRCNY F/AUT",
         2
        ],
        [
         "BLOCKING SIDEWAL",
         2
        ],
        [
         "SEE TEXTTHER",
         2
        ],
        [
         "INVESYTIGATE",
         2
        ],
        [
         "GET TAGS",
         2
        ],
        [
         "SEX ABUSE",
         2
        ],
        [
         "CHEK WELL BEGING",
         2
        ],
        [
         "TRAFFIC HAZZARD",
         2
        ],
        [
         "MALICIOUS",
         2
        ],
        [
         "SE",
         2
        ],
        [
         "ASSIS. ANIMAL CO",
         2
        ],
        [
         "TREE DOWN",
         2
        ],
        [
         "UNKWN TROUBLE",
         2
        ],
        [
         "KEYS  LOCKED IN",
         2
        ],
        [
         "LOST MEDS",
         2
        ],
        [
         "BABY STUCK IN CA",
         2
        ],
        [
         "ARSON REPORT",
         2
        ],
        [
         "85E",
         2
        ],
        [
         "PATIENT ELOPMENT",
         2
        ],
        [
         "INVEST TRB UNKN",
         2
        ],
        [
         "ILL EVICT",
         2
        ],
        [
         "MEET BCO-INVEST",
         2
        ],
        [
         "POLICE REQUEST",
         2
        ],
        [
         "ER DEATH",
         2
        ],
        [
         "INNESTIGATE",
         2
        ],
        [
         "POLKICE ASSIT",
         2
        ],
        [
         "STOLEN TAGS",
         2
        ],
        [
         "52C03G",
         2
        ],
        [
         "EMERGE PETITION",
         2
        ],
        [
         "SH",
         2
        ],
        [
         "BIO HAZARD",
         2
        ],
        [
         "POL INFO",
         2
        ],
        [
         "LOST ELDERY LADY",
         2
        ],
        [
         "POS FORCD ENTRY",
         2
        ],
        [
         "CHECK WELLING BE",
         2
        ],
        [
         "NEEDS EP",
         2
        ],
        [
         "CHECK AND ANDIES",
         2
        ],
        [
         "DISABLED VEJHICL",
         2
        ],
        [
         "ASSIT",
         2
        ],
        [
         "COVID ISSUE",
         2
        ],
        [
         "CK WELL BRING",
         2
        ],
        [
         "WELLNESS CHECK.",
         2
        ],
        [
         "TROUBLEE UNKNOWN",
         2
        ],
        [
         "FOLLW UP",
         2
        ],
        [
         "INVESGATE",
         2
        ],
        [
         "REQ POL ESCORT",
         2
        ],
        [
         "IMVEST TROUBLE",
         2
        ],
        [
         "PORCH GRILL",
         2
        ],
        [
         "ARMED PERS",
         2
        ],
        [
         "EXTRM TIRED DRVR",
         2
        ],
        [
         "REF   TO    30",
         2
        ],
        [
         "THRREATS",
         2
        ],
        [
         "FOLLOW UP TO 75",
         2
        ],
        [
         "GET BEONGINGS",
         2
        ],
        [
         "SCREAMING HELP",
         2
        ],
        [
         "LOCKED-IN",
         2
        ],
        [
         "PATIENT DEATH",
         2
        ],
        [
         "ASSIST PERSONS",
         2
        ],
        [
         "SUSPECTED BREAKI",
         2
        ],
        [
         "ANIMLAS LOCKEDI",
         2
        ],
        [
         "EMERGENCY PETITO",
         2
        ],
        [
         "PROTECRTIVE ORDE",
         2
        ],
        [
         "KEYS  LOCKED  IN",
         2
        ],
        [
         "WALLET",
         2
        ],
        [
         "WILLNESS CHECK",
         2
        ],
        [
         "INFO FOLLOW UP",
         2
        ],
        [
         "UNAUTHORAIZED US",
         2
        ],
        [
         "DISABBLE VEH",
         2
        ],
        [
         "CHAIR REMOVED",
         2
        ],
        [
         "GAS EMERG",
         2
        ],
        [
         "REF TO  4E",
         2
        ],
        [
         "FORSED ENTRY",
         2
        ],
        [
         "ATTEMPT TO OTHER",
         2
        ],
        [
         "ABUSE REPORT",
         2
        ],
        [
         "GET STOLEN BELON",
         2
        ],
        [
         "AIR RIFFLE",
         2
        ],
        [
         "RECKLESS DRIVERS",
         2
        ],
        [
         "VIOLATION",
         2
        ],
        [
         "INVESTAIGATE",
         2
        ],
        [
         "VAGRANT CHECK",
         2
        ],
        [
         "POLICE NEEDED",
         2
        ],
        [
         "TROUBLE UNKNON",
         2
        ],
        [
         "ESCORTOTHER",
         2
        ],
        [
         "DISABELD VEHICLE",
         2
        ],
        [
         "0VER CROWDED CL",
         2
        ],
        [
         "BLKING SIDEWALK",
         2
        ],
        [
         "NEED NO HELP",
         2
        ],
        [
         "EMERGECY PETITI",
         2
        ],
        [
         "NOISE COMPLANT",
         2
        ],
        [
         "INVEST NEEDLES",
         2
        ],
        [
         "BYTHREAT",
         2
        ],
        [
         "AWOLL",
         2
        ],
        [
         "ADVISED REPO'D",
         2
        ],
        [
         "ASSIST COUNTY",
         2
        ],
        [
         "CRITICAL MISSING",
         2
        ],
        [
         "LOCATE PERSON",
         2
        ],
        [
         "ESCORT HOME",
         2
        ],
        [
         "ILLEGAL LOCK OUT",
         2
        ],
        [
         "CHK WEL LBEING",
         2
        ],
        [
         "CKECK WELL BEING",
         2
        ],
        [
         "PATIENT ELOPE",
         2
        ],
        [
         "POLICEINFO",
         2
        ],
        [
         "DIASABLED VEH",
         2
        ],
        [
         "PASSD OUT IN VEH",
         2
        ],
        [
         "RECOVERY AUTO",
         2
        ],
        [
         "PICKUP WAR/SUMM",
         2
        ],
        [
         "SEE CONTENT",
         2
        ],
        [
         "WELLBEING CHILD.",
         2
        ],
        [
         "INVBESTIGATE",
         2
        ],
        [
         "ASSIST MDTA",
         2
        ],
        [
         "SUSPICIOUS MALE",
         2
        ],
        [
         "AGGRV DRIVERS",
         2
        ],
        [
         "OPEN FRONT DOOR",
         2
        ],
        [
         "DUMPING NOW",
         2
        ],
        [
         "NEGLECT",
         2
        ],
        [
         "LOCKED/OUT",
         2
        ],
        [
         "MEET HOMICIDE",
         2
        ],
        [
         "POSSIBLE .",
         2
        ],
        [
         "911 MISSUE",
         2
        ],
        [
         "CHECK WELL \\BEIN",
         2
        ],
        [
         "UNUATHORIZED USE",
         2
        ],
        [
         "WITNESS INFO",
         2
        ],
        [
         "INVESTIGTATE",
         2
        ],
        [
         "POSS 73",
         2
        ],
        [
         "TRAF LIGHTS OUT",
         2
        ],
        [
         "EMERG [PETITION",
         2
        ],
        [
         "79 UNATHORIZED U",
         2
        ],
        [
         "REF T O  56",
         2
        ],
        [
         "RECOVERED VEHICL",
         2
        ],
        [
         "DISABLE  VEHICLE",
         2
        ],
        [
         "WELL-BEING CHK",
         2
        ],
        [
         "YELLING FOR HELP",
         2
        ],
        [
         "FOLLOW UP TOWD",
         2
        ],
        [
         "GET BELONIGS",
         2
        ],
        [
         "MAN SCREAMING",
         2
        ],
        [
         "VEH RELOCATE",
         2
        ],
        [
         "CHILDLOCKEDINVEH",
         2
        ],
        [
         "GET BBELONGINGS",
         2
        ],
        [
         "FOLLOW UP 65",
         2
        ],
        [
         "FLOODED AREA",
         2
        ],
        [
         "PICK UP PROPERTY",
         2
        ],
        [
         "UNKNOW PROBLEM",
         2
        ],
        [
         "DISABLD VEH",
         2
        ],
        [
         "HOMELESS",
         2
        ],
        [
         "CHK WELL BEGING",
         2
        ],
        [
         "LOUD SOUNDS",
         2
        ],
        [
         "FOLLOW UP 49",
         2
        ],
        [
         "LOST TAGS",
         2
        ],
        [
         "WERLFARE CHECK",
         2
        ],
        [
         "DOG IN CAR",
         2
        ],
        [
         "FOLLOW UP 75",
         2
        ],
        [
         "RECOVERY",
         2
        ],
        [
         "ALOPMENT",
         2
        ],
        [
         "CHK LOC",
         2
        ],
        [
         "DISABLED VEHICE",
         2
        ],
        [
         "AUTHORIZED USE",
         2
        ],
        [
         "INVESTIGAYE",
         2
        ],
        [
         "INVIESTIGATE",
         2
        ],
        [
         "TRAFFIC ENFORCEM",
         2
        ],
        [
         "BOISE COMPLAINT",
         2
        ],
        [
         "INVESTIGAGTE",
         2
        ],
        [
         "RECKLESS",
         2
        ],
        [
         "TORUBLE UNKNOWN",
         2
        ],
        [
         "INVESTGIATE",
         2
        ],
        [
         "POSS AUTO THEFT",
         2
        ],
        [
         "LOCKED INSIDE",
         2
        ],
        [
         "ABANDONED VEHICL",
         2
        ],
        [
         "ATTEMPT 2 LOCATE",
         2
        ],
        [
         "UNAUTHR USE",
         2
        ],
        [
         "FOLLOW UP 6D",
         2
        ],
        [
         "AWHOL",
         2
        ],
        [
         "INMVESTIGATE",
         2
        ],
        [
         "TROUBLE UNKONW",
         2
        ],
        [
         "ASSIST DRIVER",
         2
        ],
        [
         "UNKNOWN PROBLM",
         2
        ],
        [
         "CK WELL BEGIN",
         2
        ],
        [
         "LOCKED IN CAR",
         2
        ],
        [
         "WALK AWAY",
         2
        ],
        [
         "DEER STRUCK",
         2
        ],
        [
         "CHILD IN VEH",
         2
        ],
        [
         "FOLLOW UP - 5G",
         2
        ],
        [
         "RETURN BELONGING",
         2
        ],
        [
         "WRONG WAY ON 83",
         2
        ],
        [
         "WELFARE",
         2
        ],
        [
         "CHKK WELL BEING",
         2
        ],
        [
         "GET BULLET",
         2
        ],
        [
         "CHILD LOCKD NCAR",
         2
        ],
        [
         "INVESTIGATE 3",
         2
        ],
        [
         "POWER OUTAGE",
         2
        ],
        [
         "CHILD SCREAMING",
         2
        ],
        [
         "EMERG PETITON",
         2
        ],
        [
         "CLSOED CALL",
         2
        ],
        [
         "MASK",
         2
        ],
        [
         "WELL BEING CHK.",
         2
        ],
        [
         "PICK UP BULLET",
         2
        ],
        [
         "CHECK WELLBEIN",
         2
        ],
        [
         "SEEE TEXT",
         2
        ],
        [
         "CHECK THE LOC",
         2
        ],
        [
         "911 MISUE",
         2
        ],
        [
         "TOWED",
         2
        ],
        [
         "ASSIST MOTORIST",
         2
        ],
        [
         "IMNVESTIGATE",
         2
        ],
        [
         "DISBABLE VEH",
         2
        ],
        [
         "BUSINESS ASSIST",
         2
        ],
        [
         "CHL WELL BEING",
         2
        ],
        [
         "LOOK OUT",
         2
        ],
        [
         "RECKLESS DRVR",
         2
        ],
        [
         "TROUBLE UNKOWN",
         2
        ],
        [
         "CHILD SAFETY CHK",
         2
        ],
        [
         "GUN",
         2
        ],
        [
         "DISABLED VEHI",
         2
        ],
        [
         "SECURITY CHECK",
         2
        ],
        [
         "9",
         2
        ],
        [
         "2J",
         2
        ],
        [
         "CDS",
         2
        ],
        [
         "LOCKED IN GARAGE",
         2
        ],
        [
         "DISABLE DRIVER",
         2
        ],
        [
         "INVESTA",
         2
        ],
        [
         "POLICE PATROL",
         2
        ],
        [
         "SUSPICIOUS ACTIV",
         2
        ],
        [
         "FLOODING",
         2
        ],
        [
         "ACCIDENT INFO",
         2
        ],
        [
         "POSS FORCE ENTR",
         2
        ],
        [
         "INVESTIGHATE",
         2
        ],
        [
         "CITIZEN'S ASSIST",
         2
        ],
        [
         "WELFARE CHEKC",
         2
        ],
        [
         "CHECL WELL BEING",
         2
        ],
        [
         "LARCENY AFTER TR",
         2
        ],
        [
         "TELE/THREAT/COM",
         2
        ],
        [
         "LOCKED IN APT",
         2
        ],
        [
         "ATTEMPT BURGLARY",
         2
        ],
        [
         "REPAIR ORDER",
         2
        ],
        [
         "CHCK WELL BEING",
         2
        ],
        [
         "CHK WELL  BEING",
         2
        ],
        [
         "LOST DOG",
         2
        ],
        [
         "WELFAR CHECK",
         2
        ],
        [
         "80",
         2
        ],
        [
         "ESCORT BELONGING",
         2
        ],
        [
         "WELFRE CHECK",
         2
        ],
        [
         "IINVESTIGATE",
         2
        ],
        [
         "FINGERPRINT",
         2
        ],
        [
         "TACTICAL ALERT",
         2
        ],
        [
         "POSS ARSON",
         2
        ],
        [
         "HARASSED",
         2
        ],
        [
         "STOLEN TAG",
         2
        ],
        [
         "INVESTIGATE SCN",
         2
        ],
        [
         "INVEST ABUSE",
         2
        ],
        [
         "PLS SEE TEXT",
         2
        ],
        [
         "STOLEN MEDS",
         1
        ],
        [
         "YELLING",
         1
        ],
        [
         "TELEPHOME MISUSE",
         1
        ],
        [
         "PREOTECTIVE ORDE",
         1
        ],
        [
         "BLOCKING MAIL",
         1
        ],
        [
         "FOLLOW UP  99",
         1
        ],
        [
         "POLICE ONLY",
         1
        ],
        [
         "ATEMP ROBERY",
         1
        ],
        [
         "ADVISEMENT",
         1
        ],
        [
         "ME CASE",
         1
        ],
        [
         "BYT THREAT",
         1
        ],
        [
         "PERSON WITH GUN",
         1
        ],
        [
         "LOST ELDERLY LAD",
         1
        ],
        [
         "WLLNESS CHECK",
         1
        ],
        [
         "CROWD",
         1
        ],
        [
         "RECOVERED PROPER",
         1
        ],
        [
         "WELL BEIN CHECK",
         1
        ],
        [
         "WELLNWSS CHECK",
         1
        ],
        [
         "CHILD LOC IN APT",
         1
        ],
        [
         "OTESCORT",
         1
        ],
        [
         "INVESTIGATET",
         1
        ],
        [
         "BEGGAR REMOVAL",
         1
        ],
        [
         "ATT  TO LOCATE",
         1
        ],
        [
         "INFOMATION",
         1
        ],
        [
         "DISABLED ROVER",
         1
        ],
        [
         "WELLNESS CHRVK",
         1
        ],
        [
         "PIT BULLS LOOSE",
         1
        ],
        [
         "CHANGE",
         1
        ],
        [
         "NICE",
         1
        ],
        [
         "IN PERSON THREAT",
         1
        ],
        [
         "WARRAANTS",
         1
        ],
        [
         "INVETAGATE",
         1
        ],
        [
         "FOUND LICENSE",
         1
        ],
        [
         "THREAT BY PHONE",
         1
        ],
        [
         "STREET LIGHT OUT",
         1
        ],
        [
         "INV EST",
         1
        ],
        [
         "CUSTODY DIS",
         1
        ],
        [
         "CHECK WELLING",
         1
        ],
        [
         "EMERGERNCY PETIT",
         1
        ],
        [
         "STALKING",
         1
        ],
        [
         "RELOCATED VEHC",
         1
        ],
        [
         "BULLET RECOVERY",
         1
        ],
        [
         "OTHERWELL BEING",
         1
        ],
        [
         "10/11",
         1
        ],
        [
         "DRIVER CHECK",
         1
        ],
        [
         "ECORT",
         1
        ],
        [
         "REF TO 7C",
         1
        ],
        [
         "CONTRACTOR DIS",
         1
        ],
        [
         "ELDERLY NEG.",
         1
        ],
        [
         "59",
         1
        ],
        [
         "CHILD SWAP",
         1
        ],
        [
         "CHECK AND ADIVSE",
         1
        ],
        [
         "FOUND ITEMS",
         1
        ],
        [
         "VENDOR REMOVAL",
         1
        ],
        [
         "EMPLOYEE DISPUTE",
         1
        ],
        [
         "PROTECTIVE OEDER",
         1
        ],
        [
         "REQUEST FOR ASSI",
         1
        ],
        [
         "STABBING VIC.",
         1
        ],
        [
         "NEXT OF KIN CHK",
         1
        ],
        [
         "HOMELESS/SHELTER",
         1
        ],
        [
         "SRR  TEXT",
         1
        ],
        [
         "PEACE PORDER",
         1
        ],
        [
         "ESCROT",
         1
        ],
        [
         "PROT WITNESS",
         1
        ],
        [
         "SUS PACKAGE",
         1
        ],
        [
         "WELLNESS INVEST",
         1
        ],
        [
         "REF  TO   3P",
         1
        ],
        [
         "LOST   FEMALE",
         1
        ],
        [
         "INVESTIGAGATE",
         1
        ],
        [
         "ATT TOLOCATE",
         1
        ],
        [
         "RIDE",
         1
        ],
        [
         "ATTP TO LOC",
         1
        ],
        [
         "POLICE CHECK",
         1
        ],
        [
         "CUSTODY DISP.",
         1
        ],
        [
         "LOST PROPERT",
         1
        ],
        [
         "OPER HYDRANT",
         1
        ],
        [
         "RELOCATE VEHC",
         1
        ],
        [
         "10-11",
         1
        ],
        [
         "DISABLE VEHCLE",
         1
        ],
        [
         "CHECK FOR JUVN.",
         1
        ],
        [
         "223",
         1
        ],
        [
         "OFFICER ASSIST.",
         1
        ],
        [
         "INV UNK TROBLE",
         1
        ],
        [
         "INVESTN",
         1
        ],
        [
         "CAR ASSISTANCE",
         1
        ],
        [
         "NEEDLE COLLECT",
         1
        ],
        [
         "PEDESTRIAN ON 83",
         1
        ],
        [
         "CONE REMOVAL",
         1
        ],
        [
         "VEHICLE ASSIST",
         1
        ],
        [
         "CUSTODY SWAP",
         1
        ],
        [
         "ACCIDENT INFO.",
         1
        ],
        [
         "ESCORET",
         1
        ],
        [
         "GETBELONINGS",
         1
        ],
        [
         "STRANGE ODOR",
         1
        ],
        [
         "DRUNNK DRIVER",
         1
        ],
        [
         "LOCKED VEH",
         1
        ],
        [
         "EMER PETETION",
         1
        ],
        [
         "EMERGE. PETITION",
         1
        ],
        [
         "ESCORTY",
         1
        ],
        [
         "EXTINGUISHED",
         1
        ],
        [
         "HOMELESS REVMOAL",
         1
        ],
        [
         "INVESTIGATTE",
         1
        ],
        [
         "AGGR DRIVER",
         1
        ],
        [
         "WELLNESSCHECK",
         1
        ],
        [
         "INVTAGATE",
         1
        ],
        [
         "SCORT",
         1
        ],
        [
         "SUSPICOUS",
         1
        ],
        [
         "ATTEMPTED BURG",
         1
        ],
        [
         "TAG CHECK",
         1
        ],
        [
         "10-11 BALTIMOREC",
         1
        ],
        [
         "P/UP PAPERS",
         1
        ],
        [
         "VERBAL ABUSE",
         1
        ],
        [
         "PEDESTRIANS",
         1
        ],
        [
         "CONFUSED  NEIGHB",
         1
        ],
        [
         "POLE DOWN",
         1
        ],
        [
         "APT CHECK",
         1
        ],
        [
         "AGGR DRIVERS",
         1
        ],
        [
         "DRUG PICK UP",
         1
        ],
        [
         "EP ORDER/SERVE",
         1
        ],
        [
         "IN-PROGRESS",
         1
        ],
        [
         "COURT ORDER VIOL",
         1
        ],
        [
         ".",
         1
        ],
        [
         "ALOPED PATIENT",
         1
        ],
        [
         "WELCARE CHECK",
         1
        ],
        [
         "BLOOD ON PORCH",
         1
        ],
        [
         "EMERG EVALUATION",
         1
        ],
        [
         "LOCK OUT OF VEH",
         1
        ],
        [
         "NOISE COMP",
         1
        ],
        [
         "PEACE",
         1
        ],
        [
         "CHK   LOC",
         1
        ],
        [
         "PROTECTIVE ODER",
         1
        ],
        [
         "DISABLED   VEH",
         1
        ],
        [
         "REF  TO 6J",
         1
        ],
        [
         "PAPERWORK PICKUP",
         1
        ],
        [
         "CHECKELL BEING",
         1
        ],
        [
         "MEDICAL ALARM",
         1
        ],
        [
         "FOUND DRUGS",
         1
        ],
        [
         "PICK UP KIDS",
         1
        ],
        [
         "STOLEN $$",
         1
        ],
        [
         "DISABLE VEHICLE.",
         1
        ],
        [
         "IDENTITY THEFT",
         1
        ],
        [
         "WELL BEIMG CHECK",
         1
        ],
        [
         "INVESTGATION",
         1
        ],
        [
         "THEFT REPORT",
         1
        ],
        [
         "HECK WELLING",
         1
        ],
        [
         "PRLOTECTIVE ORDE",
         1
        ],
        [
         "SUSP VHCL",
         1
        ],
        [
         "LOST POLICE JACK",
         1
        ],
        [
         "RETURN ITEMS",
         1
        ],
        [
         "SUMMONS",
         1
        ],
        [
         "DISABLE VEHOTHER",
         1
        ],
        [
         "HOMLESS COMPLAIN",
         1
        ],
        [
         "WELL CHK",
         1
        ],
        [
         "TRAFFIC BLOCK OF",
         1
        ],
        [
         "WELARE CHECK",
         1
        ],
        [
         "SWEEGE",
         1
        ],
        [
         "STOP WORK ORDER",
         1
        ],
        [
         "DISABLEDVEHICLE",
         1
        ],
        [
         "EXTREM PROT ORDE",
         1
        ],
        [
         "INVEDTIGATE",
         1
        ],
        [
         "SAFE  KEEPING",
         1
        ],
        [
         "INFROMATION",
         1
        ],
        [
         "OW UP",
         1
        ],
        [
         "EMERG. PETIION",
         1
        ],
        [
         "ELPOED",
         1
        ],
        [
         "PAIENT DEATH",
         1
        ],
        [
         "WELLBEING CEHCK",
         1
        ],
        [
         "NOYTIFY",
         1
        ],
        [
         "RELOC VEHC",
         1
        ],
        [
         "20S",
         1
        ],
        [
         "INVESTG",
         1
        ],
        [
         "INV UKN TROUBLE",
         1
        ],
        [
         "DISABLED DRIVR",
         1
        ],
        [
         "SEE TXTT",
         1
        ],
        [
         "ESCAPE",
         1
        ],
        [
         "STUCK TRUCK",
         1
        ],
        [
         "WELLNEDD CK",
         1
        ],
        [
         "EMERG PETET",
         1
        ],
        [
         "WANTED ON WARRAN",
         1
        ],
        [
         "CHECKWELL BEGING",
         1
        ],
        [
         "CHECK WELLNEING",
         1
        ],
        [
         "WEE CHECK",
         1
        ],
        [
         "CAR ON TRAIN TRA",
         1
        ],
        [
         "REF   TO  56",
         1
        ],
        [
         "BLOCKING STREET",
         1
        ],
        [
         "UNIDENTIF PERSON",
         1
        ],
        [
         "VACATE ASSISTANC",
         1
        ],
        [
         "CAR REMOVAL",
         1
        ],
        [
         "POL ESCORT",
         1
        ],
        [
         "RPT A DEATH",
         1
        ],
        [
         "MASK MANDATE",
         1
        ],
        [
         "CHEST WELLBEING",
         1
        ],
        [
         "TRUCK CHECK",
         1
        ],
        [
         "HOUSE CHECK",
         1
        ],
        [
         "ATT LOC",
         1
        ],
        [
         "HEARD SHOTS",
         1
        ],
        [
         "MISS.PERS.FOUND",
         1
        ],
        [
         "WANTS MAIL",
         1
        ],
        [
         "BY THROAT",
         1
        ],
        [
         "REF  TO  79",
         1
        ],
        [
         "P/U WARRANT",
         1
        ],
        [
         "ERCO/PROTEC ORDE",
         1
        ],
        [
         "RECCLESS DRIER",
         1
        ],
        [
         "VERBAL ASSUALT",
         1
        ],
        [
         "DOOR SLAMMING",
         1
        ],
        [
         "TRAFFIC DIRECTIO",
         1
        ],
        [
         "MISSIN PERSON",
         1
        ],
        [
         "DOMESTIC DISPUTE",
         1
        ],
        [
         "WARR/SUMMONS",
         1
        ],
        [
         "ESCORTT",
         1
        ],
        [
         "DUMPSTER FIRE",
         1
        ],
        [
         "LIDS",
         1
        ],
        [
         "OFFICER TEXTING",
         1
        ],
        [
         "SAFETY   CHECK",
         1
        ],
        [
         "VHECK WELL BEING",
         1
        ],
        [
         "DISPABLE VEHIC",
         1
        ],
        [
         "ASSESS",
         1
        ],
        [
         "MENTAL",
         1
        ],
        [
         "CHCK WELLBEING",
         1
        ],
        [
         "POLICE ASSIT.",
         1
        ],
        [
         "ASSIT US MARSHAL",
         1
        ],
        [
         "FRAUD .",
         1
        ],
        [
         "CARS ON SIDEWALK",
         1
        ],
        [
         "SCHOOL ASSIST",
         1
        ],
        [
         "STRANGE  ODOR",
         1
        ],
        [
         "ASSIST ANIM CTR",
         1
        ],
        [
         "FOUND GUN",
         1
        ],
        [
         "TRAFFIC DIRECT",
         1
        ],
        [
         "EMERG  EVALU",
         1
        ],
        [
         "4E BY THREAT",
         1
        ],
        [
         "NEEDS ASSIT.",
         1
        ],
        [
         "PAN HANDELING",
         1
        ],
        [
         "CEHCEK WELLBEING",
         1
        ],
        [
         "PROTECTION ORDER",
         1
        ],
        [
         "WELLNESS CHECK74",
         1
        ],
        [
         "PROT. ORDER",
         1
        ],
        [
         "LRCNY AFTR TRUST",
         1
        ],
        [
         "COURT PAPERS",
         1
        ],
        [
         "CHECK  AREA",
         1
        ],
        [
         "DISPUITE",
         1
        ],
        [
         "IN VESTAGATE",
         1
        ],
        [
         "WARRANTS P/UP",
         1
        ],
        [
         "MVEST",
         1
        ],
        [
         "MASK VIOLATION",
         1
        ],
        [
         "EMERGENCY PETTIO",
         1
        ],
        [
         "CHECK WEELLBEING",
         1
        ],
        [
         "EMERGENCY EVAL",
         1
        ],
        [
         "NO DISTANCE",
         1
        ],
        [
         "CHECK WELL OTHER",
         1
        ],
        [
         "CHK   AREA",
         1
        ],
        [
         "WELLNESS CHECH",
         1
        ],
        [
         "VIDEO REVIEW",
         1
        ],
        [
         "POLICES ASSIST.",
         1
        ],
        [
         "LOCK  OUT",
         1
        ],
        [
         "WELL BEING BEING",
         1
        ],
        [
         "WELLNESS CHTHER",
         1
        ],
        [
         "CUSTODY INFO.",
         1
        ],
        [
         "ROBBERY",
         1
        ],
        [
         "PEACE ORDER VIO",
         1
        ],
        [
         "HANDICAP VIO",
         1
        ],
        [
         "DRUGS/FIREWORKS",
         1
        ],
        [
         "COUNTERFIT BILL",
         1
        ],
        [
         "SWEEGY COMPLAINT",
         1
        ],
        [
         "FINGER PRINT REQ",
         1
        ],
        [
         "BLOCKING ALLEY",
         1
        ],
        [
         "REQUEST",
         1
        ],
        [
         "MISSING DOG",
         1
        ],
        [
         "PROT ODER",
         1
        ],
        [
         "PARKING COMP.",
         1
        ],
        [
         "PETITION",
         1
        ],
        [
         "ENTRY ASSISTANCE",
         1
        ],
        [
         "INVESTIGATE P",
         1
        ],
        [
         "MECHANIC REMOVAL",
         1
        ],
        [
         "NOTIFACATION",
         1
        ],
        [
         "PHONE TEXT",
         1
        ],
        [
         "SEE OTHER",
         1
        ],
        [
         "ATTEMPT TO  LOC",
         1
        ],
        [
         "ESDORT",
         1
        ],
        [
         "FOLLOW UP  7C",
         1
        ],
        [
         "CHECK WE;; BEOMG",
         1
        ],
        [
         "WELLNESS CHEVK",
         1
        ],
        [
         "PEACE IRDER",
         1
        ],
        [
         "MISS MANHOLE COV",
         1
        ],
        [
         "DISPABLE VEHC",
         1
        ],
        [
         "EP TRANSPORT",
         1
        ],
        [
         "TWING",
         1
        ],
        [
         "COMTACT",
         1
        ],
        [
         "PEACE ORDERE",
         1
        ],
        [
         "ABANDONED CAR",
         1
        ],
        [
         "EMRG  PETITION",
         1
        ],
        [
         "EMER EVALUATION",
         1
        ],
        [
         "DECEASED PT",
         1
        ],
        [
         "ORDER SERVE",
         1
        ],
        [
         "DIRT BIKE COMPLI",
         1
        ],
        [
         "FOLLOW UP56",
         1
        ],
        [
         "ATL",
         1
        ],
        [
         "CHK & VEH",
         1
        ],
        [
         "INV  UNK TROUBLE",
         1
        ],
        [
         "REF TO  73",
         1
        ],
        [
         "ATMPT BURGLARY",
         1
        ],
        [
         "CAR HORN SOUNDIN",
         1
        ],
        [
         "SEE TEXT P",
         1
        ],
        [
         "ESCORT BGE",
         1
        ],
        [
         "INVESTIGETE",
         1
        ],
        [
         "ORDER SERVED",
         1
        ],
        [
         "ONVEST",
         1
        ],
        [
         "BY HREAT",
         1
        ],
        [
         "EMER PERTITION",
         1
        ],
        [
         "BAD TEEN",
         1
        ],
        [
         "EMRG PETITION",
         1
        ],
        [
         "PHONEMISUSE",
         1
        ],
        [
         "WANTS DOG",
         1
        ],
        [
         "UNAUTH  USE",
         1
        ],
        [
         "WARRANT PICK UP",
         1
        ],
        [
         "PROTEST",
         1
        ],
        [
         "CHECKWELLBEING.",
         1
        ],
        [
         "CHECK WELL BTHER",
         1
        ],
        [
         "ATTEMPTTONOTIFY",
         1
        ],
        [
         "WANTS KEYS",
         1
        ],
        [
         "SAFE KEEPING",
         1
        ],
        [
         "CONST DISPUTE",
         1
        ],
        [
         "ATTEMPTED THEFT",
         1
        ],
        [
         "NOISE ISSUE",
         1
        ],
        [
         "SUSPICIOUS CAR",
         1
        ],
        [
         "NOTIFIATCION",
         1
        ],
        [
         "FOUND PURSE",
         1
        ],
        [
         "IDENTIFICATION",
         1
        ],
        [
         "REPORTED DEATH",
         1
        ],
        [
         "OFC. ASSIST",
         1
        ],
        [
         "PROTECRIVE ORDER",
         1
        ],
        [
         "POL   INFO",
         1
        ],
        [
         "RESTRAIN ORDER",
         1
        ],
        [
         "WELLNESS CHCK",
         1
        ],
        [
         "SUSPICOUS ITEM",
         1
        ],
        [
         "LIFT AWOL",
         1
        ],
        [
         "DIRT BIKE COMPLA",
         1
        ],
        [
         "PEACE ORDR",
         1
        ],
        [
         "TRAFFIC OFFICER",
         1
        ],
        [
         "STUCK ON TRACK",
         1
        ],
        [
         "INVESTAGATED",
         1
        ],
        [
         "FINGER PRINTS",
         1
        ],
        [
         "CHILD PICK UP",
         1
        ],
        [
         "EVIDENCE CHECK",
         1
        ],
        [
         "PACKAGE PU",
         1
        ],
        [
         "LOUD NISE",
         1
        ],
        [
         "POLICE REP.",
         1
        ],
        [
         "HOSP ASSISTANCE",
         1
        ],
        [
         "FLOOD",
         1
        ],
        [
         "LOITERING INSIDE",
         1
        ],
        [
         "ILLEGAL WEAPON",
         1
        ],
        [
         "INVESSTAGATE",
         1
        ],
        [
         "EMERG PET",
         1
        ],
        [
         "UNAUTHROZED USE",
         1
        ],
        [
         "DISABLEL VEHICLE",
         1
        ],
        [
         "LARGE POTHOLE",
         1
        ],
        [
         "PERSON REVOVAL",
         1
        ],
        [
         "BLOCKED ALLEY",
         1
        ],
        [
         "RECKLESS DRIVIN",
         1
        ],
        [
         "CHECK AND ADVISD",
         1
        ],
        [
         "FOUND EQUIP",
         1
        ],
        [
         "RUNWAY",
         1
        ],
        [
         "INVESTAGATION",
         1
        ],
        [
         "CONSTUCTION NOIS",
         1
        ],
        [
         "SEE TEXR",
         1
        ],
        [
         "ELOPE PATIENT",
         1
        ],
        [
         "INVCESTAGATE",
         1
        ],
        [
         "EP PAPERS PICK/U",
         1
        ],
        [
         "DISABLE",
         1
        ],
        [
         "POLICE INFORMA",
         1
        ],
        [
         "BULLET PARTS",
         1
        ],
        [
         "WALKAWAY",
         1
        ],
        [
         "OTHERASSIST",
         1
        ],
        [
         "AMPLIFIER",
         1
        ],
        [
         "CHECK WELL BBEIN",
         1
        ],
        [
         "NOISE COMP.",
         1
        ],
        [
         "FAMILY CONTACT",
         1
        ],
        [
         "FINGER PRINTING",
         1
        ],
        [
         "STOLEN PROPERTY",
         1
        ],
        [
         "PROTECTIVE ORDDE",
         1
        ],
        [
         "HANDICAP SPACE",
         1
        ],
        [
         "EP PICKUP",
         1
        ],
        [
         "HOMLESS",
         1
        ],
        [
         "PATIENT IDENTIFI",
         1
        ],
        [
         "TAG RUN",
         1
        ],
        [
         "PROTECTTIVE ORDE",
         1
        ],
        [
         "ATT TO LOC.",
         1
        ],
        [
         "PATROL AREA",
         1
        ],
        [
         "TRAFFIC BLOCKED",
         1
        ],
        [
         "POLICE INVO",
         1
        ],
        [
         "TILL PU",
         1
        ],
        [
         "PROTECTIVE ORDR",
         1
        ],
        [
         "TEXT BY PHONE",
         1
        ],
        [
         "CHCK WLL BEING",
         1
        ],
        [
         "SHOOTING REPORT",
         1
        ],
        [
         "CHEC WELLEBING O",
         1
        ],
        [
         "INVESTI",
         1
        ],
        [
         "SIDABLED VEH",
         1
        ],
        [
         "SIGNAL CONCERN",
         1
        ],
        [
         "NVESTAGATE",
         1
        ],
        [
         "ATTEMPT BREAK IN",
         1
        ],
        [
         "PICK UP PAPERWOR",
         1
        ],
        [
         "DISAB  VEH",
         1
        ],
        [
         "WELL CHEK",
         1
        ],
        [
         "FIRWORKS",
         1
        ],
        [
         "PERSON SLEEPING",
         1
        ],
        [
         "DOGS IN CAR",
         1
        ],
        [
         "CHECK FOR LIC",
         1
        ],
        [
         "WRECKLESS DRIVIN",
         1
        ],
        [
         "PARKING",
         1
        ],
        [
         "P/UP WARRANTS",
         1
        ],
        [
         "WELFARE CHEK",
         1
        ],
        [
         "MELLNESS CHECK",
         1
        ],
        [
         "DISABLBED VEHICL",
         1
        ],
        [
         "LOUD MUSIC/MUSIC",
         1
        ],
        [
         "TOW VEH",
         1
        ],
        [
         "INVEST UNKNOWN",
         1
        ],
        [
         "UNKNONW PROBLEM",
         1
        ],
        [
         "NOISE CONCERT",
         1
        ],
        [
         "DEPT W/ INJURIES",
         1
        ],
        [
         "DOOR OPEN",
         1
        ],
        [
         "79  CAD (1143)",
         1
        ],
        [
         "VEH STUCK",
         1
        ],
        [
         "INVESTIGATEY",
         1
        ],
        [
         "SIKE PATIENT",
         1
        ],
        [
         "WALK OUT",
         1
        ],
        [
         "LOCATE VEHICLE",
         1
        ],
        [
         "POLIC INFO",
         1
        ],
        [
         "CHECK LOCATION .",
         1
        ],
        [
         "LOUD NOISE COMPL",
         1
        ],
        [
         "POLLICE  INFO",
         1
        ],
        [
         "ASSIST AMTRAK",
         1
        ],
        [
         "NEEDS POLICE",
         1
        ],
        [
         "DISABLED VEC",
         1
        ],
        [
         "UNKNOWN PROBLEM/",
         1
        ],
        [
         "DUPLICATE CALL",
         1
        ],
        [
         "FIRE DEPT CONFUS",
         1
        ],
        [
         "WELL NBEING",
         1
        ],
        [
         "INVESTIGATE3",
         1
        ],
        [
         "ASSIST DRVR",
         1
        ],
        [
         "LYING ON THE GRO",
         1
        ],
        [
         "GETS BELONGINGS",
         1
        ],
        [
         "INVESTED",
         1
        ],
        [
         "LOUD MUSIC/ROSS",
         1
        ],
        [
         "REPORT DOA",
         1
        ],
        [
         "SEET TEXT",
         1
        ],
        [
         "WELLMESS CHECK",
         1
        ],
        [
         "TROUBLEK UNKNOWN",
         1
        ],
        [
         "LOCKED OUT VEH",
         1
        ],
        [
         "EMER PARTITION",
         1
        ],
        [
         "GET BELOINGING",
         1
        ],
        [
         "FOUL ODOR",
         1
        ],
        [
         "DOG LOCKD IN VEH",
         1
        ],
        [
         "FOLLOW UP 4D",
         1
        ],
        [
         "ATTEMPT TO ID",
         1
        ],
        [
         "69",
         1
        ],
        [
         "CHEVK WELL BEING",
         1
        ],
        [
         "LOCK-OUT",
         1
        ],
        [
         "ASSAULT BY THREA",
         1
        ],
        [
         "CLOSE  CALL",
         1
        ],
        [
         "BAIL OUT --",
         1
        ],
        [
         "DECEASED  PATIEN",
         1
        ],
        [
         "DISABLED VEHICED",
         1
        ],
        [
         "4e  ( cad #3413)",
         1
        ],
        [
         "INVEST SCENE",
         1
        ],
        [
         "BULLET PICKUP",
         1
        ],
        [
         "7C  ( CAD #3906)",
         1
        ],
        [
         "STRONG ODOR",
         1
        ],
        [
         "POSS LOST",
         1
        ],
        [
         "DIRTBIKE",
         1
        ],
        [
         "ASSIST FBI",
         1
        ],
        [
         "CHECK/LOC",
         1
        ],
        [
         "CONES IN STREET",
         1
        ],
        [
         "MALE YELLNG",
         1
        ],
        [
         "DISABLE VEH/",
         1
        ],
        [
         "LOST CAR PLATE",
         1
        ],
        [
         "IVNEST",
         1
        ],
        [
         "POSS DESTRCT PRO",
         1
        ],
        [
         "UNATUHORIZED USE",
         1
        ],
        [
         "DISABLED VEHILCE",
         1
        ],
        [
         "CLOSE CALLR",
         1
        ],
        [
         "RELOCATE VEHICLE",
         1
        ],
        [
         "INVESTIGA",
         1
        ],
        [
         "CHILD LOCKED APT",
         1
        ],
        [
         "POLICE ASS",
         1
        ],
        [
         "ESCORT NEEDEED",
         1
        ],
        [
         "DIABLE VEHICLE",
         1
        ],
        [
         "BUILDING SEARCH",
         1
        ],
        [
         "CHECK THE WELLBE",
         1
        ],
        [
         "79 SAFETY CHECK",
         1
        ],
        [
         "WELL FARE CK",
         1
        ],
        [
         "BY THREATD",
         1
        ],
        [
         "WELBEING",
         1
        ],
        [
         "CHECK AND ADVICE",
         1
        ],
        [
         "S/C BANK SAFE CK",
         1
        ],
        [
         "NOT 7C/TOWD",
         1
        ],
        [
         "POSS AGGRV ASSLT",
         1
        ],
        [
         "GATHER BELINGING",
         1
        ],
        [
         "CHK WELLBING",
         1
        ],
        [
         "ASSISTANT",
         1
        ],
        [
         "PETITION SERVE",
         1
        ],
        [
         "WELLBRING CHECK",
         1
        ],
        [
         "POLICE ESCCORT",
         1
        ],
        [
         "4E BY   THREAT",
         1
        ],
        [
         "POSS ELOPE",
         1
        ],
        [
         "WELLNESS CHK",
         1
        ],
        [
         "INKNOWN TROUBLE",
         1
        ],
        [
         "FLLW UP 79-ESCOR",
         1
        ],
        [
         "FIRE HAZARD",
         1
        ],
        [
         "YORK",
         1
        ],
        [
         "TRESPASSER",
         1
        ],
        [
         "WELFARE CHCK",
         1
        ],
        [
         "SUSPICIOUS COND",
         1
        ],
        [
         "FOLLOW UP 68",
         1
        ],
        [
         "BY THEAT",
         1
        ],
        [
         "TRAFFIC DANGER",
         1
        ],
        [
         "79-CHK WELLBEING",
         1
        ],
        [
         "CHECK WELLNBEING",
         1
        ],
        [
         "ASSSIST",
         1
        ],
        [
         "GIRL SCREAMING",
         1
        ],
        [
         "CK WELL BENG",
         1
        ],
        [
         "CKWELLBEING",
         1
        ],
        [
         "INFO 4 911",
         1
        ],
        [
         "WRONGFULLY EVICT",
         1
        ],
        [
         "ATTP TO NTFY",
         1
        ],
        [
         "UNK SITUATION",
         1
        ],
        [
         "SPUN OUT",
         1
        ],
        [
         "CHK WELL BENG",
         1
        ],
        [
         "GET BELONGING S",
         1
        ],
        [
         "INVESTIGATE LOC",
         1
        ],
        [
         "LOUD SOUND",
         1
        ],
        [
         "ATT. TO NOTIFY",
         1
        ],
        [
         "OTHESCORTER",
         1
        ],
        [
         "UNKNOWN TTOUBLE",
         1
        ],
        [
         "TROUBLE UNKONWN",
         1
        ],
        [
         "POLICE ESSCORT",
         1
        ],
        [
         "ARSON ATTEMPT",
         1
        ],
        [
         "ATTEMPT ARM ROB",
         1
        ],
        [
         "BAD ODOR",
         1
        ],
        [
         "NEEDS POL ESCRT",
         1
        ],
        [
         "SEE TECT",
         1
        ],
        [
         "BY THRREAT",
         1
        ],
        [
         "CHKE WELL LBEING",
         1
        ],
        [
         "CALL FOR HELP",
         1
        ],
        [
         "98",
         1
        ],
        [
         "ATTEMPT  LOCATE",
         1
        ],
        [
         "EMRGY PETITION",
         1
        ],
        [
         "FOLLOW UP - 73",
         1
        ],
        [
         "NEED ESCORT",
         1
        ],
        [
         "CHECK WELL BG",
         1
        ],
        [
         "LOST ELDERLY ADU",
         1
        ],
        [
         "GET BELOND",
         1
        ],
        [
         "DIS",
         1
        ],
        [
         "DEATH OF PATIENT",
         1
        ],
        [
         "EX PARTE",
         1
        ],
        [
         "FLOODS CONDITION",
         1
        ],
        [
         "DISABLD VEHS",
         1
        ],
        [
         "NOTIFY .",
         1
        ],
        [
         "VEH RELOCATION",
         1
        ],
        [
         "NOTIFICATION.",
         1
        ],
        [
         "CHK WLL BEING",
         1
        ],
        [
         "CHECK RESIDENCE",
         1
        ],
        [
         "RECKELS DRIVER",
         1
        ],
        [
         "DOG LOCKED IN VE",
         1
        ],
        [
         "CHK N ADVISE",
         1
        ],
        [
         "LOC CHECK",
         1
        ],
        [
         "POSS ARMED PERSN",
         1
        ],
        [
         "6J FOLLOW UP",
         1
        ],
        [
         "POSSIBE",
         1
        ],
        [
         "OINVESTIGATE",
         1
        ],
        [
         "FLOOD CONDITIONS",
         1
        ],
        [
         "POSS HIT AND RUN",
         1
        ],
        [
         "VEHICLE STOPPED",
         1
        ],
        [
         "LOUD MUSIC & TV",
         1
        ],
        [
         "ASSOST",
         1
        ],
        [
         "CHECK CRIT MISSI",
         1
        ],
        [
         "LOST/STRANDED",
         1
        ],
        [
         "BLOCKING TRAFFIC",
         1
        ],
        [
         "CAR ACIDENT",
         1
        ],
        [
         "PLAYING ON PHONE",
         1
        ],
        [
         "NEED TRAF CONTRL",
         1
        ],
        [
         "CHILD SCREAMIN",
         1
        ],
        [
         "CHLD REMOVAL",
         1
        ],
        [
         "SHELTER ORDER",
         1
        ],
        [
         "ATTMPT LARCENY",
         1
        ],
        [
         "ATT ROBBRY ARMED",
         1
        ],
        [
         "POSS BAIL OUT",
         1
        ],
        [
         "FOLLOW UP - 6D",
         1
        ],
        [
         "ATTEMTP TO LOCAT",
         1
        ],
        [
         "ASST. OFFICER",
         1
        ],
        [
         "FOLLOW UP 39",
         1
        ],
        [
         "UNATH USE VEH",
         1
        ],
        [
         "EMRGENCY PETITIO",
         1
        ],
        [
         "UNAUHORIZ USE",
         1
        ],
        [
         "NOISE COMOPLAINT",
         1
        ],
        [
         "UNKNOWN PRB",
         1
        ],
        [
         "ELPOEMENT",
         1
        ],
        [
         "FOLLOW UP 4A",
         1
        ],
        [
         "WALK-AWAY",
         1
        ],
        [
         "CHILD PICKUP",
         1
        ],
        [
         "EMERGRNCY PETITI",
         1
        ],
        [
         "P;OCIE INFO",
         1
        ],
        [
         "UNAUTHROIZED USE",
         1
        ],
        [
         "PICK UP BELONG",
         1
        ],
        [
         "DISABLED VAN",
         1
        ],
        [
         "CHILD TALKING",
         1
        ],
        [
         "79 CAD #0671",
         1
        ],
        [
         "LOCK OUT HOUSE",
         1
        ],
        [
         "CAMERAS",
         1
        ],
        [
         "56/MISSING CHILD",
         1
        ],
        [
         "INVEST ODOR",
         1
        ],
        [
         "INVEST TROUBULE",
         1
        ],
        [
         "WELL CHECKBEING",
         1
        ],
        [
         "PHONE HARASSMENT",
         1
        ],
        [
         "EMERGECY PETITIO",
         1
        ],
        [
         "LOST FAMILY",
         1
        ],
        [
         "POSS BHAVR CRISS",
         1
        ],
        [
         "MEET MARSHAL",
         1
        ],
        [
         "EMERGENCY PETIIO",
         1
        ],
        [
         "GET BELONGIGS",
         1
        ],
        [
         "UNAUTH. USE VEH",
         1
        ],
        [
         "DISABLE VEHS",
         1
        ],
        [
         "POSS AFTER TRUST",
         1
        ],
        [
         "ATTEMPT BREAKIN",
         1
        ],
        [
         "CAR ON R.R.",
         1
        ],
        [
         "TRAIN ON TRACKS",
         1
        ],
        [
         "Y",
         1
        ],
        [
         "WILJK",
         1
        ],
        [
         "POSS DISABLED",
         1
        ],
        [
         "ASST SEMI TRUCK",
         1
        ],
        [
         "CHEVK WELLBEING",
         1
        ],
        [
         "FOLLOW UP - 6J",
         1
        ],
        [
         "POLICE FORCE",
         1
        ],
        [
         "CHK AND ADVISE",
         1
        ],
        [
         "FALLEN BRANCH",
         1
        ],
        [
         "CEHCK WELL BEGIN",
         1
        ],
        [
         "TELE/THREAT/COMM",
         1
        ],
        [
         "VIN CHECK",
         1
        ],
        [
         "VERBAL  THREATS",
         1
        ],
        [
         "TRAF.LIGHTS",
         1
        ],
        [
         "TROUBLE UNKN",
         1
        ],
        [
         "NOTIFY NEXT KIN",
         1
        ],
        [
         "VISITATATION",
         1
        ],
        [
         "CHK WELL  EBING",
         1
        ],
        [
         "ESCORT OUT",
         1
        ],
        [
         "ASSIST INDV",
         1
        ],
        [
         "ATT TO  LOCATE",
         1
        ],
        [
         "INVEST TRUOBLE",
         1
        ],
        [
         "CKHECK WELL BEIN",
         1
        ],
        [
         "CHILD LOCK INCAR",
         1
        ],
        [
         "LIFE IN DANGER",
         1
        ],
        [
         "CHECK SUBJECT",
         1
        ],
        [
         "NOISE COMLAINT",
         1
        ],
        [
         "RECLESS DRIVER",
         1
        ],
        [
         "READ TEXT",
         1
        ],
        [
         "CHECK WELL CHECK",
         1
        ],
        [
         "GET BWELONGING",
         1
        ],
        [
         "AST A.A.CO.P.D.",
         1
        ],
        [
         "POSS FATAL OVERD",
         1
        ],
        [
         "ATT LOCATE",
         1
        ],
        [
         "AMIN",
         1
        ],
        [
         "INVEST PRBLEM",
         1
        ],
        [
         "AWOL RETURN",
         1
        ],
        [
         "UNAURTHORISE USE",
         1
        ],
        [
         "INJ",
         1
        ],
        [
         "REFUSE SERVICE",
         1
        ],
        [
         "FALSE IMPRISONME",
         1
        ],
        [
         "WALKTHROUGH",
         1
        ],
        [
         "CHECK WEEL BEGIN",
         1
        ],
        [
         "CHILD LOCK INVEH",
         1
        ],
        [
         "FEMALE NEED HELP",
         1
        ],
        [
         "CAR REPO'D NOT7C",
         1
        ],
        [
         "DIABLED VEHICLE",
         1
        ],
        [
         "FLOODED ROADS",
         1
        ],
        [
         "EMRGNCY PETITION",
         1
        ],
        [
         "CALLER ABUSE",
         1
        ],
        [
         "OUTAGE",
         1
        ],
        [
         "DURESS ALARM",
         1
        ],
        [
         "INVESTISGATE",
         1
        ],
        [
         "UNAUTHORIZE",
         1
        ],
        [
         "POSS ARMD PERSON",
         1
        ],
        [
         "HARRASS",
         1
        ],
        [
         "BURG",
         1
        ],
        [
         "HIT ANDRUN",
         1
        ],
        [
         "ASSIST SENIOR",
         1
        ],
        [
         "BUSD CHECK",
         1
        ],
        [
         "GET BELOINGS",
         1
        ],
        [
         "LOCKOUT ASST",
         1
        ],
        [
         "VEH DISABLE",
         1
        ],
        [
         "GET CLOTHING",
         1
        ],
        [
         "POLIOCE INVO",
         1
        ],
        [
         "EMERGENCY EP",
         1
        ],
        [
         "HARASSING",
         1
        ],
        [
         "BY THREAAT",
         1
        ],
        [
         "FLOODED ROAD",
         1
        ],
        [
         "CHILD CARE CHECK",
         1
        ],
        [
         "FOLLOW UP  30",
         1
        ],
        [
         "CITIZEN;S ASSIST",
         1
        ],
        [
         "UNK PROBLEM",
         1
        ],
        [
         "GET BELONGINGS.",
         1
        ],
        [
         "FOUND ANIMAL",
         1
        ],
        [
         "SE ETEXT",
         1
        ],
        [
         "CHILD LOCK N VEH",
         1
        ],
        [
         "ATTEMPT LARCENY",
         1
        ],
        [
         "VERIFY ADDRESS",
         1
        ],
        [
         "MEET MARSHALL",
         1
        ],
        [
         "VEHICLE FIRE",
         1
        ],
        [
         "INVESTUIGATE",
         1
        ],
        [
         "CHILD LOCKD",
         1
        ],
        [
         "CLAOSED CALL",
         1
        ],
        [
         "CK LOC",
         1
        ],
        [
         "LOCATE JUVENILE",
         1
        ],
        [
         "NOISE COPLAINT",
         1
        ],
        [
         "SEE REXT",
         1
        ],
        [
         "DPW",
         1
        ],
        [
         "EMRGCY EVAL",
         1
        ],
        [
         "XHK WELL BEING",
         1
        ],
        [
         "POLICE INOFO",
         1
        ],
        [
         "REQ TO TOW",
         1
        ],
        [
         "INVESTIGARE",
         1
        ],
        [
         "INVETSUGATE",
         1
        ],
        [
         "GET CHILD",
         1
        ],
        [
         "OFC ASSIST",
         1
        ],
        [
         "THREATENING",
         1
        ],
        [
         "GET BELONGIGNS",
         1
        ],
        [
         "HELP IS THRE",
         1
        ],
        [
         "UNAUT USE OF VE",
         1
        ],
        [
         "WATER BREAK",
         1
        ],
        [
         "INVEVSTIGATE",
         1
        ],
        [
         "REQ FORCE ENTRY",
         1
        ],
        [
         "NOISE CCOMPLAINT",
         1
        ],
        [
         "CKWELL BEING",
         1
        ],
        [
         "EMERG",
         1
        ],
        [
         "52B01S",
         1
        ],
        [
         "ATTEMPYRF",
         1
        ],
        [
         "ASSIST TRK DRVR",
         1
        ],
        [
         "RUN- AWAY",
         1
        ],
        [
         "TRAFFIC HAZARD",
         1
        ],
        [
         "TRAFFIC LIGHTS O",
         1
        ],
        [
         "DISCHARGE",
         1
        ],
        [
         "INVESTI PROBLEM",
         1
        ],
        [
         "SINK HOLE",
         1
        ],
        [
         "3L",
         1
        ],
        [
         "REQ  POLICE OFC",
         1
        ],
        [
         "DRIVING RECKESS",
         1
        ],
        [
         "DISBABLED VEH",
         1
        ],
        [
         "BAIL OIT",
         1
        ],
        [
         "MALE CHANGE MIND",
         1
        ],
        [
         "INVEST CALL",
         1
        ],
        [
         "CARELESS DRIVER",
         1
        ],
        [
         "HARRSING",
         1
        ],
        [
         "EMERGENY PETIT",
         1
        ],
        [
         "INVESST PROBLEM",
         1
        ],
        [
         "MISTAKE",
         1
        ],
        [
         "TRSAFFIC ASSIST",
         1
        ],
        [
         "BUY THREAT",
         1
        ],
        [
         "CHK WELL BEING .",
         1
        ],
        [
         "CHECK WELBING",
         1
        ],
        [
         "SERVER  ORDER",
         1
        ],
        [
         "WELL  BEING",
         1
        ],
        [
         "DISALED CAR",
         1
        ],
        [
         "ADVISE DPW",
         1
        ],
        [
         "LOC VEH",
         1
        ],
        [
         "INVESTIHATE",
         1
        ],
        [
         "INVESATIGATE",
         1
        ],
        [
         "INVEST ARSON",
         1
        ],
        [
         "CHECK WELLLBEING",
         1
        ],
        [
         "TELPHONE MISUSE",
         1
        ],
        [
         "DSIABLED VEH",
         1
        ],
        [
         "REPORTD RUNAWAYS",
         1
        ],
        [
         "LOCATE WITNESS",
         1
        ],
        [
         "DANGEROUS CONDIT",
         1
        ],
        [
         "CHECK WELLEBING",
         1
        ],
        [
         "CITIZEN SLEEPING",
         1
        ],
        [
         "BIKE",
         1
        ],
        [
         "BET BELONGINGS",
         1
        ],
        [
         "INVESTROUBLE",
         1
        ],
        [
         "OTHERAEE TEXT",
         1
        ],
        [
         "PERSON ON EXPWY",
         1
        ],
        [
         "INVESRGATE",
         1
        ],
        [
         "SERVICE WARRANT",
         1
        ],
        [
         "ATTEM TO LOCATE",
         1
        ],
        [
         "DOG LOCKEDVEH",
         1
        ],
        [
         "LOST MOTORIST",
         1
        ],
        [
         "POLCE INFO",
         1
        ],
        [
         "TRUCK DRIVER HLP",
         1
        ],
        [
         "IVNEST TROUBLE",
         1
        ],
        [
         "VEHICLES RELOCAT",
         1
        ],
        [
         "FOUND A CHILD",
         1
        ],
        [
         "WANTED PERSON",
         1
        ],
        [
         "TRAFFIC STOP",
         1
        ],
        [
         "CHANGE LOCATION",
         1
        ],
        [
         "WELLING CHECK",
         1
        ],
        [
         "POSS BY THREAT",
         1
        ],
        [
         "WELLNESS CHECKP",
         1
        ],
        [
         "PPOLICE INFO",
         1
        ],
        [
         "LOCK KEYS N CAR",
         1
        ],
        [
         "GET BELONG",
         1
        ],
        [
         "SCREAMING WOMAN",
         1
        ],
        [
         "TRAFFIC SIGNAL O",
         1
        ],
        [
         "FOUND MISS JUV",
         1
        ],
        [
         "GET B ELONGINGS",
         1
        ],
        [
         "EMERGENCY  PETIT",
         1
        ],
        [
         "POSS.",
         1
        ],
        [
         "FOLLOW UP - 30",
         1
        ],
        [
         "NEEDS SHELTER",
         1
        ],
        [
         "POSSIBLE MISSING",
         1
        ],
        [
         "REQ.POLIC.ESCORT",
         1
        ],
        [
         "POSS FMILY DSTRB",
         1
        ],
        [
         "INQUIRE",
         1
        ],
        [
         "STREET RACE",
         1
        ],
        [
         "INVET",
         1
        ],
        [
         "ASSIST INDIVIDUA",
         1
        ],
        [
         "HELD AGNST WILL",
         1
        ],
        [
         "CJECK WELL BEGIN",
         1
        ],
        [
         "INVEST PROBLTHER",
         1
        ],
        [
         "KEYS LOCKED  IN",
         1
        ],
        [
         "SERVE",
         1
        ],
        [
         "WELLNESS CEHCK",
         1
        ],
        [
         "CK  WELL-BEING",
         1
        ],
        [
         "INVEST TROUPBLE",
         1
        ],
        [
         "UNAUTHRISE USE",
         1
        ],
        [
         "THEFT OF SERV",
         1
        ],
        [
         "STOLEN CAR",
         1
        ],
        [
         "RELOCAT VEHICLES",
         1
        ],
        [
         "911 MSUSE",
         1
        ],
        [
         "RECKLESSDRIVER",
         1
        ],
        [
         "GET BELOINGINGS",
         1
        ],
        [
         "PUPPY LCKD CAR",
         1
        ],
        [
         "INFORM",
         1
        ],
        [
         "ASSIST LOST FEM",
         1
        ],
        [
         "LOCKED IN VEH",
         1
        ],
        [
         "ASSIST BALT COUN",
         1
        ],
        [
         "79  CK WELL BEIN",
         1
        ],
        [
         "ATTEMPT NOTIFY",
         1
        ],
        [
         "FOLLOW UP 79",
         1
        ],
        [
         "CHK BUSN",
         1
        ],
        [
         "SERVE EP",
         1
        ],
        [
         "UNKNWOWN",
         1
        ],
        [
         "NEEDED SHELTER",
         1
        ],
        [
         "ADTER TRUST",
         1
        ],
        [
         "UPDATED",
         1
        ],
        [
         "INVESTUGATE",
         1
        ],
        [
         "CHECK/ ADVISE",
         1
        ],
        [
         "ELOPED W/I.V.",
         1
        ],
        [
         "WELNESS CHECK.",
         1
        ],
        [
         "ELOPE FROM LOC",
         1
        ],
        [
         "BANK COMM DOWN",
         1
        ],
        [
         "ATTEMPT TO NTFY",
         1
        ],
        [
         "STOLEN VEH",
         1
        ],
        [
         "PPOSSIBLE",
         1
        ],
        [
         "POLICE ESCRT",
         1
        ],
        [
         "RECKLESS DRVIER",
         1
        ],
        [
         "BY THRAT",
         1
        ],
        [
         "CYHANGE MIND",
         1
        ],
        [
         "TORUBLE UNKNWN",
         1
        ],
        [
         "CHICK WELL BEING",
         1
        ],
        [
         "ESCAPE PATIENT",
         1
        ],
        [
         "WATERBROKE-PREGN",
         1
        ],
        [
         "ESCORT/MAYFIELDS",
         1
        ],
        [
         "POSSIBLE BURG",
         1
        ],
        [
         "CHECK NOTIFY",
         1
        ],
        [
         "GET GLASSES",
         1
        ],
        [
         "CHILD",
         1
        ],
        [
         "ENLOPEMENT",
         1
        ],
        [
         "SERVICE PAPER",
         1
        ],
        [
         "INVESYIGATE",
         1
        ],
        [
         "NEED LICENSE BAC",
         1
        ],
        [
         "PIOSSIBLY",
         1
        ],
        [
         "ASSISIT",
         1
        ],
        [
         "WOMAN SCEAMING",
         1
        ],
        [
         "CHECK-WELL BEING",
         1
        ],
        [
         "INVESTITATE",
         1
        ],
        [
         "GETTING BELONING",
         1
        ],
        [
         "SINK HOLE-TRFFIC",
         1
        ],
        [
         "E.R. ASST",
         1
        ],
        [
         "REQUESTED POLIC",
         1
        ],
        [
         "KNOCK AND TALK",
         1
        ],
        [
         "81",
         1
        ],
        [
         "BY THREATEN",
         1
        ],
        [
         "EMERGENCY PEPIT",
         1
        ],
        [
         "WELLS CHECK",
         1
        ],
        [
         "CHECL WELLBEING",
         1
        ],
        [
         "GET BELON",
         1
        ],
        [
         "ATT MAKE CONTACT",
         1
        ],
        [
         "4E ( CAD 0176 )",
         1
        ],
        [
         "TRAFFIC CTRNL",
         1
        ],
        [
         "CHEST WELL BEING",
         1
        ],
        [
         "NEEDS TRAF CNTRL",
         1
        ],
        [
         "LOCATE PARENT",
         1
        ],
        [
         "BY  TEXT THREAT",
         1
        ],
        [
         "INVEST TROUBL",
         1
        ],
        [
         "INVESTIGATE  B",
         1
        ],
        [
         "PARKING  SPACE",
         1
        ],
        [
         "WELLBGINE CHECK",
         1
        ],
        [
         "ASSIST CALL",
         1
        ],
        [
         "LOST GIRL",
         1
        ],
        [
         "DISABLED VEG",
         1
        ],
        [
         "VEH RELOC",
         1
        ],
        [
         "DISTRESSED",
         1
        ],
        [
         "67 -- CAD (3172)",
         1
        ],
        [
         "UBVESTUGATE",
         1
        ],
        [
         "SSE TEXT",
         1
        ],
        [
         "ALOPEMNET",
         1
        ],
        [
         "REQUESTING  OFC",
         1
        ],
        [
         "DEBRIS IN ROAD",
         1
        ],
        [
         "3N (CAD #3953)",
         1
        ],
        [
         "BY ASSAULT",
         1
        ],
        [
         "BLACK MAIL",
         1
        ],
        [
         "REQ.DISPOSITION",
         1
        ],
        [
         "INVESTITGATE",
         1
        ],
        [
         "POSS DIS VEHICLE",
         1
        ],
        [
         "INV UNKN PROBLM",
         1
        ],
        [
         "USAFE DRIVRS",
         1
        ],
        [
         "ESCAPEE",
         1
        ],
        [
         "DISBLED VEH",
         1
        ],
        [
         "MEET CO POLICE",
         1
        ],
        [
         "REG POL ASST",
         1
        ],
        [
         "NOTIFY BA.CO.P.D",
         1
        ],
        [
         "BA.CO.LOC.",
         1
        ],
        [
         "NEED TRAFIC CNTR",
         1
        ],
        [
         "BABY",
         1
        ],
        [
         "WLEFARE CHECK",
         1
        ],
        [
         "OTHERCHECK WELLB",
         1
        ],
        [
         "EXIT BLKD TREE",
         1
        ],
        [
         "POLICE  ESCORT",
         1
        ],
        [
         "MALE HALLERING",
         1
        ],
        [
         "CALL BACK",
         1
        ],
        [
         "CHECK WELL BENIG",
         1
        ],
        [
         "ECOSRT",
         1
        ],
        [
         "TELE- THREAT",
         1
        ],
        [
         "E.P.ELOPED",
         1
        ],
        [
         "CHECK BUSD",
         1
        ],
        [
         "POSSIBLE NEGLECT",
         1
        ],
        [
         "CITIZEN ASSISTAN",
         1
        ],
        [
         "# 4-210608025",
         1
        ],
        [
         "NEEDS POL ESC",
         1
        ],
        [
         "BY THRETS",
         1
        ],
        [
         "ATTMTAUTO THEFT",
         1
        ],
        [
         "ELOPR",
         1
        ],
        [
         "ASSIST CALLER",
         1
        ],
        [
         "79 UNAUTH  USE",
         1
        ],
        [
         "YELL FOR POLICE",
         1
        ],
        [
         "SEE CAMERAS",
         1
        ],
        [
         "INVVESTIGATE",
         1
        ],
        [
         "ADVISED ON AMBO",
         1
        ],
        [
         "CHECK ON CHILD",
         1
        ],
        [
         "RECKELESS DRVER",
         1
        ],
        [
         "FOLLOW -UP",
         1
        ],
        [
         "UNSAFE DRIVING",
         1
        ],
        [
         "CHILD WELFARE CH",
         1
        ],
        [
         "ATT TO NOTIFY",
         1
        ],
        [
         "CHECK WELLBEIG",
         1
        ],
        [
         "LOST KIDS",
         1
        ],
        [
         "65 ( CAD #4234)",
         1
        ],
        [
         "CHILD LOCKED",
         1
        ],
        [
         "UNKNOWN PROBLEMS",
         1
        ],
        [
         "ASSIST LOCATE",
         1
        ],
        [
         "OIL SPILL",
         1
        ],
        [
         "LOST PLAQUE",
         1
        ],
        [
         "SCREAMING MAN",
         1
        ],
        [
         "WELL-BEING CHEK",
         1
        ],
        [
         "UNAUTHORUZED USE",
         1
        ],
        [
         "SCREAMER",
         1
        ],
        [
         "CHECK  AND ADVIS",
         1
        ],
        [
         "CHK WELL EBING",
         1
        ],
        [
         "ASST BA.CO.P.O.",
         1
        ],
        [
         "DSS ASSIST",
         1
        ],
        [
         "POPOLICE ESCORT",
         1
        ],
        [
         "AGGRESIVE DRIVER",
         1
        ],
        [
         "WELL0-BEING CHEC",
         1
        ],
        [
         "GET  BELONGINS",
         1
        ],
        [
         "AGGRESSIVE DRIVR",
         1
        ],
        [
         "POLICE  HELP",
         1
        ],
        [
         "VACATE ORDER",
         1
        ],
        [
         "CHECK WELL B",
         1
        ],
        [
         "BOAT DRIFTING AW",
         1
        ],
        [
         "ATTEMPT TO CONTA",
         1
        ],
        [
         "POSS ATTEMPT",
         1
        ],
        [
         "SIGNAL BOTH GRN",
         1
        ],
        [
         "INVESTIGAYTE",
         1
        ],
        [
         "UNAUTHRIZED USE",
         1
        ],
        [
         "LOST CITIZEN",
         1
        ],
        [
         "UNKN WHAT IS GOI",
         1
        ],
        [
         "PLZ SEE TEXT",
         1
        ],
        [
         "RECOVER GUNS",
         1
        ],
        [
         "CAR WAS TOW",
         1
        ],
        [
         "79 WELL CHECK",
         1
        ],
        [
         "POSSIB.LE",
         1
        ],
        [
         "PLEASE INVESTIGA",
         1
        ],
        [
         "DEALER TAG",
         1
        ],
        [
         "FREQUENT CALLER",
         1
        ],
        [
         "SICK WELL",
         1
        ],
        [
         "INVES TROUBLE",
         1
        ],
        [
         "ADVISE ON AMBO.",
         1
        ],
        [
         "VISITATION",
         1
        ],
        [
         "PANIC",
         1
        ],
        [
         "GETTING TO BELON",
         1
        ],
        [
         "RECKESS DRIVER",
         1
        ],
        [
         "CHILD LOCK IN CA",
         1
        ],
        [
         "SHELTER W/CHILD",
         1
        ],
        [
         "SCREAMING CHILD",
         1
        ],
        [
         "KEYS IN CAR",
         1
        ],
        [
         "SEE",
         1
        ],
        [
         "PED ON 83N",
         1
        ],
        [
         "INVEST2",
         1
        ],
        [
         "NOTFIY,,, NFI",
         1
        ],
        [
         "CHECK WEBEING",
         1
        ],
        [
         "CLIENT ELOPED",
         1
        ],
        [
         "VEHICLE RELOCA.",
         1
        ],
        [
         "PICK UP THINGS",
         1
        ],
        [
         "DISABLE TRUCK",
         1
        ],
        [
         "SUSPICIOUS PERSO",
         1
        ],
        [
         "ATTMPT BURGLARY",
         1
        ],
        [
         "ASSIST OFFICERR",
         1
        ],
        [
         "ATTEMPT TO LOACT",
         1
        ],
        [
         "GET BELONIGINGS",
         1
        ],
        [
         "NISSAN MAXIMA",
         1
        ],
        [
         "POLICIE ASSIT",
         1
        ],
        [
         "WELLNESS CHECKK",
         1
        ],
        [
         "CRIMINAL SUMMONS",
         1
        ],
        [
         "PSS ARMED PERSON",
         1
        ],
        [
         "TRAFFIC CONTORL",
         1
        ],
        [
         "INVESTIGATEQ",
         1
        ],
        [
         "SEEKING INFO",
         1
        ],
        [
         "CPS ASSIST",
         1
        ],
        [
         "CHHK WELL BEING",
         1
        ],
        [
         "GATHER BELONG",
         1
        ],
        [
         "WELLNESS CHECK 3",
         1
        ],
        [
         "UNAUTHORIZED",
         1
        ],
        [
         "BY HTREAT",
         1
        ],
        [
         "CHECK WELBEIN",
         1
        ],
        [
         "CHECK WELL EBEIN",
         1
        ],
        [
         "TRACKOBSTRUCTION",
         1
        ],
        [
         "DISABLEVEH",
         1
        ],
        [
         "FORCEENTRY",
         1
        ],
        [
         "ESCRT",
         1
        ],
        [
         "BAILBONDS AT LOC",
         1
        ],
        [
         "SEE ETXT",
         1
        ],
        [
         "RUN-AWAY",
         1
        ],
        [
         "VUNERALE ADULT",
         1
        ],
        [
         "TRANSPOSRT",
         1
        ],
        [
         "ELOPED IV",
         1
        ],
        [
         "NOTIFIER",
         1
        ],
        [
         "POLICE  INVESTIG",
         1
        ],
        [
         "TOW",
         1
        ],
        [
         "PROTECTORDER",
         1
        ],
        [
         "TELEPHONEMISUSE",
         1
        ],
        [
         "GET BELOMNGINGS",
         1
        ],
        [
         "CHECK WELL BWING",
         1
        ],
        [
         "CHILD PLAYING",
         1
        ],
        [
         "FOLLOW UP - 28",
         1
        ],
        [
         "TRAFFIC JAM",
         1
        ],
        [
         "GET BLEONGINGS",
         1
        ],
        [
         "DISABLED TRUCK",
         1
        ],
        [
         "LINVESTIGATE",
         1
        ],
        [
         "SIGNAL BLINKING",
         1
        ],
        [
         "BUSTD WATER PIPE",
         1
        ],
        [
         "GET BELONIGNGS",
         1
        ],
        [
         "POSS OVERDOSE",
         1
        ],
        [
         "CITIZEN SSIST",
         1
        ],
        [
         "62",
         1
        ],
        [
         "SEE TEXT;",
         1
        ],
        [
         "HAND CUFF",
         1
        ],
        [
         "POLICE ESCOR",
         1
        ],
        [
         "LOCK IN BUILDING",
         1
        ],
        [
         "AGGRESS DRIVER",
         1
        ],
        [
         "HAZMAT LOAD",
         1
        ],
        [
         "CK WELL BEIN",
         1
        ],
        [
         "ALOPEMENT",
         1
        ],
        [
         "UNAUTHROSIE USE",
         1
        ],
        [
         "GET",
         1
        ],
        [
         "DISABLEB VEH",
         1
        ],
        [
         "WATCH",
         1
        ],
        [
         "AUTO ACCIDENTJ",
         1
        ],
        [
         "INVEST, BLOOD",
         1
        ],
        [
         "TEXT CALLER",
         1
        ],
        [
         "GET BELONGINGINS",
         1
        ],
        [
         "INVESTIVE",
         1
        ],
        [
         "REQ POLICE ESCRT",
         1
        ],
        [
         "SCREAMING PERSON",
         1
        ],
        [
         "DISABLED VEHICL",
         1
        ],
        [
         "NOISE COMPLINT",
         1
        ],
        [
         "POLICE ESCPRT",
         1
        ],
        [
         "CK WELL   BEING",
         1
        ],
        [
         "POT HOLD",
         1
        ],
        [
         "CHEC WELL BEING",
         1
        ],
        [
         "POSS FMLY DSTRB",
         1
        ],
        [
         "LARCENY ATM",
         1
        ],
        [
         "OPEN L INE",
         1
        ],
        [
         "ATTMPT  CONTACT",
         1
        ],
        [
         "13",
         1
        ],
        [
         "OTHERINVESTIGATE",
         1
        ],
        [
         "?",
         1
        ],
        [
         "POLICE PRESENSE",
         1
        ],
        [
         "UNAU USE VEHICLE",
         1
        ],
        [
         "TEST CALL TYPE",
         1
        ],
        [
         "EMERGENCY PETI",
         1
        ],
        [
         "SUSPICIOUS CONDI",
         1
        ],
        [
         "EP .",
         1
        ],
        [
         "BULLET",
         1
        ],
        [
         "WATER MAIN BRK",
         1
        ],
        [
         "SHELTER NEEDED",
         1
        ],
        [
         "66",
         1
        ],
        [
         "CHECOK WEL BEING",
         1
        ],
        [
         "94",
         1
        ],
        [
         "POLICE ASSISTANT",
         1
        ],
        [
         "GET BELONGNINGS",
         1
        ],
        [
         "FEMALE LEFT",
         1
        ],
        [
         "SUSPICIOUS VEHS",
         1
        ],
        [
         "POS PHONE MISUSE",
         1
        ],
        [
         "TRAFFIC CONTRL",
         1
        ],
        [
         "NEEDS TO BE E/P",
         1
        ],
        [
         "PATIENT NEGLECT",
         1
        ],
        [
         "TELEPHONE MIUSE",
         1
        ],
        [
         "`INVEST",
         1
        ],
        [
         "CAT ATTACK",
         1
        ],
        [
         "INVESTIRGATE",
         1
        ],
        [
         "CAD #2112",
         1
        ],
        [
         "HECK WELL BEING",
         1
        ],
        [
         "VUNERADLE ADULT",
         1
        ],
        [
         "CHECK WELL BEUNG",
         1
        ],
        [
         "FIREEWORKS",
         1
        ],
        [
         "CONES CLOCKING",
         1
        ],
        [
         "INVESST TROUBLE",
         1
        ],
        [
         "REQ.POLICE.ESCRT",
         1
        ],
        [
         "BREATHALYZER",
         1
        ],
        [
         "ELDERLY ASSIST",
         1
        ],
        [
         "TURN IN GUN",
         1
        ],
        [
         "TEL / THR / COMM",
         1
        ],
        [
         "DISABLED VEJ",
         1
        ],
        [
         "CHECK WELL NEING",
         1
        ],
        [
         "LOCATE SUBJECT",
         1
        ],
        [
         "WELLBENG CHECK",
         1
        ],
        [
         "LOCKED OUT APT",
         1
        ],
        [
         "CLOSING ASSIST",
         1
        ],
        [
         "NOSE COMPLAINT",
         1
        ],
        [
         ";INVESTIGATE",
         1
        ],
        [
         "CLOSED  CALL",
         1
        ],
        [
         "AGGRV  DRIVER",
         1
        ],
        [
         "UNKNOWN PROBLEM.",
         1
        ],
        [
         "CROWDCONTROL",
         1
        ],
        [
         "POLIOCE INFO",
         1
        ],
        [
         "DISALED VEH",
         1
        ],
        [
         "EXCHANGE CHIL",
         1
        ],
        [
         "FOL UP",
         1
        ],
        [
         "CHLD LCKD IN CAR",
         1
        ],
        [
         "REQ POLICE OFC",
         1
        ],
        [
         "INFO ON WEAPONS",
         1
        ],
        [
         "IVEST",
         1
        ],
        [
         "DISABLED VHEICLE",
         1
        ],
        [
         "65 / CAD #0318",
         1
        ],
        [
         "DISORDERLY/ASSIS",
         1
        ],
        [
         "CHECK WELL DOING",
         1
        ],
        [
         "FOLLOW UP 3N",
         1
        ],
        [
         "HK WELL BEING",
         1
        ],
        [
         "POLICE INGO",
         1
        ],
        [
         "POSSIBLE DOA",
         1
        ],
        [
         "ATTEMT TO LOCATE",
         1
        ],
        [
         "FEMALE SCREAMIN",
         1
        ],
        [
         "HUMAN REMAINS",
         1
        ],
        [
         "GET BEELONGINGS",
         1
        ],
        [
         "AGGRAV DRIVER",
         1
        ],
        [
         "DISABLE VEHICLE-",
         1
        ],
        [
         "CHK WELLBN",
         1
        ],
        [
         "LOCKED IN KEYS",
         1
        ],
        [
         "TROUBLE UKNOWN",
         1
        ],
        [
         "HOSTAGE",
         1
        ],
        [
         "UNAUTHORIZES USE",
         1
        ],
        [
         "IN V EST",
         1
        ],
        [
         "GET BELOONGGINGS",
         1
        ],
        [
         "TRY TO LOCATE",
         1
        ],
        [
         "CHRECK WELL BEIN",
         1
        ],
        [
         "ATTEMPT   NOTIFY",
         1
        ],
        [
         "TELE/THREAT",
         1
        ],
        [
         "POSS LARCENY",
         1
        ],
        [
         "ILIEGAL EVICTION",
         1
        ],
        [
         "LOCATE PATIENT",
         1
        ],
        [
         "EVIDENCE",
         1
        ],
        [
         "I NVESTIGATE",
         1
        ],
        [
         "SMALL CHILDREN",
         1
        ],
        [
         "DISABELD VEH",
         1
        ],
        [
         "STRAY ANIMAL",
         1
        ],
        [
         "GET INFORMATION",
         1
        ],
        [
         "SIGN FOR HELP",
         1
        ],
        [
         "DISABLED VEHIC",
         1
        ],
        [
         "FOLLOW UP 66",
         1
        ],
        [
         "SCOOTER",
         1
        ],
        [
         "WHEELCHAIR",
         1
        ],
        [
         "PATIENT LEFT",
         1
        ],
        [
         "DANGEROUS SITE",
         1
        ],
        [
         "LOST ID",
         1
        ],
        [
         "YARD SALE",
         1
        ],
        [
         "FAMILY ASSIST",
         1
        ],
        [
         "CAMERA",
         1
        ],
        [
         "DISABLE/STUCK TR",
         1
        ],
        [
         "COVID MASK",
         1
        ],
        [
         "FOLLOWING CHILD",
         1
        ],
        [
         "ASSIST OWNER",
         1
        ],
        [
         "ROAD ASSIST",
         1
        ],
        [
         "THREAT TO HARM",
         1
        ],
        [
         "WIFE",
         1
        ],
        [
         "DISTRESS VEHICLE",
         1
        ],
        [
         "INVEST PHONE",
         1
        ],
        [
         "TAGS WERE RETURN",
         1
        ],
        [
         "FINGERPRINT PT",
         1
        ],
        [
         "INFORM OFFICER",
         1
        ],
        [
         "ASSIST TRAFFIC",
         1
        ],
        [
         "PSSED OUT IN VEH",
         1
        ],
        [
         "MENTAL PERSON",
         1
        ],
        [
         "ASSISTTHE HOSP",
         1
        ],
        [
         "LOCKED IN VEHICL",
         1
        ],
        [
         "HANGING",
         1
        ],
        [
         "DRUG NEEDLES",
         1
        ],
        [
         "TRAFFIC CONCERN",
         1
        ],
        [
         "NEED FORCE ENTRY",
         1
        ],
        [
         "CAR HORN",
         1
        ],
        [
         "REPORT FOR INJUR",
         1
        ],
        [
         "MEDICAL OFFICE",
         1
        ],
        [
         "MISSING TAG",
         1
        ],
        [
         "LOST TAG",
         1
        ],
        [
         "FOUND PROPERTY",
         1
        ],
        [
         "LYING IN VEH",
         1
        ],
        [
         "AWAL",
         1
        ],
        [
         "BAN CITIZEN",
         1
        ],
        [
         "LOSS",
         1
        ],
        [
         "TRAFF CNTRL",
         1
        ],
        [
         "LOCKED KEYS",
         1
        ],
        [
         "INJURED DOG",
         1
        ],
        [
         "TAG",
         1
        ],
        [
         "INVETIGATE SCENE",
         1
        ],
        [
         "CAR RUNNING",
         1
        ],
        [
         "Subject Stop",
         1
        ],
        [
         "MALE YELL HELP",
         1
        ],
        [
         "INPERSONATING",
         1
        ],
        [
         "POSS SQUATTERS",
         1
        ],
        [
         "CONE",
         1
        ],
        [
         "CAMARA",
         1
        ],
        [
         "POSS D.O.A.",
         1
        ],
        [
         "SIGNAL FLASHING",
         1
        ],
        [
         "STARKING",
         1
        ],
        [
         "CAMERA INFO",
         1
        ],
        [
         "NO LEASH ON DOG",
         1
        ],
        [
         "NOFITY",
         1
        ],
        [
         "POLICE FORCE ENT",
         1
        ],
        [
         "FORCD ENTRY POSS",
         1
        ],
        [
         "TRAFFIC ASSISTAN",
         1
        ],
        [
         "INVEST ROBBERY",
         1
        ],
        [
         "WORKI ON V",
         1
        ],
        [
         "INV JUV",
         1
        ],
        [
         "HOLDING PARKING",
         1
        ],
        [
         "IN A TREE",
         1
        ],
        [
         "STANDING AT LOC",
         1
        ],
        [
         "NO MASKS",
         1
        ],
        [
         "ALARM BELLS",
         1
        ],
        [
         "SUSPICIOUS CIRCU",
         1
        ],
        [
         "INV",
         1
        ],
        [
         "LARCENY/F AUTO",
         1
        ],
        [
         "INFOR ON VEHICLE",
         1
        ],
        [
         "DISORDLY DRIVER",
         1
        ],
        [
         "WANT MONEY BACK",
         1
        ],
        [
         "FINGER PRINT",
         1
        ],
        [
         "FORCD ENTRY",
         1
        ],
        [
         "RESTRAN ORDER",
         1
        ],
        [
         "NOTFIED",
         1
        ],
        [
         "TRESPASSERS",
         1
        ],
        [
         "LOOSE DOG",
         1
        ],
        [
         "NO PERMITS",
         1
        ],
        [
         "DEBRI IN ROADWAY",
         1
        ],
        [
         "URINATION",
         1
        ],
        [
         "USED NEEDLES",
         1
        ],
        [
         "FOUND A BIKE",
         1
        ],
        [
         "10-30 SUBJECT",
         1
        ],
        [
         "CHILD LOCK N CAR",
         1
        ],
        [
         "VIDEO FOOTAGE",
         1
        ],
        [
         "BURNING DEBRIS",
         1
        ],
        [
         "POSS FORC ENTRY",
         1
        ],
        [
         "OVER CROWDING",
         1
        ],
        [
         "THREATEN CALL",
         1
        ],
        [
         "WLFARE CHECK",
         1
        ],
        [
         "SUSPICIOUS BAG",
         1
        ],
        [
         "SUSPICOUS PACKAG",
         1
        ],
        [
         "REMOVED CONE",
         1
        ],
        [
         "WRLFARE CHECK",
         1
        ],
        [
         "FORCED ENTR/POSS",
         1
        ],
        [
         "INVEST ER",
         1
        ],
        [
         "ABANDON VEH",
         1
        ],
        [
         "EVICTED",
         1
        ],
        [
         "INVESTI SCN",
         1
        ],
        [
         "DISAB VEH",
         1
        ],
        [
         "REPAIR VEHICLE",
         1
        ],
        [
         "FOUND BIKE",
         1
        ],
        [
         "EMG. PETITION",
         1
        ],
        [
         "NAKE MALE",
         1
        ],
        [
         "SEE A VIDEO",
         1
        ],
        [
         "BEING FOLLOW",
         1
        ],
        [
         "KEY LOCK IN CAR",
         1
        ],
        [
         "LOOK AT VIDEO",
         1
        ],
        [
         "LOITERTING",
         1
        ],
        [
         "CAR BROKE DOWN",
         1
        ],
        [
         "SET TEXT",
         1
        ],
        [
         "REPORT ABUSE",
         1
        ],
        [
         "WONT TURN GREEN",
         1
        ],
        [
         "NOTFIYE",
         1
        ],
        [
         "COUNTERFEIT MONE",
         1
        ],
        [
         "TO ASSIT /DOOR",
         1
        ],
        [
         "WELNNSS CHECK",
         1
        ],
        [
         "BUILD COLLASPE",
         1
        ],
        [
         "NEED VEH TOWD",
         1
        ],
        [
         "REQ OFC",
         1
        ],
        [
         "LOST ID CARD",
         1
        ],
        [
         "NEED A POLICE RP",
         1
        ],
        [
         "REPORT A DEATH",
         1
        ],
        [
         "FIRE CRACKER",
         1
        ],
        [
         "FOUND A WALLET",
         1
        ],
        [
         "TRESPRASSERS",
         1
        ],
        [
         "VIOL PROT ORDER",
         1
        ],
        [
         "ASST BGE",
         1
        ],
        [
         "PERMIT",
         1
        ],
        [
         "ATEEMPT TO LOCAT",
         1
        ],
        [
         "ILLEGALY HOOKUP",
         1
        ],
        [
         "UNKNOWN PROB",
         1
        ],
        [
         "CKK WELL BEING",
         1
        ],
        [
         "BURNING TRASH",
         1
        ],
        [
         "PEACE ODER",
         1
        ],
        [
         "ASSIT FOR ENTRY",
         1
        ],
        [
         "CANVAS",
         1
        ],
        [
         "NEED FINGER PRIN",
         1
        ],
        [
         "WAS REPT MISSING",
         1
        ],
        [
         "PR INWHEEL CHAIR",
         1
        ],
        [
         "WORKING ON CAR",
         1
        ],
        [
         "HIT BY VEHICLE",
         1
        ],
        [
         "BEEPING NOISE",
         1
        ],
        [
         "SEE CMMENT",
         1
        ],
        [
         "RAP",
         1
        ]
       ],
       "datasetInfos": [],
       "dbfsResultPath": null,
       "isJsonSchema": true,
       "metadata": {},
       "overflow": false,
       "plotOptions": {
        "customPlotOptions": {},
        "displayType": "table",
        "pivotAggregation": null,
        "pivotColumns": null,
        "xColumns": null,
        "yColumns": null
       },
       "removedWidgets": [],
       "schema": [
        {
         "metadata": "{}",
         "name": "description",
         "type": "\"string\""
        },
        {
         "metadata": "{}",
         "name": "count",
         "type": "\"long\""
        }
       ],
       "type": "table"
      }
     },
     "output_type": "display_data"
    }
   ],
   "source": [
    "%sql\n",
    "\n",
    "SELECT description, COUNT(description) as count \n",
    "FROM 911_2021\n",
    "GROUP BY description\n",
    "ORDER BY count DESC"
   ]
  },
  {
   "cell_type": "markdown",
   "metadata": {
    "application/vnd.databricks.v1+cell": {
     "cellMetadata": {},
     "inputWidgets": {},
     "nuid": "89d5cc3b-d28f-40ba-90f9-70c4632d0038",
     "showTitle": false,
     "title": ""
    }
   },
   "source": [
    "To see which police post received most calls, let's join all the 911 calls from 2021 to 2022."
   ]
  },
  {
   "cell_type": "code",
   "execution_count": 0,
   "metadata": {
    "application/vnd.databricks.v1+cell": {
     "cellMetadata": {},
     "inputWidgets": {},
     "nuid": "253029bb-43b7-4309-a811-8a7b130b40d4",
     "showTitle": false,
     "title": ""
    }
   },
   "outputs": [],
   "source": []
  }
 ],
 "metadata": {
  "application/vnd.databricks.v1+notebook": {
   "dashboards": [],
   "language": "python",
   "notebookMetadata": {
    "mostRecentlyExecutedCommandWithImplicitDF": {
     "commandId": 989154586109710,
     "dataframes": [
      "_sqldf"
     ]
    },
    "pythonIndentUnit": 4
   },
   "notebookName": "911 Calls for Service- Baltimore",
   "widgets": {}
  }
 },
 "nbformat": 4,
 "nbformat_minor": 0
}
